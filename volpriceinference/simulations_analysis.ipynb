{
 "cells": [
  {
   "cell_type": "code",
   "execution_count": 1,
   "metadata": {
    "scrolled": true
   },
   "outputs": [],
   "source": [
    "import numpy as np\n",
    "import pandas as pd\n",
    "import volpriceinference as vl\n",
    "# import volprice as vl\n",
    "import matplotlib as mpl\n",
    "import seaborn as sns\n",
    "import logging\n",
    "import tqdm\n",
    "from multiprocessing import Pool\n",
    "import sys\n",
    "from functools import partial\n",
    "import cdpm\n",
    "from functools import partial"
   ]
  },
  {
   "cell_type": "code",
   "execution_count": 2,
   "metadata": {},
   "outputs": [],
   "source": [
    "%matplotlib inline\n",
    "mpl.style.use('seaborn-talk')\n",
    "np.set_printoptions(precision=3)"
   ]
  },
  {
   "cell_type": "code",
   "execution_count": 3,
   "metadata": {},
   "outputs": [],
   "source": [
    "logging.captureWarnings(True)\n",
    "root_logger = logging.getLogger()\n",
    "root_logger.setLevel(logging.INFO)\n",
    "info_handler = logging.FileHandler('../logging.tmp.txt')\n",
    "info_handler.addFilter(lambda record: record.levelno <= logging.WARNING)\n",
    "error_handler = logging.StreamHandler(sys.stderr)\n",
    "error_handler.addFilter(lambda record: record.levelno > logging.WARNING)\n",
    "root_logger.addHandler(info_handler)\n",
    "root_logger.addHandler(error_handler)"
   ]
  },
  {
   "cell_type": "markdown",
   "metadata": {},
   "source": [
    "## Setup the True Parameters /  Simulation Parameters"
   ]
  },
  {
   "cell_type": "code",
   "execution_count": 4,
   "metadata": {},
   "outputs": [],
   "source": [
    "kharpov = True"
   ]
  },
  {
   "cell_type": "code",
   "execution_count": 5,
   "metadata": {},
   "outputs": [],
   "source": [
    "if kharpov:\n",
    "    true_params = {'theta': 1.7680, \n",
    "               'pi': -10,\n",
    "               'phi': -.01,\n",
    "               'scale': 252 * 1.564e-5,\n",
    "               'delta': 0.6475,\n",
    "               'rho': .95,\n",
    "              }\n",
    "else:\n",
    "     true_params ={'delta': 0.27,\n",
    "                   'rho': 0.81,\n",
    "                   'scale': 3.11,\n",
    "                   'phi': -.1,\n",
    "                   'pi': -.2,\n",
    "                   'theta': .53}\n",
    "    \n",
    "time_dim = 37000\n",
    "sim_dim = 500\n",
    "innov_dim = 250"
   ]
  },
  {
   "cell_type": "code",
   "execution_count": 6,
   "metadata": {},
   "outputs": [
    {
     "data": {
      "text/plain": [
       "'0.0.13-py36_0'"
      ]
     },
     "execution_count": 6,
     "metadata": {},
     "output_type": "execute_result"
    }
   ],
   "source": [
    "vl.__version__"
   ]
  },
  {
   "cell_type": "code",
   "execution_count": 7,
   "metadata": {},
   "outputs": [],
   "source": [
    "total_true_params = true_params.copy()\n",
    "total_true_params.update(\n",
    "    {'gamma': vl.compute_gamma(**true_params),\n",
    "     'beta':vl.compute_beta(rho=true_params['rho'], scale=true_params['scale'], phi=true_params['phi'], \n",
    "                    pi=true_params['pi'], theta=true_params['theta']),\n",
    "     'psi':vl.compute_psi(rho=true_params['rho'], scale=true_params['scale'], phi=true_params['phi'], \n",
    "                  theta=true_params['theta']),\n",
    "      'zeta': 1 - true_params['phi']**2})"
   ]
  },
  {
   "cell_type": "code",
   "execution_count": 8,
   "metadata": {},
   "outputs": [],
   "source": [
    "def compute_moments(delta, rho, scale, phi, pi, theta):\n",
    "    \n",
    "    vol_mean = scale * delta / (1 - rho)\n",
    "    vol_var = (2 * scale * rho * vol_mean + scale**2 * delta) / (1 - rho**2)\n",
    "    \n",
    "    psi = vl.compute_psi(rho=rho, scale=scale, phi=phi, theta=theta)\n",
    "    beta = vl.compute_beta(rho=rho, scale=scale, phi=phi, pi=pi, theta=theta)\n",
    "    gamma = vl.compute_gamma(delta=delta, rho=rho, scale=scale, phi=phi, pi=pi, theta=theta)\n",
    "    \n",
    "    return_mean = psi * vol_mean + beta * vol_mean + gamma\n",
    "    return_var = psi**2 * vol_var + beta**2 * vol_var  + (1 - phi**2) * vol_mean\n",
    "    \n",
    "    return {'return_mean': return_mean, 'return_var': return_var, 'vol_mean': vol_mean, 'vol_var': vol_var}"
   ]
  },
  {
   "cell_type": "code",
   "execution_count": 9,
   "metadata": {},
   "outputs": [
    {
     "data": {
      "text/plain": [
       "{'return_mean': -0.06419485367329981,\n",
       " 'return_var': 0.05877411795187698,\n",
       " 'vol_mean': 0.051039575999999955,\n",
       " 'vol_var': 0.004023225201945595}"
      ]
     },
     "execution_count": 9,
     "metadata": {},
     "output_type": "execute_result"
    }
   ],
   "source": [
    "compute_moments(**true_params)"
   ]
  },
  {
   "cell_type": "code",
   "execution_count": 10,
   "metadata": {},
   "outputs": [
    {
     "data": {
      "text/plain": [
       "0.0003040704223442014"
      ]
     },
     "execution_count": 10,
     "metadata": {},
     "output_type": "execute_result"
    }
   ],
   "source": [
    "vl.compute_gamma(**true_params)"
   ]
  },
  {
   "cell_type": "code",
   "execution_count": 11,
   "metadata": {},
   "outputs": [
    {
     "data": {
      "text/plain": [
       "{'theta': 1.768,\n",
       " 'pi': -10,\n",
       " 'phi': -0.01,\n",
       " 'scale': 0.00394128,\n",
       " 'delta': 0.6475,\n",
       " 'rho': 0.95,\n",
       " 'gamma': 0.0003040704223442014,\n",
       " 'beta': 0.11823710670185328,\n",
       " 'psi': -1.3819412584691815,\n",
       " 'zeta': 0.9999}"
      ]
     },
     "execution_count": 11,
     "metadata": {},
     "output_type": "execute_result"
    }
   ],
   "source": [
    "total_true_params"
   ]
  },
  {
   "cell_type": "code",
   "execution_count": 12,
   "metadata": {},
   "outputs": [
    {
     "data": {
      "text/plain": [
       "{'theta': 1.768,\n",
       " 'pi': -10,\n",
       " 'phi': -0.01,\n",
       " 'scale': 0.00394128,\n",
       " 'delta': 0.6475,\n",
       " 'rho': 0.95}"
      ]
     },
     "execution_count": 12,
     "metadata": {},
     "output_type": "execute_result"
    }
   ],
   "source": [
    "true_params"
   ]
  },
  {
   "cell_type": "code",
   "execution_count": 13,
   "metadata": {},
   "outputs": [
    {
     "data": {
      "text/plain": [
       "{'theta': 1.768,\n",
       " 'pi': -10,\n",
       " 'phi': -0.01,\n",
       " 'scale': 0.00394128,\n",
       " 'delta': 0.6475,\n",
       " 'rho': 0.95,\n",
       " 'gamma': 0.0003040704223442014,\n",
       " 'beta': 0.11823710670185328,\n",
       " 'psi': -1.3819412584691815,\n",
       " 'zeta': 0.9999}"
      ]
     },
     "execution_count": 13,
     "metadata": {},
     "output_type": "execute_result"
    }
   ],
   "source": [
    "total_true_params"
   ]
  },
  {
   "cell_type": "markdown",
   "metadata": {},
   "source": [
    "## We start by examining the distributions of simulated data"
   ]
  },
  {
   "cell_type": "code",
   "execution_count": 14,
   "metadata": {},
   "outputs": [],
   "source": [
    "data = vl.simulate_data(time_dim=time_dim, **true_params)"
   ]
  },
  {
   "cell_type": "code",
   "execution_count": 15,
   "metadata": {},
   "outputs": [
    {
     "data": {
      "text/html": [
       "<div>\n",
       "<style scoped>\n",
       "    .dataframe tbody tr th:only-of-type {\n",
       "        vertical-align: middle;\n",
       "    }\n",
       "\n",
       "    .dataframe tbody tr th {\n",
       "        vertical-align: top;\n",
       "    }\n",
       "\n",
       "    .dataframe thead th {\n",
       "        text-align: right;\n",
       "    }\n",
       "</style>\n",
       "<table border=\"1\" class=\"dataframe\">\n",
       "  <thead>\n",
       "    <tr style=\"text-align: right;\">\n",
       "      <th></th>\n",
       "      <th>vol</th>\n",
       "      <th>rtn</th>\n",
       "    </tr>\n",
       "  </thead>\n",
       "  <tbody>\n",
       "    <tr>\n",
       "      <th>vol</th>\n",
       "      <td>1.000000</td>\n",
       "      <td>-0.327604</td>\n",
       "    </tr>\n",
       "    <tr>\n",
       "      <th>rtn</th>\n",
       "      <td>-0.327604</td>\n",
       "      <td>1.000000</td>\n",
       "    </tr>\n",
       "  </tbody>\n",
       "</table>\n",
       "</div>"
      ],
      "text/plain": [
       "          vol       rtn\n",
       "vol  1.000000 -0.327604\n",
       "rtn -0.327604  1.000000"
      ]
     },
     "execution_count": 15,
     "metadata": {},
     "output_type": "execute_result"
    }
   ],
   "source": [
    "data.corr()"
   ]
  },
  {
   "cell_type": "code",
   "execution_count": 16,
   "metadata": {},
   "outputs": [],
   "source": [
    "omega, omega_cov = vl.estimate_params(data)"
   ]
  },
  {
   "cell_type": "code",
   "execution_count": 17,
   "metadata": {},
   "outputs": [
    {
     "data": {
      "text/plain": [
       "{'gamma': 0.00014975750689374953,\n",
       " 'beta': 0.13351771846121938,\n",
       " 'psi': -1.409623031761711,\n",
       " 'zeta': 0.9924520325506445,\n",
       " 'delta': 0.6157617748606046,\n",
       " 'rho': 0.9460204375230948,\n",
       " 'scale': 0.003958295988497757}"
      ]
     },
     "execution_count": 17,
     "metadata": {},
     "output_type": "execute_result"
    }
   ],
   "source": [
    "omega"
   ]
  },
  {
   "cell_type": "code",
   "execution_count": 18,
   "metadata": {},
   "outputs": [
    {
     "data": {
      "text/html": [
       "<div>\n",
       "<style scoped>\n",
       "    .dataframe tbody tr th:only-of-type {\n",
       "        vertical-align: middle;\n",
       "    }\n",
       "\n",
       "    .dataframe tbody tr th {\n",
       "        vertical-align: top;\n",
       "    }\n",
       "\n",
       "    .dataframe thead th {\n",
       "        text-align: right;\n",
       "    }\n",
       "</style>\n",
       "<table border=\"1\" class=\"dataframe\">\n",
       "  <thead>\n",
       "    <tr style=\"text-align: right;\">\n",
       "      <th></th>\n",
       "      <th>beta</th>\n",
       "      <th>delta</th>\n",
       "      <th>gamma</th>\n",
       "      <th>psi</th>\n",
       "      <th>rho</th>\n",
       "      <th>scale</th>\n",
       "      <th>zeta</th>\n",
       "    </tr>\n",
       "  </thead>\n",
       "  <tbody>\n",
       "    <tr>\n",
       "      <th>beta</th>\n",
       "      <td>0.001659</td>\n",
       "      <td>0.000000e+00</td>\n",
       "      <td>-4.233881e-06</td>\n",
       "      <td>-0.001566</td>\n",
       "      <td>0.000000e+00</td>\n",
       "      <td>0.000000e+00</td>\n",
       "      <td>0.000000</td>\n",
       "    </tr>\n",
       "    <tr>\n",
       "      <th>delta</th>\n",
       "      <td>0.000000</td>\n",
       "      <td>3.659706e-04</td>\n",
       "      <td>0.000000e+00</td>\n",
       "      <td>0.000000</td>\n",
       "      <td>-3.019355e-05</td>\n",
       "      <td>-1.135324e-07</td>\n",
       "      <td>0.000000</td>\n",
       "    </tr>\n",
       "    <tr>\n",
       "      <th>gamma</th>\n",
       "      <td>-0.000004</td>\n",
       "      <td>0.000000e+00</td>\n",
       "      <td>3.862597e-08</td>\n",
       "      <td>0.000003</td>\n",
       "      <td>0.000000e+00</td>\n",
       "      <td>0.000000e+00</td>\n",
       "      <td>0.000000</td>\n",
       "    </tr>\n",
       "    <tr>\n",
       "      <th>psi</th>\n",
       "      <td>-0.001566</td>\n",
       "      <td>0.000000e+00</td>\n",
       "      <td>3.379039e-06</td>\n",
       "      <td>0.002085</td>\n",
       "      <td>0.000000e+00</td>\n",
       "      <td>0.000000e+00</td>\n",
       "      <td>0.000000</td>\n",
       "    </tr>\n",
       "    <tr>\n",
       "      <th>rho</th>\n",
       "      <td>0.000000</td>\n",
       "      <td>-3.019355e-05</td>\n",
       "      <td>0.000000e+00</td>\n",
       "      <td>0.000000</td>\n",
       "      <td>7.217840e-06</td>\n",
       "      <td>-1.390133e-08</td>\n",
       "      <td>0.000000</td>\n",
       "    </tr>\n",
       "    <tr>\n",
       "      <th>scale</th>\n",
       "      <td>0.000000</td>\n",
       "      <td>-1.135324e-07</td>\n",
       "      <td>0.000000e+00</td>\n",
       "      <td>0.000000</td>\n",
       "      <td>-1.390133e-08</td>\n",
       "      <td>2.572768e-09</td>\n",
       "      <td>0.000000</td>\n",
       "    </tr>\n",
       "    <tr>\n",
       "      <th>zeta</th>\n",
       "      <td>0.000000</td>\n",
       "      <td>0.000000e+00</td>\n",
       "      <td>0.000000e+00</td>\n",
       "      <td>0.000000</td>\n",
       "      <td>0.000000e+00</td>\n",
       "      <td>0.000000e+00</td>\n",
       "      <td>0.000054</td>\n",
       "    </tr>\n",
       "  </tbody>\n",
       "</table>\n",
       "</div>"
      ],
      "text/plain": [
       "           beta         delta         gamma       psi           rho  \\\n",
       "beta   0.001659  0.000000e+00 -4.233881e-06 -0.001566  0.000000e+00   \n",
       "delta  0.000000  3.659706e-04  0.000000e+00  0.000000 -3.019355e-05   \n",
       "gamma -0.000004  0.000000e+00  3.862597e-08  0.000003  0.000000e+00   \n",
       "psi   -0.001566  0.000000e+00  3.379039e-06  0.002085  0.000000e+00   \n",
       "rho    0.000000 -3.019355e-05  0.000000e+00  0.000000  7.217840e-06   \n",
       "scale  0.000000 -1.135324e-07  0.000000e+00  0.000000 -1.390133e-08   \n",
       "zeta   0.000000  0.000000e+00  0.000000e+00  0.000000  0.000000e+00   \n",
       "\n",
       "              scale      zeta  \n",
       "beta   0.000000e+00  0.000000  \n",
       "delta -1.135324e-07  0.000000  \n",
       "gamma  0.000000e+00  0.000000  \n",
       "psi    0.000000e+00  0.000000  \n",
       "rho   -1.390133e-08  0.000000  \n",
       "scale  2.572768e-09  0.000000  \n",
       "zeta   0.000000e+00  0.000054  "
      ]
     },
     "execution_count": 18,
     "metadata": {},
     "output_type": "execute_result"
    }
   ],
   "source": [
    "omega_cov"
   ]
  },
  {
   "cell_type": "code",
   "execution_count": 19,
   "metadata": {},
   "outputs": [
    {
     "data": {
      "text/plain": [
       "<matplotlib.legend.Legend at 0x7fc809dd4cf8>"
      ]
     },
     "execution_count": 19,
     "metadata": {},
     "output_type": "execute_result"
    },
    {
     "data": {
      "image/png": "[encoded data removed]",
      "text/plain": [
       "<Figure size 748.8x514.8 with 1 Axes>"
      ]
     },
     "metadata": {
      "needs_background": "light"
     },
     "output_type": "display_data"
    }
   ],
   "source": [
    "fig1, ax1 = mpl.pyplot.subplots()\n",
    "ax1.plot(data.rtn, label='Return', color='blue')\n",
    "ax1.plot(data.vol.apply(np.sqrt), label='Volatility', color='orange')\n",
    "\n",
    "ax1.legend()"
   ]
  },
  {
   "cell_type": "code",
   "execution_count": 20,
   "metadata": {},
   "outputs": [
    {
     "data": {
      "text/html": [
       "<div>\n",
       "<style scoped>\n",
       "    .dataframe tbody tr th:only-of-type {\n",
       "        vertical-align: middle;\n",
       "    }\n",
       "\n",
       "    .dataframe tbody tr th {\n",
       "        vertical-align: top;\n",
       "    }\n",
       "\n",
       "    .dataframe thead th {\n",
       "        text-align: right;\n",
       "    }\n",
       "</style>\n",
       "<table border=\"1\" class=\"dataframe\">\n",
       "  <thead>\n",
       "    <tr style=\"text-align: right;\">\n",
       "      <th></th>\n",
       "      <th>vol</th>\n",
       "      <th>rtn</th>\n",
       "    </tr>\n",
       "  </thead>\n",
       "  <tbody>\n",
       "    <tr>\n",
       "      <th>vol</th>\n",
       "      <td>0.013851</td>\n",
       "      <td>-0.008148</td>\n",
       "    </tr>\n",
       "    <tr>\n",
       "      <th>rtn</th>\n",
       "      <td>-0.008148</td>\n",
       "      <td>0.050187</td>\n",
       "    </tr>\n",
       "  </tbody>\n",
       "</table>\n",
       "</div>"
      ],
      "text/plain": [
       "          vol       rtn\n",
       "vol  0.013851 -0.008148\n",
       "rtn -0.008148  0.050187"
      ]
     },
     "execution_count": 20,
     "metadata": {},
     "output_type": "execute_result"
    }
   ],
   "source": [
    "data.transform(lambda x: np.sqrt(x) if x.name == 'vol' else x).cov()"
   ]
  },
  {
   "cell_type": "code",
   "execution_count": 21,
   "metadata": {},
   "outputs": [
    {
     "data": {
      "text/plain": [
       "{'theta': 1.768,\n",
       " 'pi': -10,\n",
       " 'phi': -0.01,\n",
       " 'scale': 0.00394128,\n",
       " 'delta': 0.6475,\n",
       " 'rho': 0.95,\n",
       " 'gamma': 0.0003040704223442014,\n",
       " 'beta': 0.11823710670185328,\n",
       " 'psi': -1.3819412584691815,\n",
       " 'zeta': 0.9999}"
      ]
     },
     "execution_count": 21,
     "metadata": {},
     "output_type": "execute_result"
    }
   ],
   "source": [
    "total_true_params"
   ]
  },
  {
   "cell_type": "code",
   "execution_count": 22,
   "metadata": {},
   "outputs": [
    {
     "data": {
      "text/plain": [
       "<seaborn.axisgrid.JointGrid at 0x7fc809d399b0>"
      ]
     },
     "execution_count": 22,
     "metadata": {},
     "output_type": "execute_result"
    },
    {
     "data": {
      "image/png": "[encoded data removed]",
      "text/plain": [
       "<Figure size 432x432 with 3 Axes>"
      ]
     },
     "metadata": {
      "needs_background": "light"
     },
     "output_type": "display_data"
    }
   ],
   "source": [
    "sns.jointplot(x='vol', y='rtn', data=data, kind='reg')"
   ]
  },
  {
   "cell_type": "code",
   "execution_count": 23,
   "metadata": {},
   "outputs": [
    {
     "data": {
      "text/html": [
       "<div>\n",
       "<style scoped>\n",
       "    .dataframe tbody tr th:only-of-type {\n",
       "        vertical-align: middle;\n",
       "    }\n",
       "\n",
       "    .dataframe tbody tr th {\n",
       "        vertical-align: top;\n",
       "    }\n",
       "\n",
       "    .dataframe thead th {\n",
       "        text-align: right;\n",
       "    }\n",
       "</style>\n",
       "<table border=\"1\" class=\"dataframe\">\n",
       "  <thead>\n",
       "    <tr style=\"text-align: right;\">\n",
       "      <th></th>\n",
       "      <th>vol</th>\n",
       "      <th>rtn</th>\n",
       "    </tr>\n",
       "  </thead>\n",
       "  <tbody>\n",
       "    <tr>\n",
       "      <th>count</th>\n",
       "      <td>37000.000000</td>\n",
       "      <td>37000.000000</td>\n",
       "    </tr>\n",
       "    <tr>\n",
       "      <th>mean</th>\n",
       "      <td>0.045179</td>\n",
       "      <td>-0.057507</td>\n",
       "    </tr>\n",
       "    <tr>\n",
       "      <th>std</th>\n",
       "      <td>0.056455</td>\n",
       "      <td>0.224025</td>\n",
       "    </tr>\n",
       "    <tr>\n",
       "      <th>min</th>\n",
       "      <td>0.000010</td>\n",
       "      <td>-2.393818</td>\n",
       "    </tr>\n",
       "    <tr>\n",
       "      <th>25%</th>\n",
       "      <td>0.007154</td>\n",
       "      <td>-0.137451</td>\n",
       "    </tr>\n",
       "    <tr>\n",
       "      <th>50%</th>\n",
       "      <td>0.024478</td>\n",
       "      <td>-0.020574</td>\n",
       "    </tr>\n",
       "    <tr>\n",
       "      <th>75%</th>\n",
       "      <td>0.061570</td>\n",
       "      <td>0.048016</td>\n",
       "    </tr>\n",
       "    <tr>\n",
       "      <th>max</th>\n",
       "      <td>0.649158</td>\n",
       "      <td>1.251111</td>\n",
       "    </tr>\n",
       "  </tbody>\n",
       "</table>\n",
       "</div>"
      ],
      "text/plain": [
       "                vol           rtn\n",
       "count  37000.000000  37000.000000\n",
       "mean       0.045179     -0.057507\n",
       "std        0.056455      0.224025\n",
       "min        0.000010     -2.393818\n",
       "25%        0.007154     -0.137451\n",
       "50%        0.024478     -0.020574\n",
       "75%        0.061570      0.048016\n",
       "max        0.649158      1.251111"
      ]
     },
     "execution_count": 23,
     "metadata": {},
     "output_type": "execute_result"
    }
   ],
   "source": [
    "data.describe()"
   ]
  },
  {
   "cell_type": "markdown",
   "metadata": {},
   "source": [
    "## I now estimate all of the parameters"
   ]
  },
  {
   "cell_type": "code",
   "execution_count": null,
   "metadata": {},
   "outputs": [],
   "source": [
    "data_arr = [vl.simulate_data(time_dim=time_dim, **true_params)  for _ in tqdm.tnrange(sim_dim)]"
   ]
  },
  {
   "cell_type": "code",
   "execution_count": null,
   "metadata": {},
   "outputs": [],
   "source": [
    "estimator = partial(vl.estimate_params_strong_id, case=1)"
   ]
  },
  {
   "cell_type": "code",
   "execution_count": null,
   "metadata": {},
   "outputs": [],
   "source": [
    "estimator(data_arr[2])"
   ]
  },
  {
   "cell_type": "code",
   "execution_count": null,
   "metadata": {
    "scrolled": false
   },
   "outputs": [],
   "source": [
    "with Pool(8) as pool:\n",
    "    est_arr = list(tqdm.tqdm_notebook(pool.imap_unordered(estimator, data_arr),\n",
    "                                      total=len(data_arr)))"
   ]
  },
  {
   "cell_type": "code",
   "execution_count": null,
   "metadata": {},
   "outputs": [],
   "source": [
    "def t_stats(x):\n",
    "    mean = x.mean()\n",
    "    cov = x.cov()\n",
    "        \n",
    "    return mean  / np.sqrt(np.diag(cov) / data.vol.size)"
   ]
  },
  {
   "cell_type": "code",
   "execution_count": null,
   "metadata": {},
   "outputs": [],
   "source": [
    "moment_data = pd.DataFrame([t_stats(vl.vol_moments(data.vol, delta=true_params['delta'],\n",
    "                                                   rho=true_params['rho'], scale=true_params['scale'])) \n",
    "                            for data in tqdm.tqdm_notebook(data_arr)])"
   ]
  },
  {
   "cell_type": "code",
   "execution_count": null,
   "metadata": {
    "scrolled": false
   },
   "outputs": [],
   "source": [
    "for name, moment in moment_data.items():\n",
    "    moment_fig, moment_ax = mpl.pyplot.subplots()\n",
    "    sns.distplot(moment, ax=moment_ax, bins=40)\n",
    "    moment_ax.plot(np.linspace(-5,5,100), stats.norm.pdf(np.linspace(-5,5,100)), color='black')\n",
    "    moment_ax.set_xlim([-4,4])"
   ]
  },
  {
   "cell_type": "code",
   "execution_count": null,
   "metadata": {
    "scrolled": false
   },
   "outputs": [],
   "source": [
    "with pd.option_context('mode.use_inf_as_null', True):\n",
    "    for name in est_arr[0][0].keys():\n",
    "        fig, ax = mpl.pyplot.subplots()       \n",
    "        sns.distplot(pd.Series([(est[name] - total_true_params[name]) / np.sqrt(cov.loc[name,name])\n",
    "                  for est, cov in est_arr]).dropna(), ax=ax, bins=40)\n",
    "        ax.plot(np.linspace(-5,5,100), stats.norm.pdf(np.linspace(-5,5,100)), color='black')\n",
    "        ax.set_xlabel(name)\n",
    "        if max(ax.get_xlim()) > 20:\n",
    "            ax.set_xlim(-20, 20)"
   ]
  },
  {
   "cell_type": "code",
   "execution_count": null,
   "metadata": {
    "scrolled": false
   },
   "outputs": [],
   "source": [
    "with pd.option_context('mode.use_inf_as_null', True):\n",
    "    for name in ['phi', 'pi', 'theta']:\n",
    "        fig, ax = mpl.pyplot.subplots()       \n",
    "        sns.distplot(pd.Series([est[name] for est, cov in est_arr]).dropna(), ax=ax, bins=40)\n",
    "        ax.set_xlabel(name)\n",
    "        ax.axvline(total_true_params[name], color='black')\n",
    "        \n",
    "        if name == 'pi':\n",
    "            ax.set_xlim(-21, 1)\n",
    "        \n",
    "        fig.savefig('../doc/figures/{}_est_{}_{}.tmp.pdf'.format(name, sim_dim, true_params['phi']),\n",
    "            frameon=False, pad_inches=0, bbox_inces='tight', transparent=True)"
   ]
  },
  {
   "cell_type": "markdown",
   "metadata": {},
   "source": [
    "# I now import  robust conditional QLR statistic "
   ]
  },
  {
   "cell_type": "code",
   "execution_count": 47,
   "metadata": {},
   "outputs": [],
   "source": [
    "if kharpov:\n",
    "    filename = '../results/reject_prop_kharpov_{}_{}_{}.json'.format(innov_dim, -0.4, \n",
    "                                                                         3700)\n",
    "else:\n",
    "    filename = '../results/reject_prop_{}_{}_{}.json'.format(innov_dim, true_params['phi'], \n",
    "                                                                         time_dim)"
   ]
  },
  {
   "cell_type": "code",
   "execution_count": 48,
   "metadata": {},
   "outputs": [
    {
     "data": {
      "text/plain": [
       "'../results/reject_prop_kharpov_250_-0.4_3700.json'"
      ]
     },
     "execution_count": 48,
     "metadata": {},
     "output_type": "execute_result"
    }
   ],
   "source": [
    "filename"
   ]
  },
  {
   "cell_type": "code",
   "execution_count": 49,
   "metadata": {},
   "outputs": [],
   "source": [
    "returnval = pd.read_json(filename)"
   ]
  },
  {
   "cell_type": "code",
   "execution_count": 50,
   "metadata": {},
   "outputs": [
    {
     "data": {
      "text/plain": [
       "0    0.026\n",
       "dtype: float64"
      ]
     },
     "execution_count": 50,
     "metadata": {},
     "output_type": "execute_result"
    }
   ],
   "source": [
    "pd.DataFrame(stats.chi2.cdf( returnval.qlr_stat, df=4) > .95).mean()"
   ]
  },
  {
   "cell_type": "code",
   "execution_count": 51,
   "metadata": {},
   "outputs": [
    {
     "data": {
      "text/plain": [
       "qlr_stat               3.179932\n",
       "robust_qlr_qauntile    7.357117\n",
       "robust                 0.076000\n",
       "standard               0.062000\n",
       "dtype: float64"
      ]
     },
     "execution_count": 51,
     "metadata": {},
     "output_type": "execute_result"
    }
   ],
   "source": [
    "returnval.query('robust_qlr_qauntile > 0').mean()"
   ]
  },
  {
   "cell_type": "code",
   "execution_count": 31,
   "metadata": {},
   "outputs": [
    {
     "data": {
      "image/png": "[encoded data removed]",
      "text/plain": [
       "<Figure size 748.8x514.8 with 1 Axes>"
      ]
     },
     "metadata": {
      "needs_background": "light"
     },
     "output_type": "display_data"
    }
   ],
   "source": [
    "fig4, ax4 = mpl.pyplot.subplots()\n",
    "try:\n",
    "    sns.distplot(returnval.query('robust_qlr_qauntile > 0').robust_qlr_qauntile, \n",
    "                 kde_kws={\"color\": \"red\", \"lw\": 3, 'cumulative':True}, ax=ax4,hist=False, \n",
    "                 label='Robust Conditional Quantile')\n",
    "           \n",
    "except AttributeError:\n",
    "    pass\n",
    "\n",
    "sns.distplot(returnval.qlr_stat, hist=False, ax=ax4,kde_kws={\"color\": \"blue\", \"lw\": 3, 'cumulative':True},\n",
    "      label='QLR Statistic')\n",
    "ax4.axvline(stats.chi2.ppf(.95, df=3), color='black', label='Standard Quantile')\n",
    "ax4.axvline(np.percentile(returnval.qlr_stat, 95),  color='Blue', label='Quantile in the data')\n",
    "\n",
    "xvals = np.linspace(0, 20, 500)\n",
    "ax4.plot(xvals, [stats.chi2.cdf(x, df=3) for x in xvals], color='green', label='$\\chi^2(3)$ distribution')\n",
    "ax4.set_xlim([0,50])\n",
    "# ax4.set_ylim([0,.5])\n",
    "ax4.set_xlabel(\"\")\n",
    "ax4.legend()\n",
    "fig4.savefig('../doc/figures/reject_prop_{}_{}.tmp.pdf'.format(innov_dim, true_params['phi']),\n",
    "            frameon=False, pad_inches=0, bbox_inces='tight', transparent=True)"
   ]
  },
  {
   "cell_type": "code",
   "execution_count": null,
   "metadata": {},
   "outputs": [],
   "source": []
  },
  {
   "cell_type": "code",
   "execution_count": null,
   "metadata": {},
   "outputs": [],
   "source": []
  },
  {
   "cell_type": "code",
   "execution_count": null,
   "metadata": {},
   "outputs": [],
   "source": []
  }
 ],
 "metadata": {
  "kernelspec": {
   "display_name": "Python 3",
   "language": "python",
   "name": "python3"
  },
  "language_info": {
   "codemirror_mode": {
    "name": "ipython",
    "version": 3
   },
   "file_extension": ".py",
   "mimetype": "text/x-python",
   "name": "python",
   "nbconvert_exporter": "python",
   "pygments_lexer": "ipython3",
   "version": "3.6.6"
  }
 },
 "nbformat": 4,
 "nbformat_minor": 2
}
