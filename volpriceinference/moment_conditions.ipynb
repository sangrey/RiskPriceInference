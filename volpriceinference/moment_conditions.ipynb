{
 "cells": [
  {
   "cell_type": "code",
   "execution_count": 1,
   "metadata": {},
   "outputs": [],
   "source": [
    "import numpy as np\n",
    "import pandas as pd\n",
    "from numpy import linalg as nplin\n",
    "import volpriceinference as vl\n",
    "import matplotlib as mpl\n",
    "import seaborn as sns\n",
    "import logging\n",
    "import tqdm\n",
    "from multiprocessing import Pool"
   ]
  },
  {
   "cell_type": "code",
   "execution_count": 2,
   "metadata": {},
   "outputs": [],
   "source": [
    "%matplotlib inline\n",
    "mpl.style.use('seaborn-talk')"
   ]
  },
  {
   "cell_type": "code",
   "execution_count": 3,
   "metadata": {},
   "outputs": [],
   "source": [
    "logging.basicConfig(filename='convergence.tmp.log', level=logging.INFO)\n",
    "logging.captureWarnings(True)"
   ]
  },
  {
   "cell_type": "markdown",
   "metadata": {},
   "source": [
    "## Setup the True Parameters /  Simulation Parameters"
   ]
  },
  {
   "cell_type": "markdown",
   "metadata": {},
   "source": [
    "## Setup the linking functions."
   ]
  },
  {
   "cell_type": "code",
   "execution_count": null,
   "metadata": {},
   "outputs": [],
   "source": [
    "total_true_params = true_params.copy()\n",
    "total_true_params.update(\n",
    "    {'gamma': vl.gamma(rho=true_params['rho'], scale=true_params['scale'], delta=true_params['delta'], \n",
    "                       phi=true_params['phi'], pi=true_params['vol_price'], theta=true_params['equity_price']),\n",
    "     'beta':vl.beta(rho=true_params['rho'], scale=true_params['scale'], phi=true_params['phi'], \n",
    "                    pi=true_params['vol_price'], theta=true_params['equity_price']),\n",
    "     'psi':vl.psi(true_params['rho'], true_params['scale'], true_params['phi'], \n",
    "                  theta=true_params['equity_price']), \n",
    "     'phi_squared': true_params['phi']**2})"
   ]
  },
  {
   "cell_type": "markdown",
   "metadata": {},
   "source": [
    "## We start by examining the distributions of simulated data"
   ]
  },
  {
   "cell_type": "code",
   "execution_count": null,
   "metadata": {},
   "outputs": [],
   "source": [
    "data = vl.simulate_data(time_dim=time_dim, **true_params)"
   ]
  },
  {
   "cell_type": "code",
   "execution_count": null,
   "metadata": {},
   "outputs": [],
   "source": [
    "fig1, ax1 = mpl.pyplot.subplots()\n",
    "ax1.plot(data.rtn, label='Return')\n",
    "ax1.plot(data.vol, label='Volatility')\n",
    "ax1.legend()\n"
   ]
  },
  {
   "cell_type": "code",
   "execution_count": null,
   "metadata": {},
   "outputs": [],
   "source": [
    "sns.jointplot(x='vol', y='rtn', data=data, kind='reg')"
   ]
  },
  {
   "cell_type": "code",
   "execution_count": null,
   "metadata": {},
   "outputs": [],
   "source": [
    "data.describe()"
   ]
  },
  {
   "cell_type": "markdown",
   "metadata": {},
   "source": [
    "## I now estimate all of the parameters"
   ]
  },
  {
   "cell_type": "code",
   "execution_count": 4,
   "metadata": {},
   "outputs": [],
   "source": [
    "true_params = {'equity_price': 0.50, \n",
    "               'vol_price': -7,\n",
    "               'phi':-.17,\n",
    "               'scale': .1,\n",
    "               'delta': 1,\n",
    "               'rho': 0,\n",
    "              }\n",
    "time_dim = 3000\n",
    "sim_dim = 1000"
   ]
  },
  {
   "cell_type": "code",
   "execution_count": 5,
   "metadata": {},
   "outputs": [],
   "source": [
    "results = np.arange(sim_dim)"
   ]
  },
  {
   "cell_type": "code",
   "execution_count": 8,
   "metadata": {},
   "outputs": [],
   "source": [
    "data = vl.simulate_data(time_dim=time_dim, **true_params)\n"
   ]
  },
  {
   "cell_type": "code",
   "execution_count": 9,
   "metadata": {},
   "outputs": [],
   "source": [
    "vol_data = vl.simulate_autoregressive_gamma(delta=1, rho=0, scale=1,time_dim=time_dim)\n"
   ]
  },
  {
   "cell_type": "code",
   "execution_count": 10,
   "metadata": {},
   "outputs": [],
   "source": [
    "def get_data_and_results(x):\n",
    "    data = vl.simulate_data(time_dim=time_dim, **true_params)\n",
    "    init_constants = vl.compute_init_constants(data.vol)\n",
    "    vol_est = vl.compute_vol_gmm(data.vol, init_constants=init_constants)\n",
    "    return data, vol_est"
   ]
  },
  {
   "cell_type": "code",
   "execution_count": 11,
   "metadata": {},
   "outputs": [
    {
     "data": {
      "application/vnd.jupyter.widget-view+json": {
       "model_id": "9525246df60d4ac1baf297a3990fb0ef",
       "version_major": 2,
       "version_minor": 0
      },
      "text/plain": [
       "HBox(children=(IntProgress(value=0, max=1000), HTML(value='')))"
      ]
     },
     "metadata": {},
     "output_type": "display_data"
    },
    {
     "name": "stderr",
     "output_type": "stream",
     "text": [
      "Process ForkPoolWorker-4:\n",
      "Process ForkPoolWorker-8:\n",
      "Process ForkPoolWorker-7:\n",
      "Process ForkPoolWorker-1:\n",
      "Process ForkPoolWorker-2:\n",
      "Process ForkPoolWorker-3:\n",
      "Traceback (most recent call last):\n",
      "Traceback (most recent call last):\n",
      "Traceback (most recent call last):\n",
      "Traceback (most recent call last):\n",
      "Traceback (most recent call last):\n",
      "Process ForkPoolWorker-6:\n",
      "Process ForkPoolWorker-5:\n",
      "  File \"/home/sangrey/anaconda3/lib/python3.6/multiprocessing/process.py\", line 258, in _bootstrap\n",
      "    self.run()\n",
      "  File \"/home/sangrey/anaconda3/lib/python3.6/multiprocessing/process.py\", line 258, in _bootstrap\n",
      "    self.run()\n",
      "  File \"/home/sangrey/anaconda3/lib/python3.6/multiprocessing/process.py\", line 258, in _bootstrap\n",
      "    self.run()\n",
      "  File \"/home/sangrey/anaconda3/lib/python3.6/multiprocessing/process.py\", line 258, in _bootstrap\n",
      "    self.run()\n",
      "  File \"/home/sangrey/anaconda3/lib/python3.6/multiprocessing/process.py\", line 93, in run\n",
      "    self._target(*self._args, **self._kwargs)\n",
      "  File \"/home/sangrey/anaconda3/lib/python3.6/multiprocessing/process.py\", line 93, in run\n",
      "    self._target(*self._args, **self._kwargs)\n",
      "  File \"/home/sangrey/anaconda3/lib/python3.6/multiprocessing/pool.py\", line 119, in worker\n",
      "    result = (True, func(*args, **kwds))\n",
      "Traceback (most recent call last):\n",
      "Traceback (most recent call last):\n",
      "  File \"/home/sangrey/anaconda3/lib/python3.6/multiprocessing/process.py\", line 258, in _bootstrap\n",
      "    self.run()\n",
      "Traceback (most recent call last):\n",
      "  File \"/home/sangrey/anaconda3/lib/python3.6/multiprocessing/process.py\", line 93, in run\n",
      "    self._target(*self._args, **self._kwargs)\n",
      "  File \"/home/sangrey/anaconda3/lib/python3.6/multiprocessing/pool.py\", line 119, in worker\n",
      "    result = (True, func(*args, **kwds))\n",
      "  File \"/home/sangrey/anaconda3/lib/python3.6/multiprocessing/process.py\", line 258, in _bootstrap\n",
      "    self.run()\n",
      "  File \"/home/sangrey/anaconda3/lib/python3.6/multiprocessing/process.py\", line 93, in run\n",
      "    self._target(*self._args, **self._kwargs)\n",
      "  File \"<ipython-input-10-1e678c0da643>\", line 2, in get_data_and_results\n",
      "    data = vl.simulate_data(time_dim=time_dim, **true_params)\n",
      "  File \"/home/sangrey/anaconda3/lib/python3.6/multiprocessing/process.py\", line 93, in run\n",
      "    self._target(*self._args, **self._kwargs)\n",
      "  File \"/home/sangrey/anaconda3/lib/python3.6/multiprocessing/pool.py\", line 119, in worker\n",
      "    result = (True, func(*args, **kwds))\n",
      "  File \"/home/sangrey/anaconda3/lib/python3.6/multiprocessing/process.py\", line 93, in run\n",
      "    self._target(*self._args, **self._kwargs)\n",
      "  File \"/home/sangrey/anaconda3/lib/python3.6/multiprocessing/pool.py\", line 119, in worker\n",
      "    result = (True, func(*args, **kwds))\n",
      "  File \"<ipython-input-10-1e678c0da643>\", line 2, in get_data_and_results\n",
      "    data = vl.simulate_data(time_dim=time_dim, **true_params)\n",
      "  File \"/home/sangrey/anaconda3/lib/python3.6/multiprocessing/pool.py\", line 119, in worker\n",
      "    result = (True, func(*args, **kwds))\n",
      "  File \"<ipython-input-10-1e678c0da643>\", line 2, in get_data_and_results\n",
      "    data = vl.simulate_data(time_dim=time_dim, **true_params)\n",
      "  File \"/home/sangrey/anaconda3/lib/python3.6/multiprocessing/pool.py\", line 119, in worker\n",
      "    result = (True, func(*args, **kwds))\n",
      "  File \"/home/sangrey/anaconda3/lib/python3.6/site-packages/volpriceinference/volprice.py\", line 155, in simulate_data\n",
      "    time_dim=time_dim + 1)\n",
      "  File \"/home/sangrey/anaconda3/lib/python3.6/site-packages/volpriceinference/volprice.py\", line 155, in simulate_data\n",
      "    time_dim=time_dim + 1)\n",
      "  File \"<ipython-input-10-1e678c0da643>\", line 2, in get_data_and_results\n",
      "    data = vl.simulate_data(time_dim=time_dim, **true_params)\n",
      "  File \"<ipython-input-10-1e678c0da643>\", line 2, in get_data_and_results\n",
      "    data = vl.simulate_data(time_dim=time_dim, **true_params)\n",
      "  File \"/home/sangrey/anaconda3/lib/python3.6/site-packages/volpriceinference/volprice.py\", line 80, in simulate_autoregressive_gamma\n",
      "    latent_var = stats.poisson.rvs(mu = rho * draws[-1] / scale)\n",
      "  File \"/home/sangrey/anaconda3/lib/python3.6/site-packages/volpriceinference/volprice.py\", line 81, in simulate_autoregressive_gamma\n",
      "    draws.append(stats.gamma.rvs(a=delta+latent_var, scale=scale))\n",
      "  File \"/home/sangrey/anaconda3/lib/python3.6/site-packages/volpriceinference/volprice.py\", line 155, in simulate_data\n",
      "    time_dim=time_dim + 1)\n",
      "  File \"/home/sangrey/anaconda3/lib/python3.6/site-packages/volpriceinference/volprice.py\", line 155, in simulate_data\n",
      "    time_dim=time_dim + 1)\n",
      "  File \"/home/sangrey/anaconda3/lib/python3.6/site-packages/scipy/stats/_distn_infrastructure.py\", line 938, in rvs\n",
      "    cond = logical_and(self._argcheck(*args), (scale >= 0))\n",
      "  File \"/home/sangrey/anaconda3/lib/python3.6/site-packages/volpriceinference/volprice.py\", line 80, in simulate_autoregressive_gamma\n",
      "    latent_var = stats.poisson.rvs(mu = rho * draws[-1] / scale)\n",
      "  File \"/home/sangrey/anaconda3/lib/python3.6/site-packages/scipy/stats/_distn_infrastructure.py\", line 2809, in rvs\n",
      "    return super(rv_discrete, self).rvs(*args, **kwargs)\n",
      "  File \"/home/sangrey/anaconda3/lib/python3.6/site-packages/scipy/stats/_distn_infrastructure.py\", line 2809, in rvs\n",
      "    return super(rv_discrete, self).rvs(*args, **kwargs)\n",
      "  File \"/home/sangrey/anaconda3/lib/python3.6/site-packages/volpriceinference/volprice.py\", line 81, in simulate_autoregressive_gamma\n",
      "    draws.append(stats.gamma.rvs(a=delta+latent_var, scale=scale))\n",
      "  File \"/home/sangrey/anaconda3/lib/python3.6/site-packages/scipy/stats/_distn_infrastructure.py\", line 938, in rvs\n",
      "    cond = logical_and(self._argcheck(*args), (scale >= 0))\n",
      "  File \"/home/sangrey/anaconda3/lib/python3.6/multiprocessing/process.py\", line 258, in _bootstrap\n",
      "    self.run()\n",
      "  File \"/home/sangrey/anaconda3/lib/python3.6/site-packages/scipy/stats/_distn_infrastructure.py\", line 938, in rvs\n",
      "    cond = logical_and(self._argcheck(*args), (scale >= 0))\n",
      "  File \"/home/sangrey/anaconda3/lib/python3.6/site-packages/scipy/stats/_distn_infrastructure.py\", line 937, in rvs\n",
      "    args, loc, scale, size = self._parse_args_rvs(*args, **kwds)\n",
      "  File \"/home/sangrey/anaconda3/lib/python3.6/site-packages/scipy/stats/_discrete_distns.py\", line 493, in _argcheck\n",
      "    return mu >= 0\n",
      "  File \"/home/sangrey/anaconda3/lib/python3.6/site-packages/scipy/stats/_discrete_distns.py\", line 493, in _argcheck\n",
      "    return mu >= 0\n",
      "  File \"/home/sangrey/anaconda3/lib/python3.6/multiprocessing/process.py\", line 93, in run\n",
      "    self._target(*self._args, **self._kwargs)\n",
      "  File \"<string>\", line 6, in _parse_args_rvs\n",
      "  File \"<ipython-input-10-1e678c0da643>\", line 2, in get_data_and_results\n",
      "    data = vl.simulate_data(time_dim=time_dim, **true_params)\n",
      "KeyboardInterrupt\n",
      "KeyboardInterrupt\n",
      "KeyboardInterrupt\n",
      "  File \"/home/sangrey/anaconda3/lib/python3.6/site-packages/scipy/stats/_distn_infrastructure.py\", line 819, in _argcheck_rvs\n",
      "    all_bcast = [squeeze_left(a) for a in all_bcast]\n",
      "  File \"/home/sangrey/anaconda3/lib/python3.6/site-packages/scipy/stats/_distn_infrastructure.py\", line 939, in rvs\n",
      "    if not np.all(cond):\n",
      "  File \"/home/sangrey/anaconda3/lib/python3.6/site-packages/scipy/stats/_distn_infrastructure.py\", line 819, in <listcomp>\n",
      "    all_bcast = [squeeze_left(a) for a in all_bcast]\n",
      "  File \"/home/sangrey/anaconda3/lib/python3.6/site-packages/volpriceinference/volprice.py\", line 155, in simulate_data\n",
      "    time_dim=time_dim + 1)\n",
      "  File \"/home/sangrey/anaconda3/lib/python3.6/site-packages/volpriceinference/volprice.py\", line 80, in simulate_autoregressive_gamma\n",
      "    latent_var = stats.poisson.rvs(mu = rho * draws[-1] / scale)\n",
      "  File \"/home/sangrey/anaconda3/lib/python3.6/site-packages/scipy/stats/_distn_infrastructure.py\", line 2809, in rvs\n",
      "    return super(rv_discrete, self).rvs(*args, **kwargs)\n",
      "  File \"/home/sangrey/anaconda3/lib/python3.6/site-packages/numpy/core/fromnumeric.py\", line 2050, in all\n",
      "    return arr.all(axis=axis, out=out, **kwargs)\n",
      "  File \"/home/sangrey/anaconda3/lib/python3.6/site-packages/volpriceinference/volprice.py\", line 155, in simulate_data\n",
      "    time_dim=time_dim + 1)\n",
      "  File \"/home/sangrey/anaconda3/lib/python3.6/site-packages/volpriceinference/volprice.py\", line 80, in simulate_autoregressive_gamma\n",
      "    latent_var = stats.poisson.rvs(mu = rho * draws[-1] / scale)\n",
      "  File \"/home/sangrey/anaconda3/lib/python3.6/site-packages/numpy/core/_methods.py\", line 41, in _all\n",
      "    return umr_all(a, axis, dtype, out, keepdims)\n"
     ]
    },
    {
     "name": "stderr",
     "output_type": "stream",
     "text": [
      "  File \"/home/sangrey/anaconda3/lib/python3.6/site-packages/scipy/stats/_distn_infrastructure.py\", line 2809, in rvs\n",
      "    return super(rv_discrete, self).rvs(*args, **kwargs)\n",
      "  File \"/home/sangrey/anaconda3/lib/python3.6/site-packages/scipy/stats/_distn_infrastructure.py\", line 937, in rvs\n",
      "    args, loc, scale, size = self._parse_args_rvs(*args, **kwds)\n",
      "  File \"/home/sangrey/anaconda3/lib/python3.6/multiprocessing/process.py\", line 258, in _bootstrap\n",
      "    self.run()\n",
      "KeyboardInterrupt\n",
      "  File \"<string>\", line 6, in _parse_args_rvs\n",
      "  File \"/home/sangrey/anaconda3/lib/python3.6/multiprocessing/process.py\", line 93, in run\n",
      "    self._target(*self._args, **self._kwargs)\n",
      "  File \"/home/sangrey/anaconda3/lib/python3.6/multiprocessing/pool.py\", line 119, in worker\n",
      "    result = (True, func(*args, **kwds))\n",
      "  File \"/home/sangrey/anaconda3/lib/python3.6/site-packages/scipy/stats/_distn_infrastructure.py\", line 849, in _argcheck_rvs\n",
      "    for (bcdim, szdim) in zip(bcast_shape, size_)])\n",
      "  File \"<ipython-input-10-1e678c0da643>\", line 2, in get_data_and_results\n",
      "    data = vl.simulate_data(time_dim=time_dim, **true_params)\n",
      "  File \"/home/sangrey/anaconda3/lib/python3.6/multiprocessing/pool.py\", line 119, in worker\n",
      "    result = (True, func(*args, **kwds))\n",
      "KeyboardInterrupt\n",
      "  File \"<ipython-input-10-1e678c0da643>\", line 2, in get_data_and_results\n",
      "    data = vl.simulate_data(time_dim=time_dim, **true_params)\n",
      "  File \"/home/sangrey/anaconda3/lib/python3.6/site-packages/volpriceinference/volprice.py\", line 155, in simulate_data\n",
      "    time_dim=time_dim + 1)\n",
      "  File \"/home/sangrey/anaconda3/lib/python3.6/site-packages/volpriceinference/volprice.py\", line 155, in simulate_data\n",
      "    time_dim=time_dim + 1)\n",
      "  File \"/home/sangrey/anaconda3/lib/python3.6/site-packages/volpriceinference/volprice.py\", line 81, in simulate_autoregressive_gamma\n",
      "    draws.append(stats.gamma.rvs(a=delta+latent_var, scale=scale))\n",
      "  File \"/home/sangrey/anaconda3/lib/python3.6/site-packages/volpriceinference/volprice.py\", line 80, in simulate_autoregressive_gamma\n",
      "    latent_var = stats.poisson.rvs(mu = rho * draws[-1] / scale)\n",
      "  File \"/home/sangrey/anaconda3/lib/python3.6/site-packages/scipy/stats/_distn_infrastructure.py\", line 938, in rvs\n",
      "    cond = logical_and(self._argcheck(*args), (scale >= 0))\n",
      "  File \"/home/sangrey/anaconda3/lib/python3.6/site-packages/scipy/stats/_distn_infrastructure.py\", line 2809, in rvs\n",
      "    return super(rv_discrete, self).rvs(*args, **kwargs)\n",
      "  File \"/home/sangrey/anaconda3/lib/python3.6/site-packages/scipy/stats/_distn_infrastructure.py\", line 872, in _argcheck\n",
      "    cond = logical_and(cond, (asarray(arg) > 0))\n",
      "  File \"/home/sangrey/anaconda3/lib/python3.6/site-packages/scipy/stats/_distn_infrastructure.py\", line 804, in squeeze_left\n",
      "    while a.ndim > 0 and a.shape[0] == 1:\n",
      "  File \"/home/sangrey/anaconda3/lib/python3.6/site-packages/scipy/stats/_distn_infrastructure.py\", line 954, in rvs\n",
      "    vals = self._rvs(*args)\n",
      "KeyboardInterrupt\n",
      "  File \"/home/sangrey/anaconda3/lib/python3.6/site-packages/scipy/stats/_discrete_distns.py\", line 495, in _rvs\n",
      "    def _rvs(self, mu):\n",
      "KeyboardInterrupt\n",
      "KeyboardInterrupt\n"
     ]
    },
    {
     "ename": "KeyboardInterrupt",
     "evalue": "",
     "output_type": "error",
     "traceback": [
      "\u001b[0;31m---------------------------------------------------------------------------\u001b[0m",
      "\u001b[0;31mIndexError\u001b[0m                                Traceback (most recent call last)",
      "\u001b[0;32m~/anaconda3/lib/python3.6/multiprocessing/pool.py\u001b[0m in \u001b[0;36mnext\u001b[0;34m(self, timeout)\u001b[0m\n\u001b[1;32m    719\u001b[0m             \u001b[0;32mtry\u001b[0m\u001b[0;34m:\u001b[0m\u001b[0;34m\u001b[0m\u001b[0m\n\u001b[0;32m--> 720\u001b[0;31m                 \u001b[0mitem\u001b[0m \u001b[0;34m=\u001b[0m \u001b[0mself\u001b[0m\u001b[0;34m.\u001b[0m\u001b[0m_items\u001b[0m\u001b[0;34m.\u001b[0m\u001b[0mpopleft\u001b[0m\u001b[0;34m(\u001b[0m\u001b[0;34m)\u001b[0m\u001b[0;34m\u001b[0m\u001b[0m\n\u001b[0m\u001b[1;32m    721\u001b[0m             \u001b[0;32mexcept\u001b[0m \u001b[0mIndexError\u001b[0m\u001b[0;34m:\u001b[0m\u001b[0;34m\u001b[0m\u001b[0m\n",
      "\u001b[0;31mIndexError\u001b[0m: pop from an empty deque",
      "\nDuring handling of the above exception, another exception occurred:\n",
      "\u001b[0;31mKeyboardInterrupt\u001b[0m                         Traceback (most recent call last)",
      "\u001b[0;32m<ipython-input-11-0cc33d47db12>\u001b[0m in \u001b[0;36m<module>\u001b[0;34m()\u001b[0m\n\u001b[1;32m      1\u001b[0m \u001b[0;32mwith\u001b[0m \u001b[0mPool\u001b[0m\u001b[0;34m(\u001b[0m\u001b[0;36m8\u001b[0m\u001b[0;34m)\u001b[0m \u001b[0;32mas\u001b[0m \u001b[0mpool\u001b[0m\u001b[0;34m:\u001b[0m\u001b[0;34m\u001b[0m\u001b[0m\n\u001b[1;32m      2\u001b[0m     data_arr, est_arr = zip(*[result  for result in tqdm.tqdm_notebook(\n\u001b[0;32m----> 3\u001b[0;31m         pool.imap_unordered(get_data_and_results, results), total=len(results))])\n\u001b[0m",
      "\u001b[0;32m<ipython-input-11-0cc33d47db12>\u001b[0m in \u001b[0;36m<listcomp>\u001b[0;34m(.0)\u001b[0m\n\u001b[1;32m      1\u001b[0m \u001b[0;32mwith\u001b[0m \u001b[0mPool\u001b[0m\u001b[0;34m(\u001b[0m\u001b[0;36m8\u001b[0m\u001b[0;34m)\u001b[0m \u001b[0;32mas\u001b[0m \u001b[0mpool\u001b[0m\u001b[0;34m:\u001b[0m\u001b[0;34m\u001b[0m\u001b[0m\n\u001b[0;32m----> 2\u001b[0;31m     data_arr, est_arr = zip(*[result  for result in tqdm.tqdm_notebook(\n\u001b[0m\u001b[1;32m      3\u001b[0m         pool.imap_unordered(get_data_and_results, results), total=len(results))])\n",
      "\u001b[0;32m~/anaconda3/lib/python3.6/site-packages/tqdm/_tqdm_notebook.py\u001b[0m in \u001b[0;36m__iter__\u001b[0;34m(self, *args, **kwargs)\u001b[0m\n\u001b[1;32m    207\u001b[0m     \u001b[0;32mdef\u001b[0m \u001b[0m__iter__\u001b[0m\u001b[0;34m(\u001b[0m\u001b[0mself\u001b[0m\u001b[0;34m,\u001b[0m \u001b[0;34m*\u001b[0m\u001b[0margs\u001b[0m\u001b[0;34m,\u001b[0m \u001b[0;34m**\u001b[0m\u001b[0mkwargs\u001b[0m\u001b[0;34m)\u001b[0m\u001b[0;34m:\u001b[0m\u001b[0;34m\u001b[0m\u001b[0m\n\u001b[1;32m    208\u001b[0m         \u001b[0;32mtry\u001b[0m\u001b[0;34m:\u001b[0m\u001b[0;34m\u001b[0m\u001b[0m\n\u001b[0;32m--> 209\u001b[0;31m             \u001b[0;32mfor\u001b[0m \u001b[0mobj\u001b[0m \u001b[0;32min\u001b[0m \u001b[0msuper\u001b[0m\u001b[0;34m(\u001b[0m\u001b[0mtqdm_notebook\u001b[0m\u001b[0;34m,\u001b[0m \u001b[0mself\u001b[0m\u001b[0;34m)\u001b[0m\u001b[0;34m.\u001b[0m\u001b[0m__iter__\u001b[0m\u001b[0;34m(\u001b[0m\u001b[0;34m*\u001b[0m\u001b[0margs\u001b[0m\u001b[0;34m,\u001b[0m \u001b[0;34m**\u001b[0m\u001b[0mkwargs\u001b[0m\u001b[0;34m)\u001b[0m\u001b[0;34m:\u001b[0m\u001b[0;34m\u001b[0m\u001b[0m\n\u001b[0m\u001b[1;32m    210\u001b[0m                 \u001b[0;31m# return super(tqdm...) will not catch exception\u001b[0m\u001b[0;34m\u001b[0m\u001b[0;34m\u001b[0m\u001b[0m\n\u001b[1;32m    211\u001b[0m                 \u001b[0;32myield\u001b[0m \u001b[0mobj\u001b[0m\u001b[0;34m\u001b[0m\u001b[0m\n",
      "\u001b[0;32m~/anaconda3/lib/python3.6/site-packages/tqdm/_tqdm.py\u001b[0m in \u001b[0;36m__iter__\u001b[0;34m(self)\u001b[0m\n\u001b[1;32m    929\u001b[0m \"\"\", fp_write=getattr(self.fp, 'write', sys.stderr.write))\n\u001b[1;32m    930\u001b[0m \u001b[0;34m\u001b[0m\u001b[0m\n\u001b[0;32m--> 931\u001b[0;31m             \u001b[0;32mfor\u001b[0m \u001b[0mobj\u001b[0m \u001b[0;32min\u001b[0m \u001b[0miterable\u001b[0m\u001b[0;34m:\u001b[0m\u001b[0;34m\u001b[0m\u001b[0m\n\u001b[0m\u001b[1;32m    932\u001b[0m                 \u001b[0;32myield\u001b[0m \u001b[0mobj\u001b[0m\u001b[0;34m\u001b[0m\u001b[0m\n\u001b[1;32m    933\u001b[0m                 \u001b[0;31m# Update and possibly print the progressbar.\u001b[0m\u001b[0;34m\u001b[0m\u001b[0;34m\u001b[0m\u001b[0m\n",
      "\u001b[0;32m~/anaconda3/lib/python3.6/multiprocessing/pool.py\u001b[0m in \u001b[0;36mnext\u001b[0;34m(self, timeout)\u001b[0m\n\u001b[1;32m    722\u001b[0m                 \u001b[0;32mif\u001b[0m \u001b[0mself\u001b[0m\u001b[0;34m.\u001b[0m\u001b[0m_index\u001b[0m \u001b[0;34m==\u001b[0m \u001b[0mself\u001b[0m\u001b[0;34m.\u001b[0m\u001b[0m_length\u001b[0m\u001b[0;34m:\u001b[0m\u001b[0;34m\u001b[0m\u001b[0m\n\u001b[1;32m    723\u001b[0m                     \u001b[0;32mraise\u001b[0m \u001b[0mStopIteration\u001b[0m\u001b[0;34m\u001b[0m\u001b[0m\n\u001b[0;32m--> 724\u001b[0;31m                 \u001b[0mself\u001b[0m\u001b[0;34m.\u001b[0m\u001b[0m_cond\u001b[0m\u001b[0;34m.\u001b[0m\u001b[0mwait\u001b[0m\u001b[0;34m(\u001b[0m\u001b[0mtimeout\u001b[0m\u001b[0;34m)\u001b[0m\u001b[0;34m\u001b[0m\u001b[0m\n\u001b[0m\u001b[1;32m    725\u001b[0m                 \u001b[0;32mtry\u001b[0m\u001b[0;34m:\u001b[0m\u001b[0;34m\u001b[0m\u001b[0m\n\u001b[1;32m    726\u001b[0m                     \u001b[0mitem\u001b[0m \u001b[0;34m=\u001b[0m \u001b[0mself\u001b[0m\u001b[0;34m.\u001b[0m\u001b[0m_items\u001b[0m\u001b[0;34m.\u001b[0m\u001b[0mpopleft\u001b[0m\u001b[0;34m(\u001b[0m\u001b[0;34m)\u001b[0m\u001b[0;34m\u001b[0m\u001b[0m\n",
      "\u001b[0;32m~/anaconda3/lib/python3.6/threading.py\u001b[0m in \u001b[0;36mwait\u001b[0;34m(self, timeout)\u001b[0m\n\u001b[1;32m    293\u001b[0m         \u001b[0;32mtry\u001b[0m\u001b[0;34m:\u001b[0m    \u001b[0;31m# restore state no matter what (e.g., KeyboardInterrupt)\u001b[0m\u001b[0;34m\u001b[0m\u001b[0m\n\u001b[1;32m    294\u001b[0m             \u001b[0;32mif\u001b[0m \u001b[0mtimeout\u001b[0m \u001b[0;32mis\u001b[0m \u001b[0;32mNone\u001b[0m\u001b[0;34m:\u001b[0m\u001b[0;34m\u001b[0m\u001b[0m\n\u001b[0;32m--> 295\u001b[0;31m                 \u001b[0mwaiter\u001b[0m\u001b[0;34m.\u001b[0m\u001b[0macquire\u001b[0m\u001b[0;34m(\u001b[0m\u001b[0;34m)\u001b[0m\u001b[0;34m\u001b[0m\u001b[0m\n\u001b[0m\u001b[1;32m    296\u001b[0m                 \u001b[0mgotit\u001b[0m \u001b[0;34m=\u001b[0m \u001b[0;32mTrue\u001b[0m\u001b[0;34m\u001b[0m\u001b[0m\n\u001b[1;32m    297\u001b[0m             \u001b[0;32melse\u001b[0m\u001b[0;34m:\u001b[0m\u001b[0;34m\u001b[0m\u001b[0m\n",
      "\u001b[0;31mKeyboardInterrupt\u001b[0m: "
     ]
    }
   ],
   "source": [
    "with Pool(8) as pool:\n",
    "    data_arr, est_arr = zip(*[result  for result in tqdm.tqdm_notebook(\n",
    "        pool.imap_unordered(get_data_and_results, results), total=len(results))])"
   ]
  },
  {
   "cell_type": "code",
   "execution_count": null,
   "metadata": {},
   "outputs": [],
   "source": [
    "vl.simulate_data(time_dim=time_dim, **true_params).head()"
   ]
  },
  {
   "cell_type": "code",
   "execution_count": null,
   "metadata": {},
   "outputs": [],
   "source": [
    "data_arr[1].head()"
   ]
  },
  {
   "cell_type": "code",
   "execution_count": null,
   "metadata": {},
   "outputs": [],
   "source": [
    "data_arr[0].head()"
   ]
  },
  {
   "cell_type": "code",
   "execution_count": null,
   "metadata": {},
   "outputs": [],
   "source": [
    "true_params['rho']"
   ]
  },
  {
   "cell_type": "code",
   "execution_count": null,
   "metadata": {},
   "outputs": [],
   "source": [
    "np.mean((data.vol - true_params['delta'] * true_params['scale']) * data.vol)"
   ]
  },
  {
   "cell_type": "code",
   "execution_count": null,
   "metadata": {},
   "outputs": [],
   "source": [
    "np.mean((data.vol[1:]**2 - true_params['delta'] * true_params['scale']**2 \n",
    "         - true_params['delta']**2 * true_params['scale']**2))"
   ]
  },
  {
   "cell_type": "code",
   "execution_count": null,
   "metadata": {},
   "outputs": [],
   "source": [
    "vl.vol_moments(data.vol, delta=true_params['delta'], rho=0, scale=true_params['scale']).mean()"
   ]
  },
  {
   "cell_type": "code",
   "execution_count": null,
   "metadata": {},
   "outputs": [],
   "source": [
    "def t_stats(x):\n",
    "    mean = x.mean()\n",
    "    cov = x.cov()\n",
    "    \n",
    "    inv_cov = nplin.pinv(cov)\n",
    "    \n",
    "    return mean   / (np.diag(inv_cov)**(-.5) / np.sqrt(data.vol.size))\n",
    "    \n",
    "    "
   ]
  },
  {
   "cell_type": "code",
   "execution_count": null,
   "metadata": {},
   "outputs": [],
   "source": [
    "t_stats(vl.vol_moments(data.vol, true_params['delta'], true_params['rho'], true_params['scale']))"
   ]
  },
  {
   "cell_type": "code",
   "execution_count": null,
   "metadata": {},
   "outputs": [],
   "source": [
    "data.vol.std()"
   ]
  },
  {
   "cell_type": "code",
   "execution_count": null,
   "metadata": {},
   "outputs": [],
   "source": [
    "data_arr[1] - data_arr[0]"
   ]
  },
  {
   "cell_type": "code",
   "execution_count": null,
   "metadata": {},
   "outputs": [],
   "source": [
    "data_arr[0].head()"
   ]
  },
  {
   "cell_type": "code",
   "execution_count": null,
   "metadata": {},
   "outputs": [],
   "source": [
    "[(data.vol.mean() - .1) / np.sqrt(data.vol.var() / data.vol.size) for data in data_arr]"
   ]
  },
  {
   "cell_type": "code",
   "execution_count": null,
   "metadata": {},
   "outputs": [],
   "source": [
    "fig1, ax1 =  mpl.pyplot.subplots()\n",
    "sns.distplot([(data.vol.mean() - .1) / np.sqrt(data.vol.var() / data.vol.size)\n",
    "              for data in data_arr], ax=ax1)\n",
    "ax1.plot(np.linspace(-5,5,100), stats.norm.pdf(np.linspace(-5,5,100)), color='black')\n"
   ]
  },
  {
   "cell_type": "code",
   "execution_count": null,
   "metadata": {},
   "outputs": [],
   "source": [
    "vol_moments = pd.DataFrame([t_stats(vl.vol_moments(data.vol, true_params['delta'], true_params['rho'],\n",
    "                                                   true_params['scale'])) for data in data_arr])"
   ]
  },
  {
   "cell_type": "code",
   "execution_count": null,
   "metadata": {},
   "outputs": [],
   "source": [
    "delta_fig, delta_ax = mpl.pyplot.subplots()\n",
    "sns.distplot(vol_moments.iloc[:,0], ax=delta_ax)\n",
    "delta_ax.plot(np.linspace(-5,5,100), stats.norm.pdf(np.linspace(-5,5,100)), color='black')\n",
    "delta_ax.set_xlabel('delta')"
   ]
  },
  {
   "cell_type": "code",
   "execution_count": null,
   "metadata": {},
   "outputs": [],
   "source": [
    "sns.distplot(vol_moments.iloc[:,0], fit=stats.norm)"
   ]
  },
  {
   "cell_type": "code",
   "execution_count": null,
   "metadata": {},
   "outputs": [],
   "source": []
  },
  {
   "cell_type": "code",
   "execution_count": null,
   "metadata": {},
   "outputs": [],
   "source": [
    "vol_moments[0]"
   ]
  },
  {
   "cell_type": "code",
   "execution_count": null,
   "metadata": {},
   "outputs": [],
   "source": [
    "delta_fig, delta_ax = mpl.pyplot.subplots()\n",
    "sns.distplot([(est['delta'] - true_params['delta']) / np.sqrt(cov.loc['delta','delta']) \n",
    "              for est, cov in est_arr], ax=delta_ax)\n",
    "delta_ax.plot(np.linspace(-5,5,100), stats.norm.pdf(np.linspace(-5,5,100)), color='black')\n",
    "delta_ax.set_xlabel('delta')"
   ]
  },
  {
   "cell_type": "code",
   "execution_count": null,
   "metadata": {},
   "outputs": [],
   "source": [
    "scale_fig, scale_ax = mpl.pyplot.subplots()\n",
    "sns.distplot([(est['scale'] - true_params['scale']) / np.sqrt(cov.loc['scale', 'scale']) \n",
    "              for est, cov in est_arr], ax=scale_ax)\n",
    "scale_ax.plot(np.linspace(-5,5,100), stats.norm.pdf(np.linspace(-5,5,100)), color='black')\n",
    "scale_ax.set_xlabel('scale')"
   ]
  },
  {
   "cell_type": "code",
   "execution_count": null,
   "metadata": {},
   "outputs": [],
   "source": [
    "rho_fig, rho_ax = mpl.pyplot.subplots()\n",
    "sns.distplot([(est['rho'] - true_params['rho']) / np.sqrt(cov.loc['rho', 'rho']) \n",
    "              for est, cov in est_arr], ax=rho_ax)\n",
    "rho_ax.plot(np.linspace(-5,5,100), stats.norm.pdf(np.linspace(-5,5,100)), color='black')\n",
    "rho_ax.set_xlabel('rho')"
   ]
  },
  {
   "cell_type": "code",
   "execution_count": null,
   "metadata": {},
   "outputs": [],
   "source": [
    "vol_tables = [vl.create_est_table(estimates=est, truth=total_true_params, cov=cov)\n",
    "                 for est,cov in vol_est_arr]"
   ]
  },
  {
   "cell_type": "code",
   "execution_count": null,
   "metadata": {},
   "outputs": [],
   "source": [
    "pd.DataFrame([frame.truth - frame.estimate for frame in vol_tables]).mean(axis=0)"
   ]
  },
  {
   "cell_type": "code",
   "execution_count": null,
   "metadata": {},
   "outputs": [],
   "source": [
    "stage2_estimates, stage2_cov = vl.estimate_params(data)\n"
   ]
  },
  {
   "cell_type": "code",
   "execution_count": null,
   "metadata": {},
   "outputs": [],
   "source": [
    "vl.create_est_table(estimates=stage2_estimates, truth=total_true_params, cov=stage2_cov)"
   ]
  },
  {
   "cell_type": "code",
   "execution_count": null,
   "metadata": {},
   "outputs": [],
   "source": [
    "vl.cov_to_corr(stage2_cov)"
   ]
  },
  {
   "cell_type": "code",
   "execution_count": null,
   "metadata": {},
   "outputs": [],
   "source": []
  }
 ],
 "metadata": {
  "kernelspec": {
   "display_name": "Python 3",
   "language": "python",
   "name": "python3"
  },
  "language_info": {
   "codemirror_mode": {
    "name": "ipython",
    "version": 3
   },
   "file_extension": ".py",
   "mimetype": "text/x-python",
   "name": "python",
   "nbconvert_exporter": "python",
   "pygments_lexer": "ipython3",
   "version": "3.6.6"
  }
 },
 "nbformat": 4,
 "nbformat_minor": 2
}
