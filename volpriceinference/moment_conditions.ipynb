{
 "cells": [
  {
   "cell_type": "code",
   "execution_count": 1,
   "metadata": {},
   "outputs": [],
   "source": [
    "import numpy as np\n",
    "import pandas as pd\n",
    "from numpy import linalg as nplin\n",
    "import volpriceinference as vl\n",
    "import matplotlib as mpl\n",
    "import seaborn as sns\n",
    "import logging\n",
    "import tqdm\n",
    "from multiprocessing import Pool"
   ]
  },
  {
   "cell_type": "code",
   "execution_count": 83,
   "metadata": {},
   "outputs": [],
   "source": [
    "%matplotlib inline\n",
    "mpl.style.use('seaborn-talk')\n",
    "np.set_printoptions(precision=3)"
   ]
  },
  {
   "cell_type": "code",
   "execution_count": 3,
   "metadata": {},
   "outputs": [],
   "source": [
    "logging.basicConfig(filename='convergence.tmp.log', level=logging.INFO)\n",
    "logging.captureWarnings(True)"
   ]
  },
  {
   "cell_type": "markdown",
   "metadata": {},
   "source": [
    "## Setup the True Parameters /  Simulation Parameters"
   ]
  },
  {
   "cell_type": "markdown",
   "metadata": {},
   "source": [
    "## Setup the linking functions."
   ]
  },
  {
   "cell_type": "code",
   "execution_count": 4,
   "metadata": {},
   "outputs": [
    {
     "ename": "NameError",
     "evalue": "name 'true_params' is not defined",
     "output_type": "error",
     "traceback": [
      "\u001b[0;31m---------------------------------------------------------------------------\u001b[0m",
      "\u001b[0;31mNameError\u001b[0m                                 Traceback (most recent call last)",
      "\u001b[0;32m<ipython-input-4-d3a637b25945>\u001b[0m in \u001b[0;36m<module>\u001b[0;34m()\u001b[0m\n\u001b[0;32m----> 1\u001b[0;31m \u001b[0mtotal_true_params\u001b[0m \u001b[0;34m=\u001b[0m \u001b[0mtrue_params\u001b[0m\u001b[0;34m.\u001b[0m\u001b[0mcopy\u001b[0m\u001b[0;34m(\u001b[0m\u001b[0;34m)\u001b[0m\u001b[0;34m\u001b[0m\u001b[0m\n\u001b[0m\u001b[1;32m      2\u001b[0m total_true_params.update(\n\u001b[1;32m      3\u001b[0m     {'gamma': vl.gamma(rho=true_params['rho'], scale=true_params['scale'], delta=true_params['delta'], \n\u001b[1;32m      4\u001b[0m                        phi=true_params['phi'], pi=true_params['vol_price'], theta=true_params['equity_price']),\n\u001b[1;32m      5\u001b[0m      'beta':vl.beta(rho=true_params['rho'], scale=true_params['scale'], phi=true_params['phi'], \n",
      "\u001b[0;31mNameError\u001b[0m: name 'true_params' is not defined"
     ]
    }
   ],
   "source": [
    "total_true_params = true_params.copy()\n",
    "total_true_params.update(\n",
    "    {'gamma': vl.gamma(rho=true_params['rho'], scale=true_params['scale'], delta=true_params['delta'], \n",
    "                       phi=true_params['phi'], pi=true_params['vol_price'], theta=true_params['equity_price']),\n",
    "     'beta':vl.beta(rho=true_params['rho'], scale=true_params['scale'], phi=true_params['phi'], \n",
    "                    pi=true_params['vol_price'], theta=true_params['equity_price']),\n",
    "     'psi':vl.psi(true_params['rho'], true_params['scale'], true_params['phi'], \n",
    "                  theta=true_params['equity_price']), \n",
    "     'phi_squared': true_params['phi']**2})"
   ]
  },
  {
   "cell_type": "markdown",
   "metadata": {},
   "source": [
    "## We start by examining the distributions of simulated data"
   ]
  },
  {
   "cell_type": "code",
   "execution_count": null,
   "metadata": {},
   "outputs": [],
   "source": [
    "data = vl.simulate_data(time_dim=time_dim, **true_params)"
   ]
  },
  {
   "cell_type": "code",
   "execution_count": null,
   "metadata": {},
   "outputs": [],
   "source": [
    "fig1, ax1 = mpl.pyplot.subplots()\n",
    "ax1.plot(data.rtn, label='Return')\n",
    "ax1.plot(data.vol, label='Volatility')\n",
    "ax1.legend()\n"
   ]
  },
  {
   "cell_type": "code",
   "execution_count": null,
   "metadata": {},
   "outputs": [],
   "source": [
    "sns.jointplot(x='vol', y='rtn', data=data, kind='reg')"
   ]
  },
  {
   "cell_type": "code",
   "execution_count": null,
   "metadata": {},
   "outputs": [],
   "source": [
    "data.describe()"
   ]
  },
  {
   "cell_type": "markdown",
   "metadata": {},
   "source": [
    "## I now estimate all of the parameters"
   ]
  },
  {
   "cell_type": "code",
   "execution_count": 5,
   "metadata": {},
   "outputs": [],
   "source": [
    "true_params = {'equity_price': 0.50, \n",
    "               'vol_price': -7,\n",
    "               'phi':-.17,\n",
    "               'scale': .1,\n",
    "               'delta': 1,\n",
    "               'rho': 0,\n",
    "              }\n",
    "time_dim = 10000\n",
    "sim_dim = 200"
   ]
  },
  {
   "cell_type": "code",
   "execution_count": 6,
   "metadata": {},
   "outputs": [],
   "source": [
    "results = np.arange(sim_dim)"
   ]
  },
  {
   "cell_type": "code",
   "execution_count": 7,
   "metadata": {},
   "outputs": [],
   "source": [
    "data = vl.simulate_data(time_dim=time_dim, **true_params)\n"
   ]
  },
  {
   "cell_type": "code",
   "execution_count": 8,
   "metadata": {},
   "outputs": [],
   "source": [
    "vol_data = vl.simulate_autoregressive_gamma(delta=1, rho=0, scale=1,time_dim=time_dim)\n"
   ]
  },
  {
   "cell_type": "code",
   "execution_count": 9,
   "metadata": {},
   "outputs": [],
   "source": [
    "def get_data_and_results(x):\n",
    "    data = vl.simulate_data(time_dim=time_dim, **true_params)\n",
    "    init_constants = vl.compute_init_constants(data.vol)\n",
    "    vol_est = vl.compute_vol_gmm(data.vol, init_constants=init_constants)\n",
    "    return data, vol_est"
   ]
  },
  {
   "cell_type": "code",
   "execution_count": 10,
   "metadata": {},
   "outputs": [
    {
     "data": {
      "application/vnd.jupyter.widget-view+json": {
       "model_id": "a04cfe043b0b491aabda77d3a32af1b5",
       "version_major": 2,
       "version_minor": 0
      },
      "text/plain": [
       "HBox(children=(IntProgress(value=0, max=200), HTML(value='')))"
      ]
     },
     "metadata": {},
     "output_type": "display_data"
    },
    {
     "name": "stdout",
     "output_type": "stream",
     "text": [
      "\n"
     ]
    }
   ],
   "source": [
    "# with Pool(8) as pool:\n",
    "data_arr, est_arr = zip(*[result  for result in tqdm.tqdm_notebook(\n",
    "    map(get_data_and_results, results), total=len(results))])"
   ]
  },
  {
   "cell_type": "code",
   "execution_count": 11,
   "metadata": {},
   "outputs": [],
   "source": [
    "def t_stats(x):\n",
    "    mean = x.mean()\n",
    "    cov = x.cov()\n",
    "        \n",
    "    return mean   / np.sqrt(np.diag(cov) / data.vol.size)"
   ]
  },
  {
   "cell_type": "code",
   "execution_count": 12,
   "metadata": {},
   "outputs": [
    {
     "data": {
      "application/vnd.jupyter.widget-view+json": {
       "model_id": "fffbbe1b38ee419781cd1ecd8420e3be",
       "version_major": 2,
       "version_minor": 0
      },
      "text/plain": [
       "HBox(children=(IntProgress(value=0, max=200), HTML(value='')))"
      ]
     },
     "metadata": {},
     "output_type": "display_data"
    },
    {
     "name": "stdout",
     "output_type": "stream",
     "text": [
      "\n"
     ]
    }
   ],
   "source": [
    "moment_data = pd.DataFrame([t_stats(vl.vol_moments(data.vol, delta=true_params['delta'], rho=true_params['rho'], \n",
    "                scale=true_params['scale'])) for data in tqdm.tqdm_notebook(data_arr)])"
   ]
  },
  {
   "cell_type": "code",
   "execution_count": 13,
   "metadata": {},
   "outputs": [
    {
     "data": {
      "text/html": [
       "<div>\n",
       "<style scoped>\n",
       "    .dataframe tbody tr th:only-of-type {\n",
       "        vertical-align: middle;\n",
       "    }\n",
       "\n",
       "    .dataframe tbody tr th {\n",
       "        vertical-align: top;\n",
       "    }\n",
       "\n",
       "    .dataframe thead th {\n",
       "        text-align: right;\n",
       "    }\n",
       "</style>\n",
       "<table border=\"1\" class=\"dataframe\">\n",
       "  <thead>\n",
       "    <tr style=\"text-align: right;\">\n",
       "      <th></th>\n",
       "      <th>delta</th>\n",
       "      <th>rho</th>\n",
       "      <th>scale</th>\n",
       "    </tr>\n",
       "  </thead>\n",
       "  <tbody>\n",
       "    <tr>\n",
       "      <th>delta</th>\n",
       "      <td>0.000122</td>\n",
       "      <td>0.000101</td>\n",
       "      <td>0.001020</td>\n",
       "    </tr>\n",
       "    <tr>\n",
       "      <th>rho</th>\n",
       "      <td>0.000101</td>\n",
       "      <td>0.000206</td>\n",
       "      <td>0.001028</td>\n",
       "    </tr>\n",
       "    <tr>\n",
       "      <th>scale</th>\n",
       "      <td>0.001020</td>\n",
       "      <td>0.001028</td>\n",
       "      <td>0.010632</td>\n",
       "    </tr>\n",
       "  </tbody>\n",
       "</table>\n",
       "</div>"
      ],
      "text/plain": [
       "          delta       rho     scale\n",
       "delta  0.000122  0.000101  0.001020\n",
       "rho    0.000101  0.000206  0.001028\n",
       "scale  0.001020  0.001028  0.010632"
      ]
     },
     "execution_count": 13,
     "metadata": {},
     "output_type": "execute_result"
    }
   ],
   "source": [
    "est_arr[0][1]"
   ]
  },
  {
   "cell_type": "code",
   "execution_count": null,
   "metadata": {},
   "outputs": [],
   "source": []
  },
  {
   "cell_type": "code",
   "execution_count": 15,
   "metadata": {},
   "outputs": [],
   "source": [
    "from scipy import linalg as scilin"
   ]
  },
  {
   "cell_type": "code",
   "execution_count": 16,
   "metadata": {},
   "outputs": [
    {
     "data": {
      "text/html": [
       "<div>\n",
       "<style scoped>\n",
       "    .dataframe tbody tr th:only-of-type {\n",
       "        vertical-align: middle;\n",
       "    }\n",
       "\n",
       "    .dataframe tbody tr th {\n",
       "        vertical-align: top;\n",
       "    }\n",
       "\n",
       "    .dataframe thead th {\n",
       "        text-align: right;\n",
       "    }\n",
       "</style>\n",
       "<table border=\"1\" class=\"dataframe\">\n",
       "  <thead>\n",
       "    <tr style=\"text-align: right;\">\n",
       "      <th></th>\n",
       "      <th>delta</th>\n",
       "      <th>rho</th>\n",
       "      <th>scale</th>\n",
       "    </tr>\n",
       "  </thead>\n",
       "  <tbody>\n",
       "    <tr>\n",
       "      <th>delta</th>\n",
       "      <td>0.000122</td>\n",
       "      <td>0.000101</td>\n",
       "      <td>0.001020</td>\n",
       "    </tr>\n",
       "    <tr>\n",
       "      <th>rho</th>\n",
       "      <td>0.000101</td>\n",
       "      <td>0.000206</td>\n",
       "      <td>0.001028</td>\n",
       "    </tr>\n",
       "    <tr>\n",
       "      <th>scale</th>\n",
       "      <td>0.001020</td>\n",
       "      <td>0.001028</td>\n",
       "      <td>0.010632</td>\n",
       "    </tr>\n",
       "  </tbody>\n",
       "</table>\n",
       "</div>"
      ],
      "text/plain": [
       "          delta       rho     scale\n",
       "delta  0.000122  0.000101  0.001020\n",
       "rho    0.000101  0.000206  0.001028\n",
       "scale  0.001020  0.001028  0.010632"
      ]
     },
     "execution_count": 16,
     "metadata": {},
     "output_type": "execute_result"
    }
   ],
   "source": [
    "est_arr[0][1]"
   ]
  },
  {
   "cell_type": "code",
   "execution_count": 36,
   "metadata": {},
   "outputs": [],
   "source": [
    "G = vl.vol_moments_grad(data_arr[40].vol, delta=true_params['delta'], rho=true_params['rho'], \n",
    "                scale=true_params['scale'])"
   ]
  },
  {
   "cell_type": "code",
   "execution_count": 94,
   "metadata": {},
   "outputs": [
    {
     "data": {
      "text/html": [
       "<div>\n",
       "<style scoped>\n",
       "    .dataframe tbody tr th:only-of-type {\n",
       "        vertical-align: middle;\n",
       "    }\n",
       "\n",
       "    .dataframe tbody tr th {\n",
       "        vertical-align: top;\n",
       "    }\n",
       "\n",
       "    .dataframe thead th {\n",
       "        text-align: right;\n",
       "    }\n",
       "</style>\n",
       "<table border=\"1\" class=\"dataframe\">\n",
       "  <thead>\n",
       "    <tr style=\"text-align: right;\">\n",
       "      <th></th>\n",
       "      <th>delta</th>\n",
       "      <th>rho</th>\n",
       "      <th>scale</th>\n",
       "    </tr>\n",
       "  </thead>\n",
       "  <tbody>\n",
       "    <tr>\n",
       "      <th>delta</th>\n",
       "      <td>0.011013</td>\n",
       "      <td>0.011619</td>\n",
       "      <td>0.113161</td>\n",
       "    </tr>\n",
       "    <tr>\n",
       "      <th>rho</th>\n",
       "      <td>0.011619</td>\n",
       "      <td>0.012490</td>\n",
       "      <td>0.120346</td>\n",
       "    </tr>\n",
       "    <tr>\n",
       "      <th>scale</th>\n",
       "      <td>0.113161</td>\n",
       "      <td>0.120346</td>\n",
       "      <td>1.172044</td>\n",
       "    </tr>\n",
       "  </tbody>\n",
       "</table>\n",
       "</div>"
      ],
      "text/plain": [
       "          delta       rho     scale\n",
       "delta  0.011013  0.011619  0.113161\n",
       "rho    0.011619  0.012490  0.120346\n",
       "scale  0.113161  0.120346  1.172044"
      ]
     },
     "execution_count": 94,
     "metadata": {},
     "output_type": "execute_result"
    }
   ],
   "source": [
    "G.T @ G"
   ]
  },
  {
   "cell_type": "code",
   "execution_count": 93,
   "metadata": {},
   "outputs": [
    {
     "data": {
      "text/html": [
       "<div>\n",
       "<style scoped>\n",
       "    .dataframe tbody tr th:only-of-type {\n",
       "        vertical-align: middle;\n",
       "    }\n",
       "\n",
       "    .dataframe tbody tr th {\n",
       "        vertical-align: top;\n",
       "    }\n",
       "\n",
       "    .dataframe thead th {\n",
       "        text-align: right;\n",
       "    }\n",
       "</style>\n",
       "<table border=\"1\" class=\"dataframe\">\n",
       "  <thead>\n",
       "    <tr style=\"text-align: right;\">\n",
       "      <th></th>\n",
       "      <th>delta</th>\n",
       "      <th>rho</th>\n",
       "      <th>scale</th>\n",
       "    </tr>\n",
       "  </thead>\n",
       "  <tbody>\n",
       "    <tr>\n",
       "      <th>delta</th>\n",
       "      <td>0.000138</td>\n",
       "      <td>0.000147</td>\n",
       "      <td>0.001432</td>\n",
       "    </tr>\n",
       "    <tr>\n",
       "      <th>rho</th>\n",
       "      <td>0.000147</td>\n",
       "      <td>0.000157</td>\n",
       "      <td>0.001528</td>\n",
       "    </tr>\n",
       "    <tr>\n",
       "      <th>scale</th>\n",
       "      <td>0.001432</td>\n",
       "      <td>0.001528</td>\n",
       "      <td>0.014879</td>\n",
       "    </tr>\n",
       "  </tbody>\n",
       "</table>\n",
       "</div>"
      ],
      "text/plain": [
       "          delta       rho     scale\n",
       "delta  0.000138  0.000147  0.001432\n",
       "rho    0.000147  0.000157  0.001528\n",
       "scale  0.001432  0.001528  0.014879"
      ]
     },
     "execution_count": 93,
     "metadata": {},
     "output_type": "execute_result"
    }
   ],
   "source": [
    "G.T @ thing.cov() @ G"
   ]
  },
  {
   "cell_type": "code",
   "execution_count": 50,
   "metadata": {},
   "outputs": [],
   "source": [
    "mean = data_arr[40].vol.mean()"
   ]
  },
  {
   "cell_type": "code",
   "execution_count": 53,
   "metadata": {
    "collapsed": true
   },
   "outputs": [
    {
     "data": {
      "text/plain": [
       "2000-01-01    0.059948\n",
       "2000-01-02    0.076651\n",
       "2000-01-03    0.070169\n",
       "2000-01-04    0.363460\n",
       "2000-01-05    0.079381\n",
       "2000-01-06    0.095994\n",
       "2000-01-07    0.070769\n",
       "2000-01-08    0.019691\n",
       "2000-01-09    0.086584\n",
       "2000-01-10    0.047018\n",
       "2000-01-11    0.144535\n",
       "2000-01-12    0.035183\n",
       "2000-01-13    0.150649\n",
       "2000-01-14    0.075087\n",
       "2000-01-15    0.031039\n",
       "2000-01-16    0.016946\n",
       "2000-01-17    0.075618\n",
       "2000-01-18    0.014752\n",
       "2000-01-19    0.146969\n",
       "2000-01-20    0.027518\n",
       "2000-01-21    0.013961\n",
       "2000-01-22    0.113601\n",
       "2000-01-23    0.086447\n",
       "2000-01-24    0.144424\n",
       "2000-01-25    0.011112\n",
       "2000-01-26    0.010471\n",
       "2000-01-27    0.019567\n",
       "2000-01-28    0.173040\n",
       "2000-01-29    0.021515\n",
       "2000-01-30    0.034526\n",
       "                ...   \n",
       "2027-04-19    0.161265\n",
       "2027-04-20    0.027642\n",
       "2027-04-21    0.130014\n",
       "2027-04-22    0.114610\n",
       "2027-04-23    0.046414\n",
       "2027-04-24    0.043016\n",
       "2027-04-25    0.004082\n",
       "2027-04-26    0.105323\n",
       "2027-04-27    0.187715\n",
       "2027-04-28    0.078656\n",
       "2027-04-29    0.023509\n",
       "2027-04-30    0.059556\n",
       "2027-05-01    0.253132\n",
       "2027-05-02    0.039762\n",
       "2027-05-03    0.036928\n",
       "2027-05-04    0.033319\n",
       "2027-05-05    0.279852\n",
       "2027-05-06    0.148738\n",
       "2027-05-07    0.003718\n",
       "2027-05-08    0.153794\n",
       "2027-05-09    0.307532\n",
       "2027-05-10    0.000475\n",
       "2027-05-11    0.225727\n",
       "2027-05-12    0.077812\n",
       "2027-05-13    0.038904\n",
       "2027-05-14    0.011863\n",
       "2027-05-15    0.066526\n",
       "2027-05-16    0.532380\n",
       "2027-05-17    0.026432\n",
       "2027-05-18    0.038449\n",
       "Freq: D, Name: vol, Length: 10000, dtype: float64"
      ]
     },
     "execution_count": 53,
     "metadata": {},
     "output_type": "execute_result"
    }
   ],
   "source": [
    "data_arr[40].vol"
   ]
  },
  {
   "cell_type": "code",
   "execution_count": 66,
   "metadata": {},
   "outputs": [],
   "source": [
    "thing = vl.vol_moments(data_arr[40].vol, delta=true_params['delta'], rho=true_params['rho'], \n",
    "                       scale=true_params['scale'])"
   ]
  },
  {
   "cell_type": "code",
   "execution_count": 67,
   "metadata": {},
   "outputs": [
    {
     "data": {
      "text/html": [
       "<div>\n",
       "<style scoped>\n",
       "    .dataframe tbody tr th:only-of-type {\n",
       "        vertical-align: middle;\n",
       "    }\n",
       "\n",
       "    .dataframe tbody tr th {\n",
       "        vertical-align: top;\n",
       "    }\n",
       "\n",
       "    .dataframe thead th {\n",
       "        text-align: right;\n",
       "    }\n",
       "</style>\n",
       "<table border=\"1\" class=\"dataframe\">\n",
       "  <thead>\n",
       "    <tr style=\"text-align: right;\">\n",
       "      <th></th>\n",
       "      <th>delta</th>\n",
       "      <th>rho</th>\n",
       "      <th>scale</th>\n",
       "    </tr>\n",
       "  </thead>\n",
       "  <tbody>\n",
       "    <tr>\n",
       "      <th>0</th>\n",
       "      <td>-0.100000</td>\n",
       "      <td>-0.101601</td>\n",
       "      <td>-1.000000</td>\n",
       "    </tr>\n",
       "    <tr>\n",
       "      <th>1</th>\n",
       "      <td>-0.010160</td>\n",
       "      <td>-0.020931</td>\n",
       "      <td>-0.101601</td>\n",
       "    </tr>\n",
       "    <tr>\n",
       "      <th>2</th>\n",
       "      <td>-0.030000</td>\n",
       "      <td>-0.040640</td>\n",
       "      <td>-0.400000</td>\n",
       "    </tr>\n",
       "    <tr>\n",
       "      <th>3</th>\n",
       "      <td>-0.003048</td>\n",
       "      <td>-0.008372</td>\n",
       "      <td>-0.040640</td>\n",
       "    </tr>\n",
       "    <tr>\n",
       "      <th>4</th>\n",
       "      <td>-0.000628</td>\n",
       "      <td>-0.002642</td>\n",
       "      <td>-0.008372</td>\n",
       "    </tr>\n",
       "  </tbody>\n",
       "</table>\n",
       "</div>"
      ],
      "text/plain": [
       "      delta       rho     scale\n",
       "0 -0.100000 -0.101601 -1.000000\n",
       "1 -0.010160 -0.020931 -0.101601\n",
       "2 -0.030000 -0.040640 -0.400000\n",
       "3 -0.003048 -0.008372 -0.040640\n",
       "4 -0.000628 -0.002642 -0.008372"
      ]
     },
     "execution_count": 67,
     "metadata": {},
     "output_type": "execute_result"
    }
   ],
   "source": [
    "G"
   ]
  },
  {
   "cell_type": "code",
   "execution_count": 97,
   "metadata": {},
   "outputs": [
    {
     "data": {
      "text/html": [
       "<div>\n",
       "<style scoped>\n",
       "    .dataframe tbody tr th:only-of-type {\n",
       "        vertical-align: middle;\n",
       "    }\n",
       "\n",
       "    .dataframe tbody tr th {\n",
       "        vertical-align: top;\n",
       "    }\n",
       "\n",
       "    .dataframe thead th {\n",
       "        text-align: right;\n",
       "    }\n",
       "</style>\n",
       "<table border=\"1\" class=\"dataframe\">\n",
       "  <thead>\n",
       "    <tr style=\"text-align: right;\">\n",
       "      <th></th>\n",
       "      <th>delta</th>\n",
       "      <th>rho</th>\n",
       "      <th>scale</th>\n",
       "    </tr>\n",
       "  </thead>\n",
       "  <tbody>\n",
       "    <tr>\n",
       "      <th>delta</th>\n",
       "      <td>11477.292442</td>\n",
       "      <td>27.888497</td>\n",
       "      <td>-1111.001184</td>\n",
       "    </tr>\n",
       "    <tr>\n",
       "      <th>rho</th>\n",
       "      <td>27.888497</td>\n",
       "      <td>7554.388223</td>\n",
       "      <td>-778.380759</td>\n",
       "    </tr>\n",
       "    <tr>\n",
       "      <th>scale</th>\n",
       "      <td>-1111.001184</td>\n",
       "      <td>-778.380759</td>\n",
       "      <td>188.045358</td>\n",
       "    </tr>\n",
       "  </tbody>\n",
       "</table>\n",
       "</div>"
      ],
      "text/plain": [
       "              delta          rho        scale\n",
       "delta  11477.292442    27.888497 -1111.001184\n",
       "rho       27.888497  7554.388223  -778.380759\n",
       "scale  -1111.001184  -778.380759   188.045358"
      ]
     },
     "execution_count": 97,
     "metadata": {},
     "output_type": "execute_result"
    }
   ],
   "source": []
  },
  {
   "cell_type": "code",
   "execution_count": 98,
   "metadata": {},
   "outputs": [],
   "source": [
    "GprimeG = pd.DataFrame(scilin.inv(G.T @ G), index=G.columns, columns=G.columns)"
   ]
  },
  {
   "cell_type": "code",
   "execution_count": 99,
   "metadata": {},
   "outputs": [
    {
     "data": {
      "text/html": [
       "<div>\n",
       "<style scoped>\n",
       "    .dataframe tbody tr th:only-of-type {\n",
       "        vertical-align: middle;\n",
       "    }\n",
       "\n",
       "    .dataframe tbody tr th {\n",
       "        vertical-align: top;\n",
       "    }\n",
       "\n",
       "    .dataframe thead th {\n",
       "        text-align: right;\n",
       "    }\n",
       "</style>\n",
       "<table border=\"1\" class=\"dataframe\">\n",
       "  <thead>\n",
       "    <tr style=\"text-align: right;\">\n",
       "      <th></th>\n",
       "      <th>delta</th>\n",
       "      <th>rho</th>\n",
       "      <th>scale</th>\n",
       "    </tr>\n",
       "  </thead>\n",
       "  <tbody>\n",
       "    <tr>\n",
       "      <th>delta</th>\n",
       "      <td>11477.292442</td>\n",
       "      <td>27.888497</td>\n",
       "      <td>-1111.001184</td>\n",
       "    </tr>\n",
       "    <tr>\n",
       "      <th>rho</th>\n",
       "      <td>27.888497</td>\n",
       "      <td>7554.388223</td>\n",
       "      <td>-778.380759</td>\n",
       "    </tr>\n",
       "    <tr>\n",
       "      <th>scale</th>\n",
       "      <td>-1111.001184</td>\n",
       "      <td>-778.380759</td>\n",
       "      <td>188.045358</td>\n",
       "    </tr>\n",
       "  </tbody>\n",
       "</table>\n",
       "</div>"
      ],
      "text/plain": [
       "              delta          rho        scale\n",
       "delta  11477.292442    27.888497 -1111.001184\n",
       "rho       27.888497  7554.388223  -778.380759\n",
       "scale  -1111.001184  -778.380759   188.045358"
      ]
     },
     "execution_count": 99,
     "metadata": {},
     "output_type": "execute_result"
    }
   ],
   "source": [
    "GprimeG"
   ]
  },
  {
   "cell_type": "code",
   "execution_count": 69,
   "metadata": {},
   "outputs": [
    {
     "data": {
      "text/html": [
       "<div>\n",
       "<style scoped>\n",
       "    .dataframe tbody tr th:only-of-type {\n",
       "        vertical-align: middle;\n",
       "    }\n",
       "\n",
       "    .dataframe tbody tr th {\n",
       "        vertical-align: top;\n",
       "    }\n",
       "\n",
       "    .dataframe thead th {\n",
       "        text-align: right;\n",
       "    }\n",
       "</style>\n",
       "<table border=\"1\" class=\"dataframe\">\n",
       "  <thead>\n",
       "    <tr style=\"text-align: right;\">\n",
       "      <th></th>\n",
       "      <th>0</th>\n",
       "      <th>1</th>\n",
       "      <th>2</th>\n",
       "      <th>3</th>\n",
       "      <th>4</th>\n",
       "    </tr>\n",
       "  </thead>\n",
       "  <tbody>\n",
       "    <tr>\n",
       "      <th>0</th>\n",
       "      <td>957.761340</td>\n",
       "      <td>-5026.146665</td>\n",
       "      <td>-1804.926182</td>\n",
       "      <td>9252.863789</td>\n",
       "      <td>1841.997827</td>\n",
       "    </tr>\n",
       "    <tr>\n",
       "      <th>1</th>\n",
       "      <td>-5026.146665</td>\n",
       "      <td>50166.372575</td>\n",
       "      <td>9428.331701</td>\n",
       "      <td>-90076.049753</td>\n",
       "      <td>-25972.269375</td>\n",
       "    </tr>\n",
       "    <tr>\n",
       "      <th>2</th>\n",
       "      <td>-1804.926182</td>\n",
       "      <td>9428.331701</td>\n",
       "      <td>4715.098091</td>\n",
       "      <td>-29988.499957</td>\n",
       "      <td>15639.549822</td>\n",
       "    </tr>\n",
       "    <tr>\n",
       "      <th>3</th>\n",
       "      <td>9252.863789</td>\n",
       "      <td>-90076.049753</td>\n",
       "      <td>-29988.499957</td>\n",
       "      <td>355523.231288</td>\n",
       "      <td>-304448.328241</td>\n",
       "    </tr>\n",
       "    <tr>\n",
       "      <th>4</th>\n",
       "      <td>1841.997827</td>\n",
       "      <td>-25972.269375</td>\n",
       "      <td>15639.549822</td>\n",
       "      <td>-304448.328241</td>\n",
       "      <td>849884.249474</td>\n",
       "    </tr>\n",
       "  </tbody>\n",
       "</table>\n",
       "</div>"
      ],
      "text/plain": [
       "             0             1             2              3              4\n",
       "0   957.761340  -5026.146665  -1804.926182    9252.863789    1841.997827\n",
       "1 -5026.146665  50166.372575   9428.331701  -90076.049753  -25972.269375\n",
       "2 -1804.926182   9428.331701   4715.098091  -29988.499957   15639.549822\n",
       "3  9252.863789 -90076.049753 -29988.499957  355523.231288 -304448.328241\n",
       "4  1841.997827 -25972.269375  15639.549822 -304448.328241  849884.249474"
      ]
     },
     "execution_count": 69,
     "metadata": {},
     "output_type": "execute_result"
    }
   ],
   "source": [
    "pd.DataFrame(scilin.inv(thing.cov()))"
   ]
  },
  {
   "cell_type": "code",
   "execution_count": 103,
   "metadata": {},
   "outputs": [
    {
     "data": {
      "text/plain": [
       "array([[ 4.993,  0.03 , -0.525],\n",
       "       [ 0.03 ,  0.953, -0.1  ],\n",
       "       [-0.525, -0.1  ,  0.076]])"
      ]
     },
     "execution_count": 103,
     "metadata": {},
     "output_type": "execute_result"
    }
   ],
   "source": [
    "np.linalg.inv(G.T @ np.linalg.inv(thing.cov()) @ G)"
   ]
  },
  {
   "cell_type": "code",
   "execution_count": 101,
   "metadata": {},
   "outputs": [
    {
     "data": {
      "text/html": [
       "<div>\n",
       "<style scoped>\n",
       "    .dataframe tbody tr th:only-of-type {\n",
       "        vertical-align: middle;\n",
       "    }\n",
       "\n",
       "    .dataframe tbody tr th {\n",
       "        vertical-align: top;\n",
       "    }\n",
       "\n",
       "    .dataframe thead th {\n",
       "        text-align: right;\n",
       "    }\n",
       "</style>\n",
       "<table border=\"1\" class=\"dataframe\">\n",
       "  <thead>\n",
       "    <tr style=\"text-align: right;\">\n",
       "      <th></th>\n",
       "      <th>delta</th>\n",
       "      <th>rho</th>\n",
       "      <th>scale</th>\n",
       "    </tr>\n",
       "  </thead>\n",
       "  <tbody>\n",
       "    <tr>\n",
       "      <th>delta</th>\n",
       "      <td>5.014920</td>\n",
       "      <td>0.042765</td>\n",
       "      <td>-0.529402</td>\n",
       "    </tr>\n",
       "    <tr>\n",
       "      <th>rho</th>\n",
       "      <td>0.042765</td>\n",
       "      <td>0.965328</td>\n",
       "      <td>-0.102876</td>\n",
       "    </tr>\n",
       "    <tr>\n",
       "      <th>scale</th>\n",
       "      <td>-0.529402</td>\n",
       "      <td>-0.102876</td>\n",
       "      <td>0.076412</td>\n",
       "    </tr>\n",
       "  </tbody>\n",
       "</table>\n",
       "</div>"
      ],
      "text/plain": [
       "          delta       rho     scale\n",
       "delta  5.014920  0.042765 -0.529402\n",
       "rho    0.042765  0.965328 -0.102876\n",
       "scale -0.529402 -0.102876  0.076412"
      ]
     },
     "execution_count": 101,
     "metadata": {},
     "output_type": "execute_result"
    }
   ],
   "source": [
    "GprimeG @ G.T @ thing.cov() @ G @ GprimeG"
   ]
  },
  {
   "cell_type": "code",
   "execution_count": null,
   "metadata": {},
   "outputs": [],
   "source": [
    "moment_data.mean()"
   ]
  },
  {
   "cell_type": "code",
   "execution_count": null,
   "metadata": {},
   "outputs": [],
   "source": [
    "moment_fig, moment_ax = mpl.pyplot.subplots()\n",
    "sns.distplot(moment_data.iloc[:,0], ax=moment_ax)\n",
    "moment_ax.plot(np.linspace(-5,5,100), stats.norm.pdf(np.linspace(-5,5,100)), color='black')"
   ]
  },
  {
   "cell_type": "code",
   "execution_count": null,
   "metadata": {},
   "outputs": [],
   "source": [
    "vl.vol_moments_grad(data_arr[0].vol, true_params['delta'], true_params['rho'], true_params['scale'])"
   ]
  },
  {
   "cell_type": "code",
   "execution_count": null,
   "metadata": {},
   "outputs": [],
   "source": [
    "delta_fig, delta_ax = mpl.pyplot.subplots()\n",
    "sns.distplot([(est['delta'] - true_params['delta']) / np.sqrt(cov.loc['delta','delta']) \n",
    "              for est, cov in est_arr], ax=delta_ax)\n",
    "delta_ax.plot(np.linspace(-5,5,100), stats.norm.pdf(np.linspace(-5,5,100)), color='black')\n",
    "delta_ax.set_xlabel('delta')"
   ]
  },
  {
   "cell_type": "code",
   "execution_count": null,
   "metadata": {},
   "outputs": [],
   "source": [
    "scale_fig, scale_ax = mpl.pyplot.subplots()\n",
    "sns.distplot([(est['scale'] - true_params['scale']) / np.sqrt(cov.loc['scale', 'scale']) \n",
    "              for est, cov in est_arr], ax=scale_ax)\n",
    "scale_ax.plot(np.linspace(-5,5,100), stats.norm.pdf(np.linspace(-5,5,100)), color='black')\n",
    "scale_ax.set_xlabel('scale')"
   ]
  },
  {
   "cell_type": "code",
   "execution_count": null,
   "metadata": {},
   "outputs": [],
   "source": [
    "rho_fig, rho_ax = mpl.pyplot.subplots()\n",
    "sns.distplot([(est['rho'] - true_params['rho']) / np.sqrt(cov.loc['rho', 'rho']) \n",
    "              for est, cov in est_arr], ax=rho_ax)\n",
    "rho_ax.plot(np.linspace(-5,5,100), stats.norm.pdf(np.linspace(-5,5,100)), color='black')\n",
    "rho_ax.set_xlabel('rho')"
   ]
  },
  {
   "cell_type": "code",
   "execution_count": null,
   "metadata": {},
   "outputs": [],
   "source": [
    "vol_tables = [vl.create_est_table(estimates=est, truth=total_true_params, cov=cov)\n",
    "                 for est,cov in vol_est_arr]"
   ]
  },
  {
   "cell_type": "code",
   "execution_count": null,
   "metadata": {},
   "outputs": [],
   "source": [
    "pd.DataFrame([frame.truth - frame.estimate for frame in vol_tables]).mean(axis=0)"
   ]
  },
  {
   "cell_type": "code",
   "execution_count": null,
   "metadata": {},
   "outputs": [],
   "source": [
    "stage2_estimates, stage2_cov = vl.estimate_params(data)\n"
   ]
  },
  {
   "cell_type": "code",
   "execution_count": null,
   "metadata": {},
   "outputs": [],
   "source": [
    "vl.create_est_table(estimates=stage2_estimates, truth=total_true_params, cov=stage2_cov)"
   ]
  },
  {
   "cell_type": "code",
   "execution_count": null,
   "metadata": {},
   "outputs": [],
   "source": [
    "vl.cov_to_corr(stage2_cov)"
   ]
  },
  {
   "cell_type": "code",
   "execution_count": null,
   "metadata": {},
   "outputs": [],
   "source": []
  }
 ],
 "metadata": {
  "kernelspec": {
   "display_name": "Python 3",
   "language": "python",
   "name": "python3"
  },
  "language_info": {
   "codemirror_mode": {
    "name": "ipython",
    "version": 3
   },
   "file_extension": ".py",
   "mimetype": "text/x-python",
   "name": "python",
   "nbconvert_exporter": "python",
   "pygments_lexer": "ipython3",
   "version": "3.6.6"
  }
 },
 "nbformat": 4,
 "nbformat_minor": 2
}
