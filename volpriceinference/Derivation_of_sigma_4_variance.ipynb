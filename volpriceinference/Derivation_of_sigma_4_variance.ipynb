{
 "cells": [
  {
   "cell_type": "code",
   "execution_count": null,
   "metadata": {},
   "outputs": [],
   "source": [
    "import sympy as sym\n",
    "import numpy as np"
   ]
  },
  {
   "cell_type": "code",
   "execution_count": null,
   "metadata": {},
   "outputs": [],
   "source": [
    "sym.init_printing()"
   ]
  },
  {
   "cell_type": "markdown",
   "metadata": {},
   "source": [
    "We want the variance of $(\\sigma^2_{t+1})^2$ (It equals the variance of $\\sigma^2_{t+1}$. By the variance decomposition this equals $\\mathbb{E}[\\sigma^8_{t+1} | \\sigma^2_t]  - \\mathbb{E}[\\sigma^4_{t+1} | \\sigma^2_t]^2$."
   ]
  },
  {
   "cell_type": "markdown",
   "metadata": {},
   "source": [
    "The first term is the 4rth-moment of the volatility. We can compute this using the fact that Laplace transforms generate the moments through differentation."
   ]
  },
  {
   "cell_type": "markdown",
   "metadata": {},
   "source": [
    "$\\mathbb{E}[\\sigma^8_{t+1} | \\sigma^2_t]\n",
    "= (-1)^4 \\frac{\\partial^4}{\\partial x^4} \\mathbb{E}[\\exp(- (-x) \\sigma^2_{t+1}) | \\sigma^2_t)]\n",
    "= \\frac{\\partial^4}{\\partial x^4} \\exp\\left(-A(-x) \\sigma^2_t - B(-x)\\right) |_{x=0}\n",
    "= -\\frac{\\partial^4}{\\partial x^4} A(-x) \\sigma^2_t - \\frac{\\partial x^4}{\\partial x^4} B(-x) |_{x=0}$\n"
   ]
  },
  {
   "cell_type": "code",
   "execution_count": null,
   "metadata": {},
   "outputs": [],
   "source": [
    "sym.__version__"
   ]
  },
  {
   "cell_type": "code",
   "execution_count": null,
   "metadata": {},
   "outputs": [],
   "source": [
    "x, y = sym.symbols('x y')\n",
    "rho, c, delta = sym.symbols('rho c delta')\n",
    "sigma2 = sym.symbols('sigma^2_t')"
   ]
  },
  {
   "cell_type": "code",
   "execution_count": null,
   "metadata": {},
   "outputs": [],
   "source": [
    "A =  (rho * x) / (1 + c * x)\n",
    "B = delta * sym.log(1 + c * x)"
   ]
  },
  {
   "cell_type": "code",
   "execution_count": null,
   "metadata": {},
   "outputs": [],
   "source": [
    "fourth_moment = (- A.replace(x, -x).diff(x, 4).replace(x,0) * sigma2\n",
    "                 - B.replace(x,-x).diff(x,4).replace(x,0)).simplify()"
   ]
  },
  {
   "cell_type": "code",
   "execution_count": null,
   "metadata": {},
   "outputs": [],
   "source": [
    "fourth_moment"
   ]
  },
  {
   "cell_type": "markdown",
   "metadata": {},
   "source": [
    "Similarly, the 2nd-moment of the volatility as a similar expression, we just replace the 4 with a 2."
   ]
  },
  {
   "cell_type": "code",
   "execution_count": null,
   "metadata": {},
   "outputs": [],
   "source": [
    "second_moment = (- A.replace(x, -x).diff(x, 2).replace(x,0) * sigma2\n",
    "                 - B.replace(x,-x).diff(x,2).replace(x,0)).simplify()"
   ]
  },
  {
   "cell_type": "code",
   "execution_count": null,
   "metadata": {},
   "outputs": [],
   "source": [
    "variance_variance = sym.factor(fourth_moment - second_moment**2)"
   ]
  },
  {
   "cell_type": "code",
   "execution_count": null,
   "metadata": {},
   "outputs": [],
   "source": [
    "variance_variance"
   ]
  },
  {
   "cell_type": "code",
   "execution_count": null,
   "metadata": {},
   "outputs": [],
   "source": [
    "variance_variance.factor().replace(sigma2,1).simplify()"
   ]
  },
  {
   "cell_type": "code",
   "execution_count": null,
   "metadata": {},
   "outputs": [],
   "source": []
  }
 ],
 "metadata": {
  "kernelspec": {
   "display_name": "Python 3",
   "language": "python",
   "name": "python3"
  },
  "language_info": {
   "codemirror_mode": {
    "name": "ipython",
    "version": 3
   },
   "file_extension": ".py",
   "mimetype": "text/x-python",
   "name": "python",
   "nbconvert_exporter": "python",
   "pygments_lexer": "ipython3",
   "version": "3.7.2"
  }
 },
 "nbformat": 4,
 "nbformat_minor": 2
}
