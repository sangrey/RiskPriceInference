{
 "cells": [
  {
   "cell_type": "code",
   "execution_count": 3,
   "metadata": {},
   "outputs": [],
   "source": [
    "import sympy as sym\n",
    "import numpy as np"
   ]
  },
  {
   "cell_type": "code",
   "execution_count": 12,
   "metadata": {},
   "outputs": [],
   "source": [
    "sym.init_printing()"
   ]
  },
  {
   "cell_type": "markdown",
   "metadata": {},
   "source": [
    "We want the variance of $(\\sigma^2_{t+1})^2$ (It equals the variance of $\\sigma^2_{t+1}$. By the variance decomposition this equals $\\mathbb{E}[\\sigma^8_{t+1} | \\sigma^2_t]  - \\mathbb{E}[\\sigma^4_{t+1} | \\sigma^2_t]^2$."
   ]
  },
  {
   "cell_type": "markdown",
   "metadata": {},
   "source": [
    "The first term is the 4rth-moment of the volatility. We can compute this using the fact that Laplace transforms generate the moments through differentation."
   ]
  },
  {
   "cell_type": "markdown",
   "metadata": {},
   "source": [
    "$\\mathbb{E}[\\sigma^8_{t+1} | \\sigma^2_t]\n",
    "= (-1)^4 \\frac{\\partial^4}{\\partial x^4} \\mathbb{E}[\\exp(- (-x) \\sigma^2_{t+1}) | \\sigma^2_t)]\n",
    "= \\frac{\\partial^4}{\\partial x^4} \\exp\\left(-A(-x) \\sigma^2_t - B(-x)\\right) |_{x=0}\n",
    "= -\\frac{\\partial^4}{\\partial x^4} A(-x) \\sigma^2_t - \\frac{\\partial x^4}{\\partial x^4} B(-x) |_{x=0}$\n"
   ]
  },
  {
   "cell_type": "code",
   "execution_count": 8,
   "metadata": {},
   "outputs": [
    {
     "data": {
      "text/plain": [
       "'1.3'"
      ]
     },
     "execution_count": 8,
     "metadata": {},
     "output_type": "execute_result"
    }
   ],
   "source": [
    "sym.__version__"
   ]
  },
  {
   "cell_type": "code",
   "execution_count": 51,
   "metadata": {},
   "outputs": [],
   "source": [
    "x, y = sym.symbols('x y')\n",
    "rho, c, delta = sym.symbols('rho c delta')\n",
    "sigma2 = sym.symbols('sigma^2_t')"
   ]
  },
  {
   "cell_type": "code",
   "execution_count": 52,
   "metadata": {},
   "outputs": [],
   "source": [
    "A =  (rho * x) / (1 + c * x)\n",
    "B = delta * sym.log(1 + c * x)"
   ]
  },
  {
   "cell_type": "code",
   "execution_count": 53,
   "metadata": {},
   "outputs": [],
   "source": [
    "fourth_moment = (- A.replace(x, -x).diff(x, 4).replace(x,0) * sigma2\n",
    "                 - B.replace(x,-x).diff(x,4).replace(x,0)).simplify()"
   ]
  },
  {
   "cell_type": "code",
   "execution_count": 54,
   "metadata": {},
   "outputs": [
    {
     "data": {
      "image/png": "[encoded data removed]",
      "text/latex": [
       "$$6 c^{3} \\left(c \\delta + 4 \\rho \\sigma^{2}_{t}\\right)$$"
      ],
      "text/plain": [
       "   3                \n",
       "6⋅c ⋅(c⋅δ + 4⋅ρ⋅σ²ₜ)"
      ]
     },
     "execution_count": 54,
     "metadata": {},
     "output_type": "execute_result"
    }
   ],
   "source": [
    "fourth_moment"
   ]
  },
  {
   "cell_type": "markdown",
   "metadata": {},
   "source": [
    "Similarly, the 2nd-moment of the volatility as a similar expression, we just replace the 4 with a 2."
   ]
  },
  {
   "cell_type": "code",
   "execution_count": 55,
   "metadata": {},
   "outputs": [],
   "source": [
    "second_moment = (- A.replace(x, -x).diff(x, 2).replace(x,0) * sigma2\n",
    "                 - B.replace(x,-x).diff(x,2).replace(x,0)).simplify()"
   ]
  },
  {
   "cell_type": "code",
   "execution_count": 67,
   "metadata": {},
   "outputs": [],
   "source": [
    "variance_variance = sym.factor(fourth_moment - second_moment**2)"
   ]
  },
  {
   "cell_type": "code",
   "execution_count": 68,
   "metadata": {},
   "outputs": [
    {
     "data": {
      "image/png": "[encoded data removed]",
      "text/latex": [
       "$$- c^{2} \\left(c^{2} \\delta^{2} - 6 c^{2} \\delta + 4 c \\delta \\rho \\sigma^{2}_{t} - 24 c \\rho \\sigma^{2}_{t} + 4 \\rho^{2} \\left(\\sigma^{2}_{t}\\right)^{2}\\right)$$"
      ],
      "text/plain": [
       "  2 ⎛ 2  2      2                                   2    2⎞\n",
       "-c ⋅⎝c ⋅δ  - 6⋅c ⋅δ + 4⋅c⋅δ⋅ρ⋅σ²ₜ - 24⋅c⋅ρ⋅σ²ₜ + 4⋅ρ ⋅σ²ₜ ⎠"
      ]
     },
     "execution_count": 68,
     "metadata": {},
     "output_type": "execute_result"
    }
   ],
   "source": [
    "variance_variance"
   ]
  },
  {
   "cell_type": "code",
   "execution_count": 69,
   "metadata": {},
   "outputs": [
    {
     "data": {
      "image/png": "[encoded data removed]",
      "text/latex": [
       "$$- c^{2} \\left(c^{2} \\delta^{2} - 6 c^{2} \\delta + 4 c \\delta \\rho \\sigma^{2}_{t} - 24 c \\rho \\sigma^{2}_{t} + 4 \\rho^{2} \\left(\\sigma^{2}_{t}\\right)^{2}\\right)$$"
      ],
      "text/plain": [
       "  2 ⎛ 2  2      2                                   2    2⎞\n",
       "-c ⋅⎝c ⋅δ  - 6⋅c ⋅δ + 4⋅c⋅δ⋅ρ⋅σ²ₜ - 24⋅c⋅ρ⋅σ²ₜ + 4⋅ρ ⋅σ²ₜ ⎠"
      ]
     },
     "execution_count": 69,
     "metadata": {},
     "output_type": "execute_result"
    }
   ],
   "source": [
    "variance_variance.factor()"
   ]
  },
  {
   "cell_type": "code",
   "execution_count": null,
   "metadata": {},
   "outputs": [],
   "source": []
  }
 ],
 "metadata": {
  "kernelspec": {
   "display_name": "Python 3",
   "language": "python",
   "name": "python3"
  },
  "language_info": {
   "codemirror_mode": {
    "name": "ipython",
    "version": 3
   },
   "file_extension": ".py",
   "mimetype": "text/x-python",
   "name": "python",
   "nbconvert_exporter": "python",
   "pygments_lexer": "ipython3",
   "version": "3.7.1"
  }
 },
 "nbformat": 4,
 "nbformat_minor": 2
}
