{
 "cells": [
  {
   "cell_type": "code",
   "execution_count": 1,
   "metadata": {
    "scrolled": true
   },
   "outputs": [],
   "source": [
    "import numpy as np\n",
    "import pandas as pd\n",
    "import volprice as vl\n",
    "import matplotlib as mpl\n",
    "import seaborn as sns\n",
    "import logging\n",
    "import tqdm\n",
    "from multiprocessing import Pool\n",
    "import sys\n",
    "from functools import partial\n",
    "import cdpm\n",
    "from scipy import special"
   ]
  },
  {
   "cell_type": "code",
   "execution_count": 2,
   "metadata": {},
   "outputs": [],
   "source": [
    "%matplotlib inline\n",
    "mpl.style.use('seaborn-talk')\n",
    "np.set_printoptions(precision=3)"
   ]
  },
  {
   "cell_type": "code",
   "execution_count": 3,
   "metadata": {},
   "outputs": [],
   "source": [
    "logging.captureWarnings(True)\n",
    "root_logger = logging.getLogger()\n",
    "root_logger.setLevel(logging.INFO)\n",
    "info_handler = logging.FileHandler('../logging.tmp.txt')\n",
    "info_handler.addFilter(lambda record: record.levelno <= logging.WARNING)\n",
    "error_handler = logging.StreamHandler(sys.stderr)\n",
    "error_handler.addFilter(lambda record: record.levelno > logging.WARNING)\n",
    "root_logger.addHandler(info_handler)\n",
    "root_logger.addHandler(error_handler)"
   ]
  },
  {
   "cell_type": "markdown",
   "metadata": {},
   "source": [
    "## Setup the True Parameters /  Simulation Parameters"
   ]
  },
  {
   "cell_type": "code",
   "execution_count": 13,
   "metadata": {},
   "outputs": [],
   "source": [
    "kharpov = False"
   ]
  },
  {
   "cell_type": "code",
   "execution_count": 14,
   "metadata": {},
   "outputs": [],
   "source": [
    "if kharpov:\n",
    "    true_params = {'theta': 1.7680, \n",
    "               'pi': -10,\n",
    "               'phi': -.4,\n",
    "               'log_scale': np.log(252 * 1.564e-5),\n",
    "                'logit_rho': special.logit(.8)\n",
    "                }\n",
    "    \n",
    "    true_params['log_both'] = np.log(0.6475) + true_params['log_scale']\n",
    "                \n",
    "else:\n",
    "\n",
    "#     Daily\n",
    "     true_params ={'log_both': -17,\n",
    "                   'log_scale': -4.3,\n",
    "                   'logit_rho': 3.36,\n",
    "                   'phi': -0.3,\n",
    "                    'pi': 0, \n",
    "                   'theta': 0.45}\n",
    "#     Weekly\n",
    "#     true_params = {'log_both': -0.2768983372209973 + 0.805773558068805,\n",
    "#                    'log_scale': 0.805773558068805,\n",
    "#                    'rho': 0.6097218157104826,\n",
    "#                    'phi': -0.8999999994952989,\n",
    "#                    # Here I use the daily value.\n",
    "#                    'pi': -.01,\n",
    "#                    'theta': 2.6348432313374923}\n",
    "    \n",
    "time_dim = 10_000\n",
    "sim_dim = 1000\n",
    "innov_dim = 250"
   ]
  },
  {
   "cell_type": "code",
   "execution_count": 15,
   "metadata": {},
   "outputs": [],
   "source": [
    "total_true_params = true_params.copy()\n",
    "total_true_params.update(\n",
    "    {'gamma': vl.compute_gamma(**true_params),\n",
    "     'beta':vl.compute_beta(logit_rho=true_params['logit_rho'], log_scale=true_params['log_scale'],\n",
    "                            phi=true_params['phi'], pi=true_params['pi'], theta=true_params['theta']),\n",
    "     'psi':vl.compute_psi(logit_rho=true_params['logit_rho'], log_scale=true_params['log_scale'], \n",
    "                          phi=true_params['phi'], theta=true_params['theta']),\n",
    "      'zeta': 1 - true_params['phi']**2})"
   ]
  },
  {
   "cell_type": "code",
   "execution_count": 16,
   "metadata": {},
   "outputs": [],
   "source": [
    "def compute_moments(log_both, logit_rho, log_scale, phi, pi, theta):\n",
    "    \n",
    "    vol_mean = np.exp(log_both) / (1 - special.expit(logit_rho))\n",
    "    vol_var = ((2 * np.exp(log_scale) * special.expit(logit_rho) * vol_mean + np.exp(log_scale)**2 \n",
    "                * np.exp(log_both - log_scale)) / (1 - special.expit(logit_rho)**2))\n",
    "    \n",
    "    psi = vl.compute_psi(logit_rho=logit_rho, log_scale=log_scale, phi=phi, theta=theta)\n",
    "    beta = vl.compute_beta(logit_rho=logit_rho, log_scale=log_scale, phi=phi, pi=pi, theta=theta)\n",
    "    gamma = vl.compute_gamma(log_both=log_both, logit_rho=logit_rho, log_scale=log_scale, phi=phi, pi=pi,\n",
    "                             theta=theta)\n",
    "    \n",
    "    return_mean = psi * vol_mean + beta * vol_mean + gamma\n",
    "    return_var = psi**2 * vol_var + beta**2 * vol_var  + (1 - phi**2) * vol_mean\n",
    "    \n",
    "    return {'return_mean': return_mean, 'return_var': return_var, 'vol_mean': vol_mean, 'vol_var': vol_var}"
   ]
  },
  {
   "cell_type": "code",
   "execution_count": 17,
   "metadata": {},
   "outputs": [
    {
     "data": {
      "text/plain": [
       "{'return_mean': -5.4485139820073995e-08,\n",
       " 'return_var': 4.405439360478335e-06,\n",
       " 'vol_mean': 1.2332539493306796e-06,\n",
       " 'vol_var': 4.984767996629148e-07}"
      ]
     },
     "execution_count": 17,
     "metadata": {},
     "output_type": "execute_result"
    }
   ],
   "source": [
    "compute_moments(**true_params)"
   ]
  },
  {
   "cell_type": "code",
   "execution_count": 18,
   "metadata": {},
   "outputs": [
    {
     "data": {
      "text/plain": [
       "7.541927573173943e-08"
      ]
     },
     "execution_count": 18,
     "metadata": {},
     "output_type": "execute_result"
    }
   ],
   "source": [
    "vl.compute_gamma(**true_params)"
   ]
  },
  {
   "cell_type": "code",
   "execution_count": 19,
   "metadata": {},
   "outputs": [
    {
     "data": {
      "text/plain": [
       "{'log_both': -17,\n",
       " 'log_scale': -4.3,\n",
       " 'logit_rho': 3.36,\n",
       " 'phi': -0.3,\n",
       " 'pi': 0,\n",
       " 'theta': 0.45,\n",
       " 'gamma': 7.541927573173943e-08,\n",
       " 'beta': 1.7612887920398665,\n",
       " 'psi': -1.866623476451229,\n",
       " 'zeta': 0.91}"
      ]
     },
     "execution_count": 19,
     "metadata": {},
     "output_type": "execute_result"
    }
   ],
   "source": [
    "total_true_params"
   ]
  },
  {
   "cell_type": "code",
   "execution_count": 20,
   "metadata": {},
   "outputs": [
    {
     "data": {
      "text/plain": [
       "{'log_both': -17,\n",
       " 'log_scale': -4.3,\n",
       " 'logit_rho': 3.36,\n",
       " 'phi': -0.3,\n",
       " 'pi': 0,\n",
       " 'theta': 0.45}"
      ]
     },
     "execution_count": 20,
     "metadata": {},
     "output_type": "execute_result"
    }
   ],
   "source": [
    "true_params"
   ]
  },
  {
   "cell_type": "code",
   "execution_count": 21,
   "metadata": {},
   "outputs": [
    {
     "data": {
      "text/plain": [
       "{'log_both': -17,\n",
       " 'log_scale': -4.3,\n",
       " 'logit_rho': 3.36,\n",
       " 'phi': -0.3,\n",
       " 'pi': 0,\n",
       " 'theta': 0.45,\n",
       " 'gamma': 7.541927573173943e-08,\n",
       " 'beta': 1.7612887920398665,\n",
       " 'psi': -1.866623476451229,\n",
       " 'zeta': 0.91}"
      ]
     },
     "execution_count": 21,
     "metadata": {},
     "output_type": "execute_result"
    }
   ],
   "source": [
    "total_true_params"
   ]
  },
  {
   "cell_type": "code",
   "execution_count": 26,
   "metadata": {},
   "outputs": [
    {
     "ename": "TypeError",
     "evalue": "_lambdifygenerated() got multiple values for argument 'phi'",
     "output_type": "error",
     "traceback": [
      "\u001b[0;31m---------------------------------------------------------------------------\u001b[0m",
      "\u001b[0;31mTypeError\u001b[0m                                 Traceback (most recent call last)",
      "\u001b[0;32m<ipython-input-26-8eec1ed2f35c>\u001b[0m in \u001b[0;36m<module>\u001b[0;34m\u001b[0m\n\u001b[0;32m----> 1\u001b[0;31m \u001b[0mvl\u001b[0m\u001b[0;34m.\u001b[0m\u001b[0mcompute_link\u001b[0m\u001b[0;34m(\u001b[0m\u001b[0;34m[\u001b[0m\u001b[0;36m0.45\u001b[0m\u001b[0;34m,\u001b[0m \u001b[0;34m-\u001b[0m\u001b[0;36m4\u001b[0m\u001b[0;34m,\u001b[0m \u001b[0;36m0\u001b[0m\u001b[0;34m]\u001b[0m\u001b[0;34m,\u001b[0m \u001b[0mtrue_params\u001b[0m\u001b[0;34m,\u001b[0m \u001b[0mcase\u001b[0m\u001b[0;34m=\u001b[0m\u001b[0;36m1\u001b[0m\u001b[0;34m)\u001b[0m\u001b[0;34m\u001b[0m\u001b[0;34m\u001b[0m\u001b[0m\n\u001b[0m",
      "\u001b[0;32m~/Dropbox/RiskPriceInference/volpriceinference/volprice.py\u001b[0m in \u001b[0;36mcompute_link\u001b[0;34m(prices, omega, case)\u001b[0m\n\u001b[1;32m    312\u001b[0m         \u001b[0;32mraise\u001b[0m \u001b[0mNotImplementedError\u001b[0m\u001b[0;34m\u001b[0m\u001b[0;34m\u001b[0m\u001b[0m\n\u001b[1;32m    313\u001b[0m \u001b[0;34m\u001b[0m\u001b[0m\n\u001b[0;32m--> 314\u001b[0;31m     \u001b[0;32mreturn\u001b[0m \u001b[0mnp\u001b[0m\u001b[0;34m.\u001b[0m\u001b[0mravel\u001b[0m\u001b[0;34m(\u001b[0m\u001b[0mcompute_link_in\u001b[0m\u001b[0;34m(\u001b[0m\u001b[0;34m*\u001b[0m\u001b[0mprices\u001b[0m\u001b[0;34m,\u001b[0m \u001b[0;34m**\u001b[0m\u001b[0momega\u001b[0m\u001b[0;34m)\u001b[0m\u001b[0;34m)\u001b[0m\u001b[0;34m\u001b[0m\u001b[0;34m\u001b[0m\u001b[0m\n\u001b[0m\u001b[1;32m    315\u001b[0m \u001b[0;34m\u001b[0m\u001b[0m\n\u001b[1;32m    316\u001b[0m \u001b[0;34m\u001b[0m\u001b[0m\n",
      "\u001b[0;31mTypeError\u001b[0m: _lambdifygenerated() got multiple values for argument 'phi'"
     ]
    }
   ],
   "source": [
    "vl.compute_link([0.45, -4, 0], true_params, case=1)"
   ]
  },
  {
   "cell_type": "markdown",
   "metadata": {},
   "source": [
    "## We start by examining the distributions of simulated data"
   ]
  },
  {
   "cell_type": "code",
   "execution_count": null,
   "metadata": {},
   "outputs": [],
   "source": []
  },
  {
   "cell_type": "code",
   "execution_count": 27,
   "metadata": {},
   "outputs": [],
   "source": [
    "data = vl.simulate_data(time_dim=time_dim, **true_params)"
   ]
  },
  {
   "cell_type": "code",
   "execution_count": 28,
   "metadata": {},
   "outputs": [
    {
     "data": {
      "text/html": [
       "<div>\n",
       "<style scoped>\n",
       "    .dataframe tbody tr th:only-of-type {\n",
       "        vertical-align: middle;\n",
       "    }\n",
       "\n",
       "    .dataframe tbody tr th {\n",
       "        vertical-align: top;\n",
       "    }\n",
       "\n",
       "    .dataframe thead th {\n",
       "        text-align: right;\n",
       "    }\n",
       "</style>\n",
       "<table border=\"1\" class=\"dataframe\">\n",
       "  <thead>\n",
       "    <tr style=\"text-align: right;\">\n",
       "      <th></th>\n",
       "      <th>vol</th>\n",
       "      <th>rtn</th>\n",
       "    </tr>\n",
       "  </thead>\n",
       "  <tbody>\n",
       "    <tr>\n",
       "      <th>vol</th>\n",
       "      <td>1.000000</td>\n",
       "      <td>-0.323991</td>\n",
       "    </tr>\n",
       "    <tr>\n",
       "      <th>rtn</th>\n",
       "      <td>-0.323991</td>\n",
       "      <td>1.000000</td>\n",
       "    </tr>\n",
       "  </tbody>\n",
       "</table>\n",
       "</div>"
      ],
      "text/plain": [
       "          vol       rtn\n",
       "vol  1.000000 -0.323991\n",
       "rtn -0.323991  1.000000"
      ]
     },
     "execution_count": 28,
     "metadata": {},
     "output_type": "execute_result"
    }
   ],
   "source": [
    "data.corr()"
   ]
  },
  {
   "cell_type": "code",
   "execution_count": 29,
   "metadata": {},
   "outputs": [
    {
     "data": {
      "text/html": [
       "<div>\n",
       "<style scoped>\n",
       "    .dataframe tbody tr th:only-of-type {\n",
       "        vertical-align: middle;\n",
       "    }\n",
       "\n",
       "    .dataframe tbody tr th {\n",
       "        vertical-align: top;\n",
       "    }\n",
       "\n",
       "    .dataframe thead th {\n",
       "        text-align: right;\n",
       "    }\n",
       "</style>\n",
       "<table border=\"1\" class=\"dataframe\">\n",
       "  <thead>\n",
       "    <tr style=\"text-align: right;\">\n",
       "      <th></th>\n",
       "      <th>vol</th>\n",
       "      <th>rtn</th>\n",
       "    </tr>\n",
       "  </thead>\n",
       "  <tbody>\n",
       "    <tr>\n",
       "      <th>2000-01-01</th>\n",
       "      <td>0.00001</td>\n",
       "      <td>0.004600</td>\n",
       "    </tr>\n",
       "    <tr>\n",
       "      <th>2000-01-02</th>\n",
       "      <td>0.00001</td>\n",
       "      <td>0.002853</td>\n",
       "    </tr>\n",
       "    <tr>\n",
       "      <th>2000-01-03</th>\n",
       "      <td>0.00001</td>\n",
       "      <td>-0.003825</td>\n",
       "    </tr>\n",
       "    <tr>\n",
       "      <th>2000-01-04</th>\n",
       "      <td>0.00001</td>\n",
       "      <td>0.001721</td>\n",
       "    </tr>\n",
       "    <tr>\n",
       "      <th>2000-01-05</th>\n",
       "      <td>0.00001</td>\n",
       "      <td>-0.001253</td>\n",
       "    </tr>\n",
       "  </tbody>\n",
       "</table>\n",
       "</div>"
      ],
      "text/plain": [
       "                vol       rtn\n",
       "2000-01-01  0.00001  0.004600\n",
       "2000-01-02  0.00001  0.002853\n",
       "2000-01-03  0.00001 -0.003825\n",
       "2000-01-04  0.00001  0.001721\n",
       "2000-01-05  0.00001 -0.001253"
      ]
     },
     "execution_count": 29,
     "metadata": {},
     "output_type": "execute_result"
    }
   ],
   "source": [
    "data.head()"
   ]
  },
  {
   "cell_type": "code",
   "execution_count": 30,
   "metadata": {},
   "outputs": [
    {
     "data": {
      "text/plain": [
       "2.4344252647881655e-06"
      ]
     },
     "execution_count": 30,
     "metadata": {},
     "output_type": "execute_result"
    }
   ],
   "source": [
    "data.vol.var()"
   ]
  },
  {
   "cell_type": "code",
   "execution_count": 31,
   "metadata": {},
   "outputs": [],
   "source": [
    "init_constants = vl.compute_init_constants(data.vol)"
   ]
  },
  {
   "cell_type": "code",
   "execution_count": 32,
   "metadata": {},
   "outputs": [
    {
     "data": {
      "text/plain": [
       "{'log_both': -11.280150392625364,\n",
       " 'log_scale': -4.713064950289146,\n",
       " 'logit_rho': 0.7842735558272771}"
      ]
     },
     "execution_count": 32,
     "metadata": {},
     "output_type": "execute_result"
    }
   ],
   "source": [
    "init_constants"
   ]
  },
  {
   "cell_type": "code",
   "execution_count": 33,
   "metadata": {},
   "outputs": [
    {
     "data": {
      "text/plain": [
       "({'log_both': -11.8640942671293,\n",
       "  'log_scale': -4.868274607472477,\n",
       "  'logit_rho': 1.5402430004929595},\n",
       "            log_both  log_scale  logit_rho\n",
       " log_both   0.229498   0.042306   0.001225\n",
       " log_scale  0.042306   0.057679   0.077288\n",
       " logit_rho  0.001225   0.077288   0.970151)"
      ]
     },
     "execution_count": 33,
     "metadata": {},
     "output_type": "execute_result"
    }
   ],
   "source": [
    "vl.compute_vol_gmm(data.vol, init_constants)"
   ]
  },
  {
   "cell_type": "code",
   "execution_count": 34,
   "metadata": {},
   "outputs": [],
   "source": [
    "omega, omega_cov = vl.estimate_params(data)"
   ]
  },
  {
   "cell_type": "code",
   "execution_count": 35,
   "metadata": {},
   "outputs": [
    {
     "data": {
      "text/plain": [
       "{'gamma': -3.214285588175864e-06,\n",
       " 'beta': 1.6739032658640591,\n",
       " 'psi': -2.4073878200010754,\n",
       " 'zeta': 0.9040487957973237,\n",
       " 'log_both': -11.8640942671293,\n",
       " 'log_scale': -4.868274607472477,\n",
       " 'logit_rho': 1.5402430004929595}"
      ]
     },
     "execution_count": 35,
     "metadata": {},
     "output_type": "execute_result"
    }
   ],
   "source": [
    "omega"
   ]
  },
  {
   "cell_type": "code",
   "execution_count": 36,
   "metadata": {},
   "outputs": [
    {
     "data": {
      "text/html": [
       "<div>\n",
       "<style scoped>\n",
       "    .dataframe tbody tr th:only-of-type {\n",
       "        vertical-align: middle;\n",
       "    }\n",
       "\n",
       "    .dataframe tbody tr th {\n",
       "        vertical-align: top;\n",
       "    }\n",
       "\n",
       "    .dataframe thead th {\n",
       "        text-align: right;\n",
       "    }\n",
       "</style>\n",
       "<table border=\"1\" class=\"dataframe\">\n",
       "  <thead>\n",
       "    <tr style=\"text-align: right;\">\n",
       "      <th></th>\n",
       "      <th>beta</th>\n",
       "      <th>gamma</th>\n",
       "      <th>log_both</th>\n",
       "      <th>log_scale</th>\n",
       "      <th>logit_rho</th>\n",
       "      <th>psi</th>\n",
       "      <th>zeta</th>\n",
       "    </tr>\n",
       "  </thead>\n",
       "  <tbody>\n",
       "    <tr>\n",
       "      <th>beta</th>\n",
       "      <td>9.350354e-03</td>\n",
       "      <td>-7.378929e-08</td>\n",
       "      <td>0.000000</td>\n",
       "      <td>0.000000</td>\n",
       "      <td>0.000000</td>\n",
       "      <td>-0.008089</td>\n",
       "      <td>0.00000</td>\n",
       "    </tr>\n",
       "    <tr>\n",
       "      <th>gamma</th>\n",
       "      <td>-7.378929e-08</td>\n",
       "      <td>1.093685e-09</td>\n",
       "      <td>0.000000</td>\n",
       "      <td>0.000000</td>\n",
       "      <td>0.000000</td>\n",
       "      <td>-0.000019</td>\n",
       "      <td>0.00000</td>\n",
       "    </tr>\n",
       "    <tr>\n",
       "      <th>log_both</th>\n",
       "      <td>0.000000e+00</td>\n",
       "      <td>0.000000e+00</td>\n",
       "      <td>0.229498</td>\n",
       "      <td>0.042306</td>\n",
       "      <td>0.001225</td>\n",
       "      <td>0.000000</td>\n",
       "      <td>0.00000</td>\n",
       "    </tr>\n",
       "    <tr>\n",
       "      <th>log_scale</th>\n",
       "      <td>0.000000e+00</td>\n",
       "      <td>0.000000e+00</td>\n",
       "      <td>0.042306</td>\n",
       "      <td>0.057679</td>\n",
       "      <td>0.077288</td>\n",
       "      <td>0.000000</td>\n",
       "      <td>0.00000</td>\n",
       "    </tr>\n",
       "    <tr>\n",
       "      <th>logit_rho</th>\n",
       "      <td>0.000000e+00</td>\n",
       "      <td>0.000000e+00</td>\n",
       "      <td>0.001225</td>\n",
       "      <td>0.077288</td>\n",
       "      <td>0.970151</td>\n",
       "      <td>0.000000</td>\n",
       "      <td>0.00000</td>\n",
       "    </tr>\n",
       "    <tr>\n",
       "      <th>psi</th>\n",
       "      <td>-8.089096e-03</td>\n",
       "      <td>-1.862022e-05</td>\n",
       "      <td>0.000000</td>\n",
       "      <td>0.000000</td>\n",
       "      <td>0.000000</td>\n",
       "      <td>1.872240</td>\n",
       "      <td>0.00000</td>\n",
       "    </tr>\n",
       "    <tr>\n",
       "      <th>zeta</th>\n",
       "      <td>0.000000e+00</td>\n",
       "      <td>0.000000e+00</td>\n",
       "      <td>0.000000</td>\n",
       "      <td>0.000000</td>\n",
       "      <td>0.000000</td>\n",
       "      <td>0.000000</td>\n",
       "      <td>0.00016</td>\n",
       "    </tr>\n",
       "  </tbody>\n",
       "</table>\n",
       "</div>"
      ],
      "text/plain": [
       "                   beta         gamma  log_both  log_scale  logit_rho  \\\n",
       "beta       9.350354e-03 -7.378929e-08  0.000000   0.000000   0.000000   \n",
       "gamma     -7.378929e-08  1.093685e-09  0.000000   0.000000   0.000000   \n",
       "log_both   0.000000e+00  0.000000e+00  0.229498   0.042306   0.001225   \n",
       "log_scale  0.000000e+00  0.000000e+00  0.042306   0.057679   0.077288   \n",
       "logit_rho  0.000000e+00  0.000000e+00  0.001225   0.077288   0.970151   \n",
       "psi       -8.089096e-03 -1.862022e-05  0.000000   0.000000   0.000000   \n",
       "zeta       0.000000e+00  0.000000e+00  0.000000   0.000000   0.000000   \n",
       "\n",
       "                psi     zeta  \n",
       "beta      -0.008089  0.00000  \n",
       "gamma     -0.000019  0.00000  \n",
       "log_both   0.000000  0.00000  \n",
       "log_scale  0.000000  0.00000  \n",
       "logit_rho  0.000000  0.00000  \n",
       "psi        1.872240  0.00000  \n",
       "zeta       0.000000  0.00016  "
      ]
     },
     "execution_count": 36,
     "metadata": {},
     "output_type": "execute_result"
    }
   ],
   "source": [
    "omega_cov"
   ]
  },
  {
   "cell_type": "code",
   "execution_count": 37,
   "metadata": {},
   "outputs": [
    {
     "data": {
      "text/plain": [
       "<matplotlib.legend.Legend at 0x7fb5e1114f60>"
      ]
     },
     "execution_count": 37,
     "metadata": {},
     "output_type": "execute_result"
    },
    {
     "data": {
      "image/png": "[encoded data removed]",
      "text/plain": [
       "<Figure size 748.8x514.8 with 1 Axes>"
      ]
     },
     "metadata": {
      "needs_background": "light"
     },
     "output_type": "display_data"
    }
   ],
   "source": [
    "fig1, ax1 = mpl.pyplot.subplots()\n",
    "ax1.plot(data.rtn, label='Return', color='blue')\n",
    "ax1.plot(data.vol.apply(np.sqrt), label='Volatility', color='orange')\n",
    "\n",
    "ax1.legend()"
   ]
  },
  {
   "cell_type": "code",
   "execution_count": 38,
   "metadata": {},
   "outputs": [
    {
     "data": {
      "text/html": [
       "<div>\n",
       "<style scoped>\n",
       "    .dataframe tbody tr th:only-of-type {\n",
       "        vertical-align: middle;\n",
       "    }\n",
       "\n",
       "    .dataframe tbody tr th {\n",
       "        vertical-align: top;\n",
       "    }\n",
       "\n",
       "    .dataframe thead th {\n",
       "        text-align: right;\n",
       "    }\n",
       "</style>\n",
       "<table border=\"1\" class=\"dataframe\">\n",
       "  <thead>\n",
       "    <tr style=\"text-align: right;\">\n",
       "      <th></th>\n",
       "      <th>vol</th>\n",
       "      <th>rtn</th>\n",
       "    </tr>\n",
       "  </thead>\n",
       "  <tbody>\n",
       "    <tr>\n",
       "      <th>vol</th>\n",
       "      <td>0.000047</td>\n",
       "      <td>-0.000016</td>\n",
       "    </tr>\n",
       "    <tr>\n",
       "      <th>rtn</th>\n",
       "      <td>-0.000016</td>\n",
       "      <td>0.000083</td>\n",
       "    </tr>\n",
       "  </tbody>\n",
       "</table>\n",
       "</div>"
      ],
      "text/plain": [
       "          vol       rtn\n",
       "vol  0.000047 -0.000016\n",
       "rtn -0.000016  0.000083"
      ]
     },
     "execution_count": 38,
     "metadata": {},
     "output_type": "execute_result"
    }
   ],
   "source": [
    "data.transform(lambda x: np.sqrt(x) if x.name == 'vol' else x).cov()"
   ]
  },
  {
   "cell_type": "code",
   "execution_count": 39,
   "metadata": {},
   "outputs": [
    {
     "data": {
      "text/plain": [
       "{'log_both': -17,\n",
       " 'log_scale': -4.3,\n",
       " 'logit_rho': 3.36,\n",
       " 'phi': -0.3,\n",
       " 'pi': 0,\n",
       " 'theta': 0.45,\n",
       " 'gamma': 7.541927573173943e-08,\n",
       " 'beta': 1.7612887920398665,\n",
       " 'psi': -1.866623476451229,\n",
       " 'zeta': 0.91}"
      ]
     },
     "execution_count": 39,
     "metadata": {},
     "output_type": "execute_result"
    }
   ],
   "source": [
    "total_true_params"
   ]
  },
  {
   "cell_type": "code",
   "execution_count": 40,
   "metadata": {},
   "outputs": [
    {
     "data": {
      "text/plain": [
       "<seaborn.axisgrid.JointGrid at 0x7fb5e1073668>"
      ]
     },
     "execution_count": 40,
     "metadata": {},
     "output_type": "execute_result"
    },
    {
     "data": {
      "image/png": "[encoded data removed]",
      "text/plain": [
       "<Figure size 432x432 with 3 Axes>"
      ]
     },
     "metadata": {
      "needs_background": "light"
     },
     "output_type": "display_data"
    }
   ],
   "source": [
    "sns.jointplot(x='vol', y='rtn', data=data, kind='reg')"
   ]
  },
  {
   "cell_type": "code",
   "execution_count": 41,
   "metadata": {},
   "outputs": [
    {
     "data": {
      "text/html": [
       "<div>\n",
       "<style scoped>\n",
       "    .dataframe tbody tr th:only-of-type {\n",
       "        vertical-align: middle;\n",
       "    }\n",
       "\n",
       "    .dataframe tbody tr th {\n",
       "        vertical-align: top;\n",
       "    }\n",
       "\n",
       "    .dataframe thead th {\n",
       "        text-align: right;\n",
       "    }\n",
       "</style>\n",
       "<table border=\"1\" class=\"dataframe\">\n",
       "  <thead>\n",
       "    <tr style=\"text-align: right;\">\n",
       "      <th></th>\n",
       "      <th>vol</th>\n",
       "      <th>rtn</th>\n",
       "    </tr>\n",
       "  </thead>\n",
       "  <tbody>\n",
       "    <tr>\n",
       "      <th>count</th>\n",
       "      <td>10000.000000</td>\n",
       "      <td>10000.000000</td>\n",
       "    </tr>\n",
       "    <tr>\n",
       "      <th>mean</th>\n",
       "      <td>0.000058</td>\n",
       "      <td>-0.000046</td>\n",
       "    </tr>\n",
       "    <tr>\n",
       "      <th>std</th>\n",
       "      <td>0.001560</td>\n",
       "      <td>0.009105</td>\n",
       "    </tr>\n",
       "    <tr>\n",
       "      <th>min</th>\n",
       "      <td>0.000010</td>\n",
       "      <td>-0.601081</td>\n",
       "    </tr>\n",
       "    <tr>\n",
       "      <th>25%</th>\n",
       "      <td>0.000010</td>\n",
       "      <td>-0.002061</td>\n",
       "    </tr>\n",
       "    <tr>\n",
       "      <th>50%</th>\n",
       "      <td>0.000010</td>\n",
       "      <td>-0.000009</td>\n",
       "    </tr>\n",
       "    <tr>\n",
       "      <th>75%</th>\n",
       "      <td>0.000010</td>\n",
       "      <td>0.002056</td>\n",
       "    </tr>\n",
       "    <tr>\n",
       "      <th>max</th>\n",
       "      <td>0.077501</td>\n",
       "      <td>0.462601</td>\n",
       "    </tr>\n",
       "  </tbody>\n",
       "</table>\n",
       "</div>"
      ],
      "text/plain": [
       "                vol           rtn\n",
       "count  10000.000000  10000.000000\n",
       "mean       0.000058     -0.000046\n",
       "std        0.001560      0.009105\n",
       "min        0.000010     -0.601081\n",
       "25%        0.000010     -0.002061\n",
       "50%        0.000010     -0.000009\n",
       "75%        0.000010      0.002056\n",
       "max        0.077501      0.462601"
      ]
     },
     "execution_count": 41,
     "metadata": {},
     "output_type": "execute_result"
    }
   ],
   "source": [
    "data.describe()"
   ]
  },
  {
   "cell_type": "markdown",
   "metadata": {},
   "source": [
    "## I now estimate all of the parameters"
   ]
  },
  {
   "cell_type": "code",
   "execution_count": 42,
   "metadata": {},
   "outputs": [
    {
     "data": {
      "application/vnd.jupyter.widget-view+json": {
       "model_id": "90b7225d8744489488f0062db9c258e4",
       "version_major": 2,
       "version_minor": 0
      },
      "text/plain": [
       "HBox(children=(IntProgress(value=0, max=1000), HTML(value='')))"
      ]
     },
     "metadata": {},
     "output_type": "display_data"
    },
    {
     "name": "stdout",
     "output_type": "stream",
     "text": [
      "\n"
     ]
    }
   ],
   "source": [
    "data_arr = [vl.simulate_data(time_dim=time_dim, **true_params)  for _ in tqdm.tnrange(sim_dim)]"
   ]
  },
  {
   "cell_type": "code",
   "execution_count": 43,
   "metadata": {},
   "outputs": [],
   "source": [
    "def vol_estimator(data):\n",
    "    return vl.compute_vol_gmm(data.vol, init_constants=vl.compute_init_constants(data.vol))"
   ]
  },
  {
   "cell_type": "code",
   "execution_count": 44,
   "metadata": {},
   "outputs": [
    {
     "data": {
      "text/plain": [
       "{'log_both': -17,\n",
       " 'log_scale': -4.3,\n",
       " 'logit_rho': 3.36,\n",
       " 'phi': -0.3,\n",
       " 'pi': 0,\n",
       " 'theta': 0.45}"
      ]
     },
     "execution_count": 44,
     "metadata": {},
     "output_type": "execute_result"
    }
   ],
   "source": [
    "true_params"
   ]
  },
  {
   "cell_type": "code",
   "execution_count": 45,
   "metadata": {},
   "outputs": [
    {
     "data": {
      "text/plain": [
       "({'log_both': -11.195179084759987,\n",
       "  'log_scale': -4.376180896463301,\n",
       "  'logit_rho': 3.0847269183120236},\n",
       "            log_both  log_scale  logit_rho\n",
       " log_both   0.572658   0.099038  -0.219301\n",
       " log_scale  0.099038   0.081046   0.166776\n",
       " logit_rho -0.219301   0.166776   4.802461)"
      ]
     },
     "execution_count": 45,
     "metadata": {},
     "output_type": "execute_result"
    }
   ],
   "source": [
    "vol_estimator(data_arr[2])"
   ]
  },
  {
   "cell_type": "code",
   "execution_count": 46,
   "metadata": {},
   "outputs": [
    {
     "data": {
      "application/vnd.jupyter.widget-view+json": {
       "model_id": "442854db43cd4c0dab0e0f7efb22af5c",
       "version_major": 2,
       "version_minor": 0
      },
      "text/plain": [
       "HBox(children=(IntProgress(value=0, max=1000), HTML(value='')))"
      ]
     },
     "metadata": {},
     "output_type": "display_data"
    },
    {
     "name": "stdout",
     "output_type": "stream",
     "text": [
      "\n"
     ]
    }
   ],
   "source": [
    "with Pool(8) as pool:\n",
    "    est_arr = list(tqdm.tqdm_notebook(pool.imap_unordered(vol_estimator, data_arr),\n",
    "                                      total=len(data_arr)))"
   ]
  },
  {
   "cell_type": "code",
   "execution_count": 47,
   "metadata": {},
   "outputs": [],
   "source": [
    "vol_params = pd.Series(true_params).loc[['log_both', 'log_scale', 'logit_rho']]"
   ]
  },
  {
   "cell_type": "code",
   "execution_count": null,
   "metadata": {},
   "outputs": [],
   "source": [
    "ar_stats = [(pd.Series(est[0]) - vol_params) @ np.linalg.pinv(est[1]) @ (pd.Series(est[0]) - vol_params).T \n",
    "            for est in est_arr]"
   ]
  },
  {
   "cell_type": "code",
   "execution_count": null,
   "metadata": {},
   "outputs": [],
   "source": [
    "vol_fig, vol_ax = mpl.pyplot.subplots()\n",
    "sns.distplot(ar_stats, ax=vol_ax)\n",
    "vol_ax.plot(np.linspace(0, 20, 100), stats.chi2.pdf(np.linspace(0,20,100), df=3), color='black')\n",
    "vol_ax.set_xlim([0,20])\n",
    "vol_ax.axvline(stats.chi2.ppf(df=3, q=.95), color='black')\n",
    "vol_ax.axvline(np.percentile(ar_stats, 95), color='blue')"
   ]
  },
  {
   "cell_type": "code",
   "execution_count": null,
   "metadata": {},
   "outputs": [],
   "source": [
    "100 * np.mean(stats.chi2.ppf(df=3, q=.95) < ar_stats)"
   ]
  },
  {
   "cell_type": "code",
   "execution_count": null,
   "metadata": {},
   "outputs": [],
   "source": [
    "t_stats = [(name, (est[0][name] - vol_params[name]) / np.sqrt(est[1].loc[name, name]) )\n",
    "            for est in est_arr for name in ['logit_rho', 'log_scale', 'log_both']]\n",
    "t_stats_df = pd.DataFrame.from_records(t_stats).pivot(columns=0, values=1).ffill().bfill().iloc[::3,:]"
   ]
  },
  {
   "cell_type": "code",
   "execution_count": null,
   "metadata": {},
   "outputs": [],
   "source": []
  },
  {
   "cell_type": "code",
   "execution_count": null,
   "metadata": {},
   "outputs": [],
   "source": [
    "vl.compute_init_constants(data.vol)"
   ]
  },
  {
   "cell_type": "code",
   "execution_count": null,
   "metadata": {},
   "outputs": [],
   "source": [
    "true_params['log_both']"
   ]
  },
  {
   "cell_type": "code",
   "execution_count": null,
   "metadata": {},
   "outputs": [],
   "source": [
    "np.amin([est[0]['log_both'] for est in est_arr])"
   ]
  },
  {
   "cell_type": "code",
   "execution_count": null,
   "metadata": {},
   "outputs": [],
   "source": [
    "t_stats_df.describe()"
   ]
  },
  {
   "cell_type": "code",
   "execution_count": null,
   "metadata": {},
   "outputs": [],
   "source": [
    "for name, col in t_stats_df.items():\n",
    "    fig, ax = mpl.pyplot.subplots()\n",
    "    sns.distplot(col, ax=ax)\n",
    "    ax.plot(np.linspace(-5,5,100), stats.norm.pdf(np.linspace(-5,5,100)), color='black')"
   ]
  },
  {
   "cell_type": "code",
   "execution_count": null,
   "metadata": {},
   "outputs": [],
   "source": []
  },
  {
   "cell_type": "code",
   "execution_count": null,
   "metadata": {},
   "outputs": [],
   "source": [
    "estimator = partial(vl.estimate_params_strong_id, case=1)"
   ]
  },
  {
   "cell_type": "code",
   "execution_count": null,
   "metadata": {
    "scrolled": false
   },
   "outputs": [],
   "source": [
    "with Pool(8) as pool:\n",
    "    est_arr = list(tqdm.tqdm_notebook(pool.imap_unordered(estimator, data_arr),\n",
    "                                      total=len(data_arr)))"
   ]
  },
  {
   "cell_type": "code",
   "execution_count": null,
   "metadata": {},
   "outputs": [],
   "source": [
    "def t_stats(x):\n",
    "    mean = x.mean()\n",
    "    cov = x.cov()\n",
    "        \n",
    "    return mean  / np.sqrt(np.diag(cov) / data.vol.size)"
   ]
  },
  {
   "cell_type": "code",
   "execution_count": null,
   "metadata": {},
   "outputs": [],
   "source": [
    "moment_data = pd.DataFrame([t_stats(vl.vol_moments(data.vol, log_both=true_params['log_both'],\n",
    "                                                   logit_rho=true_params['logit_rho'], log_scale=true_params['log_scale'])) \n",
    "                            for data in tqdm.tqdm_notebook(data_arr)])"
   ]
  },
  {
   "cell_type": "code",
   "execution_count": null,
   "metadata": {
    "scrolled": false
   },
   "outputs": [],
   "source": [
    "for name, moment in moment_data.items():\n",
    "    moment_fig, moment_ax = mpl.pyplot.subplots()\n",
    "    sns.distplot(moment, ax=moment_ax, bins=40)\n",
    "    moment_ax.plot(np.linspace(-5,5,100), stats.norm.pdf(np.linspace(-5,5,100)), color='black')\n",
    "    moment_ax.set_xlim([-4,4])"
   ]
  },
  {
   "cell_type": "code",
   "execution_count": null,
   "metadata": {
    "scrolled": false
   },
   "outputs": [],
   "source": [
    "with pd.option_context('mode.use_inf_as_null', True):\n",
    "    for name in est_arr[0][0].keys():\n",
    "        fig, ax = mpl.pyplot.subplots()       \n",
    "        sns.distplot(pd.Series([(est[name] - total_true_params[name]) / np.sqrt(cov.loc[name,name])\n",
    "                  for est, cov in est_arr]).dropna(), ax=ax, bins=40)\n",
    "        ax.plot(np.linspace(-5,5,100), stats.norm.pdf(np.linspace(-5,5,100)), color='black')\n",
    "        ax.set_xlabel(name)\n",
    "#         if max(ax.get_xlim()) > 20:\n",
    "#             ax.set_xlim(-20, 20)"
   ]
  },
  {
   "cell_type": "code",
   "execution_count": null,
   "metadata": {
    "scrolled": false
   },
   "outputs": [],
   "source": [
    "fig, ax = mpl.pyplot.subplots()       \n",
    "sns.distplot(pd.Series([est['pi'] for est, cov in est_arr]).dropna(), ax=ax, bins=40)\n",
    "ax.axvline(total_true_params['pi'], color='black')\n",
    "ax.set_xlabel('$\\pi$')\n",
    "fig.savefig('../doc/figures/pi_est_{}_{}.tmp.pdf'.format(innov_dim, true_params['phi']),\n",
    "                        frameon=False, pad_inches=0, bbox_inches='tight', transparent=True)"
   ]
  },
  {
   "cell_type": "markdown",
   "metadata": {},
   "source": [
    "# I now compute the robust conditional QLR statistic "
   ]
  },
  {
   "cell_type": "code",
   "execution_count": null,
   "metadata": {},
   "outputs": [],
   "source": [
    "omega\n"
   ]
  },
  {
   "cell_type": "code",
   "execution_count": null,
   "metadata": {},
   "outputs": [],
   "source": [
    "true_params"
   ]
  },
  {
   "cell_type": "code",
   "execution_count": null,
   "metadata": {},
   "outputs": [],
   "source": [
    "compute_vals = partial(vl.compute_qlr_reject, true_prices=[true_params['phi'], true_params['pi'], \n",
    "                                                           true_params['theta']],\n",
    "                      innov_dim=50, alpha=None, robust_quantile=True)"
   ]
  },
  {
   "cell_type": "code",
   "execution_count": null,
   "metadata": {},
   "outputs": [],
   "source": [
    "def compute_ar(params, case=1):\n",
    "    param_est, param_cov = params\n",
    "    names = vl.compute_names(case)\n",
    "    omega = {name: val for name, val in param_est.items() if name not in names}\n",
    "    omega_cov = param_cov.query('index not in @names').T.query('index not in @names').T\n",
    "    \n",
    "    true_prices=[true_params['phi'], true_params['pi'], true_params['theta']]\n",
    "    \n",
    "    return vl._qlr_in(prices=true_prices, omega=omega, omega_cov=omega_cov, case=case)"
   ]
  },
  {
   "cell_type": "code",
   "execution_count": null,
   "metadata": {},
   "outputs": [],
   "source": [
    "param_est, param_cov = est_arr[0]\n",
    "names = vl.compute_names(1)\n",
    "omega = {name: val for name, val in param_est.items() if name not in names}\n",
    "omega_cov = param_cov.query('index not in @names').T.query('index not in @names').T\n",
    "    \n",
    "true_prices=[true_params['phi'], true_params['pi'], true_params['theta']]\n",
    "# data.shape[0] * vl.covariance_kernel(true_prices, true_prices, omega_cov=omega_cov, omega=omega, case=1)\n",
    "vl.compute_link(prices=true_prices, omega=omega, case=1)"
   ]
  },
  {
   "cell_type": "code",
   "execution_count": null,
   "metadata": {},
   "outputs": [],
   "source": [
    "compute_ar(est_arr[0])"
   ]
  },
  {
   "cell_type": "code",
   "execution_count": null,
   "metadata": {},
   "outputs": [],
   "source": [
    "with Pool(8) as pool:\n",
    "    ar_results = pd.DataFrame(np.row_stack(list(tqdm.tqdm_notebook(pool.imap_unordered(compute_ar, est_arr),\n",
    "                                                          total=len(est_arr)))))"
   ]
  },
  {
   "cell_type": "code",
   "execution_count": null,
   "metadata": {},
   "outputs": [],
   "source": [
    "with pd.option_context('mode.use_inf_as_null', True):\n",
    "    fig, ax = mpl.pyplot.subplots()       \n",
    "    sns.distplot(ar_results.dropna(), ax=ax, bins=40)\n",
    "    ax.plot(np.linspace(0,20,100), stats.chi2.pdf(np.linspace(0,20,100), df=4), color='black')\n",
    "\n",
    "    ax.set_xlabel('AR Statistic Distribution')\n",
    "    ax.set_xlim(0, 20)\n",
    "    ax.axvline(np.percentile(ar_results, q=95), color='red')\n",
    "    ax.axvline(stats.chi2.ppf(df=4, q=.95), color='green')"
   ]
  },
  {
   "cell_type": "code",
   "execution_count": null,
   "metadata": {},
   "outputs": [],
   "source": [
    "# total=min(50, len(est_arr))\n",
    "# with Pool(8) as pool:\n",
    "#     results = pd.DataFrame(np.row_stack(list(tqdm.tqdm_notebook(pool.imap_unordered(compute_vals, \n",
    "#                                                                                     est_arr[:total]),\n",
    "#                                                           total=total))))"
   ]
  },
  {
   "cell_type": "code",
   "execution_count": null,
   "metadata": {},
   "outputs": [],
   "source": [
    " stats.chi2.ppf(df=4, q=.95)"
   ]
  },
  {
   "cell_type": "code",
   "execution_count": null,
   "metadata": {},
   "outputs": [],
   "source": [
    "100 * np.mean(ar_results > stats.chi2.ppf(df=4, q=.95))"
   ]
  },
  {
   "cell_type": "code",
   "execution_count": null,
   "metadata": {},
   "outputs": [],
   "source": [
    "# results[results <=0] = 0 "
   ]
  },
  {
   "cell_type": "code",
   "execution_count": null,
   "metadata": {},
   "outputs": [],
   "source": [
    "# robust_pit = cdpm.probability_integral_transform(evaluated_data = results.iloc[:,0].to_frame(),\n",
    "#                                     reference_data=results.iloc[:,1:]).replace(np.inf, 1)"
   ]
  },
  {
   "cell_type": "code",
   "execution_count": null,
   "metadata": {},
   "outputs": [],
   "source": [
    "# standard_pit = stats.chi2.cdf(results.iloc[:,0], df=3)"
   ]
  },
  {
   "cell_type": "code",
   "execution_count": null,
   "metadata": {},
   "outputs": [],
   "source": [
    "# fig, ax = mpl.pyplot.subplots()\n",
    "# cdpm.pit_plot(standard_pit, ax=ax, color='orange', hist_kws={'histtype':'step', 'alpha':1, 'linewidth':3},\n",
    "#               label='standard')\n",
    "# cdpm.pit_plot(robust_pit, ax=ax, color='blue', hist_kws={'histtype':'step', 'alpha':1, 'linewidth':3},\n",
    "#               label='robust')\n",
    "# ax.legend()\n",
    "# fig.savefig('../doc/figures/asymptotic_dist_pitop_{}_{}.tmp.pdf'.format(innov_dim, true_params['phi']),\n",
    "#             frameon=False, pad_inches=0, bbox_inches='tight', transparent=True)"
   ]
  },
  {
   "cell_type": "code",
   "execution_count": null,
   "metadata": {},
   "outputs": [],
   "source": [
    "returnval = vl.compute_robust_rejection(est_arr, true_params, innov_dim=innov_dim, alpha=0.05, case=1,\n",
    "                                        robust_quantile=True)"
   ]
  },
  {
   "cell_type": "code",
   "execution_count": null,
   "metadata": {
    "scrolled": true
   },
   "outputs": [],
   "source": [
    "returnval.head()"
   ]
  },
  {
   "cell_type": "code",
   "execution_count": null,
   "metadata": {},
   "outputs": [],
   "source": [
    "returnval.head()"
   ]
  },
  {
   "cell_type": "code",
   "execution_count": null,
   "metadata": {},
   "outputs": [],
   "source": [
    "returnval.mean()"
   ]
  },
  {
   "cell_type": "code",
   "execution_count": null,
   "metadata": {},
   "outputs": [],
   "source": [
    "true_params['phi']"
   ]
  },
  {
   "cell_type": "code",
   "execution_count": null,
   "metadata": {},
   "outputs": [],
   "source": [
    "if kharpov:\n",
    "    filename = '../results/reject_prop_kharpov_{}_{}_{}.tmp.json'.format(innov_dim, true_params['phi'], \n",
    "                                                                         time_dim)\n",
    "else:\n",
    "    filename = '../results/reject_prop_{}_{}_{}.tmp.json'.format(innov_dim, true_params['phi'], time_dim)\n",
    "    \n",
    "returnval.to_json(filename)"
   ]
  },
  {
   "cell_type": "code",
   "execution_count": null,
   "metadata": {},
   "outputs": [],
   "source": [
    "returnval.mean()"
   ]
  },
  {
   "cell_type": "code",
   "execution_count": null,
   "metadata": {},
   "outputs": [],
   "source": [
    "returnval.query('robust_qlr_qauntile > 0').mean()"
   ]
  },
  {
   "cell_type": "code",
   "execution_count": null,
   "metadata": {},
   "outputs": [],
   "source": [
    "fig4, ax4 = mpl.pyplot.subplots()\n",
    "try:\n",
    "    sns.distplot(returnval.query('robust_qlr_qauntile > 0').robust_qlr_qauntile, \n",
    "                 kde_kws={\"color\": \"red\", \"lw\": 3, 'cumulative':True}, ax=ax4,hist=False, \n",
    "                 label='Robust Conditional Quantile')\n",
    "           \n",
    "except AttributeError:\n",
    "    pass\n",
    "\n",
    "sns.distplot(returnval.qlr_stat, hist=False, ax=ax4,kde_kws={\"color\": \"blue\", \"lw\": 3, 'cumulative':True},\n",
    "      label='QLR Statistic')\n",
    "ax4.axvline(stats.chi2.ppf(.95, df=3), color='black', label='Standard Quantile')\n",
    "ax4.axvline(np.percentile(returnval.qlr_stat, 95),  color='Blue', label='Quantile in the data')\n",
    "\n",
    "xvals = np.linspace(0, 20, 500)\n",
    "ax4.plot(xvals, [stats.chi2.cdf(x, df=3) for x in xvals], color='green', label='$\\chi^2(3)$ distribution')\n",
    "ax4.set_xlim([0,50])\n",
    "# ax4.set_ylim([0,.5])\n",
    "ax4.set_xlabel(\"\")\n",
    "ax4.legend()\n",
    "fig4.savefig('../doc/figures/reject_prop_{}_{}.tmp.pdf'.format(innov_dim, true_params['phi']),\n",
    "            frameon=False, pad_inches=0, bbox_inces='tight', transparent=True)"
   ]
  },
  {
   "cell_type": "code",
   "execution_count": null,
   "metadata": {},
   "outputs": [],
   "source": []
  },
  {
   "cell_type": "code",
   "execution_count": null,
   "metadata": {},
   "outputs": [],
   "source": []
  },
  {
   "cell_type": "code",
   "execution_count": null,
   "metadata": {},
   "outputs": [],
   "source": []
  },
  {
   "cell_type": "code",
   "execution_count": null,
   "metadata": {},
   "outputs": [],
   "source": []
  }
 ],
 "metadata": {
  "kernelspec": {
   "display_name": "Python 3",
   "language": "python",
   "name": "python3"
  },
  "language_info": {
   "codemirror_mode": {
    "name": "ipython",
    "version": 3
   },
   "file_extension": ".py",
   "mimetype": "text/x-python",
   "name": "python",
   "nbconvert_exporter": "python",
   "pygments_lexer": "ipython3",
   "version": "3.7.2"
  }
 },
 "nbformat": 4,
 "nbformat_minor": 2
}
