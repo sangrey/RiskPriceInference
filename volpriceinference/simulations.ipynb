{
 "cells": [
  {
   "cell_type": "code",
   "execution_count": 1,
   "metadata": {
    "scrolled": true
   },
   "outputs": [],
   "source": [
    "import numpy as np\n",
    "import pandas as pd\n",
    "import volprice as vl\n",
    "import matplotlib as mpl\n",
    "import seaborn as sns\n",
    "import logging\n",
    "import tqdm\n",
    "from multiprocessing import Pool\n",
    "import sys\n",
    "from functools import partial\n",
    "import cdpm"
   ]
  },
  {
   "cell_type": "code",
   "execution_count": 2,
   "metadata": {},
   "outputs": [],
   "source": [
    "%matplotlib inline\n",
    "mpl.style.use('seaborn-talk')\n",
    "np.set_printoptions(precision=3)"
   ]
  },
  {
   "cell_type": "code",
   "execution_count": 3,
   "metadata": {},
   "outputs": [],
   "source": [
    "logging.captureWarnings(True)\n",
    "root_logger = logging.getLogger()\n",
    "root_logger.setLevel(logging.INFO)\n",
    "info_handler = logging.FileHandler('../logging.tmp.txt')\n",
    "info_handler.addFilter(lambda record: record.levelno <= logging.WARNING)\n",
    "error_handler = logging.StreamHandler(sys.stderr)\n",
    "error_handler.addFilter(lambda record: record.levelno > logging.WARNING)\n",
    "root_logger.addHandler(info_handler)\n",
    "root_logger.addHandler(error_handler)"
   ]
  },
  {
   "cell_type": "markdown",
   "metadata": {},
   "source": [
    "## Setup the True Parameters /  Simulation Parameters"
   ]
  },
  {
   "cell_type": "code",
   "execution_count": 54,
   "metadata": {},
   "outputs": [],
   "source": [
    "kharpov = False"
   ]
  },
  {
   "cell_type": "code",
   "execution_count": 55,
   "metadata": {},
   "outputs": [],
   "source": [
    "if kharpov:\n",
    "    true_params = {'theta': 1.7680, \n",
    "               'pi': -10,\n",
    "               'phi': -.4,\n",
    "               'log_scale': np.log(252 * 1.564e-5),\n",
    "                'log_both': np.log(0.6475) + np.log(252 * 1.564e-5),\n",
    "               'rho': .5,\n",
    "              }\n",
    "else:\n",
    "    true_params = {'theta': 1.7680, \n",
    "               'pi': -10,\n",
    "               'phi': -.4,\n",
    "               'log_scale': np.log(252 * 1.564e-4),\n",
    "                'log_both': np.log(0.6475) + np.log(252 * 1.564e-5),\n",
    "               'rho': .5,\n",
    "              }\n",
    "#     Daily\n",
    "#      true_params ={'log_both': 0.8819415995231439,\n",
    "#                    'log_scale': 1.7813838683227812,\n",
    "#                    'rho': 0.5294015291756116,\n",
    "#                    'phi': -0.29799406819991614,\n",
    "# #                    'pi': 0.05812774870906164,\n",
    "#                     'pi': 0, \n",
    "#                    'theta': 0.43003184804533173}\n",
    "#     Weekly\n",
    "#     true_params = {'log_both': -0.2768983372209973 + 0.805773558068805,\n",
    "#                    'log_scale': 0.805773558068805,\n",
    "#                    'rho': 0.6097218157104826,\n",
    "#                    'phi': -0.8999999994952989,\n",
    "#                    # Here I use the daily value.\n",
    "#                    'pi': -.01,\n",
    "#                    'theta': 2.6348432313374923}\n",
    "    \n",
    "time_dim = 10000\n",
    "sim_dim = 1000\n",
    "innov_dim = 250"
   ]
  },
  {
   "cell_type": "code",
   "execution_count": 56,
   "metadata": {},
   "outputs": [],
   "source": [
    "total_true_params = true_params.copy()\n",
    "total_true_params.update(\n",
    "    {'gamma': vl.compute_gamma(**true_params),\n",
    "     'beta':vl.compute_beta(rho=true_params['rho'], log_scale=true_params['log_scale'],\n",
    "                            phi=true_params['phi'], pi=true_params['pi'], theta=true_params['theta']),\n",
    "     'psi':vl.compute_psi(rho=true_params['rho'], log_scale=true_params['log_scale'], phi=true_params['phi'], \n",
    "                  theta=true_params['theta']),\n",
    "      'zeta': 1 - true_params['phi']**2})"
   ]
  },
  {
   "cell_type": "code",
   "execution_count": 57,
   "metadata": {},
   "outputs": [],
   "source": [
    "def compute_moments(log_both, rho, log_scale, phi, pi, theta):\n",
    "    \n",
    "    vol_mean = np.exp(log_both) / (1 - rho)\n",
    "    vol_var = (2 * np.exp(log_scale) * rho * vol_mean + np.exp(log_scale)**2 * np.exp(log_both - log_scale)) / (1 - rho**2)\n",
    "    \n",
    "    psi = vl.compute_psi(rho=rho, log_scale=log_scale, phi=phi, theta=theta)\n",
    "    beta = vl.compute_beta(rho=rho, log_scale=log_scale, phi=phi, pi=pi, theta=theta)\n",
    "    gamma = vl.compute_gamma(log_both=log_both, rho=rho, log_scale=log_scale, phi=phi, pi=pi, theta=theta)\n",
    "    \n",
    "    return_mean = psi * vol_mean + beta * vol_mean + gamma\n",
    "    return_var = psi**2 * vol_var + beta**2 * vol_var  + (1 - phi**2) * vol_mean\n",
    "    \n",
    "    return {'return_mean': return_mean, 'return_var': return_var, 'vol_mean': vol_mean, 'vol_var': vol_var}"
   ]
  },
  {
   "cell_type": "code",
   "execution_count": 58,
   "metadata": {},
   "outputs": [
    {
     "data": {
      "text/plain": [
       "{'return_mean': 0.016438643387486202,\n",
       " 'return_var': 0.006468921471145504,\n",
       " 'vol_mean': 0.005103957600000001,\n",
       " 'vol_var': 0.0004023225201945601}"
      ]
     },
     "execution_count": 58,
     "metadata": {},
     "output_type": "execute_result"
    }
   ],
   "source": [
    "compute_moments(**true_params)"
   ]
  },
  {
   "cell_type": "code",
   "execution_count": 59,
   "metadata": {},
   "outputs": [
    {
     "data": {
      "text/plain": [
       "0.006531317209469231"
      ]
     },
     "execution_count": 59,
     "metadata": {},
     "output_type": "execute_result"
    }
   ],
   "source": [
    "vl.compute_gamma(**true_params)"
   ]
  },
  {
   "cell_type": "code",
   "execution_count": 60,
   "metadata": {},
   "outputs": [
    {
     "data": {
      "text/plain": [
       "{'theta': 1.768,\n",
       " 'pi': -10,\n",
       " 'phi': -0.4,\n",
       " 'log_scale': -3.23366464234164,\n",
       " 'log_both': -5.97088622074413,\n",
       " 'rho': 0.5,\n",
       " 'gamma': 0.006531317209469231,\n",
       " 'beta': 2.300696270942634,\n",
       " 'psi': -0.35958959364246024,\n",
       " 'zeta': 0.84}"
      ]
     },
     "execution_count": 60,
     "metadata": {},
     "output_type": "execute_result"
    }
   ],
   "source": [
    "total_true_params"
   ]
  },
  {
   "cell_type": "code",
   "execution_count": 61,
   "metadata": {},
   "outputs": [
    {
     "data": {
      "text/plain": [
       "{'theta': 1.768,\n",
       " 'pi': -10,\n",
       " 'phi': -0.4,\n",
       " 'log_scale': -3.23366464234164,\n",
       " 'log_both': -5.97088622074413,\n",
       " 'rho': 0.5}"
      ]
     },
     "execution_count": 61,
     "metadata": {},
     "output_type": "execute_result"
    }
   ],
   "source": [
    "true_params"
   ]
  },
  {
   "cell_type": "code",
   "execution_count": 62,
   "metadata": {},
   "outputs": [
    {
     "data": {
      "text/plain": [
       "{'theta': 1.768,\n",
       " 'pi': -10,\n",
       " 'phi': -0.4,\n",
       " 'log_scale': -3.23366464234164,\n",
       " 'log_both': -5.97088622074413,\n",
       " 'rho': 0.5,\n",
       " 'gamma': 0.006531317209469231,\n",
       " 'beta': 2.300696270942634,\n",
       " 'psi': -0.35958959364246024,\n",
       " 'zeta': 0.84}"
      ]
     },
     "execution_count": 62,
     "metadata": {},
     "output_type": "execute_result"
    }
   ],
   "source": [
    "total_true_params"
   ]
  },
  {
   "cell_type": "markdown",
   "metadata": {},
   "source": [
    "## We start by examining the distributions of simulated data"
   ]
  },
  {
   "cell_type": "code",
   "execution_count": null,
   "metadata": {},
   "outputs": [],
   "source": []
  },
  {
   "cell_type": "code",
   "execution_count": 63,
   "metadata": {},
   "outputs": [],
   "source": [
    "data = vl.simulate_data(time_dim=time_dim, **true_params)"
   ]
  },
  {
   "cell_type": "code",
   "execution_count": 64,
   "metadata": {},
   "outputs": [
    {
     "data": {
      "text/html": [
       "<div>\n",
       "<style scoped>\n",
       "    .dataframe tbody tr th:only-of-type {\n",
       "        vertical-align: middle;\n",
       "    }\n",
       "\n",
       "    .dataframe tbody tr th {\n",
       "        vertical-align: top;\n",
       "    }\n",
       "\n",
       "    .dataframe thead th {\n",
       "        text-align: right;\n",
       "    }\n",
       "</style>\n",
       "<table border=\"1\" class=\"dataframe\">\n",
       "  <thead>\n",
       "    <tr style=\"text-align: right;\">\n",
       "      <th></th>\n",
       "      <th>vol</th>\n",
       "      <th>rtn</th>\n",
       "    </tr>\n",
       "  </thead>\n",
       "  <tbody>\n",
       "    <tr>\n",
       "      <th>vol</th>\n",
       "      <td>1.00000</td>\n",
       "      <td>0.20032</td>\n",
       "    </tr>\n",
       "    <tr>\n",
       "      <th>rtn</th>\n",
       "      <td>0.20032</td>\n",
       "      <td>1.00000</td>\n",
       "    </tr>\n",
       "  </tbody>\n",
       "</table>\n",
       "</div>"
      ],
      "text/plain": [
       "         vol      rtn\n",
       "vol  1.00000  0.20032\n",
       "rtn  0.20032  1.00000"
      ]
     },
     "execution_count": 64,
     "metadata": {},
     "output_type": "execute_result"
    }
   ],
   "source": [
    "data.corr()"
   ]
  },
  {
   "cell_type": "code",
   "execution_count": 65,
   "metadata": {},
   "outputs": [
    {
     "data": {
      "text/html": [
       "<div>\n",
       "<style scoped>\n",
       "    .dataframe tbody tr th:only-of-type {\n",
       "        vertical-align: middle;\n",
       "    }\n",
       "\n",
       "    .dataframe tbody tr th {\n",
       "        vertical-align: top;\n",
       "    }\n",
       "\n",
       "    .dataframe thead th {\n",
       "        text-align: right;\n",
       "    }\n",
       "</style>\n",
       "<table border=\"1\" class=\"dataframe\">\n",
       "  <thead>\n",
       "    <tr style=\"text-align: right;\">\n",
       "      <th></th>\n",
       "      <th>vol</th>\n",
       "      <th>rtn</th>\n",
       "    </tr>\n",
       "  </thead>\n",
       "  <tbody>\n",
       "    <tr>\n",
       "      <th>2000-01-01</th>\n",
       "      <td>0.00001</td>\n",
       "      <td>0.005217</td>\n",
       "    </tr>\n",
       "    <tr>\n",
       "      <th>2000-01-02</th>\n",
       "      <td>0.00001</td>\n",
       "      <td>0.007642</td>\n",
       "    </tr>\n",
       "    <tr>\n",
       "      <th>2000-01-03</th>\n",
       "      <td>0.00001</td>\n",
       "      <td>0.008573</td>\n",
       "    </tr>\n",
       "    <tr>\n",
       "      <th>2000-01-04</th>\n",
       "      <td>0.00001</td>\n",
       "      <td>0.008096</td>\n",
       "    </tr>\n",
       "    <tr>\n",
       "      <th>2000-01-05</th>\n",
       "      <td>0.00001</td>\n",
       "      <td>0.009587</td>\n",
       "    </tr>\n",
       "  </tbody>\n",
       "</table>\n",
       "</div>"
      ],
      "text/plain": [
       "                vol       rtn\n",
       "2000-01-01  0.00001  0.005217\n",
       "2000-01-02  0.00001  0.007642\n",
       "2000-01-03  0.00001  0.008573\n",
       "2000-01-04  0.00001  0.008096\n",
       "2000-01-05  0.00001  0.009587"
      ]
     },
     "execution_count": 65,
     "metadata": {},
     "output_type": "execute_result"
    }
   ],
   "source": [
    "data.head()"
   ]
  },
  {
   "cell_type": "code",
   "execution_count": 66,
   "metadata": {},
   "outputs": [
    {
     "data": {
      "text/plain": [
       "0.0003991472943321901"
      ]
     },
     "execution_count": 66,
     "metadata": {},
     "output_type": "execute_result"
    }
   ],
   "source": [
    "data.vol.var()"
   ]
  },
  {
   "cell_type": "code",
   "execution_count": 67,
   "metadata": {},
   "outputs": [],
   "source": [
    "init_constants = vl.compute_init_constants(data.vol)"
   ]
  },
  {
   "cell_type": "code",
   "execution_count": 68,
   "metadata": {},
   "outputs": [
    {
     "data": {
      "text/plain": [
       "{'log_both': -5.986863281306248,\n",
       " 'log_scale': -3.247441322925159,\n",
       " 'rho': 0.5054428525031537}"
      ]
     },
     "execution_count": 68,
     "metadata": {},
     "output_type": "execute_result"
    }
   ],
   "source": [
    "init_constants"
   ]
  },
  {
   "cell_type": "code",
   "execution_count": 69,
   "metadata": {},
   "outputs": [
    {
     "data": {
      "text/plain": [
       "({'log_both': -6.028191280626551,\n",
       "  'log_scale': -3.2903188199250444,\n",
       "  'rho': 0.49530959915919204},\n",
       "            log_both  log_scale       rho\n",
       " log_both   0.003711   0.002020 -0.001000\n",
       " log_scale  0.002020   0.003477 -0.000388\n",
       " rho       -0.001000  -0.000388  0.001094)"
      ]
     },
     "execution_count": 69,
     "metadata": {},
     "output_type": "execute_result"
    }
   ],
   "source": [
    "vl.compute_vol_gmm(data.vol, init_constants)"
   ]
  },
  {
   "cell_type": "code",
   "execution_count": 70,
   "metadata": {},
   "outputs": [],
   "source": [
    "omega, omega_cov = vl.estimate_params(data)"
   ]
  },
  {
   "cell_type": "code",
   "execution_count": 71,
   "metadata": {},
   "outputs": [
    {
     "data": {
      "text/plain": [
       "{'gamma': 0.0065184105816962976,\n",
       " 'beta': 2.2985321165857084,\n",
       " 'psi': -0.3388217613677597,\n",
       " 'zeta': 0.8429055409175753,\n",
       " 'log_both': -6.028191280626551,\n",
       " 'log_scale': -3.2903188199250444,\n",
       " 'rho': 0.49530959915919204}"
      ]
     },
     "execution_count": 71,
     "metadata": {},
     "output_type": "execute_result"
    }
   ],
   "source": [
    "omega"
   ]
  },
  {
   "cell_type": "code",
   "execution_count": 72,
   "metadata": {},
   "outputs": [
    {
     "data": {
      "text/html": [
       "<div>\n",
       "<style scoped>\n",
       "    .dataframe tbody tr th:only-of-type {\n",
       "        vertical-align: middle;\n",
       "    }\n",
       "\n",
       "    .dataframe tbody tr th {\n",
       "        vertical-align: top;\n",
       "    }\n",
       "\n",
       "    .dataframe thead th {\n",
       "        text-align: right;\n",
       "    }\n",
       "</style>\n",
       "<table border=\"1\" class=\"dataframe\">\n",
       "  <thead>\n",
       "    <tr style=\"text-align: right;\">\n",
       "      <th></th>\n",
       "      <th>beta</th>\n",
       "      <th>gamma</th>\n",
       "      <th>log_both</th>\n",
       "      <th>log_scale</th>\n",
       "      <th>psi</th>\n",
       "      <th>rho</th>\n",
       "      <th>zeta</th>\n",
       "    </tr>\n",
       "  </thead>\n",
       "  <tbody>\n",
       "    <tr>\n",
       "      <th>beta</th>\n",
       "      <td>1.320701e-05</td>\n",
       "      <td>-3.091846e-08</td>\n",
       "      <td>0.000000</td>\n",
       "      <td>0.000000</td>\n",
       "      <td>-7.118707e-06</td>\n",
       "      <td>0.000000</td>\n",
       "      <td>0.000000</td>\n",
       "    </tr>\n",
       "    <tr>\n",
       "      <th>gamma</th>\n",
       "      <td>-3.091846e-08</td>\n",
       "      <td>1.434241e-09</td>\n",
       "      <td>0.000000</td>\n",
       "      <td>0.000000</td>\n",
       "      <td>-2.515046e-07</td>\n",
       "      <td>0.000000</td>\n",
       "      <td>0.000000</td>\n",
       "    </tr>\n",
       "    <tr>\n",
       "      <th>log_both</th>\n",
       "      <td>0.000000e+00</td>\n",
       "      <td>0.000000e+00</td>\n",
       "      <td>0.003711</td>\n",
       "      <td>0.002020</td>\n",
       "      <td>0.000000e+00</td>\n",
       "      <td>-0.001000</td>\n",
       "      <td>0.000000</td>\n",
       "    </tr>\n",
       "    <tr>\n",
       "      <th>log_scale</th>\n",
       "      <td>0.000000e+00</td>\n",
       "      <td>0.000000e+00</td>\n",
       "      <td>0.002020</td>\n",
       "      <td>0.003477</td>\n",
       "      <td>0.000000e+00</td>\n",
       "      <td>-0.000388</td>\n",
       "      <td>0.000000</td>\n",
       "    </tr>\n",
       "    <tr>\n",
       "      <th>psi</th>\n",
       "      <td>-7.118707e-06</td>\n",
       "      <td>-2.515046e-07</td>\n",
       "      <td>0.000000</td>\n",
       "      <td>0.000000</td>\n",
       "      <td>1.666134e-02</td>\n",
       "      <td>0.000000</td>\n",
       "      <td>0.000000</td>\n",
       "    </tr>\n",
       "    <tr>\n",
       "      <th>rho</th>\n",
       "      <td>0.000000e+00</td>\n",
       "      <td>0.000000e+00</td>\n",
       "      <td>-0.001000</td>\n",
       "      <td>-0.000388</td>\n",
       "      <td>0.000000e+00</td>\n",
       "      <td>0.001094</td>\n",
       "      <td>0.000000</td>\n",
       "    </tr>\n",
       "    <tr>\n",
       "      <th>zeta</th>\n",
       "      <td>0.000000e+00</td>\n",
       "      <td>0.000000e+00</td>\n",
       "      <td>0.000000</td>\n",
       "      <td>0.000000</td>\n",
       "      <td>0.000000e+00</td>\n",
       "      <td>0.000000</td>\n",
       "      <td>0.000144</td>\n",
       "    </tr>\n",
       "  </tbody>\n",
       "</table>\n",
       "</div>"
      ],
      "text/plain": [
       "                   beta         gamma  log_both  log_scale           psi  \\\n",
       "beta       1.320701e-05 -3.091846e-08  0.000000   0.000000 -7.118707e-06   \n",
       "gamma     -3.091846e-08  1.434241e-09  0.000000   0.000000 -2.515046e-07   \n",
       "log_both   0.000000e+00  0.000000e+00  0.003711   0.002020  0.000000e+00   \n",
       "log_scale  0.000000e+00  0.000000e+00  0.002020   0.003477  0.000000e+00   \n",
       "psi       -7.118707e-06 -2.515046e-07  0.000000   0.000000  1.666134e-02   \n",
       "rho        0.000000e+00  0.000000e+00 -0.001000  -0.000388  0.000000e+00   \n",
       "zeta       0.000000e+00  0.000000e+00  0.000000   0.000000  0.000000e+00   \n",
       "\n",
       "                rho      zeta  \n",
       "beta       0.000000  0.000000  \n",
       "gamma      0.000000  0.000000  \n",
       "log_both  -0.001000  0.000000  \n",
       "log_scale -0.000388  0.000000  \n",
       "psi        0.000000  0.000000  \n",
       "rho        0.001094  0.000000  \n",
       "zeta       0.000000  0.000144  "
      ]
     },
     "execution_count": 72,
     "metadata": {},
     "output_type": "execute_result"
    }
   ],
   "source": [
    "omega_cov"
   ]
  },
  {
   "cell_type": "code",
   "execution_count": 73,
   "metadata": {},
   "outputs": [
    {
     "data": {
      "text/plain": [
       "<matplotlib.legend.Legend at 0x7f6de0c658d0>"
      ]
     },
     "execution_count": 73,
     "metadata": {},
     "output_type": "execute_result"
    },
    {
     "data": {
      "image/png": "[encoded data removed]",
      "text/plain": [
       "<Figure size 748.8x514.8 with 1 Axes>"
      ]
     },
     "metadata": {
      "needs_background": "light"
     },
     "output_type": "display_data"
    }
   ],
   "source": [
    "fig1, ax1 = mpl.pyplot.subplots()\n",
    "ax1.plot(data.rtn, label='Return', color='blue')\n",
    "ax1.plot(data.vol.apply(np.sqrt), label='Volatility', color='orange')\n",
    "\n",
    "ax1.legend()"
   ]
  },
  {
   "cell_type": "code",
   "execution_count": 76,
   "metadata": {},
   "outputs": [
    {
     "data": {
      "text/html": [
       "<div>\n",
       "<style scoped>\n",
       "    .dataframe tbody tr th:only-of-type {\n",
       "        vertical-align: middle;\n",
       "    }\n",
       "\n",
       "    .dataframe tbody tr th {\n",
       "        vertical-align: top;\n",
       "    }\n",
       "\n",
       "    .dataframe thead th {\n",
       "        text-align: right;\n",
       "    }\n",
       "</style>\n",
       "<table border=\"1\" class=\"dataframe\">\n",
       "  <thead>\n",
       "    <tr style=\"text-align: right;\">\n",
       "      <th></th>\n",
       "      <th>vol</th>\n",
       "      <th>rtn</th>\n",
       "    </tr>\n",
       "  </thead>\n",
       "  <tbody>\n",
       "    <tr>\n",
       "      <th>vol</th>\n",
       "      <td>0.004129</td>\n",
       "      <td>0.000980</td>\n",
       "    </tr>\n",
       "    <tr>\n",
       "      <th>rtn</th>\n",
       "      <td>0.000980</td>\n",
       "      <td>0.006037</td>\n",
       "    </tr>\n",
       "  </tbody>\n",
       "</table>\n",
       "</div>"
      ],
      "text/plain": [
       "          vol       rtn\n",
       "vol  0.004129  0.000980\n",
       "rtn  0.000980  0.006037"
      ]
     },
     "execution_count": 76,
     "metadata": {},
     "output_type": "execute_result"
    }
   ],
   "source": [
    "data.transform(lambda x: np.sqrt(x) if x.name == 'vol' else x).cov()"
   ]
  },
  {
   "cell_type": "code",
   "execution_count": 77,
   "metadata": {},
   "outputs": [
    {
     "data": {
      "text/plain": [
       "{'theta': 1.768,\n",
       " 'pi': -10,\n",
       " 'phi': -0.4,\n",
       " 'log_scale': -3.23366464234164,\n",
       " 'log_both': -5.97088622074413,\n",
       " 'rho': 0.5,\n",
       " 'gamma': 0.006531317209469231,\n",
       " 'beta': 2.300696270942634,\n",
       " 'psi': -0.35958959364246024,\n",
       " 'zeta': 0.84}"
      ]
     },
     "execution_count": 77,
     "metadata": {},
     "output_type": "execute_result"
    }
   ],
   "source": [
    "total_true_params"
   ]
  },
  {
   "cell_type": "code",
   "execution_count": 78,
   "metadata": {},
   "outputs": [
    {
     "data": {
      "text/plain": [
       "<seaborn.axisgrid.JointGrid at 0x7f6de0c7f080>"
      ]
     },
     "execution_count": 78,
     "metadata": {},
     "output_type": "execute_result"
    },
    {
     "data": {
      "image/png": "[encoded data removed]",
      "text/plain": [
       "<Figure size 432x432 with 3 Axes>"
      ]
     },
     "metadata": {
      "needs_background": "light"
     },
     "output_type": "display_data"
    }
   ],
   "source": [
    "sns.jointplot(x='vol', y='rtn', data=data, kind='reg')"
   ]
  },
  {
   "cell_type": "code",
   "execution_count": 79,
   "metadata": {},
   "outputs": [
    {
     "data": {
      "text/html": [
       "<div>\n",
       "<style scoped>\n",
       "    .dataframe tbody tr th:only-of-type {\n",
       "        vertical-align: middle;\n",
       "    }\n",
       "\n",
       "    .dataframe tbody tr th {\n",
       "        vertical-align: top;\n",
       "    }\n",
       "\n",
       "    .dataframe thead th {\n",
       "        text-align: right;\n",
       "    }\n",
       "</style>\n",
       "<table border=\"1\" class=\"dataframe\">\n",
       "  <thead>\n",
       "    <tr style=\"text-align: right;\">\n",
       "      <th></th>\n",
       "      <th>vol</th>\n",
       "      <th>rtn</th>\n",
       "    </tr>\n",
       "  </thead>\n",
       "  <tbody>\n",
       "    <tr>\n",
       "      <th>count</th>\n",
       "      <td>10000.000000</td>\n",
       "      <td>10000.000000</td>\n",
       "    </tr>\n",
       "    <tr>\n",
       "      <th>mean</th>\n",
       "      <td>0.005078</td>\n",
       "      <td>0.016469</td>\n",
       "    </tr>\n",
       "    <tr>\n",
       "      <th>std</th>\n",
       "      <td>0.019979</td>\n",
       "      <td>0.077697</td>\n",
       "    </tr>\n",
       "    <tr>\n",
       "      <th>min</th>\n",
       "      <td>0.000010</td>\n",
       "      <td>-0.919029</td>\n",
       "    </tr>\n",
       "    <tr>\n",
       "      <th>25%</th>\n",
       "      <td>0.000010</td>\n",
       "      <td>0.004099</td>\n",
       "    </tr>\n",
       "    <tr>\n",
       "      <th>50%</th>\n",
       "      <td>0.000010</td>\n",
       "      <td>0.007601</td>\n",
       "    </tr>\n",
       "    <tr>\n",
       "      <th>75%</th>\n",
       "      <td>0.000514</td>\n",
       "      <td>0.013501</td>\n",
       "    </tr>\n",
       "    <tr>\n",
       "      <th>max</th>\n",
       "      <td>0.311697</td>\n",
       "      <td>1.520884</td>\n",
       "    </tr>\n",
       "  </tbody>\n",
       "</table>\n",
       "</div>"
      ],
      "text/plain": [
       "                vol           rtn\n",
       "count  10000.000000  10000.000000\n",
       "mean       0.005078      0.016469\n",
       "std        0.019979      0.077697\n",
       "min        0.000010     -0.919029\n",
       "25%        0.000010      0.004099\n",
       "50%        0.000010      0.007601\n",
       "75%        0.000514      0.013501\n",
       "max        0.311697      1.520884"
      ]
     },
     "execution_count": 79,
     "metadata": {},
     "output_type": "execute_result"
    }
   ],
   "source": [
    "data.describe()"
   ]
  },
  {
   "cell_type": "markdown",
   "metadata": {},
   "source": [
    "## I now estimate all of the parameters"
   ]
  },
  {
   "cell_type": "code",
   "execution_count": 80,
   "metadata": {},
   "outputs": [
    {
     "data": {
      "application/vnd.jupyter.widget-view+json": {
       "model_id": "9458e74e292944d997316261cc393919",
       "version_major": 2,
       "version_minor": 0
      },
      "text/plain": [
       "HBox(children=(IntProgress(value=0, max=1000), HTML(value='')))"
      ]
     },
     "metadata": {},
     "output_type": "display_data"
    }
   ],
   "source": [
    "data_arr = [vl.simulate_data(time_dim=time_dim, **true_params)  for _ in tqdm.tnrange(sim_dim)]"
   ]
  },
  {
   "cell_type": "code",
   "execution_count": 81,
   "metadata": {},
   "outputs": [],
   "source": [
    "def vol_estimator(data):\n",
    "    return vl.compute_vol_gmm(data.vol, init_constants=vl.compute_init_constants(data.vol))"
   ]
  },
  {
   "cell_type": "code",
   "execution_count": 82,
   "metadata": {},
   "outputs": [
    {
     "data": {
      "text/plain": [
       "({'log_both': -5.983249721229089,\n",
       "  'log_scale': -3.2645200255483955,\n",
       "  'rho': 0.4308401407338962},\n",
       "            log_both  log_scale       rho\n",
       " log_both   0.003001   0.001650 -0.000618\n",
       " log_scale  0.001650   0.002848 -0.000102\n",
       " rho       -0.000618  -0.000102  0.000849)"
      ]
     },
     "execution_count": 82,
     "metadata": {},
     "output_type": "execute_result"
    }
   ],
   "source": [
    "vol_estimator(data_arr[2])"
   ]
  },
  {
   "cell_type": "code",
   "execution_count": 83,
   "metadata": {},
   "outputs": [
    {
     "data": {
      "application/vnd.jupyter.widget-view+json": {
       "model_id": "52cfca853efc4f89b8b5ec99fe46ce05",
       "version_major": 2,
       "version_minor": 0
      },
      "text/plain": [
       "HBox(children=(IntProgress(value=0, max=1000), HTML(value='')))"
      ]
     },
     "metadata": {},
     "output_type": "display_data"
    }
   ],
   "source": [
    "with Pool(8) as pool:\n",
    "    est_arr = list(tqdm.tqdm_notebook(pool.imap_unordered(vol_estimator, data_arr),\n",
    "                                      total=len(data_arr)))"
   ]
  },
  {
   "cell_type": "code",
   "execution_count": 84,
   "metadata": {},
   "outputs": [],
   "source": [
    "vol_params = pd.Series(true_params).loc[['log_both', 'log_scale', 'rho']]"
   ]
  },
  {
   "cell_type": "code",
   "execution_count": 85,
   "metadata": {},
   "outputs": [],
   "source": [
    "ar_stats = [(pd.Series(est[0]) - vol_params) @ np.linalg.pinv(est[1]) @ (pd.Series(est[0]) - vol_params).T \n",
    "            for est in est_arr]"
   ]
  },
  {
   "cell_type": "code",
   "execution_count": 86,
   "metadata": {},
   "outputs": [
    {
     "data": {
      "text/plain": [
       "<matplotlib.lines.Line2D at 0x7f6dfc5cb7b8>"
      ]
     },
     "execution_count": 86,
     "metadata": {},
     "output_type": "execute_result"
    },
    {
     "data": {
      "image/png": "[encoded data removed]",
      "text/plain": [
       "<Figure size 748.8x514.8 with 1 Axes>"
      ]
     },
     "metadata": {
      "needs_background": "light"
     },
     "output_type": "display_data"
    }
   ],
   "source": [
    "vol_fig, vol_ax = mpl.pyplot.subplots()\n",
    "sns.distplot(ar_stats, ax=vol_ax)\n",
    "vol_ax.plot(np.linspace(0, 20, 100), stats.chi2.pdf(np.linspace(0,20,100), df=3), color='black')\n",
    "vol_ax.set_xlim([0,20])\n",
    "vol_ax.axvline(stats.chi2.ppf(df=3, q=.95), color='black')\n",
    "vol_ax.axvline(np.percentile(ar_stats, 95), color='blue')"
   ]
  },
  {
   "cell_type": "code",
   "execution_count": 87,
   "metadata": {},
   "outputs": [
    {
     "data": {
      "text/plain": [
       "13.100000000000001"
      ]
     },
     "execution_count": 87,
     "metadata": {},
     "output_type": "execute_result"
    }
   ],
   "source": [
    "100 * np.mean(stats.chi2.ppf(df=3, q=.95) < ar_stats)"
   ]
  },
  {
   "cell_type": "code",
   "execution_count": 88,
   "metadata": {},
   "outputs": [],
   "source": [
    "t_stats = [(name, (est[0][name] - vol_params[name]) / np.sqrt(est[1].loc[name, name]) )\n",
    "            for est in est_arr for name in ['rho', 'log_scale', 'log_both']]\n",
    "t_stats_df = pd.DataFrame.from_records(t_stats).pivot(columns=0, values=1).ffill().bfill().iloc[::3,:]"
   ]
  },
  {
   "cell_type": "code",
   "execution_count": null,
   "metadata": {},
   "outputs": [],
   "source": []
  },
  {
   "cell_type": "code",
   "execution_count": 89,
   "metadata": {},
   "outputs": [
    {
     "data": {
      "text/plain": [
       "{'log_both': -5.986863281306248,\n",
       " 'log_scale': -3.247441322925159,\n",
       " 'rho': 0.5054428525031537}"
      ]
     },
     "execution_count": 89,
     "metadata": {},
     "output_type": "execute_result"
    }
   ],
   "source": [
    "vl.compute_init_constants(data.vol)"
   ]
  },
  {
   "cell_type": "code",
   "execution_count": 90,
   "metadata": {},
   "outputs": [
    {
     "data": {
      "text/plain": [
       "-5.97088622074413"
      ]
     },
     "execution_count": 90,
     "metadata": {},
     "output_type": "execute_result"
    }
   ],
   "source": [
    "true_params['log_both']"
   ]
  },
  {
   "cell_type": "code",
   "execution_count": 91,
   "metadata": {},
   "outputs": [
    {
     "data": {
      "text/plain": [
       "-6.191530663176487"
      ]
     },
     "execution_count": 91,
     "metadata": {},
     "output_type": "execute_result"
    }
   ],
   "source": [
    "np.amin([est[0]['log_both'] for est in est_arr])"
   ]
  },
  {
   "cell_type": "code",
   "execution_count": 92,
   "metadata": {},
   "outputs": [
    {
     "data": {
      "text/html": [
       "<div>\n",
       "<style scoped>\n",
       "    .dataframe tbody tr th:only-of-type {\n",
       "        vertical-align: middle;\n",
       "    }\n",
       "\n",
       "    .dataframe tbody tr th {\n",
       "        vertical-align: top;\n",
       "    }\n",
       "\n",
       "    .dataframe thead th {\n",
       "        text-align: right;\n",
       "    }\n",
       "</style>\n",
       "<table border=\"1\" class=\"dataframe\">\n",
       "  <thead>\n",
       "    <tr style=\"text-align: right;\">\n",
       "      <th></th>\n",
       "      <th>log_both</th>\n",
       "      <th>log_scale</th>\n",
       "      <th>rho</th>\n",
       "    </tr>\n",
       "  </thead>\n",
       "  <tbody>\n",
       "    <tr>\n",
       "      <th>count</th>\n",
       "      <td>1000.000000</td>\n",
       "      <td>1000.000000</td>\n",
       "      <td>1000.000000</td>\n",
       "    </tr>\n",
       "    <tr>\n",
       "      <th>mean</th>\n",
       "      <td>0.011016</td>\n",
       "      <td>-0.505647</td>\n",
       "      <td>-0.334172</td>\n",
       "    </tr>\n",
       "    <tr>\n",
       "      <th>std</th>\n",
       "      <td>1.013578</td>\n",
       "      <td>1.104301</td>\n",
       "      <td>1.154323</td>\n",
       "    </tr>\n",
       "    <tr>\n",
       "      <th>min</th>\n",
       "      <td>-2.938949</td>\n",
       "      <td>-4.603437</td>\n",
       "      <td>-6.365339</td>\n",
       "    </tr>\n",
       "    <tr>\n",
       "      <th>25%</th>\n",
       "      <td>-0.656388</td>\n",
       "      <td>-1.232478</td>\n",
       "      <td>-1.087416</td>\n",
       "    </tr>\n",
       "    <tr>\n",
       "      <th>50%</th>\n",
       "      <td>-0.038840</td>\n",
       "      <td>-0.426821</td>\n",
       "      <td>-0.235820</td>\n",
       "    </tr>\n",
       "    <tr>\n",
       "      <th>75%</th>\n",
       "      <td>0.656153</td>\n",
       "      <td>0.236182</td>\n",
       "      <td>0.465124</td>\n",
       "    </tr>\n",
       "    <tr>\n",
       "      <th>max</th>\n",
       "      <td>3.325949</td>\n",
       "      <td>2.738466</td>\n",
       "      <td>3.028393</td>\n",
       "    </tr>\n",
       "  </tbody>\n",
       "</table>\n",
       "</div>"
      ],
      "text/plain": [
       "0         log_both    log_scale          rho\n",
       "count  1000.000000  1000.000000  1000.000000\n",
       "mean      0.011016    -0.505647    -0.334172\n",
       "std       1.013578     1.104301     1.154323\n",
       "min      -2.938949    -4.603437    -6.365339\n",
       "25%      -0.656388    -1.232478    -1.087416\n",
       "50%      -0.038840    -0.426821    -0.235820\n",
       "75%       0.656153     0.236182     0.465124\n",
       "max       3.325949     2.738466     3.028393"
      ]
     },
     "execution_count": 92,
     "metadata": {},
     "output_type": "execute_result"
    }
   ],
   "source": [
    "t_stats_df.describe()"
   ]
  },
  {
   "cell_type": "code",
   "execution_count": 93,
   "metadata": {},
   "outputs": [
    {
     "data": {
      "image/png": "[encoded data removed]",
      "text/plain": [
       "<Figure size 748.8x514.8 with 1 Axes>"
      ]
     },
     "metadata": {
      "needs_background": "light"
     },
     "output_type": "display_data"
    },
    {
     "data": {
      "image/png": "[encoded data removed]",
      "text/plain": [
       "<Figure size 748.8x514.8 with 1 Axes>"
      ]
     },
     "metadata": {
      "needs_background": "light"
     },
     "output_type": "display_data"
    },
    {
     "data": {
      "image/png": "[encoded data removed]",
      "text/plain": [
       "<Figure size 748.8x514.8 with 1 Axes>"
      ]
     },
     "metadata": {
      "needs_background": "light"
     },
     "output_type": "display_data"
    }
   ],
   "source": [
    "for name, col in t_stats_df.items():\n",
    "    fig, ax = mpl.pyplot.subplots()\n",
    "    sns.distplot(col, ax=ax)\n",
    "    ax.plot(np.linspace(-5,5,100), stats.norm.pdf(np.linspace(-5,5,100)), color='black')"
   ]
  },
  {
   "cell_type": "code",
   "execution_count": null,
   "metadata": {},
   "outputs": [],
   "source": []
  },
  {
   "cell_type": "code",
   "execution_count": 42,
   "metadata": {},
   "outputs": [],
   "source": [
    "estimator = partial(vl.estimate_params_strong_id, case=1)"
   ]
  },
  {
   "cell_type": "code",
   "execution_count": 43,
   "metadata": {
    "scrolled": false
   },
   "outputs": [
    {
     "data": {
      "application/vnd.jupyter.widget-view+json": {
       "model_id": "40b856fcc69245e4b27f5b65d34c2c06",
       "version_major": 2,
       "version_minor": 0
      },
      "text/plain": [
       "HBox(children=(IntProgress(value=0, max=1000), HTML(value='')))"
      ]
     },
     "metadata": {},
     "output_type": "display_data"
    },
    {
     "name": "stderr",
     "output_type": "stream",
     "text": [
      "Process ForkPoolWorker-10:\n",
      "Process ForkPoolWorker-13:\n"
     ]
    },
    {
     "ename": "KeyboardInterrupt",
     "evalue": "",
     "output_type": "error",
     "traceback": [
      "\u001b[0;31m---------------------------------------------------------------------------\u001b[0m",
      "\u001b[0;31mIndexError\u001b[0m                                Traceback (most recent call last)",
      "\u001b[0;32m~/anaconda3/lib/python3.7/multiprocessing/pool.py\u001b[0m in \u001b[0;36mnext\u001b[0;34m(self, timeout)\u001b[0m\n\u001b[1;32m    758\u001b[0m             \u001b[0;32mtry\u001b[0m\u001b[0;34m:\u001b[0m\u001b[0;34m\u001b[0m\u001b[0;34m\u001b[0m\u001b[0m\n\u001b[0;32m--> 759\u001b[0;31m                 \u001b[0mitem\u001b[0m \u001b[0;34m=\u001b[0m \u001b[0mself\u001b[0m\u001b[0;34m.\u001b[0m\u001b[0m_items\u001b[0m\u001b[0;34m.\u001b[0m\u001b[0mpopleft\u001b[0m\u001b[0;34m(\u001b[0m\u001b[0;34m)\u001b[0m\u001b[0;34m\u001b[0m\u001b[0;34m\u001b[0m\u001b[0m\n\u001b[0m\u001b[1;32m    760\u001b[0m             \u001b[0;32mexcept\u001b[0m \u001b[0mIndexError\u001b[0m\u001b[0;34m:\u001b[0m\u001b[0;34m\u001b[0m\u001b[0;34m\u001b[0m\u001b[0m\n",
      "\u001b[0;31mIndexError\u001b[0m: pop from an empty deque",
      "\nDuring handling of the above exception, another exception occurred:\n",
      "\u001b[0;31mKeyboardInterrupt\u001b[0m                         Traceback (most recent call last)",
      "\u001b[0;32m<ipython-input-43-f406f0497730>\u001b[0m in \u001b[0;36m<module>\u001b[0;34m\u001b[0m\n\u001b[1;32m      1\u001b[0m \u001b[0;32mwith\u001b[0m \u001b[0mPool\u001b[0m\u001b[0;34m(\u001b[0m\u001b[0;36m8\u001b[0m\u001b[0;34m)\u001b[0m \u001b[0;32mas\u001b[0m \u001b[0mpool\u001b[0m\u001b[0;34m:\u001b[0m\u001b[0;34m\u001b[0m\u001b[0;34m\u001b[0m\u001b[0m\n\u001b[1;32m      2\u001b[0m     est_arr = list(tqdm.tqdm_notebook(pool.imap_unordered(estimator, data_arr),\n\u001b[0;32m----> 3\u001b[0;31m                                       total=len(data_arr)))\n\u001b[0m",
      "\u001b[0;32m~/anaconda3/lib/python3.7/site-packages/tqdm/_tqdm_notebook.py\u001b[0m in \u001b[0;36m__iter__\u001b[0;34m(self, *args, **kwargs)\u001b[0m\n\u001b[1;32m    219\u001b[0m     \u001b[0;32mdef\u001b[0m \u001b[0m__iter__\u001b[0m\u001b[0;34m(\u001b[0m\u001b[0mself\u001b[0m\u001b[0;34m,\u001b[0m \u001b[0;34m*\u001b[0m\u001b[0margs\u001b[0m\u001b[0;34m,\u001b[0m \u001b[0;34m**\u001b[0m\u001b[0mkwargs\u001b[0m\u001b[0;34m)\u001b[0m\u001b[0;34m:\u001b[0m\u001b[0;34m\u001b[0m\u001b[0;34m\u001b[0m\u001b[0m\n\u001b[1;32m    220\u001b[0m         \u001b[0;32mtry\u001b[0m\u001b[0;34m:\u001b[0m\u001b[0;34m\u001b[0m\u001b[0;34m\u001b[0m\u001b[0m\n\u001b[0;32m--> 221\u001b[0;31m             \u001b[0;32mfor\u001b[0m \u001b[0mobj\u001b[0m \u001b[0;32min\u001b[0m \u001b[0msuper\u001b[0m\u001b[0;34m(\u001b[0m\u001b[0mtqdm_notebook\u001b[0m\u001b[0;34m,\u001b[0m \u001b[0mself\u001b[0m\u001b[0;34m)\u001b[0m\u001b[0;34m.\u001b[0m\u001b[0m__iter__\u001b[0m\u001b[0;34m(\u001b[0m\u001b[0;34m*\u001b[0m\u001b[0margs\u001b[0m\u001b[0;34m,\u001b[0m \u001b[0;34m**\u001b[0m\u001b[0mkwargs\u001b[0m\u001b[0;34m)\u001b[0m\u001b[0;34m:\u001b[0m\u001b[0;34m\u001b[0m\u001b[0;34m\u001b[0m\u001b[0m\n\u001b[0m\u001b[1;32m    222\u001b[0m                 \u001b[0;31m# return super(tqdm...) will not catch exception\u001b[0m\u001b[0;34m\u001b[0m\u001b[0;34m\u001b[0m\u001b[0;34m\u001b[0m\u001b[0m\n\u001b[1;32m    223\u001b[0m                 \u001b[0;32myield\u001b[0m \u001b[0mobj\u001b[0m\u001b[0;34m\u001b[0m\u001b[0;34m\u001b[0m\u001b[0m\n",
      "\u001b[0;32m~/anaconda3/lib/python3.7/site-packages/tqdm/_tqdm.py\u001b[0m in \u001b[0;36m__iter__\u001b[0;34m(self)\u001b[0m\n\u001b[1;32m   1020\u001b[0m                 \"\"\"), fp_write=getattr(self.fp, 'write', sys.stderr.write))\n\u001b[1;32m   1021\u001b[0m \u001b[0;34m\u001b[0m\u001b[0m\n\u001b[0;32m-> 1022\u001b[0;31m             \u001b[0;32mfor\u001b[0m \u001b[0mobj\u001b[0m \u001b[0;32min\u001b[0m \u001b[0miterable\u001b[0m\u001b[0;34m:\u001b[0m\u001b[0;34m\u001b[0m\u001b[0;34m\u001b[0m\u001b[0m\n\u001b[0m\u001b[1;32m   1023\u001b[0m                 \u001b[0;32myield\u001b[0m \u001b[0mobj\u001b[0m\u001b[0;34m\u001b[0m\u001b[0;34m\u001b[0m\u001b[0m\n\u001b[1;32m   1024\u001b[0m                 \u001b[0;31m# Update and possibly print the progressbar.\u001b[0m\u001b[0;34m\u001b[0m\u001b[0;34m\u001b[0m\u001b[0;34m\u001b[0m\u001b[0m\n",
      "\u001b[0;32m~/anaconda3/lib/python3.7/multiprocessing/pool.py\u001b[0m in \u001b[0;36mnext\u001b[0;34m(self, timeout)\u001b[0m\n\u001b[1;32m    761\u001b[0m                 \u001b[0;32mif\u001b[0m \u001b[0mself\u001b[0m\u001b[0;34m.\u001b[0m\u001b[0m_index\u001b[0m \u001b[0;34m==\u001b[0m \u001b[0mself\u001b[0m\u001b[0;34m.\u001b[0m\u001b[0m_length\u001b[0m\u001b[0;34m:\u001b[0m\u001b[0;34m\u001b[0m\u001b[0;34m\u001b[0m\u001b[0m\n\u001b[1;32m    762\u001b[0m                     \u001b[0;32mraise\u001b[0m \u001b[0mStopIteration\u001b[0m \u001b[0;32mfrom\u001b[0m \u001b[0;32mNone\u001b[0m\u001b[0;34m\u001b[0m\u001b[0;34m\u001b[0m\u001b[0m\n\u001b[0;32m--> 763\u001b[0;31m                 \u001b[0mself\u001b[0m\u001b[0;34m.\u001b[0m\u001b[0m_cond\u001b[0m\u001b[0;34m.\u001b[0m\u001b[0mwait\u001b[0m\u001b[0;34m(\u001b[0m\u001b[0mtimeout\u001b[0m\u001b[0;34m)\u001b[0m\u001b[0;34m\u001b[0m\u001b[0;34m\u001b[0m\u001b[0m\n\u001b[0m\u001b[1;32m    764\u001b[0m                 \u001b[0;32mtry\u001b[0m\u001b[0;34m:\u001b[0m\u001b[0;34m\u001b[0m\u001b[0;34m\u001b[0m\u001b[0m\n\u001b[1;32m    765\u001b[0m                     \u001b[0mitem\u001b[0m \u001b[0;34m=\u001b[0m \u001b[0mself\u001b[0m\u001b[0;34m.\u001b[0m\u001b[0m_items\u001b[0m\u001b[0;34m.\u001b[0m\u001b[0mpopleft\u001b[0m\u001b[0;34m(\u001b[0m\u001b[0;34m)\u001b[0m\u001b[0;34m\u001b[0m\u001b[0;34m\u001b[0m\u001b[0m\n",
      "\u001b[0;32m~/anaconda3/lib/python3.7/threading.py\u001b[0m in \u001b[0;36mwait\u001b[0;34m(self, timeout)\u001b[0m\n\u001b[1;32m    294\u001b[0m         \u001b[0;32mtry\u001b[0m\u001b[0;34m:\u001b[0m    \u001b[0;31m# restore state no matter what (e.g., KeyboardInterrupt)\u001b[0m\u001b[0;34m\u001b[0m\u001b[0;34m\u001b[0m\u001b[0m\n\u001b[1;32m    295\u001b[0m             \u001b[0;32mif\u001b[0m \u001b[0mtimeout\u001b[0m \u001b[0;32mis\u001b[0m \u001b[0;32mNone\u001b[0m\u001b[0;34m:\u001b[0m\u001b[0;34m\u001b[0m\u001b[0;34m\u001b[0m\u001b[0m\n\u001b[0;32m--> 296\u001b[0;31m                 \u001b[0mwaiter\u001b[0m\u001b[0;34m.\u001b[0m\u001b[0macquire\u001b[0m\u001b[0;34m(\u001b[0m\u001b[0;34m)\u001b[0m\u001b[0;34m\u001b[0m\u001b[0;34m\u001b[0m\u001b[0m\n\u001b[0m\u001b[1;32m    297\u001b[0m                 \u001b[0mgotit\u001b[0m \u001b[0;34m=\u001b[0m \u001b[0;32mTrue\u001b[0m\u001b[0;34m\u001b[0m\u001b[0;34m\u001b[0m\u001b[0m\n\u001b[1;32m    298\u001b[0m             \u001b[0;32melse\u001b[0m\u001b[0;34m:\u001b[0m\u001b[0;34m\u001b[0m\u001b[0;34m\u001b[0m\u001b[0m\n",
      "\u001b[0;31mKeyboardInterrupt\u001b[0m: "
     ]
    }
   ],
   "source": [
    "with Pool(8) as pool:\n",
    "    est_arr = list(tqdm.tqdm_notebook(pool.imap_unordered(estimator, data_arr),\n",
    "                                      total=len(data_arr)))"
   ]
  },
  {
   "cell_type": "code",
   "execution_count": null,
   "metadata": {},
   "outputs": [],
   "source": [
    "def t_stats(x):\n",
    "    mean = x.mean()\n",
    "    cov = x.cov()\n",
    "        \n",
    "    return mean  / np.sqrt(np.diag(cov) / data.vol.size)"
   ]
  },
  {
   "cell_type": "code",
   "execution_count": null,
   "metadata": {},
   "outputs": [],
   "source": [
    "moment_data = pd.DataFrame([t_stats(vl.vol_moments(data.vol, log_both=true_params['log_both'],\n",
    "                                                   rho=true_params['rho'], log_scale=true_params['log_scale'])) \n",
    "                            for data in tqdm.tqdm_notebook(data_arr)])"
   ]
  },
  {
   "cell_type": "code",
   "execution_count": null,
   "metadata": {
    "scrolled": false
   },
   "outputs": [],
   "source": [
    "for name, moment in moment_data.items():\n",
    "    moment_fig, moment_ax = mpl.pyplot.subplots()\n",
    "    sns.distplot(moment, ax=moment_ax, bins=40)\n",
    "    moment_ax.plot(np.linspace(-5,5,100), stats.norm.pdf(np.linspace(-5,5,100)), color='black')\n",
    "    moment_ax.set_xlim([-4,4])"
   ]
  },
  {
   "cell_type": "code",
   "execution_count": null,
   "metadata": {
    "scrolled": false
   },
   "outputs": [],
   "source": [
    "with pd.option_context('mode.use_inf_as_null', True):\n",
    "    for name in est_arr[0][0].keys():\n",
    "        fig, ax = mpl.pyplot.subplots()       \n",
    "        sns.distplot(pd.Series([(est[name] - total_true_params[name]) / np.sqrt(cov.loc[name,name])\n",
    "                  for est, cov in est_arr]).dropna(), ax=ax, bins=40)\n",
    "        ax.plot(np.linspace(-5,5,100), stats.norm.pdf(np.linspace(-5,5,100)), color='black')\n",
    "        ax.set_xlabel(name)\n",
    "#         if max(ax.get_xlim()) > 20:\n",
    "#             ax.set_xlim(-20, 20)"
   ]
  },
  {
   "cell_type": "code",
   "execution_count": null,
   "metadata": {
    "scrolled": false
   },
   "outputs": [],
   "source": [
    "fig, ax = mpl.pyplot.subplots()       \n",
    "sns.distplot(pd.Series([est['pi'] for est, cov in est_arr]).dropna(), ax=ax, bins=40)\n",
    "ax.axvline(total_true_params['pi'], color='black')\n",
    "ax.set_xlabel('$\\pi$')\n",
    "fig.savefig('../doc/figures/pi_est_{}_{}.tmp.pdf'.format(innov_dim, true_params['phi']),\n",
    "                        frameon=False, pad_inches=0, bbox_inches='tight', transparent=True)"
   ]
  },
  {
   "cell_type": "markdown",
   "metadata": {},
   "source": [
    "# I now compute the robust conditional QLR statistic "
   ]
  },
  {
   "cell_type": "code",
   "execution_count": null,
   "metadata": {},
   "outputs": [],
   "source": [
    "omega\n"
   ]
  },
  {
   "cell_type": "code",
   "execution_count": null,
   "metadata": {},
   "outputs": [],
   "source": [
    "true_params"
   ]
  },
  {
   "cell_type": "code",
   "execution_count": null,
   "metadata": {},
   "outputs": [],
   "source": [
    "compute_vals = partial(vl.compute_qlr_reject, true_prices=[true_params['phi'], true_params['pi'], \n",
    "                                                           true_params['theta']],\n",
    "                      innov_dim=50, alpha=None, robust_quantile=True)"
   ]
  },
  {
   "cell_type": "code",
   "execution_count": null,
   "metadata": {},
   "outputs": [],
   "source": [
    "def compute_ar(params, case=1):\n",
    "    param_est, param_cov = params\n",
    "    names = vl.compute_names(case)\n",
    "    omega = {name: val for name, val in param_est.items() if name not in names}\n",
    "    omega_cov = param_cov.query('index not in @names').T.query('index not in @names').T\n",
    "    \n",
    "    true_prices=[true_params['phi'], true_params['pi'], true_params['theta']]\n",
    "    \n",
    "    return vl._qlr_in(prices=true_prices, omega=omega, omega_cov=omega_cov, case=case)"
   ]
  },
  {
   "cell_type": "code",
   "execution_count": null,
   "metadata": {},
   "outputs": [],
   "source": [
    "param_est, param_cov = est_arr[0]\n",
    "names = vl.compute_names(1)\n",
    "omega = {name: val for name, val in param_est.items() if name not in names}\n",
    "omega_cov = param_cov.query('index not in @names').T.query('index not in @names').T\n",
    "    \n",
    "true_prices=[true_params['phi'], true_params['pi'], true_params['theta']]\n",
    "# data.shape[0] * vl.covariance_kernel(true_prices, true_prices, omega_cov=omega_cov, omega=omega, case=1)\n",
    "vl.compute_link(prices=true_prices, omega=omega, case=1)"
   ]
  },
  {
   "cell_type": "code",
   "execution_count": null,
   "metadata": {},
   "outputs": [],
   "source": [
    "compute_ar(est_arr[0])"
   ]
  },
  {
   "cell_type": "code",
   "execution_count": null,
   "metadata": {},
   "outputs": [],
   "source": [
    "with Pool(8) as pool:\n",
    "    ar_results = pd.DataFrame(np.row_stack(list(tqdm.tqdm_notebook(pool.imap_unordered(compute_ar, est_arr),\n",
    "                                                          total=len(est_arr)))))"
   ]
  },
  {
   "cell_type": "code",
   "execution_count": null,
   "metadata": {},
   "outputs": [],
   "source": [
    "with pd.option_context('mode.use_inf_as_null', True):\n",
    "    fig, ax = mpl.pyplot.subplots()       \n",
    "    sns.distplot(ar_results.dropna(), ax=ax, bins=40)\n",
    "    ax.plot(np.linspace(0,20,100), stats.chi2.pdf(np.linspace(0,20,100), df=4), color='black')\n",
    "\n",
    "    ax.set_xlabel('AR Statistic Distribution')\n",
    "    ax.set_xlim(0, 20)\n",
    "    ax.axvline(np.percentile(ar_results, q=95), color='red')\n",
    "    ax.axvline(stats.chi2.ppf(df=4, q=.95), color='green')"
   ]
  },
  {
   "cell_type": "code",
   "execution_count": null,
   "metadata": {},
   "outputs": [],
   "source": [
    "# total=min(50, len(est_arr))\n",
    "# with Pool(8) as pool:\n",
    "#     results = pd.DataFrame(np.row_stack(list(tqdm.tqdm_notebook(pool.imap_unordered(compute_vals, \n",
    "#                                                                                     est_arr[:total]),\n",
    "#                                                           total=total))))"
   ]
  },
  {
   "cell_type": "code",
   "execution_count": null,
   "metadata": {},
   "outputs": [],
   "source": [
    " stats.chi2.ppf(df=4, q=.95)"
   ]
  },
  {
   "cell_type": "code",
   "execution_count": null,
   "metadata": {},
   "outputs": [],
   "source": [
    "100 * np.mean(ar_results > stats.chi2.ppf(df=4, q=.95))"
   ]
  },
  {
   "cell_type": "code",
   "execution_count": null,
   "metadata": {},
   "outputs": [],
   "source": [
    "# results[results <=0] = 0 "
   ]
  },
  {
   "cell_type": "code",
   "execution_count": null,
   "metadata": {},
   "outputs": [],
   "source": [
    "# robust_pit = cdpm.probability_integral_transform(evaluated_data = results.iloc[:,0].to_frame(),\n",
    "#                                     reference_data=results.iloc[:,1:]).replace(np.inf, 1)"
   ]
  },
  {
   "cell_type": "code",
   "execution_count": null,
   "metadata": {},
   "outputs": [],
   "source": [
    "# standard_pit = stats.chi2.cdf(results.iloc[:,0], df=3)"
   ]
  },
  {
   "cell_type": "code",
   "execution_count": null,
   "metadata": {},
   "outputs": [],
   "source": [
    "# fig, ax = mpl.pyplot.subplots()\n",
    "# cdpm.pit_plot(standard_pit, ax=ax, color='orange', hist_kws={'histtype':'step', 'alpha':1, 'linewidth':3},\n",
    "#               label='standard')\n",
    "# cdpm.pit_plot(robust_pit, ax=ax, color='blue', hist_kws={'histtype':'step', 'alpha':1, 'linewidth':3},\n",
    "#               label='robust')\n",
    "# ax.legend()\n",
    "# fig.savefig('../doc/figures/asymptotic_dist_pitop_{}_{}.tmp.pdf'.format(innov_dim, true_params['phi']),\n",
    "#             frameon=False, pad_inches=0, bbox_inches='tight', transparent=True)"
   ]
  },
  {
   "cell_type": "code",
   "execution_count": null,
   "metadata": {},
   "outputs": [],
   "source": [
    "returnval = vl.compute_robust_rejection(est_arr, true_params, innov_dim=innov_dim, alpha=0.05, case=1,\n",
    "                                        robust_quantile=True)"
   ]
  },
  {
   "cell_type": "code",
   "execution_count": null,
   "metadata": {
    "scrolled": true
   },
   "outputs": [],
   "source": [
    "returnval.head()"
   ]
  },
  {
   "cell_type": "code",
   "execution_count": null,
   "metadata": {},
   "outputs": [],
   "source": [
    "returnval.head()"
   ]
  },
  {
   "cell_type": "code",
   "execution_count": null,
   "metadata": {},
   "outputs": [],
   "source": [
    "returnval.mean()"
   ]
  },
  {
   "cell_type": "code",
   "execution_count": null,
   "metadata": {},
   "outputs": [],
   "source": [
    "true_params['phi']"
   ]
  },
  {
   "cell_type": "code",
   "execution_count": null,
   "metadata": {},
   "outputs": [],
   "source": [
    "if kharpov:\n",
    "    filename = '../results/reject_prop_kharpov_{}_{}_{}.tmp.json'.format(innov_dim, true_params['phi'], \n",
    "                                                                         time_dim)\n",
    "else:\n",
    "    filename = '../results/reject_prop_{}_{}_{}.tmp.json'.format(innov_dim, true_params['phi'], time_dim)\n",
    "    \n",
    "returnval.to_json(filename)"
   ]
  },
  {
   "cell_type": "code",
   "execution_count": null,
   "metadata": {},
   "outputs": [],
   "source": [
    "returnval.mean()"
   ]
  },
  {
   "cell_type": "code",
   "execution_count": null,
   "metadata": {},
   "outputs": [],
   "source": [
    "returnval.query('robust_qlr_qauntile > 0').mean()"
   ]
  },
  {
   "cell_type": "code",
   "execution_count": null,
   "metadata": {},
   "outputs": [],
   "source": [
    "fig4, ax4 = mpl.pyplot.subplots()\n",
    "try:\n",
    "    sns.distplot(returnval.query('robust_qlr_qauntile > 0').robust_qlr_qauntile, \n",
    "                 kde_kws={\"color\": \"red\", \"lw\": 3, 'cumulative':True}, ax=ax4,hist=False, \n",
    "                 label='Robust Conditional Quantile')\n",
    "           \n",
    "except AttributeError:\n",
    "    pass\n",
    "\n",
    "sns.distplot(returnval.qlr_stat, hist=False, ax=ax4,kde_kws={\"color\": \"blue\", \"lw\": 3, 'cumulative':True},\n",
    "      label='QLR Statistic')\n",
    "ax4.axvline(stats.chi2.ppf(.95, df=3), color='black', label='Standard Quantile')\n",
    "ax4.axvline(np.percentile(returnval.qlr_stat, 95),  color='Blue', label='Quantile in the data')\n",
    "\n",
    "xvals = np.linspace(0, 20, 500)\n",
    "ax4.plot(xvals, [stats.chi2.cdf(x, df=3) for x in xvals], color='green', label='$\\chi^2(3)$ distribution')\n",
    "ax4.set_xlim([0,50])\n",
    "# ax4.set_ylim([0,.5])\n",
    "ax4.set_xlabel(\"\")\n",
    "ax4.legend()\n",
    "fig4.savefig('../doc/figures/reject_prop_{}_{}.tmp.pdf'.format(innov_dim, true_params['phi']),\n",
    "            frameon=False, pad_inches=0, bbox_inces='tight', transparent=True)"
   ]
  },
  {
   "cell_type": "code",
   "execution_count": null,
   "metadata": {},
   "outputs": [],
   "source": []
  },
  {
   "cell_type": "code",
   "execution_count": null,
   "metadata": {},
   "outputs": [],
   "source": []
  },
  {
   "cell_type": "code",
   "execution_count": null,
   "metadata": {},
   "outputs": [],
   "source": []
  },
  {
   "cell_type": "code",
   "execution_count": null,
   "metadata": {},
   "outputs": [],
   "source": []
  }
 ],
 "metadata": {
  "kernelspec": {
   "display_name": "Python 3",
   "language": "python",
   "name": "python3"
  },
  "language_info": {
   "codemirror_mode": {
    "name": "ipython",
    "version": 3
   },
   "file_extension": ".py",
   "mimetype": "text/x-python",
   "name": "python",
   "nbconvert_exporter": "python",
   "pygments_lexer": "ipython3",
   "version": "3.7.1"
  }
 },
 "nbformat": 4,
 "nbformat_minor": 2
}
