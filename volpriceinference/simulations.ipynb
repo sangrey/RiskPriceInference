{
 "cells": [
  {
   "cell_type": "code",
   "execution_count": 1,
   "metadata": {
    "scrolled": true
   },
   "outputs": [],
   "source": [
    "import numpy as np\n",
    "import pandas as pd\n",
    "import volpriceinference as vl\n",
    "# import volprice as vl\n",
    "import matplotlib as mpl\n",
    "import seaborn as sns\n",
    "import logging\n",
    "import tqdm\n",
    "from multiprocessing import Pool\n",
    "import sys\n",
    "from functools import partial\n",
    "import cdpm\n",
    "from functools import partial"
   ]
  },
  {
   "cell_type": "code",
   "execution_count": 2,
   "metadata": {},
   "outputs": [],
   "source": [
    "%matplotlib inline\n",
    "mpl.style.use('seaborn-talk')\n",
    "np.set_printoptions(precision=3)"
   ]
  },
  {
   "cell_type": "code",
   "execution_count": 3,
   "metadata": {},
   "outputs": [],
   "source": [
    "logging.captureWarnings(True)\n",
    "root_logger = logging.getLogger()\n",
    "root_logger.setLevel(logging.INFO)\n",
    "info_handler = logging.FileHandler('../logging.tmp.txt')\n",
    "info_handler.addFilter(lambda record: record.levelno <= logging.WARNING)\n",
    "error_handler = logging.StreamHandler(sys.stderr)\n",
    "error_handler.addFilter(lambda record: record.levelno > logging.WARNING)\n",
    "root_logger.addHandler(info_handler)\n",
    "root_logger.addHandler(error_handler)"
   ]
  },
  {
   "cell_type": "markdown",
   "metadata": {},
   "source": [
    "## Setup the True Parameters /  Simulation Parameters"
   ]
  },
  {
   "cell_type": "code",
   "execution_count": 4,
   "metadata": {},
   "outputs": [],
   "source": [
    "kharpov = True"
   ]
  },
  {
   "cell_type": "code",
   "execution_count": 5,
   "metadata": {},
   "outputs": [],
   "source": [
    "if kharpov:\n",
    "    true_params = {'theta': 1.7680, \n",
    "               'pi': -10,\n",
    "               'phi': -.01,\n",
    "               'scale': 252 * 1.564e-5,\n",
    "               'delta': 0.6475,\n",
    "               'rho': .95,\n",
    "              }\n",
    "else:\n",
    "     true_params ={'delta': 0.27,\n",
    "                   'rho': 0.81,\n",
    "                   'scale': 3.11,\n",
    "                   'phi': -.1,\n",
    "                   'pi': -.2,\n",
    "                   'theta': .53}\n",
    "    \n",
    "time_dim = 37000\n",
    "sim_dim = 500\n",
    "innov_dim = 250"
   ]
  },
  {
   "cell_type": "code",
   "execution_count": 6,
   "metadata": {},
   "outputs": [
    {
     "data": {
      "text/plain": [
       "'0.0.13-py36_0'"
      ]
     },
     "execution_count": 6,
     "metadata": {},
     "output_type": "execute_result"
    }
   ],
   "source": [
    "vl.__version__"
   ]
  },
  {
   "cell_type": "code",
   "execution_count": 7,
   "metadata": {},
   "outputs": [],
   "source": [
    "total_true_params = true_params.copy()\n",
    "total_true_params.update(\n",
    "    {'gamma': vl.compute_gamma(**true_params),\n",
    "     'beta':vl.compute_beta(rho=true_params['rho'], scale=true_params['scale'], phi=true_params['phi'], \n",
    "                    pi=true_params['pi'], theta=true_params['theta']),\n",
    "     'psi':vl.compute_psi(rho=true_params['rho'], scale=true_params['scale'], phi=true_params['phi'], \n",
    "                  theta=true_params['theta']),\n",
    "      'zeta': 1 - true_params['phi']**2})"
   ]
  },
  {
   "cell_type": "code",
   "execution_count": 8,
   "metadata": {},
   "outputs": [],
   "source": [
    "def compute_moments(delta, rho, scale, phi, pi, theta):\n",
    "    \n",
    "    vol_mean = scale * delta / (1 - rho)\n",
    "    vol_var = (2 * scale * rho * vol_mean + scale**2 * delta) / (1 - rho**2)\n",
    "    \n",
    "    psi = vl.compute_psi(rho=rho, scale=scale, phi=phi, theta=theta)\n",
    "    beta = vl.compute_beta(rho=rho, scale=scale, phi=phi, pi=pi, theta=theta)\n",
    "    gamma = vl.compute_gamma(delta=delta, rho=rho, scale=scale, phi=phi, pi=pi, theta=theta)\n",
    "    \n",
    "    return_mean = psi * vol_mean + beta * vol_mean + gamma\n",
    "    return_var = psi**2 * vol_var + beta**2 * vol_var  + (1 - phi**2) * vol_mean\n",
    "    \n",
    "    return {'return_mean': return_mean, 'return_var': return_var, 'vol_mean': vol_mean, 'vol_var': vol_var}"
   ]
  },
  {
   "cell_type": "code",
   "execution_count": 9,
   "metadata": {},
   "outputs": [
    {
     "data": {
      "text/plain": [
       "{'return_mean': -0.06419485367329981,\n",
       " 'return_var': 0.05877411795187698,\n",
       " 'vol_mean': 0.051039575999999955,\n",
       " 'vol_var': 0.004023225201945595}"
      ]
     },
     "execution_count": 9,
     "metadata": {},
     "output_type": "execute_result"
    }
   ],
   "source": [
    "compute_moments(**true_params)"
   ]
  },
  {
   "cell_type": "code",
   "execution_count": 10,
   "metadata": {},
   "outputs": [
    {
     "data": {
      "text/plain": [
       "0.0003040704223442014"
      ]
     },
     "execution_count": 10,
     "metadata": {},
     "output_type": "execute_result"
    }
   ],
   "source": [
    "vl.compute_gamma(**true_params)"
   ]
  },
  {
   "cell_type": "code",
   "execution_count": 11,
   "metadata": {},
   "outputs": [
    {
     "data": {
      "text/plain": [
       "{'theta': 1.768,\n",
       " 'pi': -10,\n",
       " 'phi': -0.01,\n",
       " 'scale': 0.00394128,\n",
       " 'delta': 0.6475,\n",
       " 'rho': 0.95,\n",
       " 'gamma': 0.0003040704223442014,\n",
       " 'beta': 0.11823710670185328,\n",
       " 'psi': -1.3819412584691815,\n",
       " 'zeta': 0.9999}"
      ]
     },
     "execution_count": 11,
     "metadata": {},
     "output_type": "execute_result"
    }
   ],
   "source": [
    "total_true_params"
   ]
  },
  {
   "cell_type": "code",
   "execution_count": null,
   "metadata": {},
   "outputs": [
    {
     "data": {
      "text/plain": [
       "{'theta': 1.768,\n",
       " 'pi': -10,\n",
       " 'phi': -0.01,\n",
       " 'scale': 0.00394128,\n",
       " 'delta': 0.6475,\n",
       " 'rho': 0.95}"
      ]
     },
     "execution_count": 12,
     "metadata": {},
     "output_type": "execute_result"
    }
   ],
   "source": [
    "true_params"
   ]
  },
  {
   "cell_type": "code",
   "execution_count": null,
   "metadata": {},
   "outputs": [
    {
     "data": {
      "text/plain": [
       "{'theta': 1.768,\n",
       " 'pi': -10,\n",
       " 'phi': -0.01,\n",
       " 'scale': 0.00394128,\n",
       " 'delta': 0.6475,\n",
       " 'rho': 0.95,\n",
       " 'gamma': 0.0003040704223442014,\n",
       " 'beta': 0.11823710670185328,\n",
       " 'psi': -1.3819412584691815,\n",
       " 'zeta': 0.9999}"
      ]
     },
     "execution_count": 13,
     "metadata": {},
     "output_type": "execute_result"
    }
   ],
   "source": [
    "total_true_params"
   ]
  },
  {
   "cell_type": "markdown",
   "metadata": {},
   "source": [
    "## We start by examining the distributions of simulated data"
   ]
  },
  {
   "cell_type": "code",
   "execution_count": null,
   "metadata": {},
   "outputs": [],
   "source": [
    "data = vl.simulate_data(time_dim=time_dim, **true_params)"
   ]
  },
  {
   "cell_type": "code",
   "execution_count": null,
   "metadata": {},
   "outputs": [
    {
     "data": {
      "text/html": [
       "<div>\n",
       "<style scoped>\n",
       "    .dataframe tbody tr th:only-of-type {\n",
       "        vertical-align: middle;\n",
       "    }\n",
       "\n",
       "    .dataframe tbody tr th {\n",
       "        vertical-align: top;\n",
       "    }\n",
       "\n",
       "    .dataframe thead th {\n",
       "        text-align: right;\n",
       "    }\n",
       "</style>\n",
       "<table border=\"1\" class=\"dataframe\">\n",
       "  <thead>\n",
       "    <tr style=\"text-align: right;\">\n",
       "      <th></th>\n",
       "      <th>vol</th>\n",
       "      <th>rtn</th>\n",
       "    </tr>\n",
       "  </thead>\n",
       "  <tbody>\n",
       "    <tr>\n",
       "      <th>vol</th>\n",
       "      <td>1.0000</td>\n",
       "      <td>-0.3349</td>\n",
       "    </tr>\n",
       "    <tr>\n",
       "      <th>rtn</th>\n",
       "      <td>-0.3349</td>\n",
       "      <td>1.0000</td>\n",
       "    </tr>\n",
       "  </tbody>\n",
       "</table>\n",
       "</div>"
      ],
      "text/plain": [
       "        vol     rtn\n",
       "vol  1.0000 -0.3349\n",
       "rtn -0.3349  1.0000"
      ]
     },
     "execution_count": 15,
     "metadata": {},
     "output_type": "execute_result"
    }
   ],
   "source": [
    "data.corr()"
   ]
  },
  {
   "cell_type": "code",
   "execution_count": null,
   "metadata": {},
   "outputs": [],
   "source": [
    "omega, omega_cov = vl.estimate_params(data)"
   ]
  },
  {
   "cell_type": "code",
   "execution_count": null,
   "metadata": {},
   "outputs": [
    {
     "data": {
      "text/plain": [
       "{'gamma': 0.0002757388862746728,\n",
       " 'beta': 0.14139256259750568,\n",
       " 'psi': -1.414801780786718,\n",
       " 'zeta': 0.9968683162127319,\n",
       " 'delta': 0.6667815626419239,\n",
       " 'rho': 0.9492685789370968,\n",
       " 'scale': 0.0038864173000558735}"
      ]
     },
     "execution_count": 17,
     "metadata": {},
     "output_type": "execute_result"
    }
   ],
   "source": [
    "omega"
   ]
  },
  {
   "cell_type": "code",
   "execution_count": null,
   "metadata": {},
   "outputs": [
    {
     "data": {
      "text/html": [
       "<div>\n",
       "<style scoped>\n",
       "    .dataframe tbody tr th:only-of-type {\n",
       "        vertical-align: middle;\n",
       "    }\n",
       "\n",
       "    .dataframe tbody tr th {\n",
       "        vertical-align: top;\n",
       "    }\n",
       "\n",
       "    .dataframe thead th {\n",
       "        text-align: right;\n",
       "    }\n",
       "</style>\n",
       "<table border=\"1\" class=\"dataframe\">\n",
       "  <thead>\n",
       "    <tr style=\"text-align: right;\">\n",
       "      <th></th>\n",
       "      <th>beta</th>\n",
       "      <th>delta</th>\n",
       "      <th>gamma</th>\n",
       "      <th>psi</th>\n",
       "      <th>rho</th>\n",
       "      <th>scale</th>\n",
       "      <th>zeta</th>\n",
       "    </tr>\n",
       "  </thead>\n",
       "  <tbody>\n",
       "    <tr>\n",
       "      <th>beta</th>\n",
       "      <td>0.001570</td>\n",
       "      <td>0.000000e+00</td>\n",
       "      <td>-3.871039e-06</td>\n",
       "      <td>-0.001494</td>\n",
       "      <td>0.000000e+00</td>\n",
       "      <td>0.000000e+00</td>\n",
       "      <td>0.000000</td>\n",
       "    </tr>\n",
       "    <tr>\n",
       "      <th>delta</th>\n",
       "      <td>0.000000</td>\n",
       "      <td>4.285671e-04</td>\n",
       "      <td>0.000000e+00</td>\n",
       "      <td>0.000000</td>\n",
       "      <td>-3.072302e-05</td>\n",
       "      <td>-9.565113e-08</td>\n",
       "      <td>0.000000</td>\n",
       "    </tr>\n",
       "    <tr>\n",
       "      <th>gamma</th>\n",
       "      <td>-0.000004</td>\n",
       "      <td>0.000000e+00</td>\n",
       "      <td>3.720942e-08</td>\n",
       "      <td>0.000003</td>\n",
       "      <td>0.000000e+00</td>\n",
       "      <td>0.000000e+00</td>\n",
       "      <td>0.000000</td>\n",
       "    </tr>\n",
       "    <tr>\n",
       "      <th>psi</th>\n",
       "      <td>-0.001494</td>\n",
       "      <td>0.000000e+00</td>\n",
       "      <td>3.141906e-06</td>\n",
       "      <td>0.001960</td>\n",
       "      <td>0.000000e+00</td>\n",
       "      <td>0.000000e+00</td>\n",
       "      <td>0.000000</td>\n",
       "    </tr>\n",
       "    <tr>\n",
       "      <th>rho</th>\n",
       "      <td>0.000000</td>\n",
       "      <td>-3.072302e-05</td>\n",
       "      <td>0.000000e+00</td>\n",
       "      <td>0.000000</td>\n",
       "      <td>6.436584e-06</td>\n",
       "      <td>-1.569855e-08</td>\n",
       "      <td>0.000000</td>\n",
       "    </tr>\n",
       "    <tr>\n",
       "      <th>scale</th>\n",
       "      <td>0.000000</td>\n",
       "      <td>-9.565113e-08</td>\n",
       "      <td>0.000000e+00</td>\n",
       "      <td>0.000000</td>\n",
       "      <td>-1.569855e-08</td>\n",
       "      <td>2.115756e-09</td>\n",
       "      <td>0.000000</td>\n",
       "    </tr>\n",
       "    <tr>\n",
       "      <th>zeta</th>\n",
       "      <td>0.000000</td>\n",
       "      <td>0.000000e+00</td>\n",
       "      <td>0.000000e+00</td>\n",
       "      <td>0.000000</td>\n",
       "      <td>0.000000e+00</td>\n",
       "      <td>0.000000e+00</td>\n",
       "      <td>0.000054</td>\n",
       "    </tr>\n",
       "  </tbody>\n",
       "</table>\n",
       "</div>"
      ],
      "text/plain": [
       "           beta         delta         gamma       psi           rho  \\\n",
       "beta   0.001570  0.000000e+00 -3.871039e-06 -0.001494  0.000000e+00   \n",
       "delta  0.000000  4.285671e-04  0.000000e+00  0.000000 -3.072302e-05   \n",
       "gamma -0.000004  0.000000e+00  3.720942e-08  0.000003  0.000000e+00   \n",
       "psi   -0.001494  0.000000e+00  3.141906e-06  0.001960  0.000000e+00   \n",
       "rho    0.000000 -3.072302e-05  0.000000e+00  0.000000  6.436584e-06   \n",
       "scale  0.000000 -9.565113e-08  0.000000e+00  0.000000 -1.569855e-08   \n",
       "zeta   0.000000  0.000000e+00  0.000000e+00  0.000000  0.000000e+00   \n",
       "\n",
       "              scale      zeta  \n",
       "beta   0.000000e+00  0.000000  \n",
       "delta -9.565113e-08  0.000000  \n",
       "gamma  0.000000e+00  0.000000  \n",
       "psi    0.000000e+00  0.000000  \n",
       "rho   -1.569855e-08  0.000000  \n",
       "scale  2.115756e-09  0.000000  \n",
       "zeta   0.000000e+00  0.000054  "
      ]
     },
     "execution_count": 18,
     "metadata": {},
     "output_type": "execute_result"
    }
   ],
   "source": [
    "omega_cov"
   ]
  },
  {
   "cell_type": "code",
   "execution_count": null,
   "metadata": {},
   "outputs": [
    {
     "data": {
      "text/plain": [
       "<matplotlib.legend.Legend at 0x7fab3ea76588>"
      ]
     },
     "execution_count": 19,
     "metadata": {},
     "output_type": "execute_result"
    },
    {
     "data": {
      "image/png": "[encoded data removed]",
      "text/plain": [
       "<Figure size 748.8x514.8 with 1 Axes>"
      ]
     },
     "metadata": {
      "needs_background": "light"
     },
     "output_type": "display_data"
    }
   ],
   "source": [
    "fig1, ax1 = mpl.pyplot.subplots()\n",
    "ax1.plot(data.rtn, label='Return', color='blue')\n",
    "ax1.plot(data.vol.apply(np.sqrt), label='Volatility', color='orange')\n",
    "\n",
    "ax1.legend()"
   ]
  },
  {
   "cell_type": "code",
   "execution_count": null,
   "metadata": {},
   "outputs": [
    {
     "data": {
      "text/html": [
       "<div>\n",
       "<style scoped>\n",
       "    .dataframe tbody tr th:only-of-type {\n",
       "        vertical-align: middle;\n",
       "    }\n",
       "\n",
       "    .dataframe tbody tr th {\n",
       "        vertical-align: top;\n",
       "    }\n",
       "\n",
       "    .dataframe thead th {\n",
       "        text-align: right;\n",
       "    }\n",
       "</style>\n",
       "<table border=\"1\" class=\"dataframe\">\n",
       "  <thead>\n",
       "    <tr style=\"text-align: right;\">\n",
       "      <th></th>\n",
       "      <th>vol</th>\n",
       "      <th>rtn</th>\n",
       "    </tr>\n",
       "  </thead>\n",
       "  <tbody>\n",
       "    <tr>\n",
       "      <th>vol</th>\n",
       "      <td>0.015340</td>\n",
       "      <td>-0.009281</td>\n",
       "    </tr>\n",
       "    <tr>\n",
       "      <th>rtn</th>\n",
       "      <td>-0.009281</td>\n",
       "      <td>0.057084</td>\n",
       "    </tr>\n",
       "  </tbody>\n",
       "</table>\n",
       "</div>"
      ],
      "text/plain": [
       "          vol       rtn\n",
       "vol  0.015340 -0.009281\n",
       "rtn -0.009281  0.057084"
      ]
     },
     "execution_count": 20,
     "metadata": {},
     "output_type": "execute_result"
    }
   ],
   "source": [
    "data.transform(lambda x: np.sqrt(x) if x.name == 'vol' else x).cov()"
   ]
  },
  {
   "cell_type": "code",
   "execution_count": null,
   "metadata": {},
   "outputs": [
    {
     "data": {
      "text/plain": [
       "{'theta': 1.768,\n",
       " 'pi': -10,\n",
       " 'phi': -0.01,\n",
       " 'scale': 0.00394128,\n",
       " 'delta': 0.6475,\n",
       " 'rho': 0.95,\n",
       " 'gamma': 0.0003040704223442014,\n",
       " 'beta': 0.11823710670185328,\n",
       " 'psi': -1.3819412584691815,\n",
       " 'zeta': 0.9999}"
      ]
     },
     "execution_count": 21,
     "metadata": {},
     "output_type": "execute_result"
    }
   ],
   "source": [
    "total_true_params"
   ]
  },
  {
   "cell_type": "code",
   "execution_count": null,
   "metadata": {},
   "outputs": [
    {
     "data": {
      "text/plain": [
       "<seaborn.axisgrid.JointGrid at 0x7fab3c9b6978>"
      ]
     },
     "execution_count": 22,
     "metadata": {},
     "output_type": "execute_result"
    },
    {
     "data": {
      "image/png": "[encoded data removed]",
      "text/plain": [
       "<Figure size 432x432 with 3 Axes>"
      ]
     },
     "metadata": {
      "needs_background": "light"
     },
     "output_type": "display_data"
    }
   ],
   "source": [
    "sns.jointplot(x='vol', y='rtn', data=data, kind='reg')"
   ]
  },
  {
   "cell_type": "code",
   "execution_count": null,
   "metadata": {},
   "outputs": [
    {
     "data": {
      "text/html": [
       "<div>\n",
       "<style scoped>\n",
       "    .dataframe tbody tr th:only-of-type {\n",
       "        vertical-align: middle;\n",
       "    }\n",
       "\n",
       "    .dataframe tbody tr th {\n",
       "        vertical-align: top;\n",
       "    }\n",
       "\n",
       "    .dataframe thead th {\n",
       "        text-align: right;\n",
       "    }\n",
       "</style>\n",
       "<table border=\"1\" class=\"dataframe\">\n",
       "  <thead>\n",
       "    <tr style=\"text-align: right;\">\n",
       "      <th></th>\n",
       "      <th>vol</th>\n",
       "      <th>rtn</th>\n",
       "    </tr>\n",
       "  </thead>\n",
       "  <tbody>\n",
       "    <tr>\n",
       "      <th>count</th>\n",
       "      <td>37000.000000</td>\n",
       "      <td>37000.000000</td>\n",
       "    </tr>\n",
       "    <tr>\n",
       "      <th>mean</th>\n",
       "      <td>0.051034</td>\n",
       "      <td>-0.064711</td>\n",
       "    </tr>\n",
       "    <tr>\n",
       "      <th>std</th>\n",
       "      <td>0.062505</td>\n",
       "      <td>0.238923</td>\n",
       "    </tr>\n",
       "    <tr>\n",
       "      <th>min</th>\n",
       "      <td>0.000010</td>\n",
       "      <td>-2.523229</td>\n",
       "    </tr>\n",
       "    <tr>\n",
       "      <th>25%</th>\n",
       "      <td>0.008234</td>\n",
       "      <td>-0.153473</td>\n",
       "    </tr>\n",
       "    <tr>\n",
       "      <th>50%</th>\n",
       "      <td>0.028939</td>\n",
       "      <td>-0.023243</td>\n",
       "    </tr>\n",
       "    <tr>\n",
       "      <th>75%</th>\n",
       "      <td>0.071380</td>\n",
       "      <td>0.049584</td>\n",
       "    </tr>\n",
       "    <tr>\n",
       "      <th>max</th>\n",
       "      <td>0.643967</td>\n",
       "      <td>1.261276</td>\n",
       "    </tr>\n",
       "  </tbody>\n",
       "</table>\n",
       "</div>"
      ],
      "text/plain": [
       "                vol           rtn\n",
       "count  37000.000000  37000.000000\n",
       "mean       0.051034     -0.064711\n",
       "std        0.062505      0.238923\n",
       "min        0.000010     -2.523229\n",
       "25%        0.008234     -0.153473\n",
       "50%        0.028939     -0.023243\n",
       "75%        0.071380      0.049584\n",
       "max        0.643967      1.261276"
      ]
     },
     "execution_count": 23,
     "metadata": {},
     "output_type": "execute_result"
    }
   ],
   "source": [
    "data.describe()"
   ]
  },
  {
   "cell_type": "markdown",
   "metadata": {},
   "source": [
    "## I now estimate all of the parameters"
   ]
  },
  {
   "cell_type": "code",
   "execution_count": null,
   "metadata": {},
   "outputs": [
    {
     "data": {
      "application/vnd.jupyter.widget-view+json": {
       "model_id": "18816ab3feef480785364a376fbaa344",
       "version_major": 2,
       "version_minor": 0
      },
      "text/plain": [
       "HBox(children=(IntProgress(value=0, max=500), HTML(value='')))"
      ]
     },
     "metadata": {},
     "output_type": "display_data"
    },
    {
     "name": "stdout",
     "output_type": "stream",
     "text": [
      "\n"
     ]
    }
   ],
   "source": [
    "data_arr = [vl.simulate_data(time_dim=time_dim, **true_params)  for _ in tqdm.tnrange(sim_dim)]"
   ]
  },
  {
   "cell_type": "code",
   "execution_count": null,
   "metadata": {},
   "outputs": [],
   "source": [
    "estimator = partial(vl.estimate_params_strong_id, case=1)"
   ]
  },
  {
   "cell_type": "code",
   "execution_count": null,
   "metadata": {},
   "outputs": [
    {
     "data": {
      "text/plain": [
       "({'gamma': 0.00037016617438369347,\n",
       "  'beta': 0.08773371968023908,\n",
       "  'psi': -1.3500678989744233,\n",
       "  'zeta': 0.9999489200049756,\n",
       "  'delta': 0.6649692567567271,\n",
       "  'rho': 0.9516138838345485,\n",
       "  'scale': 0.003907069962278837,\n",
       "  'phi': -0.00936469739055798,\n",
       "  'pi': 0.0,\n",
       "  'theta': 1.756204004612574},\n",
       "            beta         delta         gamma         phi            pi  \\\n",
       " beta   0.001763  0.000000e+00 -4.516082e-06         NaN           NaN   \n",
       " delta  0.000000  4.459598e-04  0.000000e+00         NaN           NaN   \n",
       " gamma -0.000005  0.000000e+00  4.408489e-08         NaN           NaN   \n",
       " phi         NaN           NaN           NaN    0.058457 -7.965079e+02   \n",
       " pi          NaN           NaN           NaN -796.507853  1.085552e+07   \n",
       " psi   -0.001679  0.000000e+00  3.695038e-06         NaN           NaN   \n",
       " rho    0.000000 -3.070218e-05  0.000000e+00         NaN           NaN   \n",
       " scale  0.000000 -9.966768e-08  0.000000e+00         NaN           NaN   \n",
       " theta       NaN           NaN           NaN    0.668285 -9.107788e+03   \n",
       " zeta   0.000000  0.000000e+00  0.000000e+00         NaN           NaN   \n",
       " \n",
       "             psi           rho         scale        theta      zeta  \n",
       " beta  -0.001679  0.000000e+00  0.000000e+00          NaN  0.000000  \n",
       " delta  0.000000 -3.070218e-05 -9.966768e-08          NaN  0.000000  \n",
       " gamma  0.000004  0.000000e+00  0.000000e+00          NaN  0.000000  \n",
       " phi         NaN           NaN           NaN     0.668285       NaN  \n",
       " pi          NaN           NaN           NaN -9107.788495       NaN  \n",
       " psi    0.002114  0.000000e+00  0.000000e+00          NaN  0.000000  \n",
       " rho    0.000000  6.154832e-06 -1.407330e-08          NaN  0.000000  \n",
       " scale  0.000000 -1.407330e-08  2.064929e-09          NaN  0.000000  \n",
       " theta       NaN           NaN           NaN     7.641972       NaN  \n",
       " zeta   0.000000  0.000000e+00  0.000000e+00          NaN  0.000055  )"
      ]
     },
     "execution_count": 26,
     "metadata": {},
     "output_type": "execute_result"
    }
   ],
   "source": [
    "estimator(data_arr[2])"
   ]
  },
  {
   "cell_type": "code",
   "execution_count": null,
   "metadata": {
    "scrolled": false
   },
   "outputs": [
    {
     "data": {
      "application/vnd.jupyter.widget-view+json": {
       "model_id": "0ba45e9b00c049fa81782bf19168798e",
       "version_major": 2,
       "version_minor": 0
      },
      "text/plain": [
       "HBox(children=(IntProgress(value=0, max=500), HTML(value='')))"
      ]
     },
     "metadata": {},
     "output_type": "display_data"
    }
   ],
   "source": [
    "with Pool(8) as pool:\n",
    "    est_arr = list(tqdm.tqdm_notebook(pool.imap_unordered(estimator, data_arr),\n",
    "                                      total=len(data_arr)))"
   ]
  },
  {
   "cell_type": "code",
   "execution_count": null,
   "metadata": {},
   "outputs": [],
   "source": [
    "def t_stats(x):\n",
    "    mean = x.mean()\n",
    "    cov = x.cov()\n",
    "        \n",
    "    return mean  / np.sqrt(np.diag(cov) / data.vol.size)"
   ]
  },
  {
   "cell_type": "code",
   "execution_count": null,
   "metadata": {},
   "outputs": [],
   "source": [
    "moment_data = pd.DataFrame([t_stats(vl.vol_moments(data.vol, delta=true_params['delta'],\n",
    "                                                   rho=true_params['rho'], scale=true_params['scale'])) \n",
    "                            for data in tqdm.tqdm_notebook(data_arr)])"
   ]
  },
  {
   "cell_type": "code",
   "execution_count": null,
   "metadata": {
    "scrolled": false
   },
   "outputs": [],
   "source": [
    "for name, moment in moment_data.items():\n",
    "    moment_fig, moment_ax = mpl.pyplot.subplots()\n",
    "    sns.distplot(moment, ax=moment_ax, bins=40)\n",
    "    moment_ax.plot(np.linspace(-5,5,100), stats.norm.pdf(np.linspace(-5,5,100)), color='black')\n",
    "    moment_ax.set_xlim([-4,4])"
   ]
  },
  {
   "cell_type": "code",
   "execution_count": null,
   "metadata": {
    "scrolled": false
   },
   "outputs": [],
   "source": [
    "with pd.option_context('mode.use_inf_as_null', True):\n",
    "    for name in est_arr[0][0].keys():\n",
    "        fig, ax = mpl.pyplot.subplots()       \n",
    "        sns.distplot(pd.Series([(est[name] - total_true_params[name]) / np.sqrt(cov.loc[name,name])\n",
    "                  for est, cov in est_arr]).dropna(), ax=ax, bins=40)\n",
    "        ax.plot(np.linspace(-5,5,100), stats.norm.pdf(np.linspace(-5,5,100)), color='black')\n",
    "        ax.set_xlabel(name)\n",
    "        if max(ax.get_xlim()) > 20:\n",
    "            ax.set_xlim(-20, 20)"
   ]
  },
  {
   "cell_type": "code",
   "execution_count": null,
   "metadata": {
    "scrolled": false
   },
   "outputs": [],
   "source": [
    "with pd.option_context('mode.use_inf_as_null', True):\n",
    "    for name in ['phi', 'pi', 'theta']:\n",
    "        fig, ax = mpl.pyplot.subplots()       \n",
    "        sns.distplot(pd.Series([est[name] for est, cov in est_arr]).dropna(), ax=ax, bins=40)\n",
    "        ax.set_xlabel(name)\n",
    "        ax.axvline(total_true_params[name], color='black')\n",
    "        if max(ax.get_xlim()) > 20:\n",
    "            ax.set_xlim(-20, 20)"
   ]
  },
  {
   "cell_type": "markdown",
   "metadata": {},
   "source": [
    "# I now compute the robust conditional QLR statistic "
   ]
  },
  {
   "cell_type": "code",
   "execution_count": null,
   "metadata": {},
   "outputs": [],
   "source": [
    "omega\n"
   ]
  },
  {
   "cell_type": "code",
   "execution_count": null,
   "metadata": {},
   "outputs": [],
   "source": [
    "true_params"
   ]
  },
  {
   "cell_type": "code",
   "execution_count": null,
   "metadata": {},
   "outputs": [],
   "source": [
    "compute_vals = partial(vl.compute_qlr_reject, true_prices=[true_params['phi'], true_params['pi'], \n",
    "                                                           true_params['theta']],\n",
    "                      innov_dim=50, alpha=None, robust_quantile=True)"
   ]
  },
  {
   "cell_type": "code",
   "execution_count": null,
   "metadata": {},
   "outputs": [],
   "source": [
    "# total=min(50, len(est_arr))\n",
    "# with Pool(8) as pool:\n",
    "#     results = pd.DataFrame(np.row_stack(list(tqdm.tqdm_notebook(pool.imap_unordered(compute_vals, \n",
    "#                                                                                     est_arr[:total]),\n",
    "#                                                           total=total))))"
   ]
  },
  {
   "cell_type": "code",
   "execution_count": null,
   "metadata": {},
   "outputs": [],
   "source": [
    "# results[results <=0] = 0 "
   ]
  },
  {
   "cell_type": "code",
   "execution_count": null,
   "metadata": {},
   "outputs": [],
   "source": [
    "# robust_pit = cdpm.probability_integral_transform(evaluated_data = results.iloc[:,0].to_frame(),\n",
    "#                                     reference_data=results.iloc[:,1:]).replace(np.inf, 1)"
   ]
  },
  {
   "cell_type": "code",
   "execution_count": null,
   "metadata": {},
   "outputs": [],
   "source": [
    "# standard_pit = stats.chi2.cdf(results.iloc[:,0], df=3)"
   ]
  },
  {
   "cell_type": "code",
   "execution_count": null,
   "metadata": {},
   "outputs": [],
   "source": [
    "# fig, ax = mpl.pyplot.subplots()\n",
    "# cdpm.pit_plot(standard_pit, ax=ax, color='orange', hist_kws={'histtype':'step', 'alpha':1, 'linewidth':3},\n",
    "#               label='standard')\n",
    "# cdpm.pit_plot(robust_pit, ax=ax, color='blue', hist_kws={'histtype':'step', 'alpha':1, 'linewidth':3},\n",
    "#               label='robust')\n",
    "# ax.legend()\n",
    "# fig.savefig('../doc/figures/asymptotic_dist_pitop_{}_{}.tmp.pdf'.format(innov_dim, true_params['phi']),\n",
    "#             frameon=False, pad_inches=0, bbox_inches='tight', transparent=True)"
   ]
  },
  {
   "cell_type": "code",
   "execution_count": null,
   "metadata": {},
   "outputs": [],
   "source": [
    "returnval = vl.compute_robust_rejection(est_arr, true_params, innov_dim=innov_dim, alpha=0.05, case=1,\n",
    "                                        robust_quantile=True)"
   ]
  },
  {
   "cell_type": "code",
   "execution_count": null,
   "metadata": {},
   "outputs": [],
   "source": [
    "returnval.head()"
   ]
  },
  {
   "cell_type": "code",
   "execution_count": null,
   "metadata": {},
   "outputs": [],
   "source": [
    "returnval.head()"
   ]
  },
  {
   "cell_type": "code",
   "execution_count": null,
   "metadata": {},
   "outputs": [],
   "source": [
    "returnval.mean()"
   ]
  },
  {
   "cell_type": "code",
   "execution_count": null,
   "metadata": {},
   "outputs": [],
   "source": [
    "true_params['phi']"
   ]
  },
  {
   "cell_type": "code",
   "execution_count": null,
   "metadata": {},
   "outputs": [],
   "source": [
    "if kharpov:\n",
    "    filename = '../results/reject_prop_kharpov_{}_{}_{}.tmp.json'.format(innov_dim, true_params['phi'], \n",
    "                                                                         time_dim)\n",
    "else:\n",
    "    filename = '../results/reject_prop_{}_{}_{}.tmp.json'.format(innov_dim, true_params['phi'], \n",
    "                                                                         time_dim)\n",
    "    \n",
    "returnval.to_json(filename)"
   ]
  },
  {
   "cell_type": "code",
   "execution_count": null,
   "metadata": {},
   "outputs": [],
   "source": [
    "returnval.mean()"
   ]
  },
  {
   "cell_type": "code",
   "execution_count": null,
   "metadata": {},
   "outputs": [],
   "source": [
    "returnval.query('robust_qlr_qauntile > 0').mean()"
   ]
  },
  {
   "cell_type": "code",
   "execution_count": null,
   "metadata": {},
   "outputs": [],
   "source": [
    "fig4, ax4 = mpl.pyplot.subplots()\n",
    "try:\n",
    "    sns.distplot(returnval.query('robust_qlr_qauntile > 0').robust_qlr_qauntile, \n",
    "                 kde_kws={\"color\": \"red\", \"lw\": 3, 'cumulative':True}, ax=ax4,hist=False, \n",
    "                 label='Robust Conditional Quantile')\n",
    "           \n",
    "except AttributeError:\n",
    "    pass\n",
    "\n",
    "sns.distplot(returnval.qlr_stat, hist=False, ax=ax4,kde_kws={\"color\": \"blue\", \"lw\": 3, 'cumulative':True},\n",
    "      label='QLR Statistic')\n",
    "ax4.axvline(stats.chi2.ppf(.95, df=3), color='black', label='Standard Quantile')\n",
    "ax4.axvline(np.percentile(returnval.qlr_stat, 95),  color='Blue', label='Quantile in the data')\n",
    "\n",
    "xvals = np.linspace(0, 20, 500)\n",
    "ax4.plot(xvals, [stats.chi2.cdf(x, df=3) for x in xvals], color='green', label='$\\chi^2(3)$ distribution')\n",
    "ax4.set_xlim([0,50])\n",
    "# ax4.set_ylim([0,.5])\n",
    "ax4.set_xlabel(\"\")\n",
    "ax4.legend()\n",
    "fig4.savefig('../doc/figures/reject_prop_{}_{}.tmp.pdf'.format(innov_dim, true_params['phi']),\n",
    "            frameon=False, pad_inches=0, bbox_inces='tight', transparent=True)"
   ]
  },
  {
   "cell_type": "code",
   "execution_count": null,
   "metadata": {},
   "outputs": [],
   "source": []
  },
  {
   "cell_type": "code",
   "execution_count": null,
   "metadata": {},
   "outputs": [],
   "source": []
  },
  {
   "cell_type": "code",
   "execution_count": null,
   "metadata": {},
   "outputs": [],
   "source": []
  }
 ],
 "metadata": {
  "kernelspec": {
   "display_name": "Python 3",
   "language": "python",
   "name": "python3"
  },
  "language_info": {
   "codemirror_mode": {
    "name": "ipython",
    "version": 3
   },
   "file_extension": ".py",
   "mimetype": "text/x-python",
   "name": "python",
   "nbconvert_exporter": "python",
   "pygments_lexer": "ipython3",
   "version": "3.6.6"
  }
 },
 "nbformat": 4,
 "nbformat_minor": 2
}
