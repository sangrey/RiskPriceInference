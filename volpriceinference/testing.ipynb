{
 "cells": [
  {
   "cell_type": "code",
   "execution_count": 1,
   "metadata": {},
   "outputs": [],
   "source": [
    "import volpriceinference as vl\n",
    "import numpy as np\n",
    "from hypothesis import given, strategies as st\n",
    "import sympy as sym"
   ]
  },
  {
   "cell_type": "code",
   "execution_count": null,
   "metadata": {},
   "outputs": [],
   "source": []
  },
  {
   "cell_type": "code",
   "execution_count": null,
   "metadata": {},
   "outputs": [],
   "source": []
  },
  {
   "cell_type": "code",
   "execution_count": null,
   "metadata": {},
   "outputs": [],
   "source": []
  },
  {
   "cell_type": "code",
   "execution_count": 2,
   "metadata": {},
   "outputs": [
    {
     "data": {
      "text/plain": [
       "<function libvolpriceinference.PyCapsule.A_func>"
      ]
     },
     "execution_count": 2,
     "metadata": {},
     "output_type": "execute_result"
    }
   ],
   "source": [
    "vl.A_func"
   ]
  },
  {
   "cell_type": "code",
   "execution_count": null,
   "metadata": {},
   "outputs": [],
   "source": []
  },
  {
   "cell_type": "code",
   "execution_count": 3,
   "metadata": {},
   "outputs": [
    {
     "data": {
      "text/plain": [
       "0.365529289315002"
      ]
     },
     "execution_count": 3,
     "metadata": {},
     "output_type": "execute_result"
    }
   ],
   "source": [
    "sym.N(vl.volprice._A_func.replace(vl.logit_rho, 1).replace(vl.log_scale, 0).replace(vl.volprice._x, 1))"
   ]
  },
  {
   "cell_type": "code",
   "execution_count": 4,
   "metadata": {},
   "outputs": [],
   "source": [
    "args = {vl.volprice.phi: -.1, vl.volprice.pi: -.1, vl.volprice.theta: .1, vl.volprice.log_both:0, \n",
    "            vl.volprice.log_scale: 0, vl.volprice.logit_rho: 0, vl.volprice.psi : .5}"
   ]
  },
  {
   "cell_type": "code",
   "execution_count": 20,
   "metadata": {},
   "outputs": [],
   "source": [
    "def test_link_total(phi, pi, theta, log_both, log_scale, logit_rho, psi):\n",
    "    \n",
    "    args = {vl.volprice.phi: phi, vl.volprice.pi: pi, vl.volprice.theta: theta, vl.volprice.log_both:log_both, \n",
    "            vl.volprice.log_scale: log_scale, vl.volprice.logit_rho: logit_rho, vl.volprice.psi : psi}\n",
    "            \n",
    "    \n",
    "    val1 = np.real(np.array(sym.N(vl.volprice._link_grad_sym.xreplace(args))).astype(np.complex))\n",
    "    val2 = vl.link_jacobian(phi=phi, pi=pi, theta=theta, logit_rho=logit_rho, \n",
    "                         log_both=log_both, log_scale=log_scale, psi=psi)\n",
    "    \n",
    "    return val1[0,4], val2[0,4]\n"
   ]
  },
  {
   "cell_type": "code",
   "execution_count": 21,
   "metadata": {},
   "outputs": [
    {
     "data": {
      "text/plain": [
       "(2.7504681997978615, 2.628385294890321)"
      ]
     },
     "execution_count": 21,
     "metadata": {},
     "output_type": "execute_result"
    }
   ],
   "source": [
    "test_link_total(phi=-0.1, pi=-0.1, theta=0.1,log_both=0.0, log_scale=0.0, \n",
    "                logit_rho=0.0, psi=0.1)"
   ]
  },
  {
   "cell_type": "code",
   "execution_count": null,
   "metadata": {},
   "outputs": [],
   "source": [
    "arg1 = (vl.volprice._A_func.diff(vl.logit_rho).replace(vl.volprice._x, vl.pi +  vl.volprice._C_func.replace(vl.volprice._x, vl.volprice.theta - 1)))\n",
    "arg2 = (vl.volprice._A_func.diff(vl.logit_rho).replace(vl.volprice._x, vl.pi +  vl.volprice._C_func.replace(vl.volprice._x, vl.volprice.theta)))"
   ]
  },
  {
   "cell_type": "code",
   "execution_count": null,
   "metadata": {},
   "outputs": [],
   "source": [
    "(arg1 - arg2).xreplace(args)"
   ]
  },
  {
   "cell_type": "code",
   "execution_count": null,
   "metadata": {},
   "outputs": [],
   "source": [
    "lvl.C_func(1.3, 0, 0)"
   ]
  },
  {
   "cell_type": "code",
   "execution_count": null,
   "metadata": {},
   "outputs": [],
   "source": [
    "np.real(5 + 3j)"
   ]
  },
  {
   "cell_type": "code",
   "execution_count": null,
   "metadata": {},
   "outputs": [],
   "source": [
    "lvl.A_func(-1, 1, 0)"
   ]
  },
  {
   "cell_type": "code",
   "execution_count": null,
   "metadata": {},
   "outputs": [],
   "source": [
    "vl.volprice._B_func_in.replace(vl.log_scale, 0)"
   ]
  },
  {
   "cell_type": "code",
   "execution_count": null,
   "metadata": {},
   "outputs": [],
   "source": [
    "sym.N(vl.volprice._A_func.replace(vl.logit_rho, 1).replace(vl.log_scale, 0).replace(vl.volprice._x, -1)))"
   ]
  },
  {
   "cell_type": "code",
   "execution_count": null,
   "metadata": {},
   "outputs": [],
   "source": [
    "type(np.real(0j))"
   ]
  },
  {
   "cell_type": "code",
   "execution_count": null,
   "metadata": {},
   "outputs": [],
   "source": [
    "test_link(1,1,1, 1, 1, 1)"
   ]
  },
  {
   "cell_type": "code",
   "execution_count": null,
   "metadata": {},
   "outputs": [],
   "source": []
  },
  {
   "cell_type": "code",
   "execution_count": null,
   "metadata": {},
   "outputs": [],
   "source": [
    "val2"
   ]
  },
  {
   "cell_type": "code",
   "execution_count": null,
   "metadata": {},
   "outputs": [],
   "source": [
    "lvl.A_func(logit_rho=1, log_scale=0, x=1)"
   ]
  },
  {
   "cell_type": "code",
   "execution_count": null,
   "metadata": {},
   "outputs": [],
   "source": [
    "gamma_val = vl.compute_gamma(logit_rho=0, log_scale=0, log_both=0, pi=0, theta=0, phi=0)\n"
   ]
  },
  {
   "cell_type": "code",
   "execution_count": null,
   "metadata": {},
   "outputs": [],
   "source": []
  }
 ],
 "metadata": {
  "kernelspec": {
   "display_name": "Python 3",
   "language": "python",
   "name": "python3"
  },
  "language_info": {
   "codemirror_mode": {
    "name": "ipython",
    "version": 3
   },
   "file_extension": ".py",
   "mimetype": "text/x-python",
   "name": "python",
   "nbconvert_exporter": "python",
   "pygments_lexer": "ipython3",
   "version": "3.7.3"
  }
 },
 "nbformat": 4,
 "nbformat_minor": 2
}
