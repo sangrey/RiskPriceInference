{
 "cells": [
  {
   "cell_type": "code",
   "execution_count": 1,
   "metadata": {},
   "outputs": [],
   "source": [
    "import numpy as np\n",
    "import pandas as pd\n",
    "import volpriceinference as vl\n",
    "import matplotlib as mpl\n",
    "import seaborn as sns\n",
    "import logging\n",
    "import sys\n",
    "from scipy import special"
   ]
  },
  {
   "cell_type": "code",
   "execution_count": 2,
   "metadata": {},
   "outputs": [],
   "source": [
    "%matplotlib inline\n",
    "mpl.style.use('seaborn-talk')\n",
    "np.set_printoptions(precision=3)"
   ]
  },
  {
   "cell_type": "code",
   "execution_count": 3,
   "metadata": {},
   "outputs": [],
   "source": [
    "logging.captureWarnings(True)\n",
    "root_logger = logging.getLogger()\n",
    "root_logger.setLevel(logging.INFO)\n",
    "info_handler = logging.FileHandler('../logging.tmp.txt')\n",
    "info_handler.addFilter(lambda record: record.levelno <= logging.WARNING)\n",
    "error_handler = logging.StreamHandler(sys.stderr)\n",
    "error_handler.addFilter(lambda record: record.levelno > logging.WARNING)\n",
    "root_logger.addHandler(info_handler)\n",
    "root_logger.addHandler(error_handler)"
   ]
  },
  {
   "cell_type": "code",
   "execution_count": 80,
   "metadata": {},
   "outputs": [],
   "source": [
    "bounds = {'pi': {'max': 0, 'min':-25, 'dim':32}, 'phi': {'max': -.25, 'min':-.35, 'dim':8}, \n",
    "          'theta': {'max':4, 'min': 0, 'dim':12}}\n",
    "innov_dim = 10"
   ]
  },
  {
   "cell_type": "code",
   "execution_count": 81,
   "metadata": {},
   "outputs": [
    {
     "data": {
      "text/plain": [
       "'0.0.27-py37_0'"
      ]
     },
     "execution_count": 81,
     "metadata": {},
     "output_type": "execute_result"
    }
   ],
   "source": [
    "vl.__version__"
   ]
  },
  {
   "cell_type": "markdown",
   "metadata": {},
   "source": [
    "## Load the data"
   ]
  },
  {
   "cell_type": "code",
   "execution_count": 82,
   "metadata": {},
   "outputs": [],
   "source": [
    "with pd.HDFStore('../data/spy_daily_estimates_2003-2017_1000_1sec.hdf') as store:\n",
    "    daily_rtn = store['daily_rtn'] * 25.2 \n",
    "    vol = store['discrete_vol_est'] * 25.2**2\n",
    "    data = pd.concat([daily_rtn, vol.diffusion + vol.jumps], axis=1).dropna()\n",
    "    data.columns = ['rtn', 'vol'] "
   ]
  },
  {
   "cell_type": "code",
   "execution_count": 83,
   "metadata": {},
   "outputs": [
    {
     "data": {
      "text/html": [
       "<div>\n",
       "<style scoped>\n",
       "    .dataframe tbody tr th:only-of-type {\n",
       "        vertical-align: middle;\n",
       "    }\n",
       "\n",
       "    .dataframe tbody tr th {\n",
       "        vertical-align: top;\n",
       "    }\n",
       "\n",
       "    .dataframe thead th {\n",
       "        text-align: right;\n",
       "    }\n",
       "</style>\n",
       "<table border=\"1\" class=\"dataframe\">\n",
       "  <thead>\n",
       "    <tr style=\"text-align: right;\">\n",
       "      <th></th>\n",
       "      <th>rtn</th>\n",
       "      <th>vol</th>\n",
       "    </tr>\n",
       "  </thead>\n",
       "  <tbody>\n",
       "    <tr>\n",
       "      <th>2003-01-02</th>\n",
       "      <td>0.641961</td>\n",
       "      <td>0.087998</td>\n",
       "    </tr>\n",
       "    <tr>\n",
       "      <th>2003-01-03</th>\n",
       "      <td>0.053996</td>\n",
       "      <td>0.077860</td>\n",
       "    </tr>\n",
       "    <tr>\n",
       "      <th>2003-01-06</th>\n",
       "      <td>0.515051</td>\n",
       "      <td>0.045863</td>\n",
       "    </tr>\n",
       "    <tr>\n",
       "      <th>2003-01-07</th>\n",
       "      <td>-0.089675</td>\n",
       "      <td>0.082945</td>\n",
       "    </tr>\n",
       "    <tr>\n",
       "      <th>2003-01-08</th>\n",
       "      <td>-0.274812</td>\n",
       "      <td>0.064468</td>\n",
       "    </tr>\n",
       "  </tbody>\n",
       "</table>\n",
       "</div>"
      ],
      "text/plain": [
       "                 rtn       vol\n",
       "2003-01-02  0.641961  0.087998\n",
       "2003-01-03  0.053996  0.077860\n",
       "2003-01-06  0.515051  0.045863\n",
       "2003-01-07 -0.089675  0.082945\n",
       "2003-01-08 -0.274812  0.064468"
      ]
     },
     "execution_count": 83,
     "metadata": {},
     "output_type": "execute_result"
    }
   ],
   "source": [
    "data.head()"
   ]
  },
  {
   "cell_type": "code",
   "execution_count": 84,
   "metadata": {},
   "outputs": [
    {
     "data": {
      "text/html": [
       "<div>\n",
       "<style scoped>\n",
       "    .dataframe tbody tr th:only-of-type {\n",
       "        vertical-align: middle;\n",
       "    }\n",
       "\n",
       "    .dataframe tbody tr th {\n",
       "        vertical-align: top;\n",
       "    }\n",
       "\n",
       "    .dataframe thead th {\n",
       "        text-align: right;\n",
       "    }\n",
       "</style>\n",
       "<table border=\"1\" class=\"dataframe\">\n",
       "  <thead>\n",
       "    <tr style=\"text-align: right;\">\n",
       "      <th></th>\n",
       "      <th>rtn</th>\n",
       "      <th>vol</th>\n",
       "    </tr>\n",
       "  </thead>\n",
       "  <tbody>\n",
       "    <tr>\n",
       "      <th>rtn</th>\n",
       "      <td>0.055233</td>\n",
       "      <td>-0.002298</td>\n",
       "    </tr>\n",
       "    <tr>\n",
       "      <th>vol</th>\n",
       "      <td>-0.002298</td>\n",
       "      <td>0.018866</td>\n",
       "    </tr>\n",
       "  </tbody>\n",
       "</table>\n",
       "</div>"
      ],
      "text/plain": [
       "          rtn       vol\n",
       "rtn  0.055233 -0.002298\n",
       "vol -0.002298  0.018866"
      ]
     },
     "execution_count": 84,
     "metadata": {},
     "output_type": "execute_result"
    }
   ],
   "source": [
    "data.transform(lambda x: np.sqrt(x) if x.name == 'vol' else x).cov()"
   ]
  },
  {
   "cell_type": "code",
   "execution_count": 85,
   "metadata": {},
   "outputs": [
    {
     "data": {
      "text/html": [
       "<div>\n",
       "<style scoped>\n",
       "    .dataframe tbody tr th:only-of-type {\n",
       "        vertical-align: middle;\n",
       "    }\n",
       "\n",
       "    .dataframe tbody tr th {\n",
       "        vertical-align: top;\n",
       "    }\n",
       "\n",
       "    .dataframe thead th {\n",
       "        text-align: right;\n",
       "    }\n",
       "</style>\n",
       "<table border=\"1\" class=\"dataframe\">\n",
       "  <thead>\n",
       "    <tr style=\"text-align: right;\">\n",
       "      <th></th>\n",
       "      <th>rtn</th>\n",
       "      <th>vol</th>\n",
       "    </tr>\n",
       "  </thead>\n",
       "  <tbody>\n",
       "    <tr>\n",
       "      <th>rtn</th>\n",
       "      <td>1.000000</td>\n",
       "      <td>-0.024379</td>\n",
       "    </tr>\n",
       "    <tr>\n",
       "      <th>vol</th>\n",
       "      <td>-0.024379</td>\n",
       "      <td>1.000000</td>\n",
       "    </tr>\n",
       "  </tbody>\n",
       "</table>\n",
       "</div>"
      ],
      "text/plain": [
       "          rtn       vol\n",
       "rtn  1.000000 -0.024379\n",
       "vol -0.024379  1.000000"
      ]
     },
     "execution_count": 85,
     "metadata": {},
     "output_type": "execute_result"
    }
   ],
   "source": [
    "data.corr()"
   ]
  },
  {
   "cell_type": "code",
   "execution_count": 86,
   "metadata": {},
   "outputs": [
    {
     "data": {
      "text/html": [
       "<div>\n",
       "<style scoped>\n",
       "    .dataframe tbody tr th:only-of-type {\n",
       "        vertical-align: middle;\n",
       "    }\n",
       "\n",
       "    .dataframe tbody tr th {\n",
       "        vertical-align: top;\n",
       "    }\n",
       "\n",
       "    .dataframe thead th {\n",
       "        text-align: right;\n",
       "    }\n",
       "</style>\n",
       "<table border=\"1\" class=\"dataframe\">\n",
       "  <thead>\n",
       "    <tr style=\"text-align: right;\">\n",
       "      <th></th>\n",
       "      <th>rtn</th>\n",
       "      <th>vol</th>\n",
       "    </tr>\n",
       "  </thead>\n",
       "  <tbody>\n",
       "    <tr>\n",
       "      <th>count</th>\n",
       "      <td>3713.000000</td>\n",
       "      <td>3713.000000</td>\n",
       "    </tr>\n",
       "    <tr>\n",
       "      <th>mean</th>\n",
       "      <td>0.002342</td>\n",
       "      <td>0.056213</td>\n",
       "    </tr>\n",
       "    <tr>\n",
       "      <th>std</th>\n",
       "      <td>0.235017</td>\n",
       "      <td>0.144584</td>\n",
       "    </tr>\n",
       "    <tr>\n",
       "      <th>min</th>\n",
       "      <td>-2.078183</td>\n",
       "      <td>0.001233</td>\n",
       "    </tr>\n",
       "    <tr>\n",
       "      <th>25%</th>\n",
       "      <td>-0.095404</td>\n",
       "      <td>0.013806</td>\n",
       "    </tr>\n",
       "    <tr>\n",
       "      <th>50%</th>\n",
       "      <td>0.012830</td>\n",
       "      <td>0.024160</td>\n",
       "    </tr>\n",
       "    <tr>\n",
       "      <th>75%</th>\n",
       "      <td>0.109952</td>\n",
       "      <td>0.050309</td>\n",
       "    </tr>\n",
       "    <tr>\n",
       "      <th>max</th>\n",
       "      <td>1.803101</td>\n",
       "      <td>4.218808</td>\n",
       "    </tr>\n",
       "  </tbody>\n",
       "</table>\n",
       "</div>"
      ],
      "text/plain": [
       "               rtn          vol\n",
       "count  3713.000000  3713.000000\n",
       "mean      0.002342     0.056213\n",
       "std       0.235017     0.144584\n",
       "min      -2.078183     0.001233\n",
       "25%      -0.095404     0.013806\n",
       "50%       0.012830     0.024160\n",
       "75%       0.109952     0.050309\n",
       "max       1.803101     4.218808"
      ]
     },
     "execution_count": 86,
     "metadata": {},
     "output_type": "execute_result"
    }
   ],
   "source": [
    "data.describe()"
   ]
  },
  {
   "cell_type": "code",
   "execution_count": 87,
   "metadata": {},
   "outputs": [
    {
     "data": {
      "text/html": [
       "<div>\n",
       "<style scoped>\n",
       "    .dataframe tbody tr th:only-of-type {\n",
       "        vertical-align: middle;\n",
       "    }\n",
       "\n",
       "    .dataframe tbody tr th {\n",
       "        vertical-align: top;\n",
       "    }\n",
       "\n",
       "    .dataframe thead th {\n",
       "        text-align: right;\n",
       "    }\n",
       "</style>\n",
       "<table border=\"1\" class=\"dataframe\">\n",
       "  <thead>\n",
       "    <tr style=\"text-align: right;\">\n",
       "      <th></th>\n",
       "      <th>rtn</th>\n",
       "      <th>vol</th>\n",
       "    </tr>\n",
       "  </thead>\n",
       "  <tbody>\n",
       "    <tr>\n",
       "      <th>count</th>\n",
       "      <td>3713.000000</td>\n",
       "      <td>3713.000000</td>\n",
       "    </tr>\n",
       "    <tr>\n",
       "      <th>mean</th>\n",
       "      <td>0.002342</td>\n",
       "      <td>0.056213</td>\n",
       "    </tr>\n",
       "    <tr>\n",
       "      <th>std</th>\n",
       "      <td>0.235017</td>\n",
       "      <td>0.144584</td>\n",
       "    </tr>\n",
       "    <tr>\n",
       "      <th>min</th>\n",
       "      <td>-2.078183</td>\n",
       "      <td>0.001233</td>\n",
       "    </tr>\n",
       "    <tr>\n",
       "      <th>25%</th>\n",
       "      <td>-0.095404</td>\n",
       "      <td>0.013806</td>\n",
       "    </tr>\n",
       "    <tr>\n",
       "      <th>50%</th>\n",
       "      <td>0.012830</td>\n",
       "      <td>0.024160</td>\n",
       "    </tr>\n",
       "    <tr>\n",
       "      <th>75%</th>\n",
       "      <td>0.109952</td>\n",
       "      <td>0.050309</td>\n",
       "    </tr>\n",
       "    <tr>\n",
       "      <th>max</th>\n",
       "      <td>1.803101</td>\n",
       "      <td>4.218808</td>\n",
       "    </tr>\n",
       "  </tbody>\n",
       "</table>\n",
       "</div>"
      ],
      "text/plain": [
       "               rtn          vol\n",
       "count  3713.000000  3713.000000\n",
       "mean      0.002342     0.056213\n",
       "std       0.235017     0.144584\n",
       "min      -2.078183     0.001233\n",
       "25%      -0.095404     0.013806\n",
       "50%       0.012830     0.024160\n",
       "75%       0.109952     0.050309\n",
       "max       1.803101     4.218808"
      ]
     },
     "execution_count": 87,
     "metadata": {},
     "output_type": "execute_result"
    }
   ],
   "source": [
    "data.describe()"
   ]
  },
  {
   "cell_type": "code",
   "execution_count": 88,
   "metadata": {},
   "outputs": [],
   "source": [
    "data_for_plot = data.copy()\n",
    "data_for_plot.vol *= 100\n",
    "data_for_plot.rtn *= 10"
   ]
  },
  {
   "cell_type": "code",
   "execution_count": 89,
   "metadata": {},
   "outputs": [
    {
     "data": {
      "image/png": "[encoded data removed]",
      "text/plain": [
       "<Figure size 748.8x514.8 with 1 Axes>"
      ]
     },
     "metadata": {
      "needs_background": "light"
     },
     "output_type": "display_data"
    }
   ],
   "source": [
    "fig1, ax1 = mpl.pyplot.subplots()\n",
    "data_for_plot['rtn'].plot(ax=ax1, color='blue', alpha=.5, label=\"$r_{t+1}$\")\n",
    "data_for_plot['vol'].apply(np.sqrt).plot(ax=ax1, label='$\\sqrt{\\sigma^2_{t+1}}$', color='red')\n",
    "ax1.legend()\n",
    "fig1.savefig('../doc/figures/time_series.tmp.pdf', frameon=False, pad_inches=0, bbox_inches='tight',\n",
    "            transparent=True)"
   ]
  },
  {
   "cell_type": "code",
   "execution_count": 90,
   "metadata": {},
   "outputs": [
    {
     "data": {
      "text/plain": [
       "(None,)"
      ]
     },
     "execution_count": 90,
     "metadata": {},
     "output_type": "execute_result"
    },
    {
     "data": {
      "image/png": "[encoded data removed]",
      "text/plain": [
       "<Figure size 432x432 with 3 Axes>"
      ]
     },
     "metadata": {
      "needs_background": "light"
     },
     "output_type": "display_data"
    }
   ],
   "source": [
    "joint_grid = sns.JointGrid(x='vol', y='rtn', data=data_for_plot) #, xlim=[-.1, 3], ylim=[-2, 2])\n",
    "joint_grid.plot_joint(sns.regplot, ci=None, color='purple', scatter_kws={\"alpha\":.5})\n",
    "sns.kdeplot(data['vol'], ax=joint_grid.ax_marg_x, legend=None, shade=True, color='red')\n",
    "sns.kdeplot(data['rtn'], ax=joint_grid.ax_marg_y, legend=None, shade=True, color='blue', vertical=True)\n",
    "joint_grid.set_axis_labels(\"$\\sigma^2_{t+1}$\",\"$r_{t+1}$\")\n",
    "joint_grid.savefig('../doc/figures/joint_dist.tmp.pdf', frameon=False, pad_inches=0, bbox_inches='tight',\n",
    "            transparent=True),"
   ]
  },
  {
   "cell_type": "code",
   "execution_count": 91,
   "metadata": {},
   "outputs": [
    {
     "data": {
      "text/html": [
       "<div>\n",
       "<style scoped>\n",
       "    .dataframe tbody tr th:only-of-type {\n",
       "        vertical-align: middle;\n",
       "    }\n",
       "\n",
       "    .dataframe tbody tr th {\n",
       "        vertical-align: top;\n",
       "    }\n",
       "\n",
       "    .dataframe thead th {\n",
       "        text-align: right;\n",
       "    }\n",
       "</style>\n",
       "<table border=\"1\" class=\"dataframe\">\n",
       "  <thead>\n",
       "    <tr style=\"text-align: right;\">\n",
       "      <th></th>\n",
       "      <th>rtn</th>\n",
       "      <th>vol</th>\n",
       "    </tr>\n",
       "  </thead>\n",
       "  <tbody>\n",
       "    <tr>\n",
       "      <th>count</th>\n",
       "      <td>3713.000000</td>\n",
       "      <td>3713.000000</td>\n",
       "    </tr>\n",
       "    <tr>\n",
       "      <th>mean</th>\n",
       "      <td>0.023421</td>\n",
       "      <td>5.621287</td>\n",
       "    </tr>\n",
       "    <tr>\n",
       "      <th>std</th>\n",
       "      <td>2.350165</td>\n",
       "      <td>14.458447</td>\n",
       "    </tr>\n",
       "    <tr>\n",
       "      <th>min</th>\n",
       "      <td>-20.781833</td>\n",
       "      <td>0.123335</td>\n",
       "    </tr>\n",
       "    <tr>\n",
       "      <th>25%</th>\n",
       "      <td>-0.954041</td>\n",
       "      <td>1.380618</td>\n",
       "    </tr>\n",
       "    <tr>\n",
       "      <th>50%</th>\n",
       "      <td>0.128299</td>\n",
       "      <td>2.416002</td>\n",
       "    </tr>\n",
       "    <tr>\n",
       "      <th>75%</th>\n",
       "      <td>1.099523</td>\n",
       "      <td>5.030940</td>\n",
       "    </tr>\n",
       "    <tr>\n",
       "      <th>max</th>\n",
       "      <td>18.031014</td>\n",
       "      <td>421.880784</td>\n",
       "    </tr>\n",
       "  </tbody>\n",
       "</table>\n",
       "</div>"
      ],
      "text/plain": [
       "               rtn          vol\n",
       "count  3713.000000  3713.000000\n",
       "mean      0.023421     5.621287\n",
       "std       2.350165    14.458447\n",
       "min     -20.781833     0.123335\n",
       "25%      -0.954041     1.380618\n",
       "50%       0.128299     2.416002\n",
       "75%       1.099523     5.030940\n",
       "max      18.031014   421.880784"
      ]
     },
     "execution_count": 91,
     "metadata": {},
     "output_type": "execute_result"
    }
   ],
   "source": [
    "data_for_plot.describe()"
   ]
  },
  {
   "cell_type": "code",
   "execution_count": 92,
   "metadata": {},
   "outputs": [
    {
     "data": {
      "text/plain": [
       "array([ 13.066, 243.401])"
      ]
     },
     "execution_count": 92,
     "metadata": {},
     "output_type": "execute_result"
    }
   ],
   "source": [
    "stats.kurtosis(data_for_plot, fisher=False)"
   ]
  },
  {
   "cell_type": "code",
   "execution_count": 93,
   "metadata": {},
   "outputs": [
    {
     "data": {
      "text/plain": [
       "array([-0.312, 12.209])"
      ]
     },
     "execution_count": 93,
     "metadata": {},
     "output_type": "execute_result"
    }
   ],
   "source": [
    "stats.skew(data_for_plot)"
   ]
  },
  {
   "cell_type": "code",
   "execution_count": 94,
   "metadata": {},
   "outputs": [
    {
     "data": {
      "text/html": [
       "<div>\n",
       "<style scoped>\n",
       "    .dataframe tbody tr th:only-of-type {\n",
       "        vertical-align: middle;\n",
       "    }\n",
       "\n",
       "    .dataframe tbody tr th {\n",
       "        vertical-align: top;\n",
       "    }\n",
       "\n",
       "    .dataframe thead th {\n",
       "        text-align: right;\n",
       "    }\n",
       "</style>\n",
       "<table border=\"1\" class=\"dataframe\">\n",
       "  <thead>\n",
       "    <tr style=\"text-align: right;\">\n",
       "      <th></th>\n",
       "      <th>rtn</th>\n",
       "      <th>vol</th>\n",
       "    </tr>\n",
       "  </thead>\n",
       "  <tbody>\n",
       "    <tr>\n",
       "      <th>rtn</th>\n",
       "      <td>1.000000</td>\n",
       "      <td>-0.024379</td>\n",
       "    </tr>\n",
       "    <tr>\n",
       "      <th>vol</th>\n",
       "      <td>-0.024379</td>\n",
       "      <td>1.000000</td>\n",
       "    </tr>\n",
       "  </tbody>\n",
       "</table>\n",
       "</div>"
      ],
      "text/plain": [
       "          rtn       vol\n",
       "rtn  1.000000 -0.024379\n",
       "vol -0.024379  1.000000"
      ]
     },
     "execution_count": 94,
     "metadata": {},
     "output_type": "execute_result"
    }
   ],
   "source": [
    "data_for_plot.corr()"
   ]
  },
  {
   "cell_type": "markdown",
   "metadata": {},
   "source": [
    "## We now estimate the volatility paramters."
   ]
  },
  {
   "cell_type": "code",
   "execution_count": 95,
   "metadata": {},
   "outputs": [],
   "source": [
    "omega, omega_cov = vl.estimate_params_strong_id(data, bounds=bounds)"
   ]
  },
  {
   "cell_type": "code",
   "execution_count": 96,
   "metadata": {},
   "outputs": [
    {
     "data": {
      "text/plain": [
       "{'gamma': 0.025965685942692985,\n",
       " 'beta': 1.1135527707674162,\n",
       " 'psi': -1.5373902507632218,\n",
       " 'zeta': 0.9086856628806315,\n",
       " 'log_both': -4.452613366627658,\n",
       " 'log_scale': -3.484531610452467,\n",
       " 'logit_rho': 1.2144069985563308,\n",
       " 'phi': -0.3006579519086869,\n",
       " 'pi': -22.780634661132115,\n",
       " 'theta': 0.27935297224209504}"
      ]
     },
     "execution_count": 96,
     "metadata": {},
     "output_type": "execute_result"
    }
   ],
   "source": [
    "omega"
   ]
  },
  {
   "cell_type": "code",
   "execution_count": 97,
   "metadata": {},
   "outputs": [],
   "source": [
    "estimates, covariance = vl.estimate_params(data, *vl.compute_vol_gmm(data.vol))"
   ]
  },
  {
   "cell_type": "code",
   "execution_count": 98,
   "metadata": {},
   "outputs": [
    {
     "data": {
      "text/plain": [
       "{'gamma': 0.025965685942692985,\n",
       " 'beta': 1.1135527707674162,\n",
       " 'psi': -1.5373902507632218,\n",
       " 'zeta': 0.9086856628806315,\n",
       " 'log_both': -4.452613366627658,\n",
       " 'log_scale': -3.484531610452467,\n",
       " 'logit_rho': 1.2144069985563308}"
      ]
     },
     "execution_count": 98,
     "metadata": {},
     "output_type": "execute_result"
    }
   ],
   "source": [
    "estimates"
   ]
  },
  {
   "cell_type": "markdown",
   "metadata": {},
   "source": [
    "## I compute the point estimates and confidence intervals for the volatility parameters."
   ]
  },
  {
   "cell_type": "markdown",
   "metadata": {},
   "source": [
    "### c"
   ]
  },
  {
   "cell_type": "code",
   "execution_count": 99,
   "metadata": {},
   "outputs": [
    {
     "data": {
      "text/plain": [
       "(3.0668119692316695, 1.3842227931012963, 6.794668966222083)"
      ]
     },
     "execution_count": 99,
     "metadata": {},
     "output_type": "execute_result"
    }
   ],
   "source": [
    "(100 * np.exp(estimates['log_scale']),\n",
    "100 * np.exp(estimates['log_scale'] - 1.96 * covariance.loc['log_scale', 'log_scale']**.5),\n",
    " 100 * np.exp(estimates['log_scale'] + 1.96 * covariance.loc['log_scale', 'log_scale']**.5))\n"
   ]
  },
  {
   "cell_type": "markdown",
   "metadata": {},
   "source": [
    "### delta"
   ]
  },
  {
   "cell_type": "code",
   "execution_count": 100,
   "metadata": {},
   "outputs": [
    {
     "data": {
      "text/plain": [
       "(37.981090969472966, 17.652787141336354, 81.7187257559701)"
      ]
     },
     "execution_count": 100,
     "metadata": {},
     "output_type": "execute_result"
    }
   ],
   "source": [
    "log_mean = estimates['log_both'] - estimates['log_scale']\n",
    "log_var = (covariance.loc['log_scale', 'log_scale'] + covariance.loc['log_both', 'log_both'] \n",
    "           - 2 * covariance.loc['log_scale', 'log_both'])\n",
    "(100 * np.exp(log_mean),\n",
    " 100 * np.exp(log_mean - 1.96 * log_var**.5),\n",
    " 100 * np.exp(log_mean + 1.96 * log_var**.5)\n",
    ")"
   ]
  },
  {
   "cell_type": "markdown",
   "metadata": {},
   "source": [
    "### rho"
   ]
  },
  {
   "cell_type": "code",
   "execution_count": 101,
   "metadata": {},
   "outputs": [
    {
     "data": {
      "text/plain": [
       "(0.7710777876457648, 0.6747219430123669, 0.8454293986702118)"
      ]
     },
     "execution_count": 101,
     "metadata": {},
     "output_type": "execute_result"
    }
   ],
   "source": [
    "mean = estimates['logit_rho']\n",
    "std = covariance.loc['logit_rho', 'logit_rho']**.5\n",
    "(special.expit(mean), special.expit(mean - 1.96 * std), special.expit(mean + 1.96*std))"
   ]
  },
  {
   "cell_type": "code",
   "execution_count": 102,
   "metadata": {},
   "outputs": [
    {
     "data": {
      "text/html": [
       "<div>\n",
       "<style scoped>\n",
       "    .dataframe tbody tr th:only-of-type {\n",
       "        vertical-align: middle;\n",
       "    }\n",
       "\n",
       "    .dataframe tbody tr th {\n",
       "        vertical-align: top;\n",
       "    }\n",
       "\n",
       "    .dataframe thead th {\n",
       "        text-align: right;\n",
       "    }\n",
       "</style>\n",
       "<table border=\"1\" class=\"dataframe\">\n",
       "  <thead>\n",
       "    <tr style=\"text-align: right;\">\n",
       "      <th></th>\n",
       "      <th>beta</th>\n",
       "      <th>gamma</th>\n",
       "      <th>log_both</th>\n",
       "      <th>log_scale</th>\n",
       "      <th>logit_rho</th>\n",
       "      <th>psi</th>\n",
       "      <th>zeta</th>\n",
       "    </tr>\n",
       "  </thead>\n",
       "  <tbody>\n",
       "    <tr>\n",
       "      <th>beta</th>\n",
       "      <td>0.009748</td>\n",
       "      <td>-0.000035</td>\n",
       "      <td>0.000000</td>\n",
       "      <td>0.000000</td>\n",
       "      <td>0.000000</td>\n",
       "      <td>-0.009132</td>\n",
       "      <td>0.000000</td>\n",
       "    </tr>\n",
       "    <tr>\n",
       "      <th>gamma</th>\n",
       "      <td>-0.000035</td>\n",
       "      <td>0.000006</td>\n",
       "      <td>0.000000</td>\n",
       "      <td>0.000000</td>\n",
       "      <td>0.000000</td>\n",
       "      <td>-0.000080</td>\n",
       "      <td>0.000000</td>\n",
       "    </tr>\n",
       "    <tr>\n",
       "      <th>log_both</th>\n",
       "      <td>0.000000</td>\n",
       "      <td>0.000000</td>\n",
       "      <td>0.020525</td>\n",
       "      <td>0.016219</td>\n",
       "      <td>-0.031928</td>\n",
       "      <td>0.000000</td>\n",
       "      <td>0.000000</td>\n",
       "    </tr>\n",
       "    <tr>\n",
       "      <th>log_scale</th>\n",
       "      <td>0.000000</td>\n",
       "      <td>0.000000</td>\n",
       "      <td>0.016219</td>\n",
       "      <td>0.164728</td>\n",
       "      <td>0.005152</td>\n",
       "      <td>0.000000</td>\n",
       "      <td>0.000000</td>\n",
       "    </tr>\n",
       "    <tr>\n",
       "      <th>logit_rho</th>\n",
       "      <td>0.000000</td>\n",
       "      <td>0.000000</td>\n",
       "      <td>-0.031928</td>\n",
       "      <td>0.005152</td>\n",
       "      <td>0.061177</td>\n",
       "      <td>0.000000</td>\n",
       "      <td>0.000000</td>\n",
       "    </tr>\n",
       "    <tr>\n",
       "      <th>psi</th>\n",
       "      <td>-0.009132</td>\n",
       "      <td>-0.000080</td>\n",
       "      <td>0.000000</td>\n",
       "      <td>0.000000</td>\n",
       "      <td>0.000000</td>\n",
       "      <td>0.014926</td>\n",
       "      <td>0.000000</td>\n",
       "    </tr>\n",
       "    <tr>\n",
       "      <th>zeta</th>\n",
       "      <td>0.000000</td>\n",
       "      <td>0.000000</td>\n",
       "      <td>0.000000</td>\n",
       "      <td>0.000000</td>\n",
       "      <td>0.000000</td>\n",
       "      <td>0.000000</td>\n",
       "      <td>0.000431</td>\n",
       "    </tr>\n",
       "  </tbody>\n",
       "</table>\n",
       "</div>"
      ],
      "text/plain": [
       "               beta     gamma  log_both  log_scale  logit_rho       psi  \\\n",
       "beta       0.009748 -0.000035  0.000000   0.000000   0.000000 -0.009132   \n",
       "gamma     -0.000035  0.000006  0.000000   0.000000   0.000000 -0.000080   \n",
       "log_both   0.000000  0.000000  0.020525   0.016219  -0.031928  0.000000   \n",
       "log_scale  0.000000  0.000000  0.016219   0.164728   0.005152  0.000000   \n",
       "logit_rho  0.000000  0.000000 -0.031928   0.005152   0.061177  0.000000   \n",
       "psi       -0.009132 -0.000080  0.000000   0.000000   0.000000  0.014926   \n",
       "zeta       0.000000  0.000000  0.000000   0.000000   0.000000  0.000000   \n",
       "\n",
       "               zeta  \n",
       "beta       0.000000  \n",
       "gamma      0.000000  \n",
       "log_both   0.000000  \n",
       "log_scale  0.000000  \n",
       "logit_rho  0.000000  \n",
       "psi        0.000000  \n",
       "zeta       0.000431  "
      ]
     },
     "execution_count": 102,
     "metadata": {},
     "output_type": "execute_result"
    }
   ],
   "source": [
    "covariance"
   ]
  },
  {
   "cell_type": "code",
   "execution_count": 103,
   "metadata": {},
   "outputs": [
    {
     "data": {
      "text/plain": [
       "2017-08-07    0.001233\n",
       "2017-09-14    0.002147\n",
       "2017-09-22    0.002169\n",
       "2016-11-25    0.002262\n",
       "2017-07-24    0.002427\n",
       "Name: vol, dtype: float64"
      ]
     },
     "execution_count": 103,
     "metadata": {},
     "output_type": "execute_result"
    }
   ],
   "source": [
    "data.vol.sort_values(ascending=True).head()"
   ]
  },
  {
   "cell_type": "code",
   "execution_count": 104,
   "metadata": {},
   "outputs": [],
   "source": [
    "omega2, omega_cov2 = vl.estimate_params(data)"
   ]
  },
  {
   "cell_type": "code",
   "execution_count": 105,
   "metadata": {},
   "outputs": [
    {
     "data": {
      "application/vnd.jupyter.widget-view+json": {
       "model_id": "",
       "version_major": 2,
       "version_minor": 0
      },
      "text/plain": [
       "HBox(children=(IntProgress(value=0, max=3072), HTML(value='')))"
      ]
     },
     "metadata": {},
     "output_type": "display_data"
    }
   ],
   "source": [
    "qlr_stats = vl.compute_qlr_stats(omega=omega2, omega_cov=omega_cov2, bounds=bounds,use_tqdm=True)"
   ]
  },
  {
   "cell_type": "code",
   "execution_count": 106,
   "metadata": {},
   "outputs": [
    {
     "data": {
      "application/vnd.jupyter.widget-view+json": {
       "model_id": "",
       "version_major": 2,
       "version_minor": 0
      },
      "text/plain": [
       "HBox(children=(IntProgress(value=0, max=3072), HTML(value='')))"
      ]
     },
     "metadata": {},
     "output_type": "display_data"
    }
   ],
   "source": [
    "qlr_draws = vl.compute_qlr_sim(omega=omega2, omega_cov=omega_cov2, bounds=bounds, use_tqdm=True,\n",
    "                               alpha=0.05, innov_dim=innov_dim)"
   ]
  },
  {
   "cell_type": "code",
   "execution_count": 107,
   "metadata": {},
   "outputs": [],
   "source": [
    "qlr_draws.to_json(f'../results/qlr_draws_on_data_{innov_dim}.tmp.json')"
   ]
  },
  {
   "cell_type": "code",
   "execution_count": 108,
   "metadata": {},
   "outputs": [],
   "source": [
    "qlr_draws = pd.read_json(f'../results/qlr_draws_on_data_{innov_dim}.tmp.json')"
   ]
  },
  {
   "cell_type": "code",
   "execution_count": 109,
   "metadata": {},
   "outputs": [],
   "source": [
    "merged_values = vl.merge_draws_and_sims(qlr_stats=qlr_stats, qlr_draws=qlr_draws)"
   ]
  },
  {
   "cell_type": "code",
   "execution_count": 110,
   "metadata": {},
   "outputs": [
    {
     "data": {
      "text/html": [
       "<div>\n",
       "<style scoped>\n",
       "    .dataframe tbody tr th:only-of-type {\n",
       "        vertical-align: middle;\n",
       "    }\n",
       "\n",
       "    .dataframe tbody tr th {\n",
       "        vertical-align: top;\n",
       "    }\n",
       "\n",
       "    .dataframe thead th {\n",
       "        text-align: right;\n",
       "    }\n",
       "</style>\n",
       "<table border=\"1\" class=\"dataframe\">\n",
       "  <thead>\n",
       "    <tr style=\"text-align: right;\">\n",
       "      <th></th>\n",
       "      <th>phi</th>\n",
       "      <th>pi</th>\n",
       "      <th>theta</th>\n",
       "      <th>qlr_stats</th>\n",
       "      <th>qlr_draws</th>\n",
       "    </tr>\n",
       "  </thead>\n",
       "  <tbody>\n",
       "    <tr>\n",
       "      <th>0</th>\n",
       "      <td>-0.35</td>\n",
       "      <td>-25.0</td>\n",
       "      <td>0.000000</td>\n",
       "      <td>62.699501</td>\n",
       "      <td>0.0</td>\n",
       "    </tr>\n",
       "    <tr>\n",
       "      <th>1</th>\n",
       "      <td>-0.35</td>\n",
       "      <td>-25.0</td>\n",
       "      <td>0.363636</td>\n",
       "      <td>inf</td>\n",
       "      <td>0.0</td>\n",
       "    </tr>\n",
       "    <tr>\n",
       "      <th>2</th>\n",
       "      <td>-0.35</td>\n",
       "      <td>-25.0</td>\n",
       "      <td>0.727273</td>\n",
       "      <td>187.500996</td>\n",
       "      <td>0.0</td>\n",
       "    </tr>\n",
       "    <tr>\n",
       "      <th>3</th>\n",
       "      <td>-0.35</td>\n",
       "      <td>-25.0</td>\n",
       "      <td>1.090909</td>\n",
       "      <td>278.882135</td>\n",
       "      <td>0.0</td>\n",
       "    </tr>\n",
       "    <tr>\n",
       "      <th>4</th>\n",
       "      <td>-0.35</td>\n",
       "      <td>-25.0</td>\n",
       "      <td>1.454545</td>\n",
       "      <td>19.144283</td>\n",
       "      <td>0.0</td>\n",
       "    </tr>\n",
       "  </tbody>\n",
       "</table>\n",
       "</div>"
      ],
      "text/plain": [
       "    phi    pi     theta   qlr_stats  qlr_draws\n",
       "0 -0.35 -25.0  0.000000   62.699501        0.0\n",
       "1 -0.35 -25.0  0.363636         inf        0.0\n",
       "2 -0.35 -25.0  0.727273  187.500996        0.0\n",
       "3 -0.35 -25.0  1.090909  278.882135        0.0\n",
       "4 -0.35 -25.0  1.454545   19.144283        0.0"
      ]
     },
     "execution_count": 110,
     "metadata": {},
     "output_type": "execute_result"
    }
   ],
   "source": [
    "merged_values.head()"
   ]
  },
  {
   "cell_type": "code",
   "execution_count": 111,
   "metadata": {},
   "outputs": [],
   "source": [
    "accepted_vals = merged_values.query('qlr_stats < qlr_draws')"
   ]
  },
  {
   "cell_type": "code",
   "execution_count": 112,
   "metadata": {},
   "outputs": [
    {
     "data": {
      "text/html": [
       "<div>\n",
       "<style scoped>\n",
       "    .dataframe tbody tr th:only-of-type {\n",
       "        vertical-align: middle;\n",
       "    }\n",
       "\n",
       "    .dataframe tbody tr th {\n",
       "        vertical-align: top;\n",
       "    }\n",
       "\n",
       "    .dataframe thead th {\n",
       "        text-align: right;\n",
       "    }\n",
       "</style>\n",
       "<table border=\"1\" class=\"dataframe\">\n",
       "  <thead>\n",
       "    <tr style=\"text-align: right;\">\n",
       "      <th></th>\n",
       "      <th>phi</th>\n",
       "      <th>pi</th>\n",
       "      <th>theta</th>\n",
       "      <th>qlr_stats</th>\n",
       "      <th>qlr_draws</th>\n",
       "    </tr>\n",
       "  </thead>\n",
       "  <tbody>\n",
       "    <tr>\n",
       "      <th>134</th>\n",
       "      <td>-0.35</td>\n",
       "      <td>-16.129032</td>\n",
       "      <td>0.727273</td>\n",
       "      <td>3.318996</td>\n",
       "      <td>3.627279</td>\n",
       "    </tr>\n",
       "    <tr>\n",
       "      <th>148</th>\n",
       "      <td>-0.35</td>\n",
       "      <td>-15.322581</td>\n",
       "      <td>1.454545</td>\n",
       "      <td>3.381428</td>\n",
       "      <td>5.125700</td>\n",
       "    </tr>\n",
       "    <tr>\n",
       "      <th>171</th>\n",
       "      <td>-0.35</td>\n",
       "      <td>-13.709677</td>\n",
       "      <td>1.090909</td>\n",
       "      <td>3.766274</td>\n",
       "      <td>5.236115</td>\n",
       "    </tr>\n",
       "    <tr>\n",
       "      <th>194</th>\n",
       "      <td>-0.35</td>\n",
       "      <td>-12.096774</td>\n",
       "      <td>0.727273</td>\n",
       "      <td>4.577016</td>\n",
       "      <td>5.931415</td>\n",
       "    </tr>\n",
       "    <tr>\n",
       "      <th>205</th>\n",
       "      <td>-0.35</td>\n",
       "      <td>-11.290323</td>\n",
       "      <td>0.363636</td>\n",
       "      <td>5.186136</td>\n",
       "      <td>10.420586</td>\n",
       "    </tr>\n",
       "  </tbody>\n",
       "</table>\n",
       "</div>"
      ],
      "text/plain": [
       "      phi         pi     theta  qlr_stats  qlr_draws\n",
       "134 -0.35 -16.129032  0.727273   3.318996   3.627279\n",
       "148 -0.35 -15.322581  1.454545   3.381428   5.125700\n",
       "171 -0.35 -13.709677  1.090909   3.766274   5.236115\n",
       "194 -0.35 -12.096774  0.727273   4.577016   5.931415\n",
       "205 -0.35 -11.290323  0.363636   5.186136  10.420586"
      ]
     },
     "execution_count": 112,
     "metadata": {},
     "output_type": "execute_result"
    }
   ],
   "source": [
    "accepted_vals.head()"
   ]
  },
  {
   "cell_type": "code",
   "execution_count": 113,
   "metadata": {},
   "outputs": [],
   "source": [
    "def constraint(scale, psi, zeta, equity_price):\n",
    "    \n",
    "    vol_price  = -1 / scale - ((psi * (equity_price-1) + zeta/2 * (equity_price-1)**2))\n",
    "    \n",
    "    return  vol_price"
   ]
  },
  {
   "cell_type": "code",
   "execution_count": 114,
   "metadata": {},
   "outputs": [
    {
     "data": {
      "application/vnd.jupyter.widget-view+json": {
       "model_id": "",
       "version_major": 2,
       "version_minor": 0
      },
      "text/plain": [
       "HBox(children=(IntProgress(value=0, max=3072), HTML(value='')))"
      ]
     },
     "metadata": {},
     "output_type": "display_data"
    }
   ],
   "source": [
    "ar_stats = vl.compute_ar_stats(omega2, omega_cov2, bounds)"
   ]
  },
  {
   "cell_type": "code",
   "execution_count": 115,
   "metadata": {},
   "outputs": [],
   "source": [
    "ar_accepted_vals = ar_stats[ar_stats.AR <= stats.chi2.ppf(df=4, q=.95)]"
   ]
  },
  {
   "cell_type": "code",
   "execution_count": null,
   "metadata": {},
   "outputs": [],
   "source": []
  },
  {
   "cell_type": "code",
   "execution_count": 116,
   "metadata": {},
   "outputs": [
    {
     "data": {
      "text/html": [
       "<div>\n",
       "<style scoped>\n",
       "    .dataframe tbody tr th:only-of-type {\n",
       "        vertical-align: middle;\n",
       "    }\n",
       "\n",
       "    .dataframe tbody tr th {\n",
       "        vertical-align: top;\n",
       "    }\n",
       "\n",
       "    .dataframe thead th {\n",
       "        text-align: right;\n",
       "    }\n",
       "</style>\n",
       "<table border=\"1\" class=\"dataframe\">\n",
       "  <thead>\n",
       "    <tr style=\"text-align: right;\">\n",
       "      <th></th>\n",
       "      <th>phi</th>\n",
       "      <th>pi</th>\n",
       "      <th>theta</th>\n",
       "      <th>qlr</th>\n",
       "    </tr>\n",
       "  </thead>\n",
       "  <tbody>\n",
       "    <tr>\n",
       "      <th>2</th>\n",
       "      <td>-0.35</td>\n",
       "      <td>-25.000000</td>\n",
       "      <td>3.272727</td>\n",
       "      <td>18.302060</td>\n",
       "    </tr>\n",
       "    <tr>\n",
       "      <th>5</th>\n",
       "      <td>-0.35</td>\n",
       "      <td>-25.000000</td>\n",
       "      <td>1.818182</td>\n",
       "      <td>4.086507</td>\n",
       "    </tr>\n",
       "    <tr>\n",
       "      <th>12</th>\n",
       "      <td>-0.35</td>\n",
       "      <td>-24.193548</td>\n",
       "      <td>0.000000</td>\n",
       "      <td>7.036554</td>\n",
       "    </tr>\n",
       "    <tr>\n",
       "      <th>1</th>\n",
       "      <td>-0.35</td>\n",
       "      <td>-25.000000</td>\n",
       "      <td>2.909091</td>\n",
       "      <td>26.505098</td>\n",
       "    </tr>\n",
       "    <tr>\n",
       "      <th>0</th>\n",
       "      <td>-0.35</td>\n",
       "      <td>-25.000000</td>\n",
       "      <td>0.000000</td>\n",
       "      <td>62.699501</td>\n",
       "    </tr>\n",
       "  </tbody>\n",
       "</table>\n",
       "</div>"
      ],
      "text/plain": [
       "     phi         pi     theta        qlr\n",
       "2  -0.35 -25.000000  3.272727  18.302060\n",
       "5  -0.35 -25.000000  1.818182   4.086507\n",
       "12 -0.35 -24.193548  0.000000   7.036554\n",
       "1  -0.35 -25.000000  2.909091  26.505098\n",
       "0  -0.35 -25.000000  0.000000  62.699501"
      ]
     },
     "execution_count": 116,
     "metadata": {},
     "output_type": "execute_result"
    }
   ],
   "source": [
    "qlr_stats.head()"
   ]
  },
  {
   "cell_type": "code",
   "execution_count": 117,
   "metadata": {},
   "outputs": [
    {
     "data": {
      "text/plain": [
       "phi     -0.250000\n",
       "pi       0.000000\n",
       "theta    1.090909\n",
       "AR       9.454627\n",
       "dtype: float64"
      ]
     },
     "execution_count": 117,
     "metadata": {},
     "output_type": "execute_result"
    }
   ],
   "source": [
    "ar_accepted_vals.max()"
   ]
  },
  {
   "cell_type": "code",
   "execution_count": 118,
   "metadata": {},
   "outputs": [
    {
     "data": {
      "text/plain": [
       "phi          -0.250000\n",
       "pi            0.000000\n",
       "theta         3.636364\n",
       "qlr_stats    10.481498\n",
       "qlr_draws    13.648882\n",
       "dtype: float64"
      ]
     },
     "execution_count": 118,
     "metadata": {},
     "output_type": "execute_result"
    }
   ],
   "source": [
    "accepted_vals.max()"
   ]
  },
  {
   "cell_type": "code",
   "execution_count": null,
   "metadata": {},
   "outputs": [],
   "source": []
  },
  {
   "cell_type": "code",
   "execution_count": 119,
   "metadata": {},
   "outputs": [
    {
     "data": {
      "text/plain": [
       "{'gamma': 0.025965685942692985,\n",
       " 'beta': 1.1135527707674162,\n",
       " 'psi': -1.5373902507632218,\n",
       " 'zeta': 0.9086856628806315,\n",
       " 'log_both': -4.452613366627658,\n",
       " 'log_scale': -3.484531610452467,\n",
       " 'logit_rho': 1.2144069985563308,\n",
       " 'phi': -0.3006579519086869,\n",
       " 'pi': -22.780634661132115,\n",
       " 'theta': 0.27935297224209504}"
      ]
     },
     "execution_count": 119,
     "metadata": {},
     "output_type": "execute_result"
    }
   ],
   "source": [
    "omega"
   ]
  },
  {
   "cell_type": "code",
   "execution_count": 120,
   "metadata": {},
   "outputs": [
    {
     "data": {
      "text/html": [
       "<div>\n",
       "<style scoped>\n",
       "    .dataframe tbody tr th:only-of-type {\n",
       "        vertical-align: middle;\n",
       "    }\n",
       "\n",
       "    .dataframe tbody tr th {\n",
       "        vertical-align: top;\n",
       "    }\n",
       "\n",
       "    .dataframe thead th {\n",
       "        text-align: right;\n",
       "    }\n",
       "</style>\n",
       "<table border=\"1\" class=\"dataframe\">\n",
       "  <thead>\n",
       "    <tr style=\"text-align: right;\">\n",
       "      <th></th>\n",
       "      <th>phi</th>\n",
       "      <th>pi</th>\n",
       "      <th>theta</th>\n",
       "      <th>qlr_stats</th>\n",
       "      <th>qlr_draws</th>\n",
       "    </tr>\n",
       "  </thead>\n",
       "  <tbody>\n",
       "    <tr>\n",
       "      <th>205</th>\n",
       "      <td>-0.350000</td>\n",
       "      <td>-11.290323</td>\n",
       "      <td>0.363636</td>\n",
       "      <td>5.186136</td>\n",
       "      <td>10.420586</td>\n",
       "    </tr>\n",
       "    <tr>\n",
       "      <th>242</th>\n",
       "      <td>-0.350000</td>\n",
       "      <td>-8.870968</td>\n",
       "      <td>0.727273</td>\n",
       "      <td>8.169885</td>\n",
       "      <td>10.077640</td>\n",
       "    </tr>\n",
       "    <tr>\n",
       "      <th>663</th>\n",
       "      <td>-0.335714</td>\n",
       "      <td>-6.451613</td>\n",
       "      <td>1.090909</td>\n",
       "      <td>8.435875</td>\n",
       "      <td>9.688549</td>\n",
       "    </tr>\n",
       "    <tr>\n",
       "      <th>733</th>\n",
       "      <td>-0.335714</td>\n",
       "      <td>-1.612903</td>\n",
       "      <td>0.363636</td>\n",
       "      <td>10.481498</td>\n",
       "      <td>11.510170</td>\n",
       "    </tr>\n",
       "    <tr>\n",
       "      <th>1108</th>\n",
       "      <td>-0.321429</td>\n",
       "      <td>-2.419355</td>\n",
       "      <td>1.454545</td>\n",
       "      <td>9.330095</td>\n",
       "      <td>10.437620</td>\n",
       "    </tr>\n",
       "    <tr>\n",
       "      <th>1418</th>\n",
       "      <td>-0.307143</td>\n",
       "      <td>-7.258065</td>\n",
       "      <td>0.727273</td>\n",
       "      <td>5.785936</td>\n",
       "      <td>10.606390</td>\n",
       "    </tr>\n",
       "    <tr>\n",
       "      <th>1419</th>\n",
       "      <td>-0.307143</td>\n",
       "      <td>-7.258065</td>\n",
       "      <td>1.090909</td>\n",
       "      <td>7.198966</td>\n",
       "      <td>10.393149</td>\n",
       "    </tr>\n",
       "    <tr>\n",
       "      <th>1440</th>\n",
       "      <td>-0.307143</td>\n",
       "      <td>-5.645161</td>\n",
       "      <td>0.000000</td>\n",
       "      <td>9.938889</td>\n",
       "      <td>11.443074</td>\n",
       "    </tr>\n",
       "    <tr>\n",
       "      <th>2294</th>\n",
       "      <td>-0.278571</td>\n",
       "      <td>0.000000</td>\n",
       "      <td>0.727273</td>\n",
       "      <td>1.483955</td>\n",
       "      <td>13.648882</td>\n",
       "    </tr>\n",
       "  </tbody>\n",
       "</table>\n",
       "</div>"
      ],
      "text/plain": [
       "           phi         pi     theta  qlr_stats  qlr_draws\n",
       "205  -0.350000 -11.290323  0.363636   5.186136  10.420586\n",
       "242  -0.350000  -8.870968  0.727273   8.169885  10.077640\n",
       "663  -0.335714  -6.451613  1.090909   8.435875   9.688549\n",
       "733  -0.335714  -1.612903  0.363636  10.481498  11.510170\n",
       "1108 -0.321429  -2.419355  1.454545   9.330095  10.437620\n",
       "1418 -0.307143  -7.258065  0.727273   5.785936  10.606390\n",
       "1419 -0.307143  -7.258065  1.090909   7.198966  10.393149\n",
       "1440 -0.307143  -5.645161  0.000000   9.938889  11.443074\n",
       "2294 -0.278571   0.000000  0.727273   1.483955  13.648882"
      ]
     },
     "execution_count": 120,
     "metadata": {},
     "output_type": "execute_result"
    }
   ],
   "source": [
    "accepted_vals.query('qlr_draws >= 9.49')"
   ]
  },
  {
   "cell_type": "code",
   "execution_count": 121,
   "metadata": {},
   "outputs": [
    {
     "data": {
      "text/plain": [
       "9.487729036781154"
      ]
     },
     "execution_count": 121,
     "metadata": {},
     "output_type": "execute_result"
    }
   ],
   "source": [
    "stats.chi2.ppf(df=4, q=.95)"
   ]
  },
  {
   "cell_type": "code",
   "execution_count": 122,
   "metadata": {
    "scrolled": false
   },
   "outputs": [
    {
     "data": {
      "text/html": [
       "<div>\n",
       "<style scoped>\n",
       "    .dataframe tbody tr th:only-of-type {\n",
       "        vertical-align: middle;\n",
       "    }\n",
       "\n",
       "    .dataframe tbody tr th {\n",
       "        vertical-align: top;\n",
       "    }\n",
       "\n",
       "    .dataframe thead th {\n",
       "        text-align: right;\n",
       "    }\n",
       "</style>\n",
       "<table border=\"1\" class=\"dataframe\">\n",
       "  <thead>\n",
       "    <tr style=\"text-align: right;\">\n",
       "      <th></th>\n",
       "      <th>phi</th>\n",
       "      <th>pi</th>\n",
       "      <th>theta</th>\n",
       "      <th>qlr_stats</th>\n",
       "      <th>qlr_draws</th>\n",
       "    </tr>\n",
       "  </thead>\n",
       "  <tbody>\n",
       "    <tr>\n",
       "      <th>552</th>\n",
       "      <td>-0.335714</td>\n",
       "      <td>-13.709677</td>\n",
       "      <td>0.0</td>\n",
       "      <td>3.264265</td>\n",
       "      <td>6.215730</td>\n",
       "    </tr>\n",
       "    <tr>\n",
       "      <th>612</th>\n",
       "      <td>-0.335714</td>\n",
       "      <td>-9.677419</td>\n",
       "      <td>0.0</td>\n",
       "      <td>4.547091</td>\n",
       "      <td>5.608662</td>\n",
       "    </tr>\n",
       "    <tr>\n",
       "      <th>840</th>\n",
       "      <td>-0.321429</td>\n",
       "      <td>-20.161290</td>\n",
       "      <td>0.0</td>\n",
       "      <td>0.799493</td>\n",
       "      <td>3.670420</td>\n",
       "    </tr>\n",
       "    <tr>\n",
       "      <th>852</th>\n",
       "      <td>-0.321429</td>\n",
       "      <td>-19.354839</td>\n",
       "      <td>0.0</td>\n",
       "      <td>1.097627</td>\n",
       "      <td>4.000524</td>\n",
       "    </tr>\n",
       "    <tr>\n",
       "      <th>972</th>\n",
       "      <td>-0.321429</td>\n",
       "      <td>-11.290323</td>\n",
       "      <td>0.0</td>\n",
       "      <td>4.115589</td>\n",
       "      <td>4.347112</td>\n",
       "    </tr>\n",
       "    <tr>\n",
       "      <th>984</th>\n",
       "      <td>-0.321429</td>\n",
       "      <td>-10.483871</td>\n",
       "      <td>0.0</td>\n",
       "      <td>4.152373</td>\n",
       "      <td>5.880631</td>\n",
       "    </tr>\n",
       "    <tr>\n",
       "      <th>1200</th>\n",
       "      <td>-0.307143</td>\n",
       "      <td>-21.774194</td>\n",
       "      <td>0.0</td>\n",
       "      <td>0.154876</td>\n",
       "      <td>2.094667</td>\n",
       "    </tr>\n",
       "    <tr>\n",
       "      <th>1260</th>\n",
       "      <td>-0.307143</td>\n",
       "      <td>-17.741935</td>\n",
       "      <td>0.0</td>\n",
       "      <td>1.015836</td>\n",
       "      <td>3.907081</td>\n",
       "    </tr>\n",
       "    <tr>\n",
       "      <th>1272</th>\n",
       "      <td>-0.307143</td>\n",
       "      <td>-16.935484</td>\n",
       "      <td>0.0</td>\n",
       "      <td>1.387860</td>\n",
       "      <td>9.130772</td>\n",
       "    </tr>\n",
       "    <tr>\n",
       "      <th>1356</th>\n",
       "      <td>-0.307143</td>\n",
       "      <td>-11.290323</td>\n",
       "      <td>0.0</td>\n",
       "      <td>5.273715</td>\n",
       "      <td>7.120443</td>\n",
       "    </tr>\n",
       "    <tr>\n",
       "      <th>1368</th>\n",
       "      <td>-0.307143</td>\n",
       "      <td>-10.483871</td>\n",
       "      <td>0.0</td>\n",
       "      <td>5.886875</td>\n",
       "      <td>6.669061</td>\n",
       "    </tr>\n",
       "    <tr>\n",
       "      <th>1392</th>\n",
       "      <td>-0.307143</td>\n",
       "      <td>-8.870968</td>\n",
       "      <td>0.0</td>\n",
       "      <td>5.788313</td>\n",
       "      <td>6.348754</td>\n",
       "    </tr>\n",
       "    <tr>\n",
       "      <th>1404</th>\n",
       "      <td>-0.307143</td>\n",
       "      <td>-8.064516</td>\n",
       "      <td>0.0</td>\n",
       "      <td>7.173588</td>\n",
       "      <td>7.977923</td>\n",
       "    </tr>\n",
       "    <tr>\n",
       "      <th>1440</th>\n",
       "      <td>-0.307143</td>\n",
       "      <td>-5.645161</td>\n",
       "      <td>0.0</td>\n",
       "      <td>9.938889</td>\n",
       "      <td>11.443074</td>\n",
       "    </tr>\n",
       "    <tr>\n",
       "      <th>1584</th>\n",
       "      <td>-0.292857</td>\n",
       "      <td>-21.774194</td>\n",
       "      <td>0.0</td>\n",
       "      <td>0.894676</td>\n",
       "      <td>4.021367</td>\n",
       "    </tr>\n",
       "    <tr>\n",
       "      <th>1596</th>\n",
       "      <td>-0.292857</td>\n",
       "      <td>-20.967742</td>\n",
       "      <td>0.0</td>\n",
       "      <td>0.853895</td>\n",
       "      <td>6.588818</td>\n",
       "    </tr>\n",
       "    <tr>\n",
       "      <th>1680</th>\n",
       "      <td>-0.292857</td>\n",
       "      <td>-15.322581</td>\n",
       "      <td>0.0</td>\n",
       "      <td>2.210897</td>\n",
       "      <td>6.107196</td>\n",
       "    </tr>\n",
       "    <tr>\n",
       "      <th>1776</th>\n",
       "      <td>-0.292857</td>\n",
       "      <td>-8.870968</td>\n",
       "      <td>0.0</td>\n",
       "      <td>5.506233</td>\n",
       "      <td>7.532487</td>\n",
       "    </tr>\n",
       "    <tr>\n",
       "      <th>2076</th>\n",
       "      <td>-0.278571</td>\n",
       "      <td>-14.516129</td>\n",
       "      <td>0.0</td>\n",
       "      <td>3.671351</td>\n",
       "      <td>8.452239</td>\n",
       "    </tr>\n",
       "    <tr>\n",
       "      <th>2112</th>\n",
       "      <td>-0.278571</td>\n",
       "      <td>-12.096774</td>\n",
       "      <td>0.0</td>\n",
       "      <td>4.631426</td>\n",
       "      <td>5.802122</td>\n",
       "    </tr>\n",
       "  </tbody>\n",
       "</table>\n",
       "</div>"
      ],
      "text/plain": [
       "           phi         pi  theta  qlr_stats  qlr_draws\n",
       "552  -0.335714 -13.709677    0.0   3.264265   6.215730\n",
       "612  -0.335714  -9.677419    0.0   4.547091   5.608662\n",
       "840  -0.321429 -20.161290    0.0   0.799493   3.670420\n",
       "852  -0.321429 -19.354839    0.0   1.097627   4.000524\n",
       "972  -0.321429 -11.290323    0.0   4.115589   4.347112\n",
       "984  -0.321429 -10.483871    0.0   4.152373   5.880631\n",
       "1200 -0.307143 -21.774194    0.0   0.154876   2.094667\n",
       "1260 -0.307143 -17.741935    0.0   1.015836   3.907081\n",
       "1272 -0.307143 -16.935484    0.0   1.387860   9.130772\n",
       "1356 -0.307143 -11.290323    0.0   5.273715   7.120443\n",
       "1368 -0.307143 -10.483871    0.0   5.886875   6.669061\n",
       "1392 -0.307143  -8.870968    0.0   5.788313   6.348754\n",
       "1404 -0.307143  -8.064516    0.0   7.173588   7.977923\n",
       "1440 -0.307143  -5.645161    0.0   9.938889  11.443074\n",
       "1584 -0.292857 -21.774194    0.0   0.894676   4.021367\n",
       "1596 -0.292857 -20.967742    0.0   0.853895   6.588818\n",
       "1680 -0.292857 -15.322581    0.0   2.210897   6.107196\n",
       "1776 -0.292857  -8.870968    0.0   5.506233   7.532487\n",
       "2076 -0.278571 -14.516129    0.0   3.671351   8.452239\n",
       "2112 -0.278571 -12.096774    0.0   4.631426   5.802122"
      ]
     },
     "execution_count": 122,
     "metadata": {},
     "output_type": "execute_result"
    }
   ],
   "source": [
    "accepted_vals.query('theta == 0')"
   ]
  },
  {
   "cell_type": "code",
   "execution_count": 123,
   "metadata": {},
   "outputs": [
    {
     "data": {
      "image/png": "[encoded data removed]",
      "text/plain": [
       "<Figure size 748.8x514.8 with 1 Axes>"
      ]
     },
     "metadata": {
      "needs_background": "light"
     },
     "output_type": "display_data"
    }
   ],
   "source": [
    "fig3, ax3 = mpl.pyplot.subplots()\n",
    "pi_patch_width = 1.1 * (bounds['pi']['max'] - bounds['pi']['min']) / bounds['pi']['dim']\n",
    "theta_patch_height = 1.1 * (bounds['theta']['max'] - bounds['theta']['min']) / bounds['theta']['dim']\n",
    "   \n",
    "for row in accepted_vals.itertuples(index=False):\n",
    "    patch = mpl.patches.Rectangle((row.pi, row.theta), width=pi_patch_width, height=theta_patch_height,\n",
    "                                  fill=True, color='purple')\n",
    "    ax3.add_patch(patch)\n",
    "    \n",
    "max_y = bounds['theta']['max']\n",
    "min_x = bounds['pi']['min']\n",
    "\n",
    "ax3.axvline(0,  ymin=0, ymax=1, color='black')\n",
    "ax3.axhline(0,  xmin=1, xmax=0, color='black')\n",
    "\n",
    "white_rect1 = mpl.patches.Rectangle((0,-1), 2, max_y + 2, angle=0.0, color='white', fill=True)\n",
    "white_rect2 = mpl.patches.Rectangle((min_x-1,-1), abs(min_x) + 2, 1, angle=0.0, color='white', fill=True)\n",
    "ax3.add_patch(white_rect1)\n",
    "ax3.add_patch(white_rect2)\n",
    "ax3.set_ylim([-.2, 10])\n",
    "ax3.set_xlim([min_x - .2, .2])\n",
    "ax3.set_ylabel(r'$\\kappa$')\n",
    "ax3.set_xlabel(r'$\\pi$')\n",
    "# ax3.legend(handles=[patch], labels=['QLR Confidence Interval'],\n",
    "#            loc='upper left')\n",
    "\n",
    "fig3.savefig(f'../doc/figures/qlr_confidence_region_{innov_dim}.tmp.pdf', frameon=False, pad_inches=0, \n",
    "             bbox_inches='tight', transparent=True)"
   ]
  },
  {
   "cell_type": "code",
   "execution_count": 124,
   "metadata": {},
   "outputs": [
    {
     "data": {
      "image/png": "[encoded data removed]",
      "text/plain": [
       "<Figure size 748.8x514.8 with 1 Axes>"
      ]
     },
     "metadata": {
      "needs_background": "light"
     },
     "output_type": "display_data"
    }
   ],
   "source": [
    "fig4, ax4 = mpl.pyplot.subplots()\n",
    "eigvals, eigvectors = np.linalg.eig(omega_cov.loc[['pi', 'theta'], ['pi', 'theta']])\n",
    "root_eigvals = np.sqrt(eigvals)\n",
    "\n",
    "corr = omega_cov.loc['theta', 'pi'] / np.sqrt(omega_cov.loc['theta', 'theta'] * omega_cov.loc['pi', 'pi'])\n",
    "standard_patch = mpl.patches.Ellipse(xy=(omega['pi'], omega['theta']), \n",
    "                                     width=1.96 * 2 * root_eigvals[0], \n",
    "                                     height=1.96 * 2 * root_eigvals[1], \n",
    "                                     angle=np.rad2deg(np.arccos(eigvectors[0,0])), color='purple')\n",
    "ax4.add_patch(standard_patch)\n",
    "   \n",
    "max_y = bounds['theta']['max']\n",
    "min_x = bounds['pi']['min']\n",
    "\n",
    "ax4.axvline(0,  ymin=0, ymax=1, color='black')\n",
    "ax4.axhline(0,  xmin=1, xmax=0, color='black')\n",
    "\n",
    "white_rect1 = mpl.patches.Rectangle((0,-1), 2, max_y + 2, angle=0.0, color='white', fill=True)\n",
    "white_rect2 = mpl.patches.Rectangle((min_x-1,-1), abs(min_x) + 2, 1, angle=0.0, color='white', fill=True)\n",
    "ax4.add_patch(white_rect1)\n",
    "ax4.add_patch(white_rect2)\n",
    "ax4.set_ylim([-.2, 10])\n",
    "ax4.set_xlim([min_x - .2, .2])\n",
    "ax4.set_ylabel(r'$\\kappa$')\n",
    "ax4.set_xlabel(r'$\\pi$')\n",
    "# ax4.legend(handles=[standard_patch], labels=['Standard Confidence Interval'], loc='upper left')\n",
    "\n",
    "fig4.savefig(f'../doc/figures/standard_confidence_region.tmp.pdf', frameon=False, pad_inches=0, \n",
    "             bbox_inches='tight', transparent=True)"
   ]
  },
  {
   "cell_type": "code",
   "execution_count": 125,
   "metadata": {},
   "outputs": [
    {
     "data": {
      "image/png": "[encoded data removed]",
      "text/plain": [
       "<Figure size 748.8x514.8 with 1 Axes>"
      ]
     },
     "metadata": {
      "needs_background": "light"
     },
     "output_type": "display_data"
    }
   ],
   "source": [
    "fig5, ax5 = mpl.pyplot.subplots()\n",
    "\n",
    "for row in ar_accepted_vals.itertuples(index=False):\n",
    "    ar_patch = mpl.patches.Rectangle((row.pi, row.theta), width=pi_patch_width, height=theta_patch_height,\n",
    "                                  fill=True, color='purple', edgecolor='violet')\n",
    "    ax5.add_patch(ar_patch)\n",
    "        \n",
    "max_y = bounds['theta']['max']\n",
    "min_x = bounds['pi']['min']\n",
    "\n",
    "ax5.axvline(0,  ymin=0, ymax=1, color='black')\n",
    "ax5.axhline(0,  xmin=1, xmax=0, color='black')\n",
    "\n",
    "white_rect1 = mpl.patches.Rectangle((0,-1), 2, max_y + 2, angle=0.0, color='white', fill=True)\n",
    "white_rect2 = mpl.patches.Rectangle((min_x-1,-1), abs(min_x) + 2, 1, angle=0.0, color='white', fill=True)\n",
    "ax5.add_patch(white_rect1)\n",
    "ax5.add_patch(white_rect2)\n",
    "ax5.set_ylim([-.2, 10])\n",
    "ax5.set_xlim([min_x - .2, .2])\n",
    "ax5.set_ylabel(r'$\\kappa$')\n",
    "ax5.set_xlabel(r'$\\pi$')\n",
    "# ax5.legend(handles=[ar_patch], labels=['AR Confidence Interval'], loc='upper left')\n",
    "\n",
    "fig5.savefig(f'../doc/figures/ar_confidence_region_{innov_dim}.tmp.pdf', frameon=False, pad_inches=0, \n",
    "             bbox_inches='tight', transparent=True)"
   ]
  },
  {
   "cell_type": "code",
   "execution_count": 126,
   "metadata": {},
   "outputs": [],
   "source": [
    "qlr_draws_subset = pd.concat([group[group.index == group.idxmax().qlr] \n",
    "                              for _, group in qlr_draws.groupby(['pi', 'theta'])])\n",
    "qlr_draws_pivoted = qlr_draws_subset.drop(\n",
    "    columns=['phi']).pivot(columns='pi',index='theta', values='qlr').sort_index(by='theta', ascending=False)"
   ]
  },
  {
   "cell_type": "code",
   "execution_count": 127,
   "metadata": {},
   "outputs": [
    {
     "data": {
      "text/plain": [
       "<matplotlib.axes._subplots.AxesSubplot at 0x7fa44c1c3eb8>"
      ]
     },
     "execution_count": 127,
     "metadata": {},
     "output_type": "execute_result"
    },
    {
     "data": {
      "image/png": "[encoded data removed]",
      "text/plain": [
       "<Figure size 748.8x514.8 with 2 Axes>"
      ]
     },
     "metadata": {
      "needs_background": "light"
     },
     "output_type": "display_data"
    }
   ],
   "source": [
    "sns.heatmap(qlr_draws_pivoted, cmap=mpl.cm.get_cmap('terrain'), vmin=0, vmax=10)"
   ]
  },
  {
   "cell_type": "code",
   "execution_count": 128,
   "metadata": {},
   "outputs": [],
   "source": [
    "qlr_stats_subset = pd.concat([group[group.index == group.idxmin().qlr] \n",
    "                              for _, group in qlr_stats.groupby(['pi', 'theta'])])\n",
    "qlr_stats_pivoted = qlr_draws_subset.drop(columns=['phi']).pivot(\n",
    "    columns='pi',index='theta', values='qlr').sort_index(axis='index').sort_index(by='theta', ascending=False)"
   ]
  },
  {
   "cell_type": "code",
   "execution_count": 129,
   "metadata": {},
   "outputs": [
    {
     "data": {
      "text/plain": [
       "<matplotlib.axes._subplots.AxesSubplot at 0x7fa43f997320>"
      ]
     },
     "execution_count": 129,
     "metadata": {},
     "output_type": "execute_result"
    },
    {
     "data": {
      "image/png": "[encoded data removed]",
      "text/plain": [
       "<Figure size 748.8x514.8 with 2 Axes>"
      ]
     },
     "metadata": {
      "needs_background": "light"
     },
     "output_type": "display_data"
    }
   ],
   "source": [
    "sns.heatmap(qlr_stats_pivoted, cmap=mpl.cm.get_cmap('terrain'), vmin=0, vmax=10)"
   ]
  },
  {
   "cell_type": "code",
   "execution_count": null,
   "metadata": {},
   "outputs": [],
   "source": []
  },
  {
   "cell_type": "code",
   "execution_count": null,
   "metadata": {},
   "outputs": [],
   "source": []
  }
 ],
 "metadata": {
  "kernelspec": {
   "display_name": "Python 3",
   "language": "python",
   "name": "python3"
  },
  "language_info": {
   "codemirror_mode": {
    "name": "ipython",
    "version": 3
   },
   "file_extension": ".py",
   "mimetype": "text/x-python",
   "name": "python",
   "nbconvert_exporter": "python",
   "pygments_lexer": "ipython3",
   "version": "3.7.1"
  }
 },
 "nbformat": 4,
 "nbformat_minor": 2
}
