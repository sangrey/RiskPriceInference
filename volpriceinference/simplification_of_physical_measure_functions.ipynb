{
 "cells": [
  {
   "cell_type": "code",
   "execution_count": 41,
   "metadata": {},
   "outputs": [],
   "source": [
    "import numpy as np\n",
    "import sympy as sym\n",
    "from sympy.utilities.lambdify import lambdify\n",
    "import matplotlib as mpl\n",
    "import numpy as np"
   ]
  },
  {
   "cell_type": "code",
   "execution_count": 39,
   "metadata": {},
   "outputs": [],
   "source": [
    "sym.init_printing(use_unicode=True)\n",
    "%matplotlib inline\n",
    "mpl.style.use('seaborn-talk')"
   ]
  },
  {
   "cell_type": "code",
   "execution_count": 3,
   "metadata": {},
   "outputs": [],
   "source": [
    "x, t, z, = sym.symbols('x t z', real=True)\n",
    "psi, phi,theta, pi, omega = sym.symbols('psi, phi theta, pi, omega', real=True)\n",
    "alph1, alph2 = sym.symbols('\\\\alpha(\\\\theta), \\\\alpha(\\\\theta-1)', real=True)\n",
    "\n",
    "c, rho, delta = sym.symbols('c, rho, delta', real=True, positive=True)"
   ]
  },
  {
   "cell_type": "code",
   "execution_count": 4,
   "metadata": {},
   "outputs": [
    {
     "data": {
      "image/png": "[encoded data removed]",
      "text/latex": [
       "$$\\alpha(\\theta)$$"
      ],
      "text/plain": [
       "\\alpha(\\theta)"
      ]
     },
     "execution_count": 4,
     "metadata": {},
     "output_type": "execute_result"
    }
   ],
   "source": [
    "alph1"
   ]
  },
  {
   "cell_type": "code",
   "execution_count": 5,
   "metadata": {},
   "outputs": [],
   "source": [
    "a = rho * x - rho * c * x**2"
   ]
  },
  {
   "cell_type": "code",
   "execution_count": 6,
   "metadata": {},
   "outputs": [
    {
     "data": {
      "image/png": "[encoded data removed]",
      "text/latex": [
       "$$- c \\rho x^{2} + \\rho x$$"
      ],
      "text/plain": [
       "       2      \n",
       "- c⋅ρ⋅x  + ρ⋅x"
      ]
     },
     "execution_count": 6,
     "metadata": {},
     "output_type": "execute_result"
    }
   ],
   "source": [
    "a"
   ]
  },
  {
   "cell_type": "code",
   "execution_count": 7,
   "metadata": {},
   "outputs": [],
   "source": [
    "b = c * delta  * x + c**2 * omega * x**2"
   ]
  },
  {
   "cell_type": "code",
   "execution_count": 8,
   "metadata": {},
   "outputs": [],
   "source": [
    "alpha = psi * x - (1 - phi**2) * ( x**2 / 2)"
   ]
  },
  {
   "cell_type": "code",
   "execution_count": 9,
   "metadata": {},
   "outputs": [],
   "source": [
    "tmp = alpha.replace(x, -1)"
   ]
  },
  {
   "cell_type": "code",
   "execution_count": 10,
   "metadata": {},
   "outputs": [
    {
     "data": {
      "image/png": "[encoded data removed]",
      "text/latex": [
       "$$\\frac{\\phi^{2}}{2} - \\psi - \\frac{1}{2}$$"
      ],
      "text/plain": [
       " 2        \n",
       "φ        1\n",
       "── - ψ - ─\n",
       "2        2"
      ]
     },
     "execution_count": 10,
     "metadata": {},
     "output_type": "execute_result"
    }
   ],
   "source": [
    "tmp"
   ]
  },
  {
   "cell_type": "code",
   "execution_count": 11,
   "metadata": {},
   "outputs": [
    {
     "data": {
      "image/png": "[encoded data removed]",
      "text/latex": [
       "$$c^{2} \\omega \\left(\\frac{\\phi^{2}}{2} + \\pi + \\psi \\theta - \\psi - \\frac{\\theta^{2}}{2} \\left(- \\phi^{2} + 1\\right) - \\frac{1}{2}\\right)^{2} + c \\delta \\left(\\frac{\\phi^{2}}{2} + \\pi + \\psi \\theta - \\psi - \\frac{\\theta^{2}}{2} \\left(- \\phi^{2} + 1\\right) - \\frac{1}{2}\\right)$$"
      ],
      "text/plain": [
       "                                           2                                  \n",
       "     ⎛ 2                  2 ⎛   2    ⎞    ⎞        ⎛ 2                  2 ⎛   \n",
       " 2   ⎜φ                  θ ⋅⎝- φ  + 1⎠   1⎟        ⎜φ                  θ ⋅⎝- φ\n",
       "c ⋅ω⋅⎜── + π + ψ⋅θ - ψ - ───────────── - ─⎟  + c⋅δ⋅⎜── + π + ψ⋅θ - ψ - ───────\n",
       "     ⎝2                        2         2⎠        ⎝2                        2\n",
       "\n",
       "           \n",
       "2    ⎞    ⎞\n",
       "  + 1⎠   1⎟\n",
       "────── - ─⎟\n",
       "         2⎠"
      ]
     },
     "execution_count": 11,
     "metadata": {},
     "output_type": "execute_result"
    }
   ],
   "source": [
    "b.replace(x, tmp + pi + alpha.replace(x, theta)).replace"
   ]
  },
  {
   "cell_type": "code",
   "execution_count": 12,
   "metadata": {},
   "outputs": [
    {
     "data": {
      "image/png": "[encoded data removed]",
      "text/latex": [
       "$$- c \\rho \\left(\\frac{\\phi^{2}}{2} + \\pi + \\psi \\theta - \\psi - \\frac{\\theta^{2}}{2} \\left(- \\phi^{2} + 1\\right) - \\frac{1}{2}\\right)^{2} + \\rho \\left(\\frac{\\phi^{2}}{2} + \\pi + \\psi \\theta - \\psi - \\frac{\\theta^{2}}{2} \\left(- \\phi^{2} + 1\\right) - \\frac{1}{2}\\right)$$"
      ],
      "text/plain": [
       "                                            2                                 \n",
       "      ⎛ 2                  2 ⎛   2    ⎞    ⎞      ⎛ 2                  2 ⎛   2\n",
       "      ⎜φ                  θ ⋅⎝- φ  + 1⎠   1⎟      ⎜φ                  θ ⋅⎝- φ \n",
       "- c⋅ρ⋅⎜── + π + ψ⋅θ - ψ - ───────────── - ─⎟  + ρ⋅⎜── + π + ψ⋅θ - ψ - ────────\n",
       "      ⎝2                        2         2⎠      ⎝2                        2 \n",
       "\n",
       "          \n",
       "    ⎞    ⎞\n",
       " + 1⎠   1⎟\n",
       "───── - ─⎟\n",
       "        2⎠"
      ]
     },
     "execution_count": 12,
     "metadata": {},
     "output_type": "execute_result"
    }
   ],
   "source": [
    "a.replace(x, tmp + pi + alpha.replace(x, theta))"
   ]
  },
  {
   "cell_type": "code",
   "execution_count": 16,
   "metadata": {},
   "outputs": [],
   "source": [
    "beta = alpha.replace(psi, psi - (1 - phi**2) / 2).replace(x, psi - (1 - phi**2))"
   ]
  },
  {
   "cell_type": "code",
   "execution_count": 17,
   "metadata": {},
   "outputs": [
    {
     "data": {
      "image/png": "[encoded data removed]",
      "text/latex": [
       "$$- \\frac{1}{2} \\left(- \\phi^{2} + 1\\right) \\left(\\phi^{2} + \\psi - 1\\right)^{2} + \\left(\\frac{\\phi^{2}}{2} + \\psi - \\frac{1}{2}\\right) \\left(\\phi^{2} + \\psi - 1\\right)$$"
      ],
      "text/plain": [
       "                         2                            \n",
       "  ⎛   2    ⎞ ⎛ 2        ⎞    ⎛ 2        ⎞             \n",
       "  ⎝- φ  + 1⎠⋅⎝φ  + ψ - 1⎠    ⎜φ        1⎟ ⎛ 2        ⎞\n",
       "- ──────────────────────── + ⎜── + ψ - ─⎟⋅⎝φ  + ψ - 1⎠\n",
       "             2               ⎝2        2⎠             "
      ]
     },
     "execution_count": 17,
     "metadata": {},
     "output_type": "execute_result"
    }
   ],
   "source": [
    "beta"
   ]
  },
  {
   "cell_type": "code",
   "execution_count": 19,
   "metadata": {},
   "outputs": [],
   "source": [
    "psi = sym.solveset(psi * rho + beta + 2 * psi**2 * c, psi)"
   ]
  },
  {
   "cell_type": "code",
   "execution_count": 21,
   "metadata": {},
   "outputs": [
    {
     "data": {
      "image/png": "[encoded data removed]",
      "text/latex": [
       "$$\\left\\{- \\frac{2 \\rho - 1}{2 \\left(4 c + 1\\right)} - \\frac{\\sqrt{4 \\rho^{2} - 4 \\rho + 1}}{2 \\left(4 c + 1\\right)}, - \\frac{2 \\rho - 1}{2 \\left(4 c + 1\\right)} + \\frac{\\sqrt{4 \\rho^{2} - 4 \\rho + 1}}{2 \\left(4 c + 1\\right)}\\right\\}$$"
      ],
      "text/plain": [
       "⎧                   ________________                     ________________⎫\n",
       "⎪                  ╱    2                               ╱    2           ⎪\n",
       "⎨    2⋅ρ - 1     ╲╱  4⋅ρ  - 4⋅ρ + 1       2⋅ρ - 1     ╲╱  4⋅ρ  - 4⋅ρ + 1 ⎬\n",
       "⎪- ─────────── - ───────────────────, - ─────────── + ───────────────────⎪\n",
       "⎩  2⋅(4⋅c + 1)       2⋅(4⋅c + 1)        2⋅(4⋅c + 1)       2⋅(4⋅c + 1)    ⎭"
      ]
     },
     "execution_count": 21,
     "metadata": {},
     "output_type": "execute_result"
    }
   ],
   "source": [
    "psi.replace(phi, 0)"
   ]
  },
  {
   "cell_type": "code",
   "execution_count": 50,
   "metadata": {},
   "outputs": [
    {
     "data": {
      "image/png": "[encoded data removed]",
      "text/latex": [
       "$$\\left\\{- \\frac{1}{2 \\left(\\phi^{2} + 5\\right)} \\left(2 \\phi^{4} - \\phi^{2} + 2 \\rho - 1\\right) - \\frac{1}{2 \\left(\\phi^{2} + 5\\right)} \\sqrt{- 16 \\phi^{6} + 8 \\phi^{4} \\rho + 33 \\phi^{4} - 4 \\phi^{2} \\rho - 18 \\phi^{2} + 4 \\rho^{2} - 4 \\rho + 1}, - \\frac{1}{2 \\left(\\phi^{2} + 5\\right)} \\left(2 \\phi^{4} - \\phi^{2} + 2 \\rho - 1\\right) + \\frac{1}{2 \\left(\\phi^{2} + 5\\right)} \\sqrt{- 16 \\phi^{6} + 8 \\phi^{4} \\rho + 33 \\phi^{4} - 4 \\phi^{2} \\rho - 18 \\phi^{2} + 4 \\rho^{2} - 4 \\rho + 1}\\right\\}$$"
      ],
      "text/plain": [
       "⎧                           __________________________________________________\n",
       "⎪     4    2               ╱       6      4         4      2         2      2 \n",
       "⎪  2⋅φ  - φ  + 2⋅ρ - 1   ╲╱  - 16⋅φ  + 8⋅φ ⋅ρ + 33⋅φ  - 4⋅φ ⋅ρ - 18⋅φ  + 4⋅ρ  \n",
       "⎨- ─────────────────── - ─────────────────────────────────────────────────────\n",
       "⎪         ⎛ 2    ⎞                                    ⎛ 2    ⎞                \n",
       "⎪       2⋅⎝φ  + 5⎠                                  2⋅⎝φ  + 5⎠                \n",
       "⎩                                                                             \n",
       "\n",
       "__________                             _______________________________________\n",
       "                 4    2               ╱       6      4         4      2       \n",
       "- 4⋅ρ + 1     2⋅φ  - φ  + 2⋅ρ - 1   ╲╱  - 16⋅φ  + 8⋅φ ⋅ρ + 33⋅φ  - 4⋅φ ⋅ρ - 18\n",
       "──────────, - ─────────────────── + ──────────────────────────────────────────\n",
       "                     ⎛ 2    ⎞                                    ⎛ 2    ⎞     \n",
       "                   2⋅⎝φ  + 5⎠                                  2⋅⎝φ  + 5⎠     \n",
       "                                                                              \n",
       "\n",
       "_____________________⎫\n",
       "  2      2           ⎪\n",
       "⋅φ  + 4⋅ρ  - 4⋅ρ + 1 ⎪\n",
       "─────────────────────⎬\n",
       "                     ⎪\n",
       "                     ⎪\n",
       "                     ⎭"
      ]
     },
     "execution_count": 50,
     "metadata": {},
     "output_type": "execute_result"
    }
   ],
   "source": [
    "psi.replace(c,1)"
   ]
  },
  {
   "cell_type": "code",
   "execution_count": 52,
   "metadata": {},
   "outputs": [
    {
     "data": {
      "image/png": "[encoded data removed]",
      "text/latex": [
       "$$\\left\\{0, - \\frac{\\rho}{3}\\right\\}$$"
      ],
      "text/plain": [
       "⎧   -ρ ⎫\n",
       "⎨0, ───⎬\n",
       "⎩    3 ⎭"
      ]
     },
     "execution_count": 52,
     "metadata": {},
     "output_type": "execute_result"
    }
   ],
   "source": [
    "psi.replace(phi, 1).replace(c,1)"
   ]
  },
  {
   "cell_type": "code",
   "execution_count": 56,
   "metadata": {},
   "outputs": [
    {
     "data": {
      "image/png": "[encoded data removed]",
      "text/latex": [
       "$$\\left\\{- \\frac{2 \\phi^{4} - \\phi^{2} - 1}{2 \\left(\\phi^{2} + 5\\right)} - \\frac{1}{2 \\left(\\phi^{2} + 5\\right)} \\sqrt{- 16 \\phi^{6} + 33 \\phi^{4} - 18 \\phi^{2} + 1}, - \\frac{2 \\phi^{4} - \\phi^{2} - 1}{2 \\left(\\phi^{2} + 5\\right)} + \\frac{1}{2 \\left(\\phi^{2} + 5\\right)} \\sqrt{- 16 \\phi^{6} + 33 \\phi^{4} - 18 \\phi^{2} + 1}\\right\\}$$"
      ],
      "text/plain": [
       "⎧                     _____________________________                       ____\n",
       "⎪     4    2         ╱       6       4       2            4    2         ╱    \n",
       "⎪  2⋅φ  - φ  - 1   ╲╱  - 16⋅φ  + 33⋅φ  - 18⋅φ  + 1     2⋅φ  - φ  - 1   ╲╱  - 1\n",
       "⎨- ───────────── - ────────────────────────────────, - ───────────── + ───────\n",
       "⎪      ⎛ 2    ⎞                 ⎛ 2    ⎞                   ⎛ 2    ⎞           \n",
       "⎪    2⋅⎝φ  + 5⎠               2⋅⎝φ  + 5⎠                 2⋅⎝φ  + 5⎠           \n",
       "⎩                                                                             \n",
       "\n",
       "_________________________⎫\n",
       "   6       4       2     ⎪\n",
       "6⋅φ  + 33⋅φ  - 18⋅φ  + 1 ⎪\n",
       "─────────────────────────⎬\n",
       "      ⎛ 2    ⎞           ⎪\n",
       "    2⋅⎝φ  + 5⎠           ⎪\n",
       "                         ⎭"
      ]
     },
     "execution_count": 56,
     "metadata": {},
     "output_type": "execute_result"
    }
   ],
   "source": [
    "psi.replace(rho, 0).replace(c,1)"
   ]
  },
  {
   "cell_type": "code",
   "execution_count": 53,
   "metadata": {},
   "outputs": [
    {
     "data": {
      "image/png": "[encoded data removed]",
      "text/latex": [
       "$$\\left\\{- \\frac{\\rho}{5} - \\frac{1}{10} \\sqrt{4 \\rho^{2} - 4 \\rho + 1} + \\frac{1}{10}, - \\frac{\\rho}{5} + \\frac{1}{10} \\sqrt{4 \\rho^{2} - 4 \\rho + 1} + \\frac{1}{10}\\right\\}$$"
      ],
      "text/plain": [
       "⎧         ________________                ________________     ⎫\n",
       "⎪        ╱    2                          ╱    2                ⎪\n",
       "⎨  ρ   ╲╱  4⋅ρ  - 4⋅ρ + 1    1     ρ   ╲╱  4⋅ρ  - 4⋅ρ + 1    1 ⎬\n",
       "⎪- ─ - ─────────────────── + ──, - ─ + ─────────────────── + ──⎪\n",
       "⎩  5            10           10    5            10           10⎭"
      ]
     },
     "execution_count": 53,
     "metadata": {},
     "output_type": "execute_result"
    }
   ],
   "source": [
    "psi.replace(phi, 0).replace(c,1)"
   ]
  },
  {
   "cell_type": "code",
   "execution_count": 46,
   "metadata": {},
   "outputs": [],
   "source": [
    "psi_with_num = psi.replace(rho,.9).replace(c,1)"
   ]
  },
  {
   "cell_type": "code",
   "execution_count": 47,
   "metadata": {},
   "outputs": [],
   "source": [
    "psi0_func = lambdify(phi, psi_with_num.args[0])\n",
    "psi1_func = lambdify(phi, psi_with_num.args[1])"
   ]
  },
  {
   "cell_type": "code",
   "execution_count": 48,
   "metadata": {},
   "outputs": [
    {
     "name": "stderr",
     "output_type": "stream",
     "text": [
      "/home/sangrey/anaconda3/lib/python3.6/site-packages/numpy/__init__.py:1: RuntimeWarning: invalid value encountered in sqrt\n",
      "  \"\"\"\n"
     ]
    },
    {
     "data": {
      "text/plain": [
       "[<matplotlib.lines.Line2D at 0x7f11a01bd780>]"
      ]
     },
     "execution_count": 48,
     "metadata": {},
     "output_type": "execute_result"
    },
    {
     "data": {
      "image/png": "[encoded data removed]",
      "text/plain": [
       "<Figure size 432x288 with 1 Axes>"
      ]
     },
     "metadata": {},
     "output_type": "display_data"
    }
   ],
   "source": [
    "fig1, ax1 = mpl.pyplot.subplots()\n",
    "xvals = np.linspace(-1,1,100)\n",
    "yvals = [psi0_func(x) for x in xvals]\n",
    "ax1.plot(xvals, yvals)"
   ]
  },
  {
   "cell_type": "code",
   "execution_count": 49,
   "metadata": {},
   "outputs": [
    {
     "name": "stderr",
     "output_type": "stream",
     "text": [
      "/home/sangrey/anaconda3/lib/python3.6/site-packages/numpy/__init__.py:1: RuntimeWarning: invalid value encountered in sqrt\n",
      "  \"\"\"\n"
     ]
    },
    {
     "data": {
      "text/plain": [
       "[<matplotlib.lines.Line2D at 0x7f11a0126b70>]"
      ]
     },
     "execution_count": 49,
     "metadata": {},
     "output_type": "execute_result"
    },
    {
     "data": {
      "image/png": "[encoded data removed]",
      "text/plain": [
       "<Figure size 432x288 with 1 Axes>"
      ]
     },
     "metadata": {},
     "output_type": "display_data"
    }
   ],
   "source": [
    "fig2, ax2 = mpl.pyplot.subplots()\n",
    "xvals = np.linspace(-1,1,100)\n",
    "yvals = [psi1_func(x) for x in xvals]\n",
    "ax2.plot(xvals, yvals)"
   ]
  },
  {
   "cell_type": "code",
   "execution_count": 57,
   "metadata": {},
   "outputs": [
    {
     "data": {
      "image/png": "[encoded data removed]",
      "text/latex": [
       "$$c^{2} \\omega x^{2} + c \\delta x$$"
      ],
      "text/plain": [
       " 2    2        \n",
       "c ⋅ω⋅x  + c⋅δ⋅x"
      ]
     },
     "execution_count": 57,
     "metadata": {},
     "output_type": "execute_result"
    }
   ],
   "source": [
    "b"
   ]
  },
  {
   "cell_type": "code",
   "execution_count": 59,
   "metadata": {},
   "outputs": [
    {
     "data": {
      "image/png": "[encoded data removed]",
      "text/latex": [
       "$$\\left\\{- \\frac{2 \\phi^{4} - \\phi^{2} + 2 \\rho - 1}{2 \\left(4 c + \\phi^{2} + 1\\right)} - \\frac{1}{2 \\left(4 c + \\phi^{2} + 1\\right)} \\sqrt{- 16 c \\phi^{6} + 32 c \\phi^{4} - 16 c \\phi^{2} + 8 \\phi^{4} \\rho + \\phi^{4} - 4 \\phi^{2} \\rho - 2 \\phi^{2} + 4 \\rho^{2} - 4 \\rho + 1}, - \\frac{2 \\phi^{4} - \\phi^{2} + 2 \\rho - 1}{2 \\left(4 c + \\phi^{2} + 1\\right)} + \\frac{1}{2 \\left(4 c + \\phi^{2} + 1\\right)} \\sqrt{- 16 c \\phi^{6} + 32 c \\phi^{4} - 16 c \\phi^{2} + 8 \\phi^{4} \\rho + \\phi^{4} - 4 \\phi^{2} \\rho - 2 \\phi^{2} + 4 \\rho^{2} - 4 \\rho + 1}\\right\\}$$"
      ],
      "text/plain": [
       "⎧                           __________________________________________________\n",
       "⎪     4    2               ╱         6         4         2      4      4      \n",
       "⎪  2⋅φ  - φ  + 2⋅ρ - 1   ╲╱  - 16⋅c⋅φ  + 32⋅c⋅φ  - 16⋅c⋅φ  + 8⋅φ ⋅ρ + φ  - 4⋅φ\n",
       "⎨- ─────────────────── - ─────────────────────────────────────────────────────\n",
       "⎪      ⎛       2    ⎞                                       ⎛       2    ⎞    \n",
       "⎪    2⋅⎝4⋅c + φ  + 1⎠                                     2⋅⎝4⋅c + φ  + 1⎠    \n",
       "⎩                                                                             \n",
       "\n",
       "____________________________                             _____________________\n",
       "2        2      2                  4    2               ╱         6         4 \n",
       " ⋅ρ - 2⋅φ  + 4⋅ρ  - 4⋅ρ + 1     2⋅φ  - φ  + 2⋅ρ - 1   ╲╱  - 16⋅c⋅φ  + 32⋅c⋅φ  \n",
       "────────────────────────────, - ─────────────────── + ────────────────────────\n",
       "                                    ⎛       2    ⎞                            \n",
       "                                  2⋅⎝4⋅c + φ  + 1⎠                            \n",
       "                                                                              \n",
       "\n",
       "_________________________________________________________⎫\n",
       "        2      4      4      2        2      2           ⎪\n",
       "- 16⋅c⋅φ  + 8⋅φ ⋅ρ + φ  - 4⋅φ ⋅ρ - 2⋅φ  + 4⋅ρ  - 4⋅ρ + 1 ⎪\n",
       "─────────────────────────────────────────────────────────⎬\n",
       "           ⎛       2    ⎞                                ⎪\n",
       "         2⋅⎝4⋅c + φ  + 1⎠                                ⎪\n",
       "                                                         ⎭"
      ]
     },
     "execution_count": 59,
     "metadata": {},
     "output_type": "execute_result"
    }
   ],
   "source": [
    "psi"
   ]
  },
  {
   "cell_type": "code",
   "execution_count": 60,
   "metadata": {},
   "outputs": [],
   "source": [
    "gamma = b.replace(x, -x + ( 1- phi**2))"
   ]
  },
  {
   "cell_type": "code",
   "execution_count": 63,
   "metadata": {},
   "outputs": [],
   "source": [
    "psi2 = sym.solveset(x * rho + gamma + x**2 * c**2 * omega / 2, x)"
   ]
  },
  {
   "cell_type": "code",
   "execution_count": 66,
   "metadata": {},
   "outputs": [
    {
     "data": {
      "image/png": "[encoded data removed]",
      "text/latex": [
       "$$\\left\\{- \\frac{1}{3 \\omega} \\left(- \\delta + 2 \\omega \\phi^{2} - 2 \\omega + \\rho\\right) - \\frac{1}{3 \\omega} \\sqrt{\\delta^{2} + 2 \\delta \\omega \\phi^{2} - 2 \\delta \\omega - 2 \\delta \\rho - 2 \\omega^{2} \\phi^{4} + 4 \\omega^{2} \\phi^{2} - 2 \\omega^{2} + 4 \\omega \\phi^{2} \\rho - 4 \\omega \\rho + \\rho^{2}}, - \\frac{1}{3 \\omega} \\left(- \\delta + 2 \\omega \\phi^{2} - 2 \\omega + \\rho\\right) + \\frac{1}{3 \\omega} \\sqrt{\\delta^{2} + 2 \\delta \\omega \\phi^{2} - 2 \\delta \\omega - 2 \\delta \\rho - 2 \\omega^{2} \\phi^{4} + 4 \\omega^{2} \\phi^{2} - 2 \\omega^{2} + 4 \\omega \\phi^{2} \\rho - 4 \\omega \\rho + \\rho^{2}}\\right\\}$$"
      ],
      "text/plain": [
       "⎧                             ________________________________________________\n",
       "⎪            2               ╱  2          2                      2  4      2 \n",
       "⎨  -δ + 2⋅ω⋅φ  - 2⋅ω + ρ   ╲╱  δ  + 2⋅δ⋅ω⋅φ  - 2⋅δ⋅ω - 2⋅δ⋅ρ - 2⋅ω ⋅φ  + 4⋅ω ⋅\n",
       "⎪- ───────────────────── - ───────────────────────────────────────────────────\n",
       "⎩           3⋅ω                                                     3⋅ω       \n",
       "\n",
       "__________________________________                               _____________\n",
       " 2      2        2              2               2               ╱  2          \n",
       "φ  - 2⋅ω  + 4⋅ω⋅φ ⋅ρ - 4⋅ω⋅ρ + ρ      -δ + 2⋅ω⋅φ  - 2⋅ω + ρ   ╲╱  δ  + 2⋅δ⋅ω⋅φ\n",
       "──────────────────────────────────, - ───────────────────── + ────────────────\n",
       "                                               3⋅ω                            \n",
       "\n",
       "_____________________________________________________________________⎫\n",
       "2                      2  4      2  2      2        2              2 ⎪\n",
       "  - 2⋅δ⋅ω - 2⋅δ⋅ρ - 2⋅ω ⋅φ  + 4⋅ω ⋅φ  - 2⋅ω  + 4⋅ω⋅φ ⋅ρ - 4⋅ω⋅ρ + ρ  ⎬\n",
       "─────────────────────────────────────────────────────────────────────⎪\n",
       "                         3⋅ω                                         ⎭"
      ]
     },
     "execution_count": 66,
     "metadata": {},
     "output_type": "execute_result"
    }
   ],
   "source": [
    "psi2.replace(c,1)"
   ]
  },
  {
   "cell_type": "code",
   "execution_count": null,
   "metadata": {},
   "outputs": [],
   "source": []
  }
 ],
 "metadata": {
  "kernelspec": {
   "display_name": "Python 3",
   "language": "python",
   "name": "python3"
  },
  "language_info": {
   "codemirror_mode": {
    "name": "ipython",
    "version": 3
   },
   "file_extension": ".py",
   "mimetype": "text/x-python",
   "name": "python",
   "nbconvert_exporter": "python",
   "pygments_lexer": "ipython3",
   "version": "3.6.5"
  }
 },
 "nbformat": 4,
 "nbformat_minor": 2
}
