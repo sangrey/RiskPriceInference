{
 "cells": [
  {
   "cell_type": "code",
   "execution_count": 1,
   "metadata": {},
   "outputs": [],
   "source": [
    "import numpy as np\n",
    "import sympy as sym\n",
    "from sympy.utilities.lambdify import lambdify"
   ]
  },
  {
   "cell_type": "code",
   "execution_count": 2,
   "metadata": {},
   "outputs": [],
   "source": [
    "sym.init_printing(use_unicode=True)"
   ]
  },
  {
   "cell_type": "code",
   "execution_count": 17,
   "metadata": {},
   "outputs": [],
   "source": [
    "x, t, z, = sym.symbols('x t z')\n",
    "psi, phi,theta, pi, omega = sym.symbols('psi, phi theta, pi, omega', real=True)\n",
    "alph1, alph2 = sym.symbols('\\\\alpha(\\\\theta), \\\\alpha(\\\\theta-1)', real=True)\n",
    "\n",
    "c, rho, delta = sym.symbols('c, rho, delta', real=True, positive=True)"
   ]
  },
  {
   "cell_type": "code",
   "execution_count": 18,
   "metadata": {},
   "outputs": [
    {
     "data": {
      "image/png": "[encoded data removed]",
      "text/latex": [
       "$$\\alpha(\\theta)$$"
      ],
      "text/plain": [
       "\\alpha(\\theta)"
      ]
     },
     "execution_count": 18,
     "metadata": {},
     "output_type": "execute_result"
    }
   ],
   "source": [
    "alph1"
   ]
  },
  {
   "cell_type": "code",
   "execution_count": 19,
   "metadata": {},
   "outputs": [],
   "source": [
    "a = rho * x - rho * c * x**2"
   ]
  },
  {
   "cell_type": "code",
   "execution_count": 20,
   "metadata": {},
   "outputs": [
    {
     "data": {
      "image/png": "[encoded data removed]",
      "text/latex": [
       "$$- c \\rho x^{2} + \\rho x$$"
      ],
      "text/plain": [
       "       2      \n",
       "- c⋅ρ⋅x  + ρ⋅x"
      ]
     },
     "execution_count": 20,
     "metadata": {},
     "output_type": "execute_result"
    }
   ],
   "source": [
    "a"
   ]
  },
  {
   "cell_type": "code",
   "execution_count": 21,
   "metadata": {},
   "outputs": [],
   "source": [
    "b = c * delta  * x + c**2 * omega * x**2"
   ]
  },
  {
   "cell_type": "code",
   "execution_count": 27,
   "metadata": {},
   "outputs": [],
   "source": [
    "alpha = psi * x - (1 - phi**2) * ( x**2 / 2)"
   ]
  },
  {
   "cell_type": "code",
   "execution_count": 29,
   "metadata": {},
   "outputs": [],
   "source": [
    "tmp = alpha.replace(x, -1)"
   ]
  },
  {
   "cell_type": "code",
   "execution_count": 26,
   "metadata": {},
   "outputs": [
    {
     "data": {
      "image/png": "[encoded data removed]",
      "text/latex": [
       "$$\\frac{\\phi^{2}}{2} + \\psi - \\frac{1}{2}$$"
      ],
      "text/plain": [
       " 2        \n",
       "φ        1\n",
       "── + ψ - ─\n",
       "2        2"
      ]
     },
     "execution_count": 26,
     "metadata": {},
     "output_type": "execute_result"
    }
   ],
   "source": [
    "tmp"
   ]
  },
  {
   "cell_type": "code",
   "execution_count": 31,
   "metadata": {},
   "outputs": [
    {
     "data": {
      "image/png": "[encoded data removed]",
      "text/latex": [
       "$$c^{2} \\omega \\left(\\frac{\\phi^{2}}{2} + \\pi + \\psi \\theta - \\psi - \\frac{\\theta^{2}}{2} \\left(- \\phi^{2} + 1\\right) - \\frac{1}{2}\\right)^{2} + c \\delta \\left(\\frac{\\phi^{2}}{2} + \\pi + \\psi \\theta - \\psi - \\frac{\\theta^{2}}{2} \\left(- \\phi^{2} + 1\\right) - \\frac{1}{2}\\right)$$"
      ],
      "text/plain": [
       "                                           2                                  \n",
       "     ⎛ 2                  2 ⎛   2    ⎞    ⎞        ⎛ 2                  2 ⎛   \n",
       " 2   ⎜φ                  θ ⋅⎝- φ  + 1⎠   1⎟        ⎜φ                  θ ⋅⎝- φ\n",
       "c ⋅ω⋅⎜── + π + ψ⋅θ - ψ - ───────────── - ─⎟  + c⋅δ⋅⎜── + π + ψ⋅θ - ψ - ───────\n",
       "     ⎝2                        2         2⎠        ⎝2                        2\n",
       "\n",
       "           \n",
       "2    ⎞    ⎞\n",
       "  + 1⎠   1⎟\n",
       "────── - ─⎟\n",
       "         2⎠"
      ]
     },
     "execution_count": 31,
     "metadata": {},
     "output_type": "execute_result"
    }
   ],
   "source": [
    "b.replace(x, tmp + pi + alpha.replace(x, theta))"
   ]
  },
  {
   "cell_type": "code",
   "execution_count": 32,
   "metadata": {},
   "outputs": [
    {
     "data": {
      "image/png": "[encoded data removed]",
      "text/latex": [
       "$$- c \\rho \\left(\\frac{\\phi^{2}}{2} + \\pi + \\psi \\theta - \\psi - \\frac{\\theta^{2}}{2} \\left(- \\phi^{2} + 1\\right) - \\frac{1}{2}\\right)^{2} + \\rho \\left(\\frac{\\phi^{2}}{2} + \\pi + \\psi \\theta - \\psi - \\frac{\\theta^{2}}{2} \\left(- \\phi^{2} + 1\\right) - \\frac{1}{2}\\right)$$"
      ],
      "text/plain": [
       "                                            2                                 \n",
       "      ⎛ 2                  2 ⎛   2    ⎞    ⎞      ⎛ 2                  2 ⎛   2\n",
       "      ⎜φ                  θ ⋅⎝- φ  + 1⎠   1⎟      ⎜φ                  θ ⋅⎝- φ \n",
       "- c⋅ρ⋅⎜── + π + ψ⋅θ - ψ - ───────────── - ─⎟  + ρ⋅⎜── + π + ψ⋅θ - ψ - ────────\n",
       "      ⎝2                        2         2⎠      ⎝2                        2 \n",
       "\n",
       "          \n",
       "    ⎞    ⎞\n",
       " + 1⎠   1⎟\n",
       "───── - ─⎟\n",
       "        2⎠"
      ]
     },
     "execution_count": 32,
     "metadata": {},
     "output_type": "execute_result"
    }
   ],
   "source": [
    "a.replace(x, tmp + pi + alpha.replace(x, theta))"
   ]
  },
  {
   "cell_type": "code",
   "execution_count": null,
   "metadata": {},
   "outputs": [],
   "source": []
  }
 ],
 "metadata": {
  "kernelspec": {
   "display_name": "Python 3",
   "language": "python",
   "name": "python3"
  },
  "language_info": {
   "codemirror_mode": {
    "name": "ipython",
    "version": 3
   },
   "file_extension": ".py",
   "mimetype": "text/x-python",
   "name": "python",
   "nbconvert_exporter": "python",
   "pygments_lexer": "ipython3",
   "version": "3.6.5"
  }
 },
 "nbformat": 4,
 "nbformat_minor": 2
}
