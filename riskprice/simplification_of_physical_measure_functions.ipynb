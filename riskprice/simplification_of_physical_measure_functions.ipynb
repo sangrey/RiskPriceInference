{
 "cells": [
  {
   "cell_type": "code",
   "execution_count": 1,
   "metadata": {},
   "outputs": [],
   "source": [
    "import numpy as np\n",
    "import sympy as sym\n",
    "from sympy.utilities.lambdify import lambdify"
   ]
  },
  {
   "cell_type": "code",
   "execution_count": 8,
   "metadata": {},
   "outputs": [],
   "source": [
    "sym.init_printing(use_unicode=True)"
   ]
  },
  {
   "cell_type": "code",
   "execution_count": 76,
   "metadata": {},
   "outputs": [],
   "source": [
    "x, t, z, = sym.symbols('x t z')\n",
    "psi, phi,theta, pi = sym.symbols('psi, phi theta, pi', real=True)\n",
    "alph1, alph2 = sym.symbols('\\\\alpha(\\\\theta), \\\\alpha(\\\\theta-1)', real=True)\n",
    "\n",
    "c, rho, delta = sym.symbols('c, rho, delta', real=True, positive=True)"
   ]
  },
  {
   "cell_type": "code",
   "execution_count": 77,
   "metadata": {},
   "outputs": [
    {
     "data": {
      "image/png": "[encoded data removed]",
      "text/latex": [
       "$$\\alpha(\\theta)$$"
      ],
      "text/plain": [
       "\\alpha(\\theta)"
      ]
     },
     "execution_count": 77,
     "metadata": {},
     "output_type": "execute_result"
    }
   ],
   "source": [
    "alph1"
   ]
  },
  {
   "cell_type": "code",
   "execution_count": 78,
   "metadata": {},
   "outputs": [],
   "source": [
    "a = rho * x - rho * c * x**2"
   ]
  },
  {
   "cell_type": "code",
   "execution_count": 79,
   "metadata": {},
   "outputs": [
    {
     "data": {
      "image/png": "[encoded data removed]",
      "text/latex": [
       "$$\\psi x + x^{2} \\left(- \\frac{\\phi^{2}}{2} + \\frac{1}{2}\\right)$$"
      ],
      "text/plain": [
       "         ⎛   2    ⎞\n",
       "       2 ⎜  φ    1⎟\n",
       "ψ⋅x + x ⋅⎜- ── + ─⎟\n",
       "         ⎝  2    2⎠"
      ]
     },
     "execution_count": 79,
     "metadata": {},
     "output_type": "execute_result"
    }
   ],
   "source": [
    "alpha"
   ]
  },
  {
   "cell_type": "code",
   "execution_count": 80,
   "metadata": {},
   "outputs": [],
   "source": [
    "alpha = psi * x + ((1 - phi**2) / 2) * x**2"
   ]
  },
  {
   "cell_type": "code",
   "execution_count": null,
   "metadata": {},
   "outputs": [],
   "source": []
  },
  {
   "cell_type": "code",
   "execution_count": 81,
   "metadata": {},
   "outputs": [],
   "source": [
    "val1 = a.replace(x, - psi - (1 - phi**2)/2)\n",
    "val2 = a.replace(x, pi + alph2)\n",
    "val3 = a.replace(x, pi + alph1)"
   ]
  },
  {
   "cell_type": "code",
   "execution_count": 82,
   "metadata": {},
   "outputs": [
    {
     "data": {
      "image/png": "[encoded data removed]",
      "text/latex": [
       "$$- c \\rho \\left(\\alpha(\\theta) + \\pi\\right)^{2} + \\rho \\left(\\alpha(\\theta) + \\pi\\right)$$"
      ],
      "text/plain": [
       "                          2                         \n",
       "- c⋅ρ⋅(\\alpha(\\theta) + π)  + ρ⋅(\\alpha(\\theta) + π)"
      ]
     },
     "execution_count": 82,
     "metadata": {},
     "output_type": "execute_result"
    }
   ],
   "source": [
    "val3"
   ]
  },
  {
   "cell_type": "code",
   "execution_count": 83,
   "metadata": {},
   "outputs": [
    {
     "data": {
      "image/png": "[encoded data removed]",
      "text/latex": [
       "$$\\frac{\\rho}{4} \\left(4 \\alpha(\\theta) - 4 \\alpha(\\theta-1) - 4 c \\left(\\alpha(\\theta) + \\pi\\right)^{2} + 4 c \\left(\\alpha(\\theta-1) + \\pi\\right)^{2} - c \\left(- \\phi^{2} + 2 \\psi + 1\\right)^{2} + 2 \\phi^{2} - 4 \\psi - 2\\right)$$"
      ],
      "text/plain": [
       "  ⎛                                                                           \n",
       "  ⎜                                                                2          \n",
       "ρ⋅⎝4⋅\\alpha(\\theta) - 4⋅\\alpha(\\theta-1) - 4⋅c⋅(\\alpha(\\theta) + π)  + 4⋅c⋅(\\a\n",
       "──────────────────────────────────────────────────────────────────────────────\n",
       "                                                                    4         \n",
       "\n",
       "                                         2                 ⎞\n",
       "                   2     ⎛   2          ⎞       2          ⎟\n",
       "lpha(\\theta-1) + π)  - c⋅⎝- φ  + 2⋅ψ + 1⎠  + 2⋅φ  - 4⋅ψ - 2⎠\n",
       "────────────────────────────────────────────────────────────\n",
       "                                                            "
      ]
     },
     "execution_count": 83,
     "metadata": {},
     "output_type": "execute_result"
    }
   ],
   "source": [
    "(val1 + val3 - val2).simplify()"
   ]
  },
  {
   "cell_type": "code",
   "execution_count": 84,
   "metadata": {},
   "outputs": [
    {
     "data": {
      "image/png": "[encoded data removed]",
      "text/latex": [
       "$$- c \\rho \\left(\\alpha(\\theta-1) + \\pi\\right)^{2} + \\rho \\left(\\alpha(\\theta-1) + \\pi\\right)$$"
      ],
      "text/plain": [
       "                            2                           \n",
       "- c⋅ρ⋅(\\alpha(\\theta-1) + π)  + ρ⋅(\\alpha(\\theta-1) + π)"
      ]
     },
     "execution_count": 84,
     "metadata": {},
     "output_type": "execute_result"
    }
   ],
   "source": [
    "val2"
   ]
  },
  {
   "cell_type": "code",
   "execution_count": 85,
   "metadata": {},
   "outputs": [
    {
     "data": {
      "image/png": "[encoded data removed]",
      "text/latex": [
       "$$\\left\\{\\frac{1}{2 c} \\left(c \\phi^{2} - c - 1\\right) - \\frac{1}{2 c} \\sqrt{4 \\alpha(\\theta)^{2} c^{2} + 8 \\alpha(\\theta) c^{2} \\pi - 4 \\alpha(\\theta) c + 4 \\alpha(\\theta-1)^{2} c^{2} + 8 \\alpha(\\theta-1) c^{2} \\pi - 4 \\alpha(\\theta-1) c + 8 c^{2} \\pi^{2} - 8 c \\pi + 1}, \\frac{1}{2 c} \\left(c \\phi^{2} - c - 1\\right) + \\frac{1}{2 c} \\sqrt{4 \\alpha(\\theta)^{2} c^{2} + 8 \\alpha(\\theta) c^{2} \\pi - 4 \\alpha(\\theta) c + 4 \\alpha(\\theta-1)^{2} c^{2} + 8 \\alpha(\\theta-1) c^{2} \\pi - 4 \\alpha(\\theta-1) c + 8 c^{2} \\pi^{2} - 8 c \\pi + 1}\\right\\}$$"
      ],
      "text/plain": [
       "⎧                  ___________________________________________________________\n",
       "⎪   2             ╱                 2  2                     2                \n",
       "⎨c⋅φ  - c - 1   ╲╱  4⋅\\alpha(\\theta) ⋅c  + 8⋅\\alpha(\\theta)⋅c ⋅π - 4⋅\\alpha(\\t\n",
       "⎪──────────── - ──────────────────────────────────────────────────────────────\n",
       "⎩    2⋅c                                                                      \n",
       "\n",
       "______________________________________________________________________________\n",
       "                            2  2                       2                      \n",
       "heta)⋅c + 4⋅\\alpha(\\theta-1) ⋅c  + 8⋅\\alpha(\\theta-1)⋅c ⋅π - 4⋅\\alpha(\\theta-1\n",
       "──────────────────────────────────────────────────────────────────────────────\n",
       "                   2⋅c                                                        \n",
       "\n",
       "__________________________                    ________________________________\n",
       "         2  2                  2             ╱                 2  2           \n",
       ")⋅c + 8⋅c ⋅π  - 8⋅c⋅π + 1   c⋅φ  - c - 1   ╲╱  4⋅\\alpha(\\theta) ⋅c  + 8⋅\\alpha\n",
       "──────────────────────────, ──────────── + ───────────────────────────────────\n",
       "                                2⋅c                                           \n",
       "\n",
       "______________________________________________________________________________\n",
       "          2                                            2  2                   \n",
       "(\\theta)⋅c ⋅π - 4⋅\\alpha(\\theta)⋅c + 4⋅\\alpha(\\theta-1) ⋅c  + 8⋅\\alpha(\\theta-\n",
       "──────────────────────────────────────────────────────────────────────────────\n",
       "                                              2⋅c                             \n",
       "\n",
       "_____________________________________________________⎫\n",
       "    2                               2  2             ⎪\n",
       "1)⋅c ⋅π - 4⋅\\alpha(\\theta-1)⋅c + 8⋅c ⋅π  - 8⋅c⋅π + 1 ⎬\n",
       "─────────────────────────────────────────────────────⎪\n",
       "                                                     ⎭"
      ]
     },
     "execution_count": 85,
     "metadata": {},
     "output_type": "execute_result"
    }
   ],
   "source": [
    "sym.solveset(-val1 + val2 + val3, psi)"
   ]
  }
 ],
 "metadata": {
  "kernelspec": {
   "display_name": "Python 3",
   "language": "python",
   "name": "python3"
  },
  "language_info": {
   "codemirror_mode": {
    "name": "ipython",
    "version": 3
   },
   "file_extension": ".py",
   "mimetype": "text/x-python",
   "name": "python",
   "nbconvert_exporter": "python",
   "pygments_lexer": "ipython3",
   "version": "3.6.5"
  }
 },
 "nbformat": 4,
 "nbformat_minor": 2
}
