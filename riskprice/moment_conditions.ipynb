{
 "cells": [
  {
   "cell_type": "code",
   "execution_count": 1,
   "metadata": {},
   "outputs": [],
   "source": [
    "import numpy as np\n",
    "import pandas as pd\n",
    "from tqdm import tqdm_notebook\n",
    "from scipy import stats, optimize\n",
    "from scipy import linalg as scilin\n",
    "import matplotlib as mpl\n",
    "from mpl_toolkits.mplot3d import Axes3D\n",
    "from matplotlib import cm\n",
    "from itertools import product\n",
    "import seaborn as sns\n",
    "import statsmodels.api as sm\n",
    "import statsmodels.tsa.api as tsa\n",
    "import sympy as sym"
   ]
  },
  {
   "cell_type": "code",
   "execution_count": 2,
   "metadata": {},
   "outputs": [],
   "source": [
    "%matplotlib inline\n",
    "mpl.style.use('seaborn-talk')\n",
    "sym.init_printing()"
   ]
  },
  {
   "cell_type": "markdown",
   "metadata": {},
   "source": [
    "## Setup the True Parameters /  Simulation Parameters"
   ]
  },
  {
   "cell_type": "code",
   "execution_count": 3,
   "metadata": {},
   "outputs": [],
   "source": [
    "true_params = {'equity_price': 0.50, \n",
    "               'vol_price': -7,\n",
    "               'phi':-.17,\n",
    "               'c': .1,\n",
    "               'delta': 1.22,\n",
    "               'rho': .6,\n",
    "              }\n",
    "time_dim = 3000"
   ]
  },
  {
   "cell_type": "markdown",
   "metadata": {},
   "source": [
    "## Setup the linking functions."
   ]
  },
  {
   "cell_type": "code",
   "execution_count": 4,
   "metadata": {},
   "outputs": [],
   "source": [
    "x, y, rho, c, delta, phi, psi = sym.symbols('x y rho c delta phi psi')"
   ]
  },
  {
   "cell_type": "code",
   "execution_count": 5,
   "metadata": {},
   "outputs": [],
   "source": [
    "theta, pi = sym.symbols('theta pi')\n",
    "psi = phi / sym.sqrt(c + (1 + rho)) + (( 1 - phi**2) / 2 - (1 - phi**2) * theta)\n",
    "a_func = rho * x / ( 1 + c * x)\n",
    "alpha = psi * x + (( 1 -phi**2) / 2) * x**2\n",
    "b_func = delta * sym.log(1 + c * x)\n",
    "beta = a_func.replace(x, pi + alpha.replace(x, theta - 1)) - a_func.replace(x, pi + alpha.replace(x, theta)) \n",
    "gamma = b_func.replace(x, pi + alpha.replace(x, theta-1)) - b_func.replace(x, pi + alpha.replace(x, theta))"
   ]
  },
  {
   "cell_type": "code",
   "execution_count": 6,
   "metadata": {},
   "outputs": [],
   "source": [
    "gamma_lambda = sym.lambdify((rho, c, delta, phi, pi, theta), gamma)\n",
    "beta_lambda = sym.lambdify((rho, c, phi, pi, theta), beta)\n",
    "psi_lambda = sym.lambdify((rho,c, phi,  theta), psi)"
   ]
  },
  {
   "cell_type": "code",
   "execution_count": 7,
   "metadata": {},
   "outputs": [],
   "source": [
    "total_true_params = true_params.copy()\n",
    "total_true_params.update({'gamma': gamma_lambda(rho=true_params['rho'], c=true_params['c'], \n",
    "                                                delta=true_params['delta'],\n",
    "                                         phi=true_params['phi'], pi=true_params['vol_price'], \n",
    "                                          theta=true_params['equity_price']),\n",
    "                    'beta':beta_lambda(true_params['rho'], true_params['c'], true_params['phi'],\n",
    "                                       pi=true_params['vol_price'], theta=true_params['equity_price']),\n",
    "                     'psi':psi_lambda(true_params['rho'], true_params['c'], true_params['phi'],\n",
    "                                      theta=true_params['equity_price']), \n",
    "                      'phi_squared': true_params['phi']**2})"
   ]
  },
  {
   "cell_type": "markdown",
   "metadata": {},
   "source": [
    "## Setup the Simulation Functions"
   ]
  },
  {
   "cell_type": "code",
   "execution_count": 8,
   "metadata": {},
   "outputs": [],
   "source": [
    "def simulate_autoregressive_gamma(rho=0, c=1, delta=1, initial_point=None, time_dim=100,\n",
    "                                  state_date='2000-01-01'):\n",
    "    \"\"\"\n",
    "    This function provides draws from the ARG(1) process of Gourieroux & Jaiak\n",
    "    \n",
    "    Parameters\n",
    "    --------\n",
    "    rho : scalar\n",
    "        AR(1) coefficient\n",
    "    delta : scalar\n",
    "        intercept\n",
    "    c : scalar\n",
    "        scale\n",
    "    Returns\n",
    "    -----\n",
    "    draws : dataframe\n",
    "    \"\"\"\n",
    "    \n",
    "    # If initial_point is not specified, we start at the unconditional mean.\n",
    "    \n",
    "    initial_point = (c * delta) / (1 - rho)\n",
    "    \n",
    "    # The conditional distribution of an ARG(1) process is non-centered Gamma, which has a representation as a \n",
    "    # Poisson mixture of Gamma\n",
    "    \n",
    "    draws = [initial_point]\n",
    "    \n",
    "    for _ in tqdm_notebook(range(time_dim)):\n",
    "        \n",
    "        latent_var = stats.poisson.rvs(mu = rho * draws[-1] / c)\n",
    "        draws.append(stats.gamma.rvs(a=delta+latent_var, scale=c))\n",
    "    \n",
    "    draws = pd.DataFrame(draws[1:], pd.date_range(start=state_date, freq='D', periods=time_dim))\n",
    "    return draws\n",
    "    \n",
    "    "
   ]
  },
  {
   "cell_type": "code",
   "execution_count": 9,
   "metadata": {},
   "outputs": [],
   "source": [
    "def simulate_conditional_gaussian(vol_data, rho=0, c=1, delta=1, phi=0, vol_price=0, equity_price=1):\n",
    "    \"\"\"\n",
    "    This function simulates conditional Gaussian random variables with mean\n",
    "    \n",
    "    $$E[r_{t+1} | \\sigma^2_t, \\sigma^2_{t+1}] = \\psi \\sigma^2_{t+1} + \\beta \\sigma^2_t + \\gamma$$\n",
    "    $$Var[r_{+t} | \\sigma^2_t, \\sigma^2_{t+1}] = (1 - \\phi^2) \\sigma^2_{t+1}$$\n",
    "    \n",
    "    Parameters\n",
    "    ----------\n",
    "    vol_data : pandas dataframe\n",
    "        The volatility data. It must always be positive.\n",
    "    rho : scalar\n",
    "    c : scalar\n",
    "    delta : scalar\n",
    "    phi : scalar \n",
    "        It must be in [-1,1]\n",
    "    vol_price : scalar\n",
    "    equity_price : scalar\n",
    "    \n",
    "    Returns\n",
    "    -------\n",
    "    data : pandas dataframe \n",
    "        This contains both the vol_data and the return data\n",
    "    \"\"\"\n",
    "    \n",
    "    gamma = gamma_lambda(rho, c, delta, phi, vol_price, equity_price)\n",
    "    beta = beta_lambda(rho, c, phi, vol_price, equity_price)\n",
    "    psi = psi_lambda(rho,c, phi, equity_price)\n",
    "    \n",
    "    mean = gamma + beta * vol_data.shift(1) + psi * vol_data\n",
    "    var = (1 - phi**2) * vol_data\n",
    "    \n",
    "    draws =  mean + pd.DataFrame(stats.norm.rvs(0, scale=var.apply(np.sqrt)),\n",
    "                                 index=vol_data.index)\n",
    "    data = pd.concat([vol_data, draws], axis=1).dropna()\n",
    "    data.columns = ['vol', 'rtn']\n",
    "    \n",
    "    return data"
   ]
  },
  {
   "cell_type": "code",
   "execution_count": null,
   "metadata": {},
   "outputs": [],
   "source": []
  },
  {
   "cell_type": "code",
   "execution_count": 10,
   "metadata": {},
   "outputs": [],
   "source": [
    "def simulate_data(equity_price=1, vol_price=0, rho=0, c=1, delta=1, phi=0, initial_point=None, time_dim=100,\n",
    "                                  state_date='2000-01-01'):\n",
    "    \"\"\"\n",
    "    This function takes the reduced-form paramters and risk prices and returns the data\n",
    "    \n",
    "    Parameters\n",
    "    --------\n",
    "    equity_price: scalar\n",
    "    vol_price : scalar\n",
    "    phi : scalar\n",
    "        leverage\n",
    "    rho : scalar\n",
    "        persistence\n",
    "    c : positive scalar\n",
    "        scale\n",
    "    initial_point: scalar, optional\n",
    "        Starting value for the volatility\n",
    "    time_dim : int, optional\n",
    "        number of periods\n",
    "    start_date : datelike, optional\n",
    "        The time to start the data from.\n",
    "        \n",
    "    Returns\n",
    "    -----\n",
    "    draws : dataframe\n",
    "    \n",
    "    \"\"\"\n",
    "    vol_data = simulate_autoregressive_gamma(rho=rho, c=c, delta=1, initial_point=initial_point,\n",
    "                                             state_date=pd.to_datetime(state_date) - pd.Timedelta('1 day'),\n",
    "                                             time_dim=time_dim + 1)\n",
    "    data = simulate_conditional_gaussian(vol_data, rho=rho, c=c, delta=delta, phi=phi, vol_price=vol_price,\n",
    "                                         equity_price=equity_price)\n",
    "\n",
    "    return data"
   ]
  },
  {
   "cell_type": "markdown",
   "metadata": {},
   "source": [
    "## We now examine the distributions of simulated data"
   ]
  },
  {
   "cell_type": "code",
   "execution_count": 11,
   "metadata": {},
   "outputs": [
    {
     "data": {
      "application/vnd.jupyter.widget-view+json": {
       "model_id": "bab1d63a04c74fdea7da78b37aecd099",
       "version_major": 2,
       "version_minor": 0
      },
      "text/plain": [
       "HBox(children=(IntProgress(value=0, max=3001), HTML(value='')))"
      ]
     },
     "metadata": {},
     "output_type": "display_data"
    },
    {
     "name": "stdout",
     "output_type": "stream",
     "text": [
      "\n"
     ]
    }
   ],
   "source": [
    "data = simulate_data(time_dim=time_dim, **true_params)"
   ]
  },
  {
   "cell_type": "code",
   "execution_count": 12,
   "metadata": {},
   "outputs": [
    {
     "data": {
      "text/plain": [
       "<matplotlib.legend.Legend at 0x7f66305b0278>"
      ]
     },
     "execution_count": 12,
     "metadata": {},
     "output_type": "execute_result"
    },
    {
     "data": {
      "image/png": "[encoded data removed]",
      "text/plain": [
       "<Figure size 748.8x514.8 with 1 Axes>"
      ]
     },
     "metadata": {},
     "output_type": "display_data"
    }
   ],
   "source": [
    "fig1, ax1 = mpl.pyplot.subplots()\n",
    "ax1.plot(data.rtn, label='Return')\n",
    "ax1.plot(data.vol, label='Volatility')\n",
    "ax1.legend()\n"
   ]
  },
  {
   "cell_type": "code",
   "execution_count": 13,
   "metadata": {},
   "outputs": [
    {
     "data": {
      "text/plain": [
       "<seaborn.axisgrid.JointGrid at 0x7f663190d208>"
      ]
     },
     "execution_count": 13,
     "metadata": {},
     "output_type": "execute_result"
    },
    {
     "data": {
      "image/png": "[encoded data removed]",
      "text/plain": [
       "<Figure size 432x432 with 3 Axes>"
      ]
     },
     "metadata": {},
     "output_type": "display_data"
    }
   ],
   "source": [
    "sns.jointplot(x='vol', y='rtn', data=data, kind='reg')"
   ]
  },
  {
   "cell_type": "code",
   "execution_count": 14,
   "metadata": {},
   "outputs": [
    {
     "data": {
      "text/html": [
       "<div>\n",
       "<style scoped>\n",
       "    .dataframe tbody tr th:only-of-type {\n",
       "        vertical-align: middle;\n",
       "    }\n",
       "\n",
       "    .dataframe tbody tr th {\n",
       "        vertical-align: top;\n",
       "    }\n",
       "\n",
       "    .dataframe thead th {\n",
       "        text-align: right;\n",
       "    }\n",
       "</style>\n",
       "<table border=\"1\" class=\"dataframe\">\n",
       "  <thead>\n",
       "    <tr style=\"text-align: right;\">\n",
       "      <th></th>\n",
       "      <th>vol</th>\n",
       "      <th>rtn</th>\n",
       "    </tr>\n",
       "  </thead>\n",
       "  <tbody>\n",
       "    <tr>\n",
       "      <th>count</th>\n",
       "      <td>3000.000000</td>\n",
       "      <td>3000.000000</td>\n",
       "    </tr>\n",
       "    <tr>\n",
       "      <th>mean</th>\n",
       "      <td>0.239997</td>\n",
       "      <td>0.210178</td>\n",
       "    </tr>\n",
       "    <tr>\n",
       "      <th>std</th>\n",
       "      <td>0.250459</td>\n",
       "      <td>0.515698</td>\n",
       "    </tr>\n",
       "    <tr>\n",
       "      <th>min</th>\n",
       "      <td>0.000015</td>\n",
       "      <td>-2.512462</td>\n",
       "    </tr>\n",
       "    <tr>\n",
       "      <th>25%</th>\n",
       "      <td>0.069136</td>\n",
       "      <td>-0.057755</td>\n",
       "    </tr>\n",
       "    <tr>\n",
       "      <th>50%</th>\n",
       "      <td>0.159213</td>\n",
       "      <td>0.172726</td>\n",
       "    </tr>\n",
       "    <tr>\n",
       "      <th>75%</th>\n",
       "      <td>0.321614</td>\n",
       "      <td>0.449614</td>\n",
       "    </tr>\n",
       "    <tr>\n",
       "      <th>max</th>\n",
       "      <td>2.221308</td>\n",
       "      <td>3.514604</td>\n",
       "    </tr>\n",
       "  </tbody>\n",
       "</table>\n",
       "</div>"
      ],
      "text/plain": [
       "               vol          rtn\n",
       "count  3000.000000  3000.000000\n",
       "mean      0.239997     0.210178\n",
       "std       0.250459     0.515698\n",
       "min       0.000015    -2.512462\n",
       "25%       0.069136    -0.057755\n",
       "50%       0.159213     0.172726\n",
       "75%       0.321614     0.449614\n",
       "max       2.221308     3.514604"
      ]
     },
     "execution_count": 14,
     "metadata": {},
     "output_type": "execute_result"
    }
   ],
   "source": [
    "data.describe()"
   ]
  },
  {
   "cell_type": "markdown",
   "metadata": {},
   "source": [
    "## We now define the moment conditions that we can use to estimate volatility"
   ]
  },
  {
   "cell_type": "code",
   "execution_count": 15,
   "metadata": {},
   "outputs": [],
   "source": [
    "mean = rho * x + c * delta\n",
    "var = 2 * c * rho * x + c**2 * delta\n",
    "mom1 = y - mean\n",
    "mom2 = (y- mean) * x\n",
    "mom3 = (y**2 - (var + mean**2))\n",
    "mom4 = (y**2 - (var + mean**2)) * x\n",
    "mom5 = (y**2 - (var + mean**2)) * x**2"
   ]
  },
  {
   "cell_type": "code",
   "execution_count": 16,
   "metadata": {},
   "outputs": [],
   "source": [
    "vol_moments_sym = sym.Matrix([mom1,mom2, mom3, mom4, mom5])\n",
    "vol_moments_lambda = sym.lambdify((x, y, rho, c, delta), vol_moments_sym)"
   ]
  },
  {
   "cell_type": "code",
   "execution_count": 17,
   "metadata": {},
   "outputs": [
    {
     "data": {
      "image/png": "[encoded data removed]",
      "text/latex": [
       "$$\\left[\\begin{matrix}- c \\delta - \\rho x + y\\\\x \\left(- c \\delta - \\rho x + y\\right)\\\\- c^{2} \\delta - 2 c \\rho x + y^{2} - \\left(c \\delta + \\rho x\\right)^{2}\\\\x \\left(- c^{2} \\delta - 2 c \\rho x + y^{2} - \\left(c \\delta + \\rho x\\right)^{2}\\right)\\\\x^{2} \\left(- c^{2} \\delta - 2 c \\rho x + y^{2} - \\left(c \\delta + \\rho x\\right)^{2}\\right)\\end{matrix}\\right]$$"
      ],
      "text/plain": [
       "⎡             -c⋅δ - ρ⋅x + y              ⎤\n",
       "⎢                                         ⎥\n",
       "⎢           x⋅(-c⋅δ - ρ⋅x + y)            ⎥\n",
       "⎢                                         ⎥\n",
       "⎢     2                2              2   ⎥\n",
       "⎢  - c ⋅δ - 2⋅c⋅ρ⋅x + y  - (c⋅δ + ρ⋅x)    ⎥\n",
       "⎢                                         ⎥\n",
       "⎢  ⎛   2                2              2⎞ ⎥\n",
       "⎢x⋅⎝- c ⋅δ - 2⋅c⋅ρ⋅x + y  - (c⋅δ + ρ⋅x) ⎠ ⎥\n",
       "⎢                                         ⎥\n",
       "⎢ 2 ⎛   2                2              2⎞⎥\n",
       "⎣x ⋅⎝- c ⋅δ - 2⋅c⋅ρ⋅x + y  - (c⋅δ + ρ⋅x) ⎠⎦"
      ]
     },
     "execution_count": 17,
     "metadata": {},
     "output_type": "execute_result"
    }
   ],
   "source": [
    "vol_moments_sym"
   ]
  },
  {
   "cell_type": "code",
   "execution_count": 18,
   "metadata": {},
   "outputs": [],
   "source": [
    "def vol_moments(vol_data, *args):    \n",
    "    return pd.DataFrame(np.squeeze(vol_moments_lambda(vol_data.values[1:], vol_data.values[:-1], *args)).T)"
   ]
  },
  {
   "cell_type": "markdown",
   "metadata": {},
   "source": [
    "I use Sympy to compute the gradient"
   ]
  },
  {
   "cell_type": "code",
   "execution_count": 19,
   "metadata": {},
   "outputs": [],
   "source": [
    "vol_squared_mom = vol_moments_sym.T @ vol_moments_sym\n",
    "vol_squared_mom_grad = sym.lambdify((x, y, rho, c, delta), vol_squared_mom.jacobian([rho, c, delta]))"
   ]
  },
  {
   "cell_type": "code",
   "execution_count": 20,
   "metadata": {},
   "outputs": [],
   "source": [
    "def vol_squared_moments_grad(vol_data, *args):\n",
    "    return  pd.DataFrame(np.squeeze(vol_squared_mom_grad(vol_data.values[1:], vol_data.values[:-1], *args)).T, \n",
    "                         index=vol_data.index[1:]).dropna()"
   ]
  },
  {
   "cell_type": "code",
   "execution_count": 21,
   "metadata": {},
   "outputs": [],
   "source": [
    "vol_moments_grad_lambda = sym.lambdify((x, y, rho, c, delta), vol_moments_sym.jacobian([rho, c, delta]))\n"
   ]
  },
  {
   "cell_type": "code",
   "execution_count": 22,
   "metadata": {},
   "outputs": [],
   "source": [
    "def vol_moments_grad(vol_data, *args):\n",
    "    mom_grad_in  = vol_moments_grad_lambda(vol_data.shift(-1), vol_data, *args)\n",
    "    return np.array([[np.nanmean(arr_in) for arr_in in arr_out] for arr_out in mom_grad_in])\n",
    "                         "
   ]
  },
  {
   "cell_type": "code",
   "execution_count": 23,
   "metadata": {},
   "outputs": [
    {
     "data": {
      "text/html": [
       "<div>\n",
       "<style scoped>\n",
       "    .dataframe tbody tr th:only-of-type {\n",
       "        vertical-align: middle;\n",
       "    }\n",
       "\n",
       "    .dataframe tbody tr th {\n",
       "        vertical-align: top;\n",
       "    }\n",
       "\n",
       "    .dataframe thead th {\n",
       "        text-align: right;\n",
       "    }\n",
       "</style>\n",
       "<table border=\"1\" class=\"dataframe\">\n",
       "  <thead>\n",
       "    <tr style=\"text-align: right;\">\n",
       "      <th></th>\n",
       "      <th>0</th>\n",
       "      <th>1</th>\n",
       "    </tr>\n",
       "  </thead>\n",
       "  <tbody>\n",
       "    <tr>\n",
       "      <th>const</th>\n",
       "      <td>0.086427</td>\n",
       "      <td>0.106324</td>\n",
       "    </tr>\n",
       "    <tr>\n",
       "      <th>L1.vol</th>\n",
       "      <td>0.569194</td>\n",
       "      <td>0.626552</td>\n",
       "    </tr>\n",
       "  </tbody>\n",
       "</table>\n",
       "</div>"
      ],
      "text/plain": [
       "               0         1\n",
       "const   0.086427  0.106324\n",
       "L1.vol  0.569194  0.626552"
      ]
     },
     "execution_count": 23,
     "metadata": {},
     "output_type": "execute_result"
    }
   ],
   "source": [
    "intercept, persistence = tsa.AR(data.vol).fit(maxlag=1).params\n",
    "error_var = tsa.AR(data.vol).fit(maxlag=1).sigma2\n",
    "tsa.AR(data.vol).fit(maxlag=1).conf_int()"
   ]
  },
  {
   "cell_type": "code",
   "execution_count": null,
   "metadata": {},
   "outputs": [],
   "source": []
  },
  {
   "cell_type": "markdown",
   "metadata": {},
   "source": [
    "From the model, we know that intercept = $ c * \\delta$. We also know that the average error variance equals \n",
    "$ c^2 \\delta * (2 \\rho / 1 - \\rho) + 1)$ Consequently, $c = error\\_var / ( intercept * (2 \\rho / 1 - \\rho) + 1)) $ and delta = intercept / c\n"
   ]
  },
  {
   "cell_type": "code",
   "execution_count": 24,
   "metadata": {},
   "outputs": [],
   "source": [
    "init_constants = {'rho': persistence}"
   ]
  },
  {
   "cell_type": "code",
   "execution_count": 25,
   "metadata": {},
   "outputs": [],
   "source": [
    "init_constants['c'] = error_var / ( intercept * ( 2 * persistence / ( 1- persistence) + 1) )\n",
    "init_constants['delta'] = intercept / init_constants['c']"
   ]
  },
  {
   "cell_type": "code",
   "execution_count": 26,
   "metadata": {},
   "outputs": [],
   "source": [
    "num_vals = 50\n",
    "cvals = np.linspace(0, 1,num_vals)\n",
    "deltavals = np.linspace(0,1.5,num_vals)"
   ]
  },
  {
   "cell_type": "code",
   "execution_count": 27,
   "metadata": {},
   "outputs": [],
   "source": [
    "plot_data = pd.DataFrame(np.asarray([(scale, intercept, vol_moments(data.vol, *[.5, scale, intercept]).apply(\n",
    "    np.square).sum().mean())\n",
    "     for scale, intercept in product(cvals, deltavals)]), columns=['c', 'delta', 'z'])\n",
    "reshaped_x = plot_data.c.values.reshape((num_vals,num_vals))\n",
    "reshaped_y = plot_data.delta.values.reshape((num_vals,num_vals))\n",
    "reshaped_z = plot_data.z.values.reshape((num_vals,num_vals))"
   ]
  },
  {
   "cell_type": "code",
   "execution_count": 28,
   "metadata": {},
   "outputs": [
    {
     "data": {
      "text/plain": [
       "Text(0.5,0,'c')"
      ]
     },
     "execution_count": 28,
     "metadata": {},
     "output_type": "execute_result"
    },
    {
     "data": {
      "image/png": "[encoded data removed]",
      "text/plain": [
       "<Figure size 748.8x514.8 with 1 Axes>"
      ]
     },
     "metadata": {},
     "output_type": "display_data"
    }
   ],
   "source": [
    "fig = mpl.pyplot.figure()\n",
    "ax = fig.add_subplot(111, projection='3d')\n",
    "ax.plot_surface(reshaped_x, reshaped_y, reshaped_z , cmap=cm.coolwarm, alpha=.5)\n",
    "\n",
    "\n",
    "ax.set_ylabel('delta')\n",
    "ax.set_zlabel('squared_errors')\n",
    "ax.set_xlabel('c')\n"
   ]
  },
  {
   "cell_type": "code",
   "execution_count": 29,
   "metadata": {},
   "outputs": [],
   "source": [
    "def compute_vol_gmm(vol_data, x0, bounds=None):\n",
    "    \"\"\"\n",
    "    This function uses GMM to compute the volatility paramters and their asymptotic covariance matrix.\n",
    "    \n",
    "    Paramters\n",
    "    ---------\n",
    "    vol_data : pandas series\n",
    "    x0 : 3-element vector\n",
    "    bounds : list\n",
    "    \n",
    "    Returns\n",
    "    --------\n",
    "    final_result : dict\n",
    "    cov : ndarray\n",
    "    \"\"\"\n",
    "    if bounds is None:\n",
    "        bounds = [(-1+1e-5,1-1e-5),(1e-5, 20), (1e-5,20)]\n",
    "    \n",
    "    initial_result = optimize.minimize(lambda x: np.mean(np.ravel(vol_moments(vol_data, *x))**2),\n",
    "                                       x0=list(init_constants.values()), method=\"SLSQP\", bounds=bounds,\n",
    "                                       options={'maxiter':200}, \n",
    "                                       jac= lambda x: np.mean(vol_squared_moments_grad(vol_data, *x), axis=0))\n",
    "    \n",
    "    weight_matrix = scilin.inv(vol_moments(vol_data, *initial_result.x).cov())\n",
    "    root_weight_matrix = scilin.cholesky(weight_matrix)\n",
    "    \n",
    "    final_result = optimize.minimize(lambda x:\n",
    "                                     np.mean(np.ravel((vol_moments(vol_data, *x) @ root_weight_matrix)**2)),\n",
    "                           x0=initial_result.x, method=\"SLSQP\", bounds=bounds, options={'maxiter':200})\n",
    "\n",
    "    moment_derivative = vol_moments_grad(vol_data, *final_result.x)\n",
    "    cov = pd.DataFrame(np.linalg.inv(moment_derivative.T @ weight_matrix @ moment_derivative),\n",
    "                       columns=list(init_constants.keys()), index=list(init_constants.keys()))\n",
    "    estimates = {key:val for key,val in zip(init_constants.keys(), final_result.x)}\n",
    "\n",
    "    return final_result, estimates, cov / (vol_data.size -1)\n"
   ]
  },
  {
   "cell_type": "code",
   "execution_count": 30,
   "metadata": {},
   "outputs": [],
   "source": [
    "final_result, params_1st_stage, cov_1st_stage = compute_vol_gmm(data.vol, x0=init_constants)"
   ]
  },
  {
   "cell_type": "code",
   "execution_count": 31,
   "metadata": {},
   "outputs": [
    {
     "data": {
      "text/plain": [
       "     fun: 6.9915920273329215\n",
       "     jac: array([ -5.50150871e-05,  -4.59253788e-04,  -6.62207603e-05])\n",
       " message: 'Optimization terminated successfully.'\n",
       "    nfev: 30\n",
       "     nit: 5\n",
       "    njev: 5\n",
       "  status: 0\n",
       " success: True\n",
       "       x: array([ 0.5982254 ,  0.10671543,  0.9104955 ])"
      ]
     },
     "execution_count": 31,
     "metadata": {},
     "output_type": "execute_result"
    }
   ],
   "source": [
    "final_result"
   ]
  },
  {
   "cell_type": "code",
   "execution_count": 32,
   "metadata": {},
   "outputs": [],
   "source": [
    "def create_est_table(estimates, truth, cov, num_se=1.96):\n",
    "    \"\"\"\n",
    "    This function creates a table that prints the estimates, truth, and confidence interval\n",
    "    \n",
    "    Paramters:\n",
    "    --------\n",
    "    names : list of str\n",
    "        The values to print\n",
    "    truth : dict\n",
    "        The true values\n",
    "    cov : dataframe\n",
    "        Covariance matrix\n",
    "    num_se : positive float, optional\n",
    "        The number of standard errors to use.\n",
    "    Returns\n",
    "    -------\n",
    "    dataframe\n",
    "    \"\"\"\n",
    "    names = set(estimates.keys()).intersection(set(truth.keys()))\n",
    "    true_values = [truth[name] for name in names]\n",
    "    est_values = [estimates[name] for name in names]\n",
    "    \n",
    "    lower_ci = [estimates[name] - num_se * np.sqrt(cov.loc[name, name]) for name in names]\n",
    "    upper_ci =[estimates[name] + num_se * np.sqrt(cov.loc[name, name]) for name in names]\n",
    "\n",
    "    return_df = pd.DataFrame(np.column_stack([true_values, est_values, lower_ci, upper_ci]),\n",
    "                             columns = ['truth', 'estimate', 'lower ci', 'upper ci'], index=names)\n",
    "    return_df.sort_index(inplace=True)\n",
    "    return_df['in_ci'] = ((return_df['truth'] >= return_df['lower ci']) \n",
    "                          & (return_df['truth'] <= return_df['upper ci']))\n",
    "    \n",
    "    return return_df\n",
    "    \n",
    "    "
   ]
  },
  {
   "cell_type": "code",
   "execution_count": 33,
   "metadata": {},
   "outputs": [],
   "source": [
    "reduced_form_est = create_est_table(estimates=params_1st_stage, truth=true_params, cov=cov_1st_stage)"
   ]
  },
  {
   "cell_type": "code",
   "execution_count": 34,
   "metadata": {
    "scrolled": true
   },
   "outputs": [
    {
     "data": {
      "text/html": [
       "<div>\n",
       "<style scoped>\n",
       "    .dataframe tbody tr th:only-of-type {\n",
       "        vertical-align: middle;\n",
       "    }\n",
       "\n",
       "    .dataframe tbody tr th {\n",
       "        vertical-align: top;\n",
       "    }\n",
       "\n",
       "    .dataframe thead th {\n",
       "        text-align: right;\n",
       "    }\n",
       "</style>\n",
       "<table border=\"1\" class=\"dataframe\">\n",
       "  <thead>\n",
       "    <tr style=\"text-align: right;\">\n",
       "      <th></th>\n",
       "      <th>truth</th>\n",
       "      <th>estimate</th>\n",
       "      <th>lower ci</th>\n",
       "      <th>upper ci</th>\n",
       "      <th>in_ci</th>\n",
       "    </tr>\n",
       "  </thead>\n",
       "  <tbody>\n",
       "    <tr>\n",
       "      <th>c</th>\n",
       "      <td>0.10</td>\n",
       "      <td>0.106715</td>\n",
       "      <td>0.098367</td>\n",
       "      <td>0.115063</td>\n",
       "      <td>True</td>\n",
       "    </tr>\n",
       "    <tr>\n",
       "      <th>delta</th>\n",
       "      <td>1.22</td>\n",
       "      <td>0.910496</td>\n",
       "      <td>0.834961</td>\n",
       "      <td>0.986030</td>\n",
       "      <td>False</td>\n",
       "    </tr>\n",
       "    <tr>\n",
       "      <th>rho</th>\n",
       "      <td>0.60</td>\n",
       "      <td>0.598225</td>\n",
       "      <td>0.556523</td>\n",
       "      <td>0.639928</td>\n",
       "      <td>True</td>\n",
       "    </tr>\n",
       "  </tbody>\n",
       "</table>\n",
       "</div>"
      ],
      "text/plain": [
       "       truth  estimate  lower ci  upper ci  in_ci\n",
       "c       0.10  0.106715  0.098367  0.115063   True\n",
       "delta   1.22  0.910496  0.834961  0.986030  False\n",
       "rho     0.60  0.598225  0.556523  0.639928   True"
      ]
     },
     "execution_count": 34,
     "metadata": {},
     "output_type": "execute_result"
    }
   ],
   "source": [
    "reduced_form_est"
   ]
  },
  {
   "cell_type": "code",
   "execution_count": 35,
   "metadata": {},
   "outputs": [
    {
     "data": {
      "text/html": [
       "<div>\n",
       "<style scoped>\n",
       "    .dataframe tbody tr th:only-of-type {\n",
       "        vertical-align: middle;\n",
       "    }\n",
       "\n",
       "    .dataframe tbody tr th {\n",
       "        vertical-align: top;\n",
       "    }\n",
       "\n",
       "    .dataframe thead th {\n",
       "        text-align: right;\n",
       "    }\n",
       "</style>\n",
       "<table border=\"1\" class=\"dataframe\">\n",
       "  <thead>\n",
       "    <tr style=\"text-align: right;\">\n",
       "      <th></th>\n",
       "      <th>rho</th>\n",
       "      <th>c</th>\n",
       "      <th>delta</th>\n",
       "    </tr>\n",
       "  </thead>\n",
       "  <tbody>\n",
       "    <tr>\n",
       "      <th>rho</th>\n",
       "      <td>0.000453</td>\n",
       "      <td>-0.000022</td>\n",
       "      <td>-0.000405</td>\n",
       "    </tr>\n",
       "    <tr>\n",
       "      <th>c</th>\n",
       "      <td>-0.000022</td>\n",
       "      <td>0.000018</td>\n",
       "      <td>-0.000073</td>\n",
       "    </tr>\n",
       "    <tr>\n",
       "      <th>delta</th>\n",
       "      <td>-0.000405</td>\n",
       "      <td>-0.000073</td>\n",
       "      <td>0.001485</td>\n",
       "    </tr>\n",
       "  </tbody>\n",
       "</table>\n",
       "</div>"
      ],
      "text/plain": [
       "            rho         c     delta\n",
       "rho    0.000453 -0.000022 -0.000405\n",
       "c     -0.000022  0.000018 -0.000073\n",
       "delta -0.000405 -0.000073  0.001485"
      ]
     },
     "execution_count": 35,
     "metadata": {},
     "output_type": "execute_result"
    }
   ],
   "source": [
    "cov_1st_stage"
   ]
  },
  {
   "cell_type": "code",
   "execution_count": 36,
   "metadata": {},
   "outputs": [],
   "source": [
    "reduced_form_cov = cov_1st_stage.copy()"
   ]
  },
  {
   "cell_type": "code",
   "execution_count": null,
   "metadata": {},
   "outputs": [],
   "source": []
  },
  {
   "cell_type": "markdown",
   "metadata": {},
   "source": [
    "# Step 2"
   ]
  },
  {
   "cell_type": "code",
   "execution_count": 37,
   "metadata": {},
   "outputs": [],
   "source": [
    "def compute_step2(data, parameter_mapping=None):\n",
    "    \n",
    "    if parameter_mapping is None:\n",
    "        parameter_mapping = {'vol':'psi', 'vol.shift(1)':'beta', 'Intercept':'gamma'}\n",
    "    \n",
    "    wls_results = sm.WLS.from_formula('rtn ~ 1+ vol.shift(1) + vol', weights=data.vol**(-1), data=data).fit()\n",
    "    \n",
    "    estimates = wls_results.params.rename(parameter_mapping)\n",
    "    \n",
    "    # We force phi^2 >=0\n",
    "    estimates['phi_squared'] =  np.maximum(1 - np.mean(wls_results.wresid**2), 0)\n",
    "    \n",
    "    phi2_cov = pd.DataFrame(np.atleast_2d(np.cov(wls_results.wresid**2)), index=['phi_squared'],\n",
    "                        columns=['phi_squared'])\n",
    "    return_cov = wls_results.cov_params().rename(columns=parameter_mapping).rename(parameter_mapping)\n",
    "    return_cov = return_cov.merge(phi2_cov, left_index=True, right_index=True, how='outer').fillna(0)\n",
    "    \n",
    "    return estimates, return_cov\n",
    "    "
   ]
  },
  {
   "cell_type": "code",
   "execution_count": 38,
   "metadata": {},
   "outputs": [],
   "source": [
    "step2_est, step2_cov = compute_step2(data)"
   ]
  },
  {
   "cell_type": "code",
   "execution_count": 39,
   "metadata": {},
   "outputs": [],
   "source": [
    "params_1st_stage.update(step2_est)\n",
    "cov_1st_stage = reduced_form_cov.merge(step2_cov, left_index=True, right_index=True, how='outer').fillna(0)"
   ]
  },
  {
   "cell_type": "code",
   "execution_count": 40,
   "metadata": {
    "scrolled": true
   },
   "outputs": [
    {
     "data": {
      "text/html": [
       "<div>\n",
       "<style scoped>\n",
       "    .dataframe tbody tr th:only-of-type {\n",
       "        vertical-align: middle;\n",
       "    }\n",
       "\n",
       "    .dataframe tbody tr th {\n",
       "        vertical-align: top;\n",
       "    }\n",
       "\n",
       "    .dataframe thead th {\n",
       "        text-align: right;\n",
       "    }\n",
       "</style>\n",
       "<table border=\"1\" class=\"dataframe\">\n",
       "  <thead>\n",
       "    <tr style=\"text-align: right;\">\n",
       "      <th></th>\n",
       "      <th>truth</th>\n",
       "      <th>estimate</th>\n",
       "      <th>lower ci</th>\n",
       "      <th>upper ci</th>\n",
       "      <th>in_ci</th>\n",
       "    </tr>\n",
       "  </thead>\n",
       "  <tbody>\n",
       "    <tr>\n",
       "      <th>beta</th>\n",
       "      <td>0.803285</td>\n",
       "      <td>0.786629</td>\n",
       "      <td>0.728697</td>\n",
       "      <td>0.844560</td>\n",
       "      <td>True</td>\n",
       "    </tr>\n",
       "    <tr>\n",
       "      <th>c</th>\n",
       "      <td>0.100000</td>\n",
       "      <td>0.106715</td>\n",
       "      <td>0.098367</td>\n",
       "      <td>0.115063</td>\n",
       "      <td>True</td>\n",
       "    </tr>\n",
       "    <tr>\n",
       "      <th>delta</th>\n",
       "      <td>1.220000</td>\n",
       "      <td>0.910496</td>\n",
       "      <td>0.834961</td>\n",
       "      <td>0.986030</td>\n",
       "      <td>False</td>\n",
       "    </tr>\n",
       "    <tr>\n",
       "      <th>gamma</th>\n",
       "      <td>0.050968</td>\n",
       "      <td>0.061184</td>\n",
       "      <td>0.051795</td>\n",
       "      <td>0.070573</td>\n",
       "      <td>False</td>\n",
       "    </tr>\n",
       "    <tr>\n",
       "      <th>phi_squared</th>\n",
       "      <td>0.028900</td>\n",
       "      <td>0.043146</td>\n",
       "      <td>-2.714412</td>\n",
       "      <td>2.800703</td>\n",
       "      <td>True</td>\n",
       "    </tr>\n",
       "    <tr>\n",
       "      <th>psi</th>\n",
       "      <td>-0.130384</td>\n",
       "      <td>-0.165531</td>\n",
       "      <td>-0.245002</td>\n",
       "      <td>-0.086061</td>\n",
       "      <td>True</td>\n",
       "    </tr>\n",
       "    <tr>\n",
       "      <th>rho</th>\n",
       "      <td>0.600000</td>\n",
       "      <td>0.598225</td>\n",
       "      <td>0.556523</td>\n",
       "      <td>0.639928</td>\n",
       "      <td>True</td>\n",
       "    </tr>\n",
       "  </tbody>\n",
       "</table>\n",
       "</div>"
      ],
      "text/plain": [
       "                truth  estimate  lower ci  upper ci  in_ci\n",
       "beta         0.803285  0.786629  0.728697  0.844560   True\n",
       "c            0.100000  0.106715  0.098367  0.115063   True\n",
       "delta        1.220000  0.910496  0.834961  0.986030  False\n",
       "gamma        0.050968  0.061184  0.051795  0.070573  False\n",
       "phi_squared  0.028900  0.043146 -2.714412  2.800703   True\n",
       "psi         -0.130384 -0.165531 -0.245002 -0.086061   True\n",
       "rho          0.600000  0.598225  0.556523  0.639928   True"
      ]
     },
     "execution_count": 40,
     "metadata": {},
     "output_type": "execute_result"
    }
   ],
   "source": [
    "create_est_table(estimates=params_1st_stage, truth=total_true_params, cov=cov_1st_stage)\n"
   ]
  },
  {
   "cell_type": "markdown",
   "metadata": {},
   "source": [
    "## I now setup the second-stage derivation"
   ]
  },
  {
   "cell_type": "code",
   "execution_count": 41,
   "metadata": {},
   "outputs": [],
   "source": [
    "second_stage_moments_sym = sym.Matrix([beta, c, delta, gamma, phi**2, psi, rho])\n",
    "second_stage_moments_sym.simplify()\n",
    "second_stage_moments = sym.lambdify((c, delta, phi, pi, rho, theta), second_stage_moments_sym)"
   ]
  },
  {
   "cell_type": "code",
   "execution_count": 42,
   "metadata": {},
   "outputs": [
    {
     "data": {
      "image/png": "[encoded data removed]",
      "text/latex": [
       "$$\\left[\\begin{matrix}\\frac{\\rho \\left(- \\pi + \\left(\\frac{\\phi^{2}}{2} - \\frac{1}{2}\\right) \\left(\\theta - 1\\right)^{2} - \\left(\\theta - 1\\right) \\left(- \\frac{\\phi^{2}}{2} + \\frac{\\phi}{\\sqrt{c + \\rho + 1}} + \\theta \\left(\\phi^{2} - 1\\right) + \\frac{1}{2}\\right)\\right)}{c \\left(- \\pi + \\left(\\frac{\\phi^{2}}{2} - \\frac{1}{2}\\right) \\left(\\theta - 1\\right)^{2} + \\left(\\theta - 1\\right) \\left(\\frac{\\phi^{2}}{2} - \\frac{\\phi}{\\sqrt{c + \\rho + 1}} - \\theta \\left(\\phi^{2} - 1\\right) - \\frac{1}{2}\\right)\\right) - 1} - \\frac{\\rho \\left(- \\pi + \\theta^{2} \\left(\\frac{\\phi^{2}}{2} - \\frac{1}{2}\\right) - \\theta \\left(- \\frac{\\phi^{2}}{2} + \\frac{\\phi}{\\sqrt{c + \\rho + 1}} + \\theta \\left(\\phi^{2} - 1\\right) + \\frac{1}{2}\\right)\\right)}{c \\left(- \\pi + \\theta^{2} \\left(\\frac{\\phi^{2}}{2} - \\frac{1}{2}\\right) + \\theta \\left(\\frac{\\phi^{2}}{2} - \\frac{\\phi}{\\sqrt{c + \\rho + 1}} - \\theta \\left(\\phi^{2} - 1\\right) - \\frac{1}{2}\\right)\\right) - 1}\\\\c\\\\\\delta\\\\\\delta \\left(- \\log{\\left (c \\phi^{2} \\theta^{2} - c \\phi^{2} \\theta + \\frac{2 c \\phi \\theta}{\\sqrt{c + \\rho + 1}} + 2 c \\pi - c \\theta^{2} + c \\theta + 2 \\right )} + \\log{\\left (c \\phi^{2} \\theta^{2} - c \\phi^{2} \\theta + \\frac{2 c \\phi \\theta}{\\sqrt{c + \\rho + 1}} - \\frac{2 c \\phi}{\\sqrt{c + \\rho + 1}} + 2 c \\pi - c \\theta^{2} + c \\theta + 2 \\right )}\\right)\\\\\\phi^{2}\\\\\\phi^{2} \\theta - \\frac{\\phi^{2}}{2} + \\frac{\\phi}{\\sqrt{c + \\rho + 1}} - \\theta + \\frac{1}{2}\\\\\\rho\\end{matrix}\\right]$$"
      ],
      "text/plain": [
       "⎡    ⎛     ⎛ 2    ⎞                    ⎛   2                                 ⎞\n",
       "⎢    ⎜     ⎜φ    1⎟        2           ⎜  φ          φ           ⎛ 2    ⎞   1⎟\n",
       "⎢  ρ⋅⎜-π + ⎜── - ─⎟⋅(θ - 1)  - (θ - 1)⋅⎜- ── + ───────────── + θ⋅⎝φ  - 1⎠ + ─⎟\n",
       "⎢    ⎜     ⎝2    2⎠                    ⎜  2      ___________                2⎟\n",
       "⎢    ⎝                                 ⎝       ╲╱ c + ρ + 1                  ⎠\n",
       "⎢ ────────────────────────────────────────────────────────────────────────────\n",
       "⎢   ⎛     ⎛ 2    ⎞                    ⎛ 2                                 ⎞⎞  \n",
       "⎢   ⎜     ⎜φ    1⎟        2           ⎜φ          φ           ⎛ 2    ⎞   1⎟⎟  \n",
       "⎢ c⋅⎜-π + ⎜── - ─⎟⋅(θ - 1)  + (θ - 1)⋅⎜── - ───────────── - θ⋅⎝φ  - 1⎠ - ─⎟⎟ -\n",
       "⎢   ⎜     ⎝2    2⎠                    ⎜2      ___________                2⎟⎟  \n",
       "⎢   ⎝                                 ⎝     ╲╱ c + ρ + 1                  ⎠⎠  \n",
       "⎢                                                                             \n",
       "⎢                                                                          c  \n",
       "⎢                                                                             \n",
       "⎢                                                                          δ  \n",
       "⎢                                                                             \n",
       "⎢  ⎛     ⎛   2  2      2        2⋅c⋅φ⋅θ                 2          ⎞      ⎛   \n",
       "⎢δ⋅⎜- log⎜c⋅φ ⋅θ  - c⋅φ ⋅θ + ───────────── + 2⋅c⋅π - c⋅θ  + c⋅θ + 2⎟ + log⎜c⋅φ\n",
       "⎢  ⎜     ⎜                     ___________                         ⎟      ⎜   \n",
       "⎢  ⎝     ⎝                   ╲╱ c + ρ + 1                          ⎠      ⎝   \n",
       "⎢                                                                             \n",
       "⎢                                                                          2  \n",
       "⎢                                                                         φ   \n",
       "⎢                                                                             \n",
       "⎢                                                                  2          \n",
       "⎢                                                           2     φ          φ\n",
       "⎢                                                          φ ⋅θ - ── + ───────\n",
       "⎢                                                                 2      _____\n",
       "⎢                                                                      ╲╱ c + \n",
       "⎢                                                                             \n",
       "⎣                                                                          ρ  \n",
       "\n",
       "⎞       ⎛        ⎛ 2    ⎞     ⎛   2                                 ⎞⎞  ⎤\n",
       "⎟       ⎜      2 ⎜φ    1⎟     ⎜  φ          φ           ⎛ 2    ⎞   1⎟⎟  ⎥\n",
       "⎟     ρ⋅⎜-π + θ ⋅⎜── - ─⎟ - θ⋅⎜- ── + ───────────── + θ⋅⎝φ  - 1⎠ + ─⎟⎟  ⎥\n",
       "⎟       ⎜        ⎝2    2⎠     ⎜  2      ___________                2⎟⎟  ⎥\n",
       "⎠       ⎝                     ⎝       ╲╱ c + ρ + 1                  ⎠⎠  ⎥\n",
       "── - ────────────────────────────────────────────────────────────────── ⎥\n",
       "       ⎛        ⎛ 2    ⎞     ⎛ 2                                 ⎞⎞     ⎥\n",
       "       ⎜      2 ⎜φ    1⎟     ⎜φ          φ           ⎛ 2    ⎞   1⎟⎟     ⎥\n",
       " 1   c⋅⎜-π + θ ⋅⎜── - ─⎟ + θ⋅⎜── - ───────────── - θ⋅⎝φ  - 1⎠ - ─⎟⎟ - 1 ⎥\n",
       "       ⎜        ⎝2    2⎠     ⎜2      ___________                2⎟⎟     ⎥\n",
       "       ⎝                     ⎝     ╲╱ c + ρ + 1                  ⎠⎠     ⎥\n",
       "                                                                        ⎥\n",
       "                                                                        ⎥\n",
       "                                                                        ⎥\n",
       "                                                                        ⎥\n",
       "                                                                        ⎥\n",
       "2  2      2        2⋅c⋅φ⋅θ          2⋅c⋅φ                  2          ⎞⎞⎥\n",
       " ⋅θ  - c⋅φ ⋅θ + ───────────── - ───────────── + 2⋅c⋅π - c⋅θ  + c⋅θ + 2⎟⎟⎥\n",
       "                  ___________     ___________                         ⎟⎟⎥\n",
       "                ╲╱ c + ρ + 1    ╲╱ c + ρ + 1                          ⎠⎠⎥\n",
       "                                                                        ⎥\n",
       "                                                                        ⎥\n",
       "                                                                        ⎥\n",
       "                                                                        ⎥\n",
       "                                                                        ⎥\n",
       "             1                                                          ⎥\n",
       "────── - θ + ─                                                          ⎥\n",
       "______       2                                                          ⎥\n",
       "ρ + 1                                                                   ⎥\n",
       "                                                                        ⎥\n",
       "                                                                        ⎦"
      ]
     },
     "execution_count": 42,
     "metadata": {},
     "output_type": "execute_result"
    }
   ],
   "source": [
    "second_stage_moments_sym"
   ]
  },
  {
   "cell_type": "code",
   "execution_count": 43,
   "metadata": {},
   "outputs": [],
   "source": [
    "link1_grad_in = sym.lambdify((c, delta, phi, pi,rho, theta),  \n",
    "                             second_stage_moments_sym.jacobian([c,delta, rho]))"
   ]
  },
  {
   "cell_type": "code",
   "execution_count": 44,
   "metadata": {},
   "outputs": [],
   "source": [
    "def link_grad_reduced(c, delta, equity_price, phi, rho, vol_price):\n",
    "    \"\"\"\n",
    "    This function computes the jacobian of the link function with respect to the reduced form paramters\n",
    "    beta, c, delta, gamma, phi^2, psi, rho\n",
    "    \n",
    "    Paramters\n",
    "    ---------\n",
    "    c : scalar\n",
    "    equity_price : scalar\n",
    "    phi : scalar\n",
    "    rho : scalar\n",
    "    vol_price : scalar\n",
    "    \n",
    "    Returns\n",
    "    --------\n",
    "    ndarray\n",
    "    \n",
    "    \"\"\"\n",
    "    return_mat = np.zeros((7,7))\n",
    "    mat2 = link1_grad_in(phi=phi, rho=rho, c=c, delta=delta, theta=equity_price, pi=vol_price)\n",
    "    return_mat[0,0] = 1\n",
    "    return_mat[:,1] = mat2[:,0]\n",
    "    return_mat[:,2] = mat2[:,1]\n",
    "    return_mat[3,3] = 1\n",
    "    return_mat[4,4] = 1\n",
    "    return_mat[5,5] = 1\n",
    "    return_mat[:,6] = mat2[:,2]\n",
    "    \n",
    "    return return_mat\n",
    "    "
   ]
  },
  {
   "cell_type": "code",
   "execution_count": 45,
   "metadata": {},
   "outputs": [],
   "source": [
    "link2_grad_in = sym.lambdify((rho, c, delta, phi, pi, theta), \n",
    "                                  second_stage_moments_sym.jacobian([rho, c, delta, phi, pi, theta]))"
   ]
  },
  {
   "cell_type": "code",
   "execution_count": 46,
   "metadata": {},
   "outputs": [],
   "source": [
    "def link_grad_structural(rho, c, delta, phi, equity_price, vol_price):\n",
    "    \"\"\"\n",
    "    This function computes the jacobian of the link function with respect to the structural paramters\n",
    "    phi, rho, c, delta, equity_price, and vol_price\n",
    "    \n",
    "    Paramters\n",
    "    ---------\n",
    "    rho : scalar\n",
    "    c : scalar\n",
    "    phi : scalar\n",
    "    equity_price : scalar\n",
    "    vol_price : scalar\n",
    "    \n",
    "    Returns\n",
    "    --------\n",
    "    ndarray\n",
    "    \n",
    "    \"\"\"\n",
    "    return_mat = link2_grad_in(phi=phi, rho=rho, c=c, delta=delta, theta=equity_price, pi=vol_price)\n",
    "    \n",
    "    return return_mat\n",
    "    "
   ]
  },
  {
   "cell_type": "code",
   "execution_count": 47,
   "metadata": {},
   "outputs": [],
   "source": [
    "def second_criterion(structural_params, link_params, weight=None):\n",
    "    \"\"\"\n",
    "    This function computes the weighted squared deviations as defined by the link function.\n",
    "    The paramters to estimate must be in alphabetical order.\n",
    "    \n",
    "    Paramters\n",
    "    ----------\n",
    "    structural_params : ndarray\n",
    "    link_params : ndarray\n",
    "    \n",
    "    Returns\n",
    "    ------\n",
    "    scalar\n",
    "    \n",
    "    \"\"\"\n",
    "    c_link, beta, delta_link, gamma, psi, phi_squared, rho_link = link_params\n",
    "    c, delta, equity_price, phi, rho, vol_price = structural_params\n",
    "    \n",
    "    part1 = second_stage_moments(rho=rho, c=c, delta=delta, theta=equity_price, phi=phi, pi=vol_price).ravel()\n",
    "    part2 = np.array([link_params[key] for key in sorted(link_params)])\n",
    "\n",
    "    diff = part1 - part2\n",
    "    \n",
    "    if weight is None:\n",
    "        weight = np.eye(len(diff))\n",
    "            \n",
    "    return .5 * diff @ weight @ diff\n",
    "    "
   ]
  },
  {
   "cell_type": "markdown",
   "metadata": {},
   "source": [
    "We sometimes get invalid values inside the logarithm for non-optimal values. This would induce a complicated nonlinear constraint for the valid values of the volatilty risk price, but they do not bind, and so we don't bother imposing them."
   ]
  },
  {
   "cell_type": "code",
   "execution_count": 48,
   "metadata": {},
   "outputs": [],
   "source": [
    "def compute_stage2_weight(reduced_form_cov, structural_params):\n",
    "    return  np.linalg.inv(link_grad_structural(**structural_params).T @ link_grad1(**structural_params).T)"
   ]
  },
  {
   "cell_type": "code",
   "execution_count": 49,
   "metadata": {},
   "outputs": [],
   "source": [
    "def est_2nd_stage(reduced_form_params, reduced_form_cov, bounds=None, opts=None):\n",
    "    \n",
    "    if bounds is None:\n",
    "        bounds = ([0,.5], [0, np.inf], [0, 10], [-1,1], [0,1], [-50, 50])\n",
    "    if opts is None:\n",
    "        opts = {'maxiter':200}\n",
    "        \n",
    "    price_guess = {'equity_price': .5, 'vol_price': -1, 'phi': - np.sqrt(reduced_form_params['phi_squared']),\n",
    "                   'rho': reduced_form_params['rho'], 'c':reduced_form_params['c'], \n",
    "                   'delta':reduced_form_params['delta']}\n",
    "    x0 = [price_guess[val] for val in sorted(price_guess.keys())]\n",
    "   \n",
    "    init_result = optimize.minimize(lambda x: second_criterion(x, reduced_form_params), x0=x0, method=\"SLSQP\",  \n",
    "                                    options=opts, bounds=bounds)\n",
    "    estimates = {key:val for key, val in zip(sorted(price_guess.keys()), init_result.x)}\n",
    "    \n",
    "    weight = np.linalg.pinv(link_grad_reduced(**estimates).T @ reduced_form_cov.sort_index().T.sort_index() \n",
    "               @ link_grad_reduced(**estimates))\n",
    "    \n",
    "    final_result = optimize.minimize(lambda x: second_criterion(x, reduced_form_params, weight=weight),\n",
    "                                     x0=init_result.x, method=\"SLSQP\",  options=opts, bounds=bounds)\n",
    "                                     \n",
    "    estimates = {key:val for key, val in zip(sorted(price_guess.keys()), final_result.x)}\n",
    "                  \n",
    "    return final_result, estimates"
   ]
  },
  {
   "cell_type": "code",
   "execution_count": null,
   "metadata": {},
   "outputs": [],
   "source": []
  },
  {
   "cell_type": "code",
   "execution_count": 50,
   "metadata": {},
   "outputs": [
    {
     "name": "stderr",
     "output_type": "stream",
     "text": [
      "<string>:2: RuntimeWarning: invalid value encountered in log\n"
     ]
    }
   ],
   "source": [
    " stage2_result, params_2nd_stage = est_2nd_stage(reduced_form_params=params_1st_stage, \n",
    "                                               reduced_form_cov=cov_1st_stage)"
   ]
  },
  {
   "cell_type": "code",
   "execution_count": null,
   "metadata": {},
   "outputs": [],
   "source": []
  },
  {
   "cell_type": "code",
   "execution_count": 51,
   "metadata": {},
   "outputs": [
    {
     "data": {
      "text/plain": [
       "     fun: 6.6893124317195625\n",
       "     jac: array([  7.24164826e+04,  -4.73414439e+00,   2.36153045e+02,\n",
       "        -1.03994368e+04,   3.21886402e+03,  -1.45573708e+03])\n",
       " message: 'Optimization terminated successfully.'\n",
       "    nfev: 85\n",
       "     nit: 7\n",
       "    njev: 7\n",
       "  status: 0\n",
       " success: True\n",
       "       x: array([ 0.11373099,  0.98911831,  0.49016065, -0.21383158,  0.5838503 ,\n",
       "       -5.84535803])"
      ]
     },
     "execution_count": 51,
     "metadata": {},
     "output_type": "execute_result"
    }
   ],
   "source": [
    "stage2_result"
   ]
  },
  {
   "cell_type": "markdown",
   "metadata": {},
   "source": [
    "## I now compute the covariance matrix for this 2nd stage regression"
   ]
  },
  {
   "cell_type": "markdown",
   "metadata": {},
   "source": [
    "I first compute the bread for the sandwich"
   ]
  },
  {
   "cell_type": "code",
   "execution_count": 52,
   "metadata": {},
   "outputs": [],
   "source": [
    "def compute_2nd_stage_cov(params2, cov1):\n",
    "    \n",
    "    # This is the optimal weight matrix. \n",
    "    weight = np.linalg.pinv(link_grad_reduced(**params2).T @ cov_1st_stage.sort_index().T.sort_index() \n",
    "               @ link_grad_reduced(**params2))\n",
    "    \n",
    "    # This is the inverse of the bread for the sandwich\n",
    "    Bmat = (link_grad_structural(**params2).T @ weight @ link_grad_structural(**params2))\n",
    "    \n",
    "    cov = pd.DataFrame((np.linalg.inv(Bmat) @ link_grad_structural(**params2).T @ weight \n",
    "       @ link_grad_structural(**params2) @ np.linalg.inv(Bmat)) / data.shape[0], \n",
    "                            index=params2.keys(), columns=params2.keys())\n",
    "    return cov"
   ]
  },
  {
   "cell_type": "code",
   "execution_count": 53,
   "metadata": {},
   "outputs": [],
   "source": [
    "cov_2nd_stage = compute_2nd_stage_cov(params2=params_2nd_stage, cov1=cov_1st_stage)"
   ]
  },
  {
   "cell_type": "code",
   "execution_count": 54,
   "metadata": {},
   "outputs": [
    {
     "data": {
      "text/html": [
       "<div>\n",
       "<style scoped>\n",
       "    .dataframe tbody tr th:only-of-type {\n",
       "        vertical-align: middle;\n",
       "    }\n",
       "\n",
       "    .dataframe tbody tr th {\n",
       "        vertical-align: top;\n",
       "    }\n",
       "\n",
       "    .dataframe thead th {\n",
       "        text-align: right;\n",
       "    }\n",
       "</style>\n",
       "<table border=\"1\" class=\"dataframe\">\n",
       "  <thead>\n",
       "    <tr style=\"text-align: right;\">\n",
       "      <th></th>\n",
       "      <th>truth</th>\n",
       "      <th>estimate</th>\n",
       "      <th>lower ci</th>\n",
       "      <th>upper ci</th>\n",
       "      <th>in_ci</th>\n",
       "    </tr>\n",
       "  </thead>\n",
       "  <tbody>\n",
       "    <tr>\n",
       "      <th>c</th>\n",
       "      <td>0.10</td>\n",
       "      <td>0.113731</td>\n",
       "      <td>0.112561</td>\n",
       "      <td>0.114901</td>\n",
       "      <td>False</td>\n",
       "    </tr>\n",
       "    <tr>\n",
       "      <th>delta</th>\n",
       "      <td>1.22</td>\n",
       "      <td>0.989118</td>\n",
       "      <td>0.968645</td>\n",
       "      <td>1.009592</td>\n",
       "      <td>False</td>\n",
       "    </tr>\n",
       "    <tr>\n",
       "      <th>equity_price</th>\n",
       "      <td>0.50</td>\n",
       "      <td>0.490161</td>\n",
       "      <td>0.488782</td>\n",
       "      <td>0.491540</td>\n",
       "      <td>False</td>\n",
       "    </tr>\n",
       "    <tr>\n",
       "      <th>phi</th>\n",
       "      <td>-0.17</td>\n",
       "      <td>-0.213832</td>\n",
       "      <td>-0.290222</td>\n",
       "      <td>-0.137441</td>\n",
       "      <td>True</td>\n",
       "    </tr>\n",
       "    <tr>\n",
       "      <th>rho</th>\n",
       "      <td>0.60</td>\n",
       "      <td>0.583850</td>\n",
       "      <td>0.103844</td>\n",
       "      <td>1.063857</td>\n",
       "      <td>True</td>\n",
       "    </tr>\n",
       "    <tr>\n",
       "      <th>vol_price</th>\n",
       "      <td>-7.00</td>\n",
       "      <td>-5.845358</td>\n",
       "      <td>-5.908609</td>\n",
       "      <td>-5.782107</td>\n",
       "      <td>False</td>\n",
       "    </tr>\n",
       "  </tbody>\n",
       "</table>\n",
       "</div>"
      ],
      "text/plain": [
       "              truth  estimate  lower ci  upper ci  in_ci\n",
       "c              0.10  0.113731  0.112561  0.114901  False\n",
       "delta          1.22  0.989118  0.968645  1.009592  False\n",
       "equity_price   0.50  0.490161  0.488782  0.491540  False\n",
       "phi           -0.17 -0.213832 -0.290222 -0.137441   True\n",
       "rho            0.60  0.583850  0.103844  1.063857   True\n",
       "vol_price     -7.00 -5.845358 -5.908609 -5.782107  False"
      ]
     },
     "execution_count": 54,
     "metadata": {},
     "output_type": "execute_result"
    }
   ],
   "source": [
    "create_est_table(estimates=params_2nd_stage, truth=total_true_params, cov=cov_2nd_stage)"
   ]
  }
 ],
 "metadata": {
  "kernelspec": {
   "display_name": "Python 3",
   "language": "python",
   "name": "python3"
  },
  "language_info": {
   "codemirror_mode": {
    "name": "ipython",
    "version": 3
   },
   "file_extension": ".py",
   "mimetype": "text/x-python",
   "name": "python",
   "nbconvert_exporter": "python",
   "pygments_lexer": "ipython3",
   "version": "3.6.6"
  }
 },
 "nbformat": 4,
 "nbformat_minor": 2
}
