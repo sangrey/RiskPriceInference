{
 "cells": [
  {
   "cell_type": "code",
   "execution_count": 1,
   "metadata": {},
   "outputs": [],
   "source": [
    "import numpy as np\n",
    "import pandas as pd\n",
    "from tqdm import tqdm_notebook\n",
    "from scipy import stats, optimize\n",
    "from scipy import linalg as scilin\n",
    "import matplotlib as mpl\n",
    "from mpl_toolkits.mplot3d import Axes3D\n",
    "from matplotlib import cm\n",
    "from itertools import product\n",
    "import seaborn as sns\n",
    "import statsmodels.api as sm\n",
    "import statsmodels.tsa.api as tsa\n",
    "import sympy as sym"
   ]
  },
  {
   "cell_type": "code",
   "execution_count": 2,
   "metadata": {},
   "outputs": [],
   "source": [
    "%matplotlib inline\n",
    "mpl.style.use('seaborn-talk')\n",
    "sym.init_printing()"
   ]
  },
  {
   "cell_type": "markdown",
   "metadata": {},
   "source": [
    "## Setup the True Parameters /  Simulation Parameters"
   ]
  },
  {
   "cell_type": "code",
   "execution_count": 3,
   "metadata": {},
   "outputs": [],
   "source": [
    "true_params = {'equity_price': 0.50, \n",
    "               'vol_price': -7,\n",
    "               'phi':-.17,\n",
    "               'c': .1,\n",
    "               'delta': 1.22,\n",
    "               'rho': .6,\n",
    "                'time_dim':3000}"
   ]
  },
  {
   "cell_type": "markdown",
   "metadata": {},
   "source": [
    "## Setup the linking functions."
   ]
  },
  {
   "cell_type": "code",
   "execution_count": 4,
   "metadata": {},
   "outputs": [],
   "source": [
    "x, y, rho, c, delta, phi, psi = sym.symbols('x y rho c delta phi psi')"
   ]
  },
  {
   "cell_type": "code",
   "execution_count": 5,
   "metadata": {},
   "outputs": [],
   "source": [
    "theta, pi = sym.symbols('theta pi')\n",
    "psi = phi / sym.sqrt(c + (1 + rho)) + (( 1 - phi**2) / 2 - (1 - phi**2) * theta)\n",
    "a_func = rho * x / ( 1 + c * x)\n",
    "alpha = psi * x + (( 1 -phi**2) / 2) * x**2\n",
    "b_func = delta * sym.log(1 + c * x)\n",
    "beta = a_func.replace(x, pi + alpha.replace(x, theta - 1)) - a_func.replace(x, pi + alpha.replace(x, theta)) \n",
    "gamma = b_func.replace(x, pi + alpha.replace(x, theta-1)) - b_func.replace(x, pi + alpha.replace(x, theta))"
   ]
  },
  {
   "cell_type": "code",
   "execution_count": 6,
   "metadata": {},
   "outputs": [],
   "source": [
    "gamma_lambda = sym.lambdify((rho, c, delta, phi, pi, theta), gamma)\n",
    "beta_lambda = sym.lambdify((rho, c, phi, pi, theta), beta)\n",
    "psi_lambda = sym.lambdify((rho,c, phi,  theta), psi)"
   ]
  },
  {
   "cell_type": "markdown",
   "metadata": {},
   "source": [
    "## Setup the Simulation Functions"
   ]
  },
  {
   "cell_type": "code",
   "execution_count": 7,
   "metadata": {},
   "outputs": [],
   "source": [
    "def simulate_autoregressive_gamma(rho=0, c=1, delta=1, initial_point=None, time_dim=100,\n",
    "                                  state_date='2000-01-01'):\n",
    "    \"\"\"\n",
    "    This function provides draws from the ARG(1) process of Gourieroux & Jaiak\n",
    "    \n",
    "    Parameters\n",
    "    --------\n",
    "    rho : scalar\n",
    "        AR(1) coefficient\n",
    "    delta : scalar\n",
    "        intercept\n",
    "    c : scalar\n",
    "        scale\n",
    "    Returns\n",
    "    -----\n",
    "    draws : dataframe\n",
    "    \"\"\"\n",
    "    \n",
    "    # If initial_point is not specified, we start at the unconditional mean.\n",
    "    \n",
    "    initial_point = (c * delta) / (1 - rho)\n",
    "    \n",
    "    # The conditional distribution of an ARG(1) process is non-centered Gamma, which has a representation as a \n",
    "    # Poisson mixture of Gamma\n",
    "    \n",
    "    draws = [initial_point]\n",
    "    \n",
    "    for _ in tqdm_notebook(range(time_dim)):\n",
    "        \n",
    "        latent_var = stats.poisson.rvs(mu = rho * draws[-1] / c)\n",
    "        draws.append(stats.gamma.rvs(a=delta+latent_var, scale=c))\n",
    "    \n",
    "    draws = pd.DataFrame(draws[1:], pd.date_range(start=state_date, freq='D', periods=time_dim))\n",
    "    return draws\n",
    "    \n",
    "    "
   ]
  },
  {
   "cell_type": "code",
   "execution_count": 8,
   "metadata": {},
   "outputs": [],
   "source": [
    "def simulate_conditional_gaussian(vol_data, rho=0, c=1, delta=1, phi=0, vol_price=0, equity_price=1):\n",
    "    \"\"\"\n",
    "    This function simulates conditional Gaussian random variables with mean\n",
    "    \n",
    "    $$E[r_{t+1} | \\sigma^2_t, \\sigma^2_{t+1}] = \\psi \\sigma^2_{t+1} + \\beta \\sigma^2_t + \\gamma$$\n",
    "    $$Var[r_{+t} | \\sigma^2_t, \\sigma^2_{t+1}] = (1 - \\phi^2) \\sigma^2_{t+1}$$\n",
    "    \n",
    "    Parameters\n",
    "    ----------\n",
    "    vol_data : pandas dataframe\n",
    "        The volatility data. It must always be positive.\n",
    "    rho : scalar\n",
    "    c : scalar\n",
    "    delta : scalar\n",
    "    phi : scalar \n",
    "        It must be in [-1,1]\n",
    "    vol_price : scalar\n",
    "    equity_price : scalar\n",
    "    \n",
    "    Returns\n",
    "    -------\n",
    "    data : pandas dataframe \n",
    "        This contains both the vol_data and the return data\n",
    "    \"\"\"\n",
    "    \n",
    "    gamma = gamma_lambda(rho, c, delta, phi, vol_price, equity_price)\n",
    "    beta = beta_lambda(rho, c, phi, vol_price, equity_price)\n",
    "    psi = psi_lambda(rho,c, phi, equity_price)\n",
    "    \n",
    "    mean = gamma + beta * vol_data.shift(1) + psi * vol_data\n",
    "    var = (1 - phi**2) * vol_data\n",
    "    \n",
    "    draws =  mean + pd.DataFrame(stats.norm.rvs(0, scale=var.apply(np.sqrt)),\n",
    "                                 index=vol_data.index)\n",
    "    data = pd.concat([vol_data, draws], axis=1).dropna()\n",
    "    data.columns = ['vol', 'rtn']\n",
    "    \n",
    "    return data"
   ]
  },
  {
   "cell_type": "code",
   "execution_count": null,
   "metadata": {},
   "outputs": [],
   "source": []
  },
  {
   "cell_type": "code",
   "execution_count": 9,
   "metadata": {},
   "outputs": [],
   "source": [
    "def simulate_data(equity_price=1, vol_price=0, rho=0, c=1, delta=1, phi=0, initial_point=None, time_dim=100,\n",
    "                                  state_date='2000-01-01'):\n",
    "    \"\"\"\n",
    "    This function takes the reduced-form paramters and risk prices and returns the data\n",
    "    \n",
    "    Parameters\n",
    "    --------\n",
    "    equity_price: scalar\n",
    "    vol_price : scalar\n",
    "    phi : scalar\n",
    "        leverage\n",
    "    rho : scalar\n",
    "        persistence\n",
    "    c : positive scalar\n",
    "        scale\n",
    "    initial_point: scalar, optional\n",
    "        Starting value for the volatility\n",
    "    time_dim : int, optional\n",
    "        number of periods\n",
    "    start_date : datelike, optional\n",
    "        The time to start the data from.\n",
    "        \n",
    "    Returns\n",
    "    -----\n",
    "    draws : dataframe\n",
    "    \n",
    "    \"\"\"\n",
    "    vol_data = simulate_autoregressive_gamma(rho=rho, c=c, delta=1, initial_point=initial_point,\n",
    "                                             state_date=pd.to_datetime(state_date) - pd.Timedelta('1 day'),\n",
    "                                             time_dim=time_dim + 1)\n",
    "    data = simulate_conditional_gaussian(vol_data, rho=rho, c=c, delta=delta, phi=phi, vol_price=vol_price,\n",
    "                                         equity_price=equity_price)\n",
    "\n",
    "    return data"
   ]
  },
  {
   "cell_type": "markdown",
   "metadata": {},
   "source": [
    "## We now examine the distributions of simulated data"
   ]
  },
  {
   "cell_type": "code",
   "execution_count": 10,
   "metadata": {},
   "outputs": [
    {
     "data": {
      "application/vnd.jupyter.widget-view+json": {
       "model_id": "0ecf54b9c8fa449fbe9b3a917a613152",
       "version_major": 2,
       "version_minor": 0
      },
      "text/plain": [
       "HBox(children=(IntProgress(value=0, max=3001), HTML(value='')))"
      ]
     },
     "metadata": {},
     "output_type": "display_data"
    },
    {
     "name": "stdout",
     "output_type": "stream",
     "text": [
      "\n"
     ]
    }
   ],
   "source": [
    "data = simulate_data(**true_params)"
   ]
  },
  {
   "cell_type": "code",
   "execution_count": 11,
   "metadata": {},
   "outputs": [
    {
     "data": {
      "text/plain": [
       "<matplotlib.legend.Legend at 0x7f46ec76f4a8>"
      ]
     },
     "execution_count": 11,
     "metadata": {},
     "output_type": "execute_result"
    },
    {
     "data": {
      "image/png": "[encoded data removed]",
      "text/plain": [
       "<Figure size 748.8x514.8 with 1 Axes>"
      ]
     },
     "metadata": {},
     "output_type": "display_data"
    }
   ],
   "source": [
    "fig1, ax1 = mpl.pyplot.subplots()\n",
    "ax1.plot(data.rtn, label='Return')\n",
    "ax1.plot(data.vol, label='Volatility')\n",
    "ax1.legend()\n",
    "# ax1.xaxis.set_major_locator(mpl.dates.MonthLocator(bymonth=(1,6)))\n",
    "# ax1.xaxis.set_major_formatter(mpl.dates.AutoDateFormatter(ax1.xaxis.get_major_locator()))\n"
   ]
  },
  {
   "cell_type": "code",
   "execution_count": 12,
   "metadata": {},
   "outputs": [
    {
     "data": {
      "text/plain": [
       "<seaborn.axisgrid.JointGrid at 0x7f46ef2d5940>"
      ]
     },
     "execution_count": 12,
     "metadata": {},
     "output_type": "execute_result"
    },
    {
     "data": {
      "image/png": "[encoded data removed]",
      "text/plain": [
       "<Figure size 432x432 with 3 Axes>"
      ]
     },
     "metadata": {},
     "output_type": "display_data"
    }
   ],
   "source": [
    "sns.jointplot(x='vol', y='rtn', data=data, kind='reg')"
   ]
  },
  {
   "cell_type": "code",
   "execution_count": 13,
   "metadata": {},
   "outputs": [
    {
     "data": {
      "text/html": [
       "<div>\n",
       "<style scoped>\n",
       "    .dataframe tbody tr th:only-of-type {\n",
       "        vertical-align: middle;\n",
       "    }\n",
       "\n",
       "    .dataframe tbody tr th {\n",
       "        vertical-align: top;\n",
       "    }\n",
       "\n",
       "    .dataframe thead th {\n",
       "        text-align: right;\n",
       "    }\n",
       "</style>\n",
       "<table border=\"1\" class=\"dataframe\">\n",
       "  <thead>\n",
       "    <tr style=\"text-align: right;\">\n",
       "      <th></th>\n",
       "      <th>vol</th>\n",
       "      <th>rtn</th>\n",
       "    </tr>\n",
       "  </thead>\n",
       "  <tbody>\n",
       "    <tr>\n",
       "      <th>count</th>\n",
       "      <td>3000.000000</td>\n",
       "      <td>3000.000000</td>\n",
       "    </tr>\n",
       "    <tr>\n",
       "      <th>mean</th>\n",
       "      <td>0.249965</td>\n",
       "      <td>0.214258</td>\n",
       "    </tr>\n",
       "    <tr>\n",
       "      <th>std</th>\n",
       "      <td>0.249923</td>\n",
       "      <td>0.515263</td>\n",
       "    </tr>\n",
       "    <tr>\n",
       "      <th>min</th>\n",
       "      <td>0.000021</td>\n",
       "      <td>-2.415875</td>\n",
       "    </tr>\n",
       "    <tr>\n",
       "      <th>25%</th>\n",
       "      <td>0.069080</td>\n",
       "      <td>-0.062771</td>\n",
       "    </tr>\n",
       "    <tr>\n",
       "      <th>50%</th>\n",
       "      <td>0.176241</td>\n",
       "      <td>0.164674</td>\n",
       "    </tr>\n",
       "    <tr>\n",
       "      <th>75%</th>\n",
       "      <td>0.349739</td>\n",
       "      <td>0.471194</td>\n",
       "    </tr>\n",
       "    <tr>\n",
       "      <th>max</th>\n",
       "      <td>2.260278</td>\n",
       "      <td>3.394080</td>\n",
       "    </tr>\n",
       "  </tbody>\n",
       "</table>\n",
       "</div>"
      ],
      "text/plain": [
       "               vol          rtn\n",
       "count  3000.000000  3000.000000\n",
       "mean      0.249965     0.214258\n",
       "std       0.249923     0.515263\n",
       "min       0.000021    -2.415875\n",
       "25%       0.069080    -0.062771\n",
       "50%       0.176241     0.164674\n",
       "75%       0.349739     0.471194\n",
       "max       2.260278     3.394080"
      ]
     },
     "execution_count": 13,
     "metadata": {},
     "output_type": "execute_result"
    }
   ],
   "source": [
    "data.describe()"
   ]
  },
  {
   "cell_type": "markdown",
   "metadata": {},
   "source": [
    "## We now define the moment conditions that we can use to estimate volatility"
   ]
  },
  {
   "cell_type": "code",
   "execution_count": 14,
   "metadata": {},
   "outputs": [],
   "source": [
    "mean = rho * x + c * delta\n",
    "var = 2 * c * rho * x + c**2 * delta\n",
    "mom1 = y - mean\n",
    "mom2 = (y- mean) * x\n",
    "mom3 = (y**2 - (var + mean**2))\n",
    "mom4 = (y**2 - (var + mean**2)) * x\n",
    "mom5 = (y**2 - (var + mean**2)) * x**2"
   ]
  },
  {
   "cell_type": "code",
   "execution_count": 15,
   "metadata": {},
   "outputs": [],
   "source": [
    "vol_moments_sym = sym.Matrix([mom1,mom2, mom3, mom4, mom5])\n",
    "vol_moments_lambda = sym.lambdify((x, y, rho, c, delta), vol_moments_sym)"
   ]
  },
  {
   "cell_type": "code",
   "execution_count": 16,
   "metadata": {},
   "outputs": [
    {
     "data": {
      "image/png": "[encoded data removed]",
      "text/latex": [
       "$$\\left[\\begin{matrix}- c \\delta - \\rho x + y\\\\x \\left(- c \\delta - \\rho x + y\\right)\\\\- c^{2} \\delta - 2 c \\rho x + y^{2} - \\left(c \\delta + \\rho x\\right)^{2}\\\\x \\left(- c^{2} \\delta - 2 c \\rho x + y^{2} - \\left(c \\delta + \\rho x\\right)^{2}\\right)\\\\x^{2} \\left(- c^{2} \\delta - 2 c \\rho x + y^{2} - \\left(c \\delta + \\rho x\\right)^{2}\\right)\\end{matrix}\\right]$$"
      ],
      "text/plain": [
       "⎡             -c⋅δ - ρ⋅x + y              ⎤\n",
       "⎢                                         ⎥\n",
       "⎢           x⋅(-c⋅δ - ρ⋅x + y)            ⎥\n",
       "⎢                                         ⎥\n",
       "⎢     2                2              2   ⎥\n",
       "⎢  - c ⋅δ - 2⋅c⋅ρ⋅x + y  - (c⋅δ + ρ⋅x)    ⎥\n",
       "⎢                                         ⎥\n",
       "⎢  ⎛   2                2              2⎞ ⎥\n",
       "⎢x⋅⎝- c ⋅δ - 2⋅c⋅ρ⋅x + y  - (c⋅δ + ρ⋅x) ⎠ ⎥\n",
       "⎢                                         ⎥\n",
       "⎢ 2 ⎛   2                2              2⎞⎥\n",
       "⎣x ⋅⎝- c ⋅δ - 2⋅c⋅ρ⋅x + y  - (c⋅δ + ρ⋅x) ⎠⎦"
      ]
     },
     "execution_count": 16,
     "metadata": {},
     "output_type": "execute_result"
    }
   ],
   "source": [
    "vol_moments_sym"
   ]
  },
  {
   "cell_type": "code",
   "execution_count": 17,
   "metadata": {},
   "outputs": [],
   "source": [
    "def vol_moments(vol_data, *args):    \n",
    "    return pd.DataFrame(np.squeeze(vol_moments_lambda(vol_data.values[1:], vol_data.values[:-1], *args)).T)"
   ]
  },
  {
   "cell_type": "markdown",
   "metadata": {},
   "source": [
    "I use Sympy to compute the gradient"
   ]
  },
  {
   "cell_type": "code",
   "execution_count": 18,
   "metadata": {},
   "outputs": [],
   "source": [
    "vol_squared_mom = vol_moments_sym.T @ vol_moments_sym\n",
    "vol_squared_mom_grad = sym.lambdify((x, y, rho, c, delta), vol_squared_mom.jacobian([rho, c, delta]))"
   ]
  },
  {
   "cell_type": "code",
   "execution_count": 19,
   "metadata": {},
   "outputs": [],
   "source": [
    "def vol_squared_moments_grad(vol_data, *args):\n",
    "    return  pd.DataFrame(np.squeeze(vol_squared_mom_grad(vol_data.values[1:], vol_data.values[:-1], *args)).T, \n",
    "                         index=vol_data.index[1:]).dropna()"
   ]
  },
  {
   "cell_type": "code",
   "execution_count": 20,
   "metadata": {},
   "outputs": [],
   "source": [
    "vol_moments_grad_lambda = sym.lambdify((x, y, rho, c, delta), vol_moments_sym.jacobian([rho, c, delta]))\n"
   ]
  },
  {
   "cell_type": "code",
   "execution_count": 21,
   "metadata": {},
   "outputs": [],
   "source": [
    "def vol_moments_grad(vol_data, *args):\n",
    "    mom_grad_in  = vol_moments_grad_lambda(vol_data.shift(-1), vol_data, *args)\n",
    "    return np.array([[np.nanmean(arr_in) for arr_in in arr_out] for arr_out in mom_grad_in])\n",
    "                         "
   ]
  },
  {
   "cell_type": "code",
   "execution_count": 22,
   "metadata": {},
   "outputs": [
    {
     "data": {
      "text/html": [
       "<div>\n",
       "<style scoped>\n",
       "    .dataframe tbody tr th:only-of-type {\n",
       "        vertical-align: middle;\n",
       "    }\n",
       "\n",
       "    .dataframe tbody tr th {\n",
       "        vertical-align: top;\n",
       "    }\n",
       "\n",
       "    .dataframe thead th {\n",
       "        text-align: right;\n",
       "    }\n",
       "</style>\n",
       "<table border=\"1\" class=\"dataframe\">\n",
       "  <thead>\n",
       "    <tr style=\"text-align: right;\">\n",
       "      <th></th>\n",
       "      <th>0</th>\n",
       "      <th>1</th>\n",
       "    </tr>\n",
       "  </thead>\n",
       "  <tbody>\n",
       "    <tr>\n",
       "      <th>const</th>\n",
       "      <td>0.092522</td>\n",
       "      <td>0.112984</td>\n",
       "    </tr>\n",
       "    <tr>\n",
       "      <th>L1.vol</th>\n",
       "      <td>0.559753</td>\n",
       "      <td>0.617637</td>\n",
       "    </tr>\n",
       "  </tbody>\n",
       "</table>\n",
       "</div>"
      ],
      "text/plain": [
       "               0         1\n",
       "const   0.092522  0.112984\n",
       "L1.vol  0.559753  0.617637"
      ]
     },
     "execution_count": 22,
     "metadata": {},
     "output_type": "execute_result"
    }
   ],
   "source": [
    "intercept, persistence = tsa.AR(data.vol).fit(maxlag=1).params\n",
    "error_var = tsa.AR(data.vol).fit(maxlag=1).sigma2\n",
    "tsa.AR(data.vol).fit(maxlag=1).conf_int()"
   ]
  },
  {
   "cell_type": "code",
   "execution_count": null,
   "metadata": {},
   "outputs": [],
   "source": []
  },
  {
   "cell_type": "markdown",
   "metadata": {},
   "source": [
    "From the model, we know that intercept = $ c * \\delta$. We also know that the average error variance equals \n",
    "$ c^2 \\delta * (2 \\rho / 1 - \\rho) + 1)$ Consequently, $c = error\\_var / ( intercept * (2 \\rho / 1 - \\rho) + 1)) $ and delta = intercept / c\n"
   ]
  },
  {
   "cell_type": "code",
   "execution_count": 23,
   "metadata": {},
   "outputs": [],
   "source": [
    "init_constants = {'rho': persistence}"
   ]
  },
  {
   "cell_type": "code",
   "execution_count": 24,
   "metadata": {},
   "outputs": [],
   "source": [
    "init_constants['c'] = error_var / ( intercept * ( 2 * persistence / ( 1- persistence) + 1) )\n",
    "init_constants['delta'] = intercept / init_constants['c']"
   ]
  },
  {
   "cell_type": "code",
   "execution_count": 25,
   "metadata": {},
   "outputs": [],
   "source": [
    "num_vals = 50\n",
    "cvals = np.linspace(0, 1,num_vals)\n",
    "deltavals = np.linspace(0,1.5,num_vals)"
   ]
  },
  {
   "cell_type": "code",
   "execution_count": 26,
   "metadata": {},
   "outputs": [],
   "source": [
    "plot_data = pd.DataFrame(np.asarray([(scale, intercept, vol_moments(data.vol, *[.5, scale, intercept]).apply(\n",
    "    np.square).sum().mean())\n",
    "     for scale, intercept in product(cvals, deltavals)]), columns=['c', 'delta', 'z'])\n",
    "reshaped_x = plot_data.c.values.reshape((num_vals,num_vals))\n",
    "reshaped_y = plot_data.delta.values.reshape((num_vals,num_vals))\n",
    "reshaped_z = plot_data.z.values.reshape((num_vals,num_vals))"
   ]
  },
  {
   "cell_type": "code",
   "execution_count": 27,
   "metadata": {},
   "outputs": [
    {
     "data": {
      "text/plain": [
       "Text(0.5,0,'c')"
      ]
     },
     "execution_count": 27,
     "metadata": {},
     "output_type": "execute_result"
    },
    {
     "data": {
      "image/png": "[encoded data removed]",
      "text/plain": [
       "<Figure size 748.8x514.8 with 1 Axes>"
      ]
     },
     "metadata": {},
     "output_type": "display_data"
    }
   ],
   "source": [
    "fig = mpl.pyplot.figure()\n",
    "ax = fig.add_subplot(111, projection='3d')\n",
    "ax.plot_surface(reshaped_x, reshaped_y, reshaped_z , cmap=cm.coolwarm, alpha=.5)\n",
    "\n",
    "\n",
    "ax.set_ylabel('delta')\n",
    "ax.set_zlabel('squared_errors')\n",
    "ax.set_xlabel('c')\n",
    "# ax.set_zlim(0, 1000)\n"
   ]
  },
  {
   "cell_type": "code",
   "execution_count": 28,
   "metadata": {},
   "outputs": [],
   "source": [
    "def compute_vol_gmm(vol_data, x0, bounds=None):\n",
    "    \"\"\"\n",
    "    This function uses GMM to compute the volatility paramters and their asymptotic covariance matrix.\n",
    "    \n",
    "    Paramters\n",
    "    ---------\n",
    "    vol_data : pandas series\n",
    "    x0 : 3-element vector\n",
    "    bounds : list\n",
    "    \n",
    "    Returns\n",
    "    --------\n",
    "    final_result : dict\n",
    "    cov : ndarray\n",
    "    \"\"\"\n",
    "    if bounds is None:\n",
    "        bounds = [(-1+1e-5,1-1e-5),(1e-5, 20), (1e-5,20)]\n",
    "    \n",
    "    initial_result = optimize.minimize(lambda x: np.mean(np.ravel(vol_moments(vol_data, *x))**2),\n",
    "                                       x0=list(init_constants.values()), method=\"SLSQP\", bounds=bounds,\n",
    "                                       options={'maxiter':200}, \n",
    "                                       jac= lambda x: np.mean(vol_squared_moments_grad(vol_data, *x), axis=0))\n",
    "    \n",
    "    weight_matrix = scilin.inv(vol_moments(vol_data, *initial_result.x).cov())\n",
    "    root_weight_matrix = scilin.cholesky(weight_matrix)\n",
    "    \n",
    "    final_result = optimize.minimize(lambda x:\n",
    "                                     np.mean(np.ravel((vol_moments(vol_data, *x) @ root_weight_matrix)**2)),\n",
    "                           x0=initial_result.x, method=\"SLSQP\", bounds=bounds, options={'maxiter':200})\n",
    "\n",
    "    moment_derivative = vol_moments_grad(vol_data, *final_result.x)\n",
    "    cov = np.linalg.inv(moment_derivative.T @ weight_matrix @ moment_derivative)\n",
    "\n",
    "    return final_result, cov / (vol_data.size -1)\n"
   ]
  },
  {
   "cell_type": "code",
   "execution_count": 29,
   "metadata": {},
   "outputs": [],
   "source": [
    "final_result, final_cov = compute_vol_gmm(data.vol, x0=init_constants)"
   ]
  },
  {
   "cell_type": "code",
   "execution_count": 30,
   "metadata": {},
   "outputs": [
    {
     "data": {
      "text/plain": [
       "     fun: 8.724862602975838\n",
       "     jac: array([ 0.0001632 ,  0.00098658,  0.00022197])\n",
       " message: 'Optimization terminated successfully.'\n",
       "    nfev: 40\n",
       "     nit: 7\n",
       "    njev: 7\n",
       "  status: 0\n",
       " success: True\n",
       "       x: array([ 0.6100001 ,  0.10385403,  0.95853162])"
      ]
     },
     "execution_count": 30,
     "metadata": {},
     "output_type": "execute_result"
    }
   ],
   "source": [
    "final_result"
   ]
  },
  {
   "cell_type": "code",
   "execution_count": 31,
   "metadata": {},
   "outputs": [],
   "source": [
    "true_values = [true_params[key] for key in ['rho', 'c', 'delta']]\n",
    "lower_ci = final_result.x - 1.96 * np.sqrt(np.diag(final_cov))\n",
    "upper_ci = final_result.x + 1.96 * np.sqrt(np.diag(final_cov))\n",
    "estimates = pd.DataFrame(np.column_stack([true_values, final_result.x, lower_ci, upper_ci]),\n",
    "             columns = ['truth', 'estimate', 'lower ci', 'upper ci'], index=['rho', 'c', 'delta'] )"
   ]
  },
  {
   "cell_type": "code",
   "execution_count": 32,
   "metadata": {
    "scrolled": true
   },
   "outputs": [
    {
     "data": {
      "text/html": [
       "<div>\n",
       "<style scoped>\n",
       "    .dataframe tbody tr th:only-of-type {\n",
       "        vertical-align: middle;\n",
       "    }\n",
       "\n",
       "    .dataframe tbody tr th {\n",
       "        vertical-align: top;\n",
       "    }\n",
       "\n",
       "    .dataframe thead th {\n",
       "        text-align: right;\n",
       "    }\n",
       "</style>\n",
       "<table border=\"1\" class=\"dataframe\">\n",
       "  <thead>\n",
       "    <tr style=\"text-align: right;\">\n",
       "      <th></th>\n",
       "      <th>truth</th>\n",
       "      <th>estimate</th>\n",
       "      <th>lower ci</th>\n",
       "      <th>upper ci</th>\n",
       "    </tr>\n",
       "  </thead>\n",
       "  <tbody>\n",
       "    <tr>\n",
       "      <th>rho</th>\n",
       "      <td>0.60</td>\n",
       "      <td>0.610000</td>\n",
       "      <td>0.570860</td>\n",
       "      <td>0.649140</td>\n",
       "    </tr>\n",
       "    <tr>\n",
       "      <th>c</th>\n",
       "      <td>0.10</td>\n",
       "      <td>0.103854</td>\n",
       "      <td>0.095910</td>\n",
       "      <td>0.111798</td>\n",
       "    </tr>\n",
       "    <tr>\n",
       "      <th>delta</th>\n",
       "      <td>1.22</td>\n",
       "      <td>0.958532</td>\n",
       "      <td>0.880379</td>\n",
       "      <td>1.036684</td>\n",
       "    </tr>\n",
       "  </tbody>\n",
       "</table>\n",
       "</div>"
      ],
      "text/plain": [
       "       truth  estimate  lower ci  upper ci\n",
       "rho     0.60  0.610000  0.570860  0.649140\n",
       "c       0.10  0.103854  0.095910  0.111798\n",
       "delta   1.22  0.958532  0.880379  1.036684"
      ]
     },
     "execution_count": 32,
     "metadata": {},
     "output_type": "execute_result"
    }
   ],
   "source": [
    "estimates"
   ]
  },
  {
   "cell_type": "code",
   "execution_count": 33,
   "metadata": {},
   "outputs": [],
   "source": [
    "estimate_corr = pd.DataFrame(np.atleast_2d(np.diag(final_cov))**(-1/2) * final_cov\n",
    "                             * np.atleast_2d(np.diag(final_cov)).T**(-1/2),\n",
    "                            index=['rho', 'c', 'delta'], columns=['rho', 'c', 'delta'])"
   ]
  },
  {
   "cell_type": "code",
   "execution_count": 34,
   "metadata": {},
   "outputs": [
    {
     "data": {
      "text/html": [
       "<div>\n",
       "<style scoped>\n",
       "    .dataframe tbody tr th:only-of-type {\n",
       "        vertical-align: middle;\n",
       "    }\n",
       "\n",
       "    .dataframe tbody tr th {\n",
       "        vertical-align: top;\n",
       "    }\n",
       "\n",
       "    .dataframe thead th {\n",
       "        text-align: right;\n",
       "    }\n",
       "</style>\n",
       "<table border=\"1\" class=\"dataframe\">\n",
       "  <thead>\n",
       "    <tr style=\"text-align: right;\">\n",
       "      <th></th>\n",
       "      <th>rho</th>\n",
       "      <th>c</th>\n",
       "      <th>delta</th>\n",
       "    </tr>\n",
       "  </thead>\n",
       "  <tbody>\n",
       "    <tr>\n",
       "      <th>rho</th>\n",
       "      <td>1.000000</td>\n",
       "      <td>-0.270733</td>\n",
       "      <td>-0.463659</td>\n",
       "    </tr>\n",
       "    <tr>\n",
       "      <th>c</th>\n",
       "      <td>-0.270733</td>\n",
       "      <td>1.000000</td>\n",
       "      <td>-0.433679</td>\n",
       "    </tr>\n",
       "    <tr>\n",
       "      <th>delta</th>\n",
       "      <td>-0.463659</td>\n",
       "      <td>-0.433679</td>\n",
       "      <td>1.000000</td>\n",
       "    </tr>\n",
       "  </tbody>\n",
       "</table>\n",
       "</div>"
      ],
      "text/plain": [
       "            rho         c     delta\n",
       "rho    1.000000 -0.270733 -0.463659\n",
       "c     -0.270733  1.000000 -0.433679\n",
       "delta -0.463659 -0.433679  1.000000"
      ]
     },
     "execution_count": 34,
     "metadata": {},
     "output_type": "execute_result"
    }
   ],
   "source": [
    "estimate_corr"
   ]
  },
  {
   "cell_type": "markdown",
   "metadata": {},
   "source": [
    "## We now turn to estimating the reduced form paramters "
   ]
  },
  {
   "cell_type": "markdown",
   "metadata": {},
   "source": [
    "$$ r_{t+1} = \\gamma + \\beta \\sigma^2_t + \\psi \\sigma^2_{t+1} + \\sigma_{t+1} \\sqrt{1-\\phi^2} \\eta_t $$"
   ]
  },
  {
   "cell_type": "code",
   "execution_count": 35,
   "metadata": {},
   "outputs": [],
   "source": [
    "ols_results = sm.OLS.from_formula('rtn ~ 1+ vol.shift(1) + vol', data=data).fit()"
   ]
  },
  {
   "cell_type": "code",
   "execution_count": 36,
   "metadata": {},
   "outputs": [
    {
     "data": {
      "text/html": [
       "<table class=\"simpletable\">\n",
       "<tr>\n",
       "        <td>Model:</td>               <td>OLS</td>         <td>Adj. R-squared:</td>     <td>0.128</td>  \n",
       "</tr>\n",
       "<tr>\n",
       "  <td>Dependent Variable:</td>        <td>rtn</td>              <td>AIC:</td>         <td>4123.6800</td>\n",
       "</tr>\n",
       "<tr>\n",
       "         <td>Date:</td>        <td>2018-08-09 16:43</td>        <td>BIC:</td>         <td>4141.6981</td>\n",
       "</tr>\n",
       "<tr>\n",
       "   <td>No. Observations:</td>        <td>2999</td>         <td>Log-Likelihood:</td>    <td>-2058.8</td> \n",
       "</tr>\n",
       "<tr>\n",
       "       <td>Df Model:</td>              <td>2</td>           <td>F-statistic:</td>       <td>220.6</td>  \n",
       "</tr>\n",
       "<tr>\n",
       "     <td>Df Residuals:</td>          <td>2996</td>       <td>Prob (F-statistic):</td> <td>4.36e-90</td> \n",
       "</tr>\n",
       "<tr>\n",
       "      <td>R-squared:</td>            <td>0.128</td>            <td>Scale:</td>         <td>0.23134</td> \n",
       "</tr>\n",
       "</table>\n",
       "<table class=\"simpletable\">\n",
       "<tr>\n",
       "        <td></td>        <th>Coef.</th>  <th>Std.Err.</th>    <th>t</th>     <th>P>|t|</th> <th>[0.025</th>  <th>0.975]</th> \n",
       "</tr>\n",
       "<tr>\n",
       "  <th>Intercept</th>    <td>0.0455</td>   <td>0.0132</td>  <td>3.4484</td>  <td>0.0006</td> <td>0.0196</td>  <td>0.0714</td> \n",
       "</tr>\n",
       "<tr>\n",
       "  <th>vol.shift(1)</th> <td>0.8080</td>   <td>0.0435</td>  <td>18.5843</td> <td>0.0000</td> <td>0.7227</td>  <td>0.8932</td> \n",
       "</tr>\n",
       "<tr>\n",
       "  <th>vol</th>          <td>-0.1317</td>  <td>0.0435</td>  <td>-3.0301</td> <td>0.0025</td> <td>-0.2170</td> <td>-0.0465</td>\n",
       "</tr>\n",
       "</table>\n",
       "<table class=\"simpletable\">\n",
       "<tr>\n",
       "     <td>Omnibus:</td>    <td>203.891</td>  <td>Durbin-Watson:</td>    <td>2.030</td> \n",
       "</tr>\n",
       "<tr>\n",
       "  <td>Prob(Omnibus):</td>  <td>0.000</td>  <td>Jarque-Bera (JB):</td> <td>965.764</td>\n",
       "</tr>\n",
       "<tr>\n",
       "       <td>Skew:</td>     <td>-0.082</td>      <td>Prob(JB):</td>      <td>0.000</td> \n",
       "</tr>\n",
       "<tr>\n",
       "     <td>Kurtosis:</td>    <td>5.775</td>   <td>Condition No.:</td>      <td>7</td>   \n",
       "</tr>\n",
       "</table>"
      ],
      "text/plain": [
       "<class 'statsmodels.iolib.summary2.Summary'>\n",
       "\"\"\"\n",
       "                 Results: Ordinary least squares\n",
       "==================================================================\n",
       "Model:              OLS              Adj. R-squared:     0.128    \n",
       "Dependent Variable: rtn              AIC:                4123.6800\n",
       "Date:               2018-08-09 16:43 BIC:                4141.6981\n",
       "No. Observations:   2999             Log-Likelihood:     -2058.8  \n",
       "Df Model:           2                F-statistic:        220.6    \n",
       "Df Residuals:       2996             Prob (F-statistic): 4.36e-90 \n",
       "R-squared:          0.128            Scale:              0.23134  \n",
       "-------------------------------------------------------------------\n",
       "                Coef.   Std.Err.     t     P>|t|    [0.025   0.975]\n",
       "-------------------------------------------------------------------\n",
       "Intercept       0.0455    0.0132   3.4484  0.0006   0.0196   0.0714\n",
       "vol.shift(1)    0.8080    0.0435  18.5843  0.0000   0.7227   0.8932\n",
       "vol            -0.1317    0.0435  -3.0301  0.0025  -0.2170  -0.0465\n",
       "------------------------------------------------------------------\n",
       "Omnibus:             203.891       Durbin-Watson:          2.030  \n",
       "Prob(Omnibus):       0.000         Jarque-Bera (JB):       965.764\n",
       "Skew:                -0.082        Prob(JB):               0.000  \n",
       "Kurtosis:            5.775         Condition No.:          7      \n",
       "==================================================================\n",
       "\n",
       "\"\"\""
      ]
     },
     "execution_count": 36,
     "metadata": {},
     "output_type": "execute_result"
    }
   ],
   "source": [
    "ols_results.summary2()"
   ]
  },
  {
   "cell_type": "markdown",
   "metadata": {},
   "source": [
    "We need to compute the asymptotic variance of our 'rsquared' measure. We use the delta measure. A straightforward calculation shows\n",
    "\n",
    "$$ \\hat{R}^2 = R^2_{0} - \\frac{1}{T} \\sum_{t=1}^T \\frac{x_{t+1}'}{\\sigma^2_{t+1}} (\\hat{\\beta} - \\beta_0).$$\n",
    "\n",
    "As a consequence, $\\hat{R}^2$ is asymptotically distributed $N(0, V_R)$ where $V_R$ equals\n",
    "\n",
    "$$\\frac{1}{T} \\sum_{t=1}^T\\left(\\frac{x_{t+1}'}{\\sigma_{t+1}^2}\\right) V_{\\beta} \\frac{1}{T} \\sum_{t=1}^T \\left(\\frac{x_{t+1}}{\\sigma^2_{t+1}}\\right).$$\n",
    "\n",
    "In the above, we assumed that the erorrs in the $\\hat{R}^2$ and $\\beta$ are asympotiticaly orthgonal. This is implied by the relationship between squared and level terms and the fact that everything is asymptotically Gaussian. This is what implies the asympotic covariance matrix does not have correlation terms with respect to its fourth component."
   ]
  },
  {
   "cell_type": "code",
   "execution_count": 37,
   "metadata": {},
   "outputs": [],
   "source": [
    "weight = np.mean(ols_results.model.exog.T / data.vol.values[1:], axis=1).T"
   ]
  },
  {
   "cell_type": "code",
   "execution_count": 38,
   "metadata": {},
   "outputs": [],
   "source": [
    "r_squared_cov = weight.T @ ols_results.cov_params() @ np.atleast_2d(weight).T"
   ]
  },
  {
   "cell_type": "code",
   "execution_count": 39,
   "metadata": {},
   "outputs": [],
   "source": [
    "reduced_form_cov = np.concatenate([np.concatenate([ols_results.cov_params(), np.zeros((3,1))], axis=1),\n",
    "                                   np.atleast_2d([0,0,0, np.asscalar(r_squared_cov)])], axis=0)"
   ]
  },
  {
   "cell_type": "code",
   "execution_count": 40,
   "metadata": {},
   "outputs": [],
   "source": [
    "reduced_form_paramters = {'beta':ols_results.params['vol.shift(1)'],\n",
    "                          'gamma':ols_results.params['Intercept'],\n",
    "                          'psi':ols_results.params['vol'],\n",
    "                          'rsquared' :1 - (ols_results.resid**2 / data.vol).mean()\n",
    "                         }"
   ]
  },
  {
   "cell_type": "code",
   "execution_count": 41,
   "metadata": {},
   "outputs": [
    {
     "data": {
      "text/plain": [
       "{'beta': 0.80796422363013565,\n",
       " 'gamma': 0.045525901595620234,\n",
       " 'psi': -0.1317329763679258,\n",
       " 'rsquared': 0.061095751812378696}"
      ]
     },
     "execution_count": 41,
     "metadata": {},
     "output_type": "execute_result"
    }
   ],
   "source": [
    "reduced_form_paramters"
   ]
  },
  {
   "cell_type": "code",
   "execution_count": 42,
   "metadata": {},
   "outputs": [
    {
     "data": {
      "text/plain": [
       "array([[  1.74298481e-04,  -1.94470139e-04,  -1.94205905e-04,\n",
       "          0.00000000e+00],\n",
       "       [ -1.94470139e-04,   1.89013998e-03,  -1.11264684e-03,\n",
       "          0.00000000e+00],\n",
       "       [ -1.94205905e-04,  -1.11264684e-03,   1.89002142e-03,\n",
       "          0.00000000e+00],\n",
       "       [  0.00000000e+00,   0.00000000e+00,   0.00000000e+00,\n",
       "          3.35449321e-01]])"
      ]
     },
     "execution_count": 42,
     "metadata": {},
     "output_type": "execute_result"
    }
   ],
   "source": [
    "reduced_form_cov"
   ]
  },
  {
   "cell_type": "markdown",
   "metadata": {},
   "source": [
    "## This method only gives us the magnitude, not the sign."
   ]
  },
  {
   "cell_type": "code",
   "execution_count": 43,
   "metadata": {},
   "outputs": [],
   "source": [
    "phi_est = np.sqrt(1 - (ols_results.resid**2 / data.vol).mean())"
   ]
  },
  {
   "cell_type": "code",
   "execution_count": 44,
   "metadata": {},
   "outputs": [
    {
     "name": "stdout",
     "output_type": "stream",
     "text": [
      "The true phi is -0.17 and the phi estiamte is 0.25\n"
     ]
    }
   ],
   "source": [
    "print(\"The true phi is {} and the phi estiamte is {:.02f}\".format(true_params['phi'], phi_est))"
   ]
  },
  {
   "cell_type": "markdown",
   "metadata": {},
   "source": [
    "## I now setup the second-stage derivation"
   ]
  },
  {
   "cell_type": "code",
   "execution_count": 45,
   "metadata": {},
   "outputs": [],
   "source": [
    "second_stage_moments_sym = sym.Matrix([beta,gamma, psi, phi**2])\n",
    "second_stage_moments_lambda = sym.lambdify((rho, c, delta, phi, theta, pi), second_stage_moments_sym)"
   ]
  },
  {
   "cell_type": "markdown",
   "metadata": {},
   "source": [
    "Note, since g (the link function) = (beta, gamma, psi, phi^2), the Jacobian is diagonal with [1,1,1,2 * phi] as that diagonal"
   ]
  },
  {
   "cell_type": "code",
   "execution_count": 46,
   "metadata": {},
   "outputs": [],
   "source": [
    "def link_grad1(phi):\n",
    "    return np.diag([1,1,1, 2*phi])"
   ]
  },
  {
   "cell_type": "code",
   "execution_count": 47,
   "metadata": {},
   "outputs": [],
   "source": [
    "link2_grad_lambda = sym.lambdify((rho, c, delta, phi, pi, theta), \n",
    "                                  second_stage_moments_sym.jacobian([pi, theta, phi]))"
   ]
  },
  {
   "cell_type": "code",
   "execution_count": 48,
   "metadata": {},
   "outputs": [
    {
     "data": {
      "text/plain": [
       "array([[ -7.07125655e-01,   1.63332964e-02,  -6.48795665e+00],\n",
       "       [ -1.49888078e-02,   3.46213773e-04,  -2.75394480e-01],\n",
       "       [  0.00000000e+00,  -9.71100000e-01,   7.41106781e-01],\n",
       "       [  0.00000000e+00,   0.00000000e+00,  -3.40000000e-01]])"
      ]
     },
     "execution_count": 48,
     "metadata": {},
     "output_type": "execute_result"
    }
   ],
   "source": [
    "link2_grad_lambda(rho=.9, c=.1,delta=1.22, phi=-.17, pi=-7, theta=.4)"
   ]
  },
  {
   "cell_type": "code",
   "execution_count": 49,
   "metadata": {},
   "outputs": [],
   "source": [
    "def second_criterion(x, rho, c, delta, beta, gamma, psi, rsquared, weight=np.eye(4)):\n",
    "    \n",
    "    phi_in, vol_price, equity_price = x\n",
    "    \n",
    "    part1 = second_stage_moments_lambda(rho=rho, c=c, delta=delta, theta=equity_price, phi=phi_in, \n",
    "                                        pi=vol_price).ravel()\n",
    "    part2 = np.array([beta, gamma, psi, rsquared])\n",
    "    \n",
    "    diff = part1 - part2\n",
    "            \n",
    "    return .5 * diff @ weight @ diff\n",
    "    "
   ]
  },
  {
   "cell_type": "code",
   "execution_count": 50,
   "metadata": {
    "scrolled": true
   },
   "outputs": [
    {
     "data": {
      "text/plain": [
       "{'beta': 0.80796422363013565,\n",
       " 'gamma': 0.045525901595620234,\n",
       " 'psi': -0.1317329763679258,\n",
       " 'rsquared': 0.061095751812378696}"
      ]
     },
     "execution_count": 50,
     "metadata": {},
     "output_type": "execute_result"
    }
   ],
   "source": [
    "reduced_form_paramters"
   ]
  },
  {
   "cell_type": "markdown",
   "metadata": {},
   "source": [
    "We sometimes get invalid values inside the logarithm for non-optimal values. This would induce a complicated nonlinear constraint for the valid values of the volatilty risk price, but they do not bind, and so we don't bother imposing them."
   ]
  },
  {
   "cell_type": "code",
   "execution_count": 51,
   "metadata": {},
   "outputs": [],
   "source": [
    "def compute_stage2_weight(reduced_form_cov, phi):\n",
    "    return  np.linalg.inv(link_grad1(phi).T @ reduced_form_cov @ link_grad1(phi).T)"
   ]
  },
  {
   "cell_type": "code",
   "execution_count": 52,
   "metadata": {},
   "outputs": [],
   "source": [
    "def est_2nd_stage(reduced_form_cov, bounds=None, opts=None):\n",
    "    \n",
    "    if bounds is None:\n",
    "        bounds = ([-1,1], [-50, 50], [0, 10])\n",
    "    if opts is None:\n",
    "        opts = {'maxiter':200}\n",
    "    \n",
    "    init_result = optimize.minimize(lambda x: second_criterion(x, **reduced_form_paramters, **estimates.estimate),\n",
    "                                       x0=[0,1,0], method=\"SLSQP\",  options=opts, bounds=bounds)\n",
    "    weight = compute_stage2_weight(reduced_form_cov=reduced_form_cov, phi=init_result.x[0])\n",
    "    \n",
    "    final_result = optimize.minimize(lambda x: second_criterion(x, weight=weight, **reduced_form_paramters, \n",
    "                                                                **estimates.estimate), x0=init_result.x, \n",
    "                                     method=\"SLSQP\",  options=opts, bounds=bounds)\n",
    "                  \n",
    "    return final_result"
   ]
  },
  {
   "cell_type": "code",
   "execution_count": 53,
   "metadata": {},
   "outputs": [
    {
     "data": {
      "text/plain": [
       "array([[  3.98776409e-04,  -2.19125196e-05,  -3.69189842e-04],\n",
       "       [ -2.19125196e-05,   1.64274975e-05,  -7.00875384e-05],\n",
       "       [ -3.69189842e-04,  -7.00875384e-05,   1.58991187e-03]])"
      ]
     },
     "execution_count": 53,
     "metadata": {},
     "output_type": "execute_result"
    }
   ],
   "source": [
    "final_cov"
   ]
  },
  {
   "cell_type": "code",
   "execution_count": 54,
   "metadata": {},
   "outputs": [
    {
     "name": "stderr",
     "output_type": "stream",
     "text": [
      "<string>:2: RuntimeWarning: invalid value encountered in log\n"
     ]
    }
   ],
   "source": [
    " stage2_result = est_2nd_stage(reduced_form_cov)"
   ]
  },
  {
   "cell_type": "code",
   "execution_count": 55,
   "metadata": {},
   "outputs": [
    {
     "data": {
      "text/plain": [
       "     fun: 0.0015258387809896994\n",
       "     jac: array([ 0.02005681,  0.00285346,  0.00130959])\n",
       " message: 'Optimization terminated successfully.'\n",
       "    nfev: 89\n",
       "     nit: 16\n",
       "    njev: 16\n",
       "  status: 0\n",
       " success: True\n",
       "       x: array([-0.21879643, -6.33169088,  0.46362276])"
      ]
     },
     "execution_count": 55,
     "metadata": {},
     "output_type": "execute_result"
    }
   ],
   "source": [
    "stage2_result"
   ]
  },
  {
   "cell_type": "code",
   "execution_count": 56,
   "metadata": {},
   "outputs": [],
   "source": [
    "structural_est = {'phi': stage2_result.x[0], 'vol_price':stage2_result.x[1], 'equity_price':stage2_result.x[2]}"
   ]
  },
  {
   "cell_type": "code",
   "execution_count": 57,
   "metadata": {},
   "outputs": [
    {
     "data": {
      "text/plain": [
       "{'phi': -0.21879642703018345,\n",
       " 'vol_price': -6.3316908847062496,\n",
       " 'equity_price': 0.46362275910597356}"
      ]
     },
     "execution_count": 57,
     "metadata": {},
     "output_type": "execute_result"
    }
   ],
   "source": [
    "structural_est"
   ]
  },
  {
   "cell_type": "code",
   "execution_count": 58,
   "metadata": {},
   "outputs": [
    {
     "data": {
      "text/plain": [
       "{'equity_price': 0.5,\n",
       " 'vol_price': -7,\n",
       " 'phi': -0.17,\n",
       " 'c': 0.1,\n",
       " 'delta': 1.22,\n",
       " 'rho': 0.6,\n",
       " 'time_dim': 3000}"
      ]
     },
     "execution_count": 58,
     "metadata": {},
     "output_type": "execute_result"
    }
   ],
   "source": [
    "true_params"
   ]
  },
  {
   "cell_type": "markdown",
   "metadata": {},
   "source": [
    "## I now compute the covariance matrix for this 2nd stage regression"
   ]
  },
  {
   "cell_type": "markdown",
   "metadata": {},
   "source": [
    "I first compute the bread for the sandwich"
   ]
  },
  {
   "cell_type": "code",
   "execution_count": 59,
   "metadata": {},
   "outputs": [],
   "source": [
    "g_at_est = second_stage_moments_lambda(pi=structural_est['vol_price'], theta=structural_est['equity_price'],\n",
    "                                phi=structural_est['phi'], rho=estimates.estimate['rho'], \n",
    "                                c=estimates.estimate['c'], delta=estimates.estimate['delta'])"
   ]
  },
  {
   "cell_type": "code",
   "execution_count": 60,
   "metadata": {},
   "outputs": [],
   "source": [
    "opt_weight_matrix = compute_stage2_weight(reduced_form_cov, structural_est['phi'])"
   ]
  },
  {
   "cell_type": "markdown",
   "metadata": {},
   "source": [
    "This is a scalar"
   ]
  },
  {
   "cell_type": "code",
   "execution_count": 61,
   "metadata": {},
   "outputs": [],
   "source": [
    "B = g_at_est.T @ opt_weight_matrix @ g_at_est"
   ]
  },
  {
   "cell_type": "code",
   "execution_count": 62,
   "metadata": {},
   "outputs": [],
   "source": [
    "g_deriv_structural = link2_grad_lambda(rho=estimates.estimate['rho'], c=estimates.estimate['c'], \n",
    "                             delta=estimates.estimate['delta'], phi=structural_est['phi'],\n",
    "                             pi=structural_est['vol_price'], theta=structural_est['equity_price'])"
   ]
  },
  {
   "cell_type": "code",
   "execution_count": 69,
   "metadata": {},
   "outputs": [],
   "source": [
    "cov_2nd_stage = B**(-1) * g_deriv_structural.T @ opt_weight_matrix @ g_deriv_structural * B**(-1)"
   ]
  },
  {
   "cell_type": "code",
   "execution_count": 70,
   "metadata": {},
   "outputs": [
    {
     "data": {
      "text/plain": [
       "{'phi': -0.21879642703018345,\n",
       " 'vol_price': -6.3316908847062496,\n",
       " 'equity_price': 0.46362275910597356}"
      ]
     },
     "execution_count": 70,
     "metadata": {},
     "output_type": "execute_result"
    }
   ],
   "source": [
    "structural_est"
   ]
  },
  {
   "cell_type": "code",
   "execution_count": 71,
   "metadata": {},
   "outputs": [],
   "source": [
    "struct_est_df = pd.Series(list(structural_est.values()), index=structural_est.keys())"
   ]
  },
  {
   "cell_type": "code",
   "execution_count": 72,
   "metadata": {},
   "outputs": [],
   "source": [
    "true_values = pd.Series([true_params[key] for key in structural_est.keys()], index=structural_est.keys())\n",
    "lower_ci = struct_est_df - 1.96 * pd.Series(np.sqrt(np.diag(cov_2nd_stage)), index=struct_est_df.index)\n",
    "upper_ci = struct_est_df + 1.96 * pd.Series(np.sqrt(np.diag(cov_2nd_stage)), index=struct_est_df.index)\n",
    "estimates_2nd_stage = pd.concat([true_values, struct_est_df, lower_ci, upper_ci], axis=1)\n",
    "estimates_2nd_stage.columns = ['truth', 'estimates', 'lower ci', 'upper_ci']"
   ]
  },
  {
   "cell_type": "code",
   "execution_count": 73,
   "metadata": {},
   "outputs": [
    {
     "data": {
      "text/html": [
       "<div>\n",
       "<style scoped>\n",
       "    .dataframe tbody tr th:only-of-type {\n",
       "        vertical-align: middle;\n",
       "    }\n",
       "\n",
       "    .dataframe tbody tr th {\n",
       "        vertical-align: top;\n",
       "    }\n",
       "\n",
       "    .dataframe thead th {\n",
       "        text-align: right;\n",
       "    }\n",
       "</style>\n",
       "<table border=\"1\" class=\"dataframe\">\n",
       "  <thead>\n",
       "    <tr style=\"text-align: right;\">\n",
       "      <th></th>\n",
       "      <th>truth</th>\n",
       "      <th>estimates</th>\n",
       "      <th>lower ci</th>\n",
       "      <th>upper_ci</th>\n",
       "    </tr>\n",
       "  </thead>\n",
       "  <tbody>\n",
       "    <tr>\n",
       "      <th>phi</th>\n",
       "      <td>-0.17</td>\n",
       "      <td>-0.218796</td>\n",
       "      <td>-0.232026</td>\n",
       "      <td>-0.205567</td>\n",
       "    </tr>\n",
       "    <tr>\n",
       "      <th>vol_price</th>\n",
       "      <td>-7.00</td>\n",
       "      <td>-6.331691</td>\n",
       "      <td>-6.339895</td>\n",
       "      <td>-6.323487</td>\n",
       "    </tr>\n",
       "    <tr>\n",
       "      <th>equity_price</th>\n",
       "      <td>0.50</td>\n",
       "      <td>0.463623</td>\n",
       "      <td>0.364326</td>\n",
       "      <td>0.562920</td>\n",
       "    </tr>\n",
       "  </tbody>\n",
       "</table>\n",
       "</div>"
      ],
      "text/plain": [
       "              truth  estimates  lower ci  upper_ci\n",
       "phi           -0.17  -0.218796 -0.232026 -0.205567\n",
       "vol_price     -7.00  -6.331691 -6.339895 -6.323487\n",
       "equity_price   0.50   0.463623  0.364326  0.562920"
      ]
     },
     "execution_count": 73,
     "metadata": {},
     "output_type": "execute_result"
    }
   ],
   "source": [
    "estimates_2nd_stage"
   ]
  },
  {
   "cell_type": "code",
   "execution_count": null,
   "metadata": {},
   "outputs": [],
   "source": []
  },
  {
   "cell_type": "code",
   "execution_count": null,
   "metadata": {},
   "outputs": [],
   "source": []
  }
 ],
 "metadata": {
  "kernelspec": {
   "display_name": "Python 3",
   "language": "python",
   "name": "python3"
  },
  "language_info": {
   "codemirror_mode": {
    "name": "ipython",
    "version": 3
   },
   "file_extension": ".py",
   "mimetype": "text/x-python",
   "name": "python",
   "nbconvert_exporter": "python",
   "pygments_lexer": "ipython3",
   "version": "3.6.6"
  }
 },
 "nbformat": 4,
 "nbformat_minor": 2
}
