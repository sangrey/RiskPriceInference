{
 "cells": [
  {
   "cell_type": "code",
   "execution_count": 1,
   "metadata": {},
   "outputs": [],
   "source": [
    "import numpy as np\n",
    "import pandas as pd\n",
    "import volprice as vl\n",
    "from tqdm import tqdm_notebook\n",
    "import matplotlib as mpl\n",
    "from mpl_toolkits.mplot3d import Axes3D\n",
    "from matplotlib import cm\n",
    "from itertools import product\n",
    "import seaborn as sns\n",
    "import statsmodels.api as sm\n",
    "import statsmodels.tsa.api as tsa\n",
    "import logging\n",
    "import inspect"
   ]
  },
  {
   "cell_type": "code",
   "execution_count": 2,
   "metadata": {},
   "outputs": [],
   "source": [
    "%matplotlib inline\n",
    "mpl.style.use('seaborn-talk')"
   ]
  },
  {
   "cell_type": "code",
   "execution_count": 3,
   "metadata": {},
   "outputs": [],
   "source": [
    "logging.basicConfig(filename='convergence.tmp.log', level=logging.INFO)\n",
    "logging.captureWarnings(True)"
   ]
  },
  {
   "cell_type": "markdown",
   "metadata": {},
   "source": [
    "## Setup the True Parameters /  Simulation Parameters"
   ]
  },
  {
   "cell_type": "code",
   "execution_count": 4,
   "metadata": {},
   "outputs": [],
   "source": [
    "true_params = {'equity_price': 0.50, \n",
    "               'vol_price': -7,\n",
    "               'phi':-.17,\n",
    "               'scale': .1,\n",
    "               'delta': 1.22,\n",
    "               'rho': .8,\n",
    "              }\n",
    "time_dim = 3000"
   ]
  },
  {
   "cell_type": "markdown",
   "metadata": {},
   "source": [
    "## Setup the linking functions."
   ]
  },
  {
   "cell_type": "code",
   "execution_count": 5,
   "metadata": {},
   "outputs": [
    {
     "ename": "TypeError",
     "evalue": "_lambdifygenerated() got multiple values for argument 'pi'",
     "output_type": "error",
     "traceback": [
      "\u001b[0;31m---------------------------------------------------------------------------\u001b[0m",
      "\u001b[0;31mTypeError\u001b[0m                                 Traceback (most recent call last)",
      "\u001b[0;32m<ipython-input-5-9b144d86fe3f>\u001b[0m in \u001b[0;36m<module>\u001b[0;34m()\u001b[0m\n\u001b[1;32m      4\u001b[0m                        phi=true_params['phi'], pi=true_params['vol_price'], theta=true_params['equity_price']),\n\u001b[1;32m      5\u001b[0m      'beta':vl.beta(true_params['rho'], true_params['scale'], true_params['phi'], pi=true_params['vol_price'], \n\u001b[0;32m----> 6\u001b[0;31m                     theta=true_params['equity_price']),\n\u001b[0m\u001b[1;32m      7\u001b[0m      'psi':vl.psi(true_params['rho'], true_params['scale'], true_params['phi'], \n\u001b[1;32m      8\u001b[0m                   theta=true_params['equity_price']), \n",
      "\u001b[0;31mTypeError\u001b[0m: _lambdifygenerated() got multiple values for argument 'pi'"
     ]
    }
   ],
   "source": [
    "total_true_params = true_params.copy()\n",
    "total_true_params.update(\n",
    "    {'gamma': vl.gamma(rho=true_params['rho'], scale=true_params['scale'], delta=true_params['delta'], \n",
    "                       phi=true_params['phi'], pi=true_params['vol_price'], theta=true_params['equity_price']),\n",
    "     'beta':vl.beta(true_params['rho'], true_params['scale'], true_params['phi'], pi=true_params['vol_price'], \n",
    "                    theta=true_params['equity_price']),\n",
    "     'psi':vl.psi(true_params['rho'], true_params['scale'], true_params['phi'], \n",
    "                  theta=true_params['equity_price']), \n",
    "     'phi_squared': true_params['phi']**2})"
   ]
  },
  {
   "cell_type": "markdown",
   "metadata": {},
   "source": [
    "## We start by examining the distributions of simulated data"
   ]
  },
  {
   "cell_type": "code",
   "execution_count": null,
   "metadata": {},
   "outputs": [],
   "source": [
    "data = vl.simulate_data(time_dim=time_dim, **true_params)"
   ]
  },
  {
   "cell_type": "code",
   "execution_count": null,
   "metadata": {},
   "outputs": [],
   "source": [
    "fig1, ax1 = mpl.pyplot.subplots()\n",
    "ax1.plot(data.rtn, label='Return')\n",
    "ax1.plot(data.vol, label='Volatility')\n",
    "ax1.legend()\n"
   ]
  },
  {
   "cell_type": "code",
   "execution_count": null,
   "metadata": {},
   "outputs": [],
   "source": [
    "sns.jointplot(x='vol', y='rtn', data=data, kind='reg')"
   ]
  },
  {
   "cell_type": "code",
   "execution_count": null,
   "metadata": {},
   "outputs": [],
   "source": [
    "data.describe()"
   ]
  },
  {
   "cell_type": "code",
   "execution_count": null,
   "metadata": {},
   "outputs": [],
   "source": [
    "init_constants = vl.compute_init_constants(data.vol)"
   ]
  },
  {
   "cell_type": "code",
   "execution_count": null,
   "metadata": {},
   "outputs": [],
   "source": [
    "num_vals = 50\n",
    "cvals = np.linspace(0, 1,num_vals)\n",
    "deltavals = np.linspace(0,1.5,num_vals)"
   ]
  },
  {
   "cell_type": "code",
   "execution_count": null,
   "metadata": {},
   "outputs": [],
   "source": [
    "plot_data = pd.DataFrame(np.asarray([(scale, intercept, vl.vol_moments(data.vol, true_params['rho'],\n",
    "                                                                       scale, intercept).apply(\n",
    "    np.square).sum().mean())\n",
    "     for scale, intercept in product(cvals, deltavals)]), columns=['c', 'delta', 'z'])\n",
    "reshaped_x = plot_data.c.values.reshape((num_vals,num_vals))\n",
    "reshaped_y = plot_data.delta.values.reshape((num_vals,num_vals))\n",
    "reshaped_z = plot_data.z.values.reshape((num_vals,num_vals))"
   ]
  },
  {
   "cell_type": "code",
   "execution_count": null,
   "metadata": {},
   "outputs": [],
   "source": [
    "fig = mpl.pyplot.figure()\n",
    "ax = fig.add_subplot(111, projection='3d')\n",
    "ax.plot_surface(reshaped_x, reshaped_y, reshaped_z , cmap=cm.coolwarm, alpha=.5)\n",
    "\n",
    "ax.set_ylabel('delta')\n",
    "ax.set_zlabel('squared_errors')\n",
    "ax.set_xlabel('scale')"
   ]
  },
  {
   "cell_type": "code",
   "execution_count": null,
   "metadata": {},
   "outputs": [],
   "source": []
  },
  {
   "cell_type": "code",
   "execution_count": null,
   "metadata": {},
   "outputs": [],
   "source": [
    "vl.vol_moments_grad(data.vol, 1.22, .8, .1)"
   ]
  },
  {
   "cell_type": "code",
   "execution_count": null,
   "metadata": {},
   "outputs": [],
   "source": [
    "params_1st_stage, cov_1st_stage = vl.compute_vol_gmm(data.vol, init_constants=init_constants)"
   ]
  },
  {
   "cell_type": "code",
   "execution_count": null,
   "metadata": {},
   "outputs": [],
   "source": [
    "params_1st_stage"
   ]
  },
  {
   "cell_type": "code",
   "execution_count": null,
   "metadata": {},
   "outputs": [],
   "source": [
    "cov_1st_stage"
   ]
  },
  {
   "cell_type": "code",
   "execution_count": null,
   "metadata": {},
   "outputs": [],
   "source": [
    "reduced_form_est = vl.create_est_table(estimates=params_1st_stage, truth=true_params, cov=cov_1st_stage)"
   ]
  },
  {
   "cell_type": "code",
   "execution_count": null,
   "metadata": {
    "scrolled": true
   },
   "outputs": [],
   "source": [
    "reduced_form_est"
   ]
  },
  {
   "cell_type": "markdown",
   "metadata": {},
   "source": [
    "# Step 2"
   ]
  },
  {
   "cell_type": "code",
   "execution_count": null,
   "metadata": {},
   "outputs": [],
   "source": [
    "step2_est, step2_cov = vl.compute_step2(data)"
   ]
  },
  {
   "cell_type": "code",
   "execution_count": null,
   "metadata": {},
   "outputs": [],
   "source": [
    "params_1st_stage.update(step2_est)\n",
    "cov_stage_1a = cov_1st_stage.copy().merge(step2_cov, left_index=True, right_index=True, how='outer').fillna(0)"
   ]
  },
  {
   "cell_type": "code",
   "execution_count": null,
   "metadata": {
    "scrolled": true
   },
   "outputs": [],
   "source": [
    "vl.create_est_table(estimates=params_1st_stage, truth=total_true_params, cov=cov_stage_1a)\n"
   ]
  },
  {
   "cell_type": "markdown",
   "metadata": {},
   "source": [
    "## I now setup the second-stage derivation"
   ]
  },
  {
   "cell_type": "markdown",
   "metadata": {},
   "source": [
    "We sometimes get invalid values inside the logarithm for non-optimal values. This would induce a complicated nonlinear constraint for the valid values of the volatilty risk price, but they do not bind, and so we don't bother imposing them."
   ]
  },
  {
   "cell_type": "code",
   "execution_count": null,
   "metadata": {},
   "outputs": [],
   "source": []
  },
  {
   "cell_type": "code",
   "execution_count": null,
   "metadata": {},
   "outputs": [],
   "source": [
    "params_2nd_stage = vl.est_2nd_stage(reduced_form_params=params_1st_stage, reduced_form_cov=cov_stage_1a)"
   ]
  },
  {
   "cell_type": "code",
   "execution_count": null,
   "metadata": {},
   "outputs": [],
   "source": [
    "params_2nd_stage"
   ]
  },
  {
   "cell_type": "markdown",
   "metadata": {},
   "source": [
    "## I now compute the covariance matrix for this 2nd stage regression"
   ]
  },
  {
   "cell_type": "markdown",
   "metadata": {},
   "source": [
    "I first compute the bread for the sandwich"
   ]
  },
  {
   "cell_type": "code",
   "execution_count": null,
   "metadata": {},
   "outputs": [],
   "source": [
    "cov_2nd_stage = vl.compute_2nd_stage_cov(params2=params_2nd_stage, cov1=cov_stage_1a, time_dim=1)"
   ]
  },
  {
   "cell_type": "code",
   "execution_count": null,
   "metadata": {},
   "outputs": [],
   "source": [
    "vl.create_est_table(estimates=params_2nd_stage, truth=total_true_params, cov=cov_2nd_stage)"
   ]
  },
  {
   "cell_type": "code",
   "execution_count": null,
   "metadata": {},
   "outputs": [],
   "source": [
    "vl.cov_to_corr(cov_2nd_stage)"
   ]
  },
  {
   "cell_type": "code",
   "execution_count": null,
   "metadata": {},
   "outputs": [],
   "source": []
  },
  {
   "cell_type": "code",
   "execution_count": null,
   "metadata": {},
   "outputs": [],
   "source": []
  }
 ],
 "metadata": {
  "kernelspec": {
   "display_name": "Python 3",
   "language": "python",
   "name": "python3"
  },
  "language_info": {
   "codemirror_mode": {
    "name": "ipython",
    "version": 3
   },
   "file_extension": ".py",
   "mimetype": "text/x-python",
   "name": "python",
   "nbconvert_exporter": "python",
   "pygments_lexer": "ipython3",
   "version": "3.6.6"
  }
 },
 "nbformat": 4,
 "nbformat_minor": 2
}
